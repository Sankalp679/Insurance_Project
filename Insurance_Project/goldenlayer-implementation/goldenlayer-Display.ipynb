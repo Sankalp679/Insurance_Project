{
 "cells": [
  {
   "cell_type": "markdown",
   "metadata": {
    "application/vnd.databricks.v1+cell": {
     "cellMetadata": {},
     "inputWidgets": {},
     "nuid": "fcf89ab3-d4f9-4e5d-8ad3-b491f9d5917d",
     "showTitle": false,
     "title": ""
    }
   },
   "source": [
    "Sales by Policy Type and Month : This table would contain the total sales for each policy type and each month. It would be used to analyse the performance of different policy types over time. "
   ]
  },
  {
   "cell_type": "code",
   "execution_count": 0,
   "metadata": {
    "application/vnd.databricks.v1+cell": {
     "cellMetadata": {
      "byteLimit": 2048000,
      "implicitDf": true,
      "rowLimit": 10000
     },
     "inputWidgets": {},
     "nuid": "7bc82ae7-14aa-4e77-8a30-bc7115922748",
     "showTitle": false,
     "title": ""
    }
   },
   "outputs": [
    {
     "output_type": "display_data",
     "data": {
      "text/html": [
       "<style scoped>\n",
       "  .table-result-container {\n",
       "    max-height: 300px;\n",
       "    overflow: auto;\n",
       "  }\n",
       "  table, th, td {\n",
       "    border: 1px solid black;\n",
       "    border-collapse: collapse;\n",
       "  }\n",
       "  th, td {\n",
       "    padding: 5px;\n",
       "  }\n",
       "  th {\n",
       "    text-align: left;\n",
       "  }\n",
       "</style><div class='table-result-container'><table class='table-result'><thead style='background-color: white'><tr><th>policy_type</th><th>purchase_month</th><th>sale_month</th><th>total_premium</th><th>updated_timestamp</th></tr></thead><tbody><tr><td>Health</td><td>4</td><td>32</td><td>3520677</td><td>2024-01-10T19:42:07.847Z</td></tr><tr><td>Auto</td><td>6</td><td>34</td><td>3398964</td><td>2024-01-10T19:42:07.847Z</td></tr><tr><td>Auto</td><td>3</td><td>25</td><td>2691985</td><td>2024-01-10T19:42:07.847Z</td></tr><tr><td>Auto</td><td>12</td><td>32</td><td>3908371</td><td>2024-01-10T19:42:07.847Z</td></tr><tr><td>Health</td><td>10</td><td>33</td><td>2858976</td><td>2024-01-10T19:42:07.847Z</td></tr><tr><td>Auto</td><td>11</td><td>23</td><td>2663283</td><td>2024-01-10T19:42:07.847Z</td></tr><tr><td>Health</td><td>9</td><td>21</td><td>2219249</td><td>2024-01-10T19:42:07.847Z</td></tr><tr><td>Auto</td><td>1</td><td>23</td><td>2252191</td><td>2024-01-10T19:42:07.847Z</td></tr><tr><td>Health</td><td>6</td><td>11</td><td>1096513</td><td>2024-01-10T19:42:07.847Z</td></tr><tr><td>Health</td><td>2</td><td>30</td><td>3267096</td><td>2024-01-10T19:42:07.847Z</td></tr><tr><td>Auto</td><td>9</td><td>29</td><td>2808716</td><td>2024-01-10T19:42:07.847Z</td></tr><tr><td>Auto</td><td>5</td><td>33</td><td>3792277</td><td>2024-01-10T19:42:07.847Z</td></tr><tr><td>Auto</td><td>2</td><td>35</td><td>3909070</td><td>2024-01-10T19:42:07.847Z</td></tr><tr><td>Health</td><td>12</td><td>36</td><td>3773031</td><td>2024-01-10T19:42:07.847Z</td></tr><tr><td>Auto</td><td>4</td><td>37</td><td>4609198</td><td>2024-01-10T19:42:07.847Z</td></tr><tr><td>Health</td><td>8</td><td>32</td><td>3361169</td><td>2024-01-10T19:42:07.847Z</td></tr><tr><td>Health</td><td>11</td><td>35</td><td>4189884</td><td>2024-01-10T19:42:07.847Z</td></tr><tr><td>Health</td><td>3</td><td>24</td><td>2866878</td><td>2024-01-10T19:42:07.847Z</td></tr><tr><td>Health</td><td>1</td><td>37</td><td>3897982</td><td>2024-01-10T19:42:07.847Z</td></tr><tr><td>Auto</td><td>7</td><td>37</td><td>4150923</td><td>2024-01-10T19:42:07.847Z</td></tr><tr><td>Auto</td><td>8</td><td>34</td><td>4076129</td><td>2024-01-10T19:42:07.847Z</td></tr><tr><td>Health</td><td>5</td><td>30</td><td>3370898</td><td>2024-01-10T19:42:07.847Z</td></tr><tr><td>Auto</td><td>10</td><td>39</td><td>2809132</td><td>2024-01-10T19:42:07.847Z</td></tr><tr><td>Health</td><td>7</td><td>35</td><td>4455055</td><td>2024-01-10T19:42:07.847Z</td></tr></tbody></table></div>"
      ]
     },
     "metadata": {
      "application/vnd.databricks.v1+output": {
       "addedWidgets": {},
       "aggData": [],
       "aggError": "",
       "aggOverflow": false,
       "aggSchema": [],
       "aggSeriesLimitReached": false,
       "aggType": "",
       "arguments": {},
       "columnCustomDisplayInfos": {},
       "data": [
        [
         "Health",
         4,
         32,
         3520677,
         "2024-01-10T19:42:07.847Z"
        ],
        [
         "Auto",
         6,
         34,
         3398964,
         "2024-01-10T19:42:07.847Z"
        ],
        [
         "Auto",
         3,
         25,
         2691985,
         "2024-01-10T19:42:07.847Z"
        ],
        [
         "Auto",
         12,
         32,
         3908371,
         "2024-01-10T19:42:07.847Z"
        ],
        [
         "Health",
         10,
         33,
         2858976,
         "2024-01-10T19:42:07.847Z"
        ],
        [
         "Auto",
         11,
         23,
         2663283,
         "2024-01-10T19:42:07.847Z"
        ],
        [
         "Health",
         9,
         21,
         2219249,
         "2024-01-10T19:42:07.847Z"
        ],
        [
         "Auto",
         1,
         23,
         2252191,
         "2024-01-10T19:42:07.847Z"
        ],
        [
         "Health",
         6,
         11,
         1096513,
         "2024-01-10T19:42:07.847Z"
        ],
        [
         "Health",
         2,
         30,
         3267096,
         "2024-01-10T19:42:07.847Z"
        ],
        [
         "Auto",
         9,
         29,
         2808716,
         "2024-01-10T19:42:07.847Z"
        ],
        [
         "Auto",
         5,
         33,
         3792277,
         "2024-01-10T19:42:07.847Z"
        ],
        [
         "Auto",
         2,
         35,
         3909070,
         "2024-01-10T19:42:07.847Z"
        ],
        [
         "Health",
         12,
         36,
         3773031,
         "2024-01-10T19:42:07.847Z"
        ],
        [
         "Auto",
         4,
         37,
         4609198,
         "2024-01-10T19:42:07.847Z"
        ],
        [
         "Health",
         8,
         32,
         3361169,
         "2024-01-10T19:42:07.847Z"
        ],
        [
         "Health",
         11,
         35,
         4189884,
         "2024-01-10T19:42:07.847Z"
        ],
        [
         "Health",
         3,
         24,
         2866878,
         "2024-01-10T19:42:07.847Z"
        ],
        [
         "Health",
         1,
         37,
         3897982,
         "2024-01-10T19:42:07.847Z"
        ],
        [
         "Auto",
         7,
         37,
         4150923,
         "2024-01-10T19:42:07.847Z"
        ],
        [
         "Auto",
         8,
         34,
         4076129,
         "2024-01-10T19:42:07.847Z"
        ],
        [
         "Health",
         5,
         30,
         3370898,
         "2024-01-10T19:42:07.847Z"
        ],
        [
         "Auto",
         10,
         39,
         2809132,
         "2024-01-10T19:42:07.847Z"
        ],
        [
         "Health",
         7,
         35,
         4455055,
         "2024-01-10T19:42:07.847Z"
        ]
       ],
       "datasetInfos": [],
       "dbfsResultPath": null,
       "isJsonSchema": true,
       "metadata": {
        "dataframeName": "_sqldf",
        "executionCount": 17
       },
       "overflow": false,
       "plotOptions": {
        "customPlotOptions": {},
        "displayType": "table",
        "pivotAggregation": null,
        "pivotColumns": null,
        "xColumns": null,
        "yColumns": null
       },
       "removedWidgets": [],
       "schema": [
        {
         "metadata": "{}",
         "name": "policy_type",
         "type": "\"string\""
        },
        {
         "metadata": "{}",
         "name": "purchase_month",
         "type": "\"integer\""
        },
        {
         "metadata": "{}",
         "name": "sale_month",
         "type": "\"long\""
        },
        {
         "metadata": "{}",
         "name": "total_premium",
         "type": "\"long\""
        },
        {
         "metadata": "{}",
         "name": "updated_timestamp",
         "type": "\"timestamp\""
        }
       ],
       "type": "table"
      }
     },
     "output_type": "display_data"
    }
   ],
   "source": [
    "%sql create or replace temp view vw_gold_sales_by_policy_type_and_month\n",
    "as \n",
    "select \n",
    "p.policy_type,\n",
    "month(p.start_date) as purchase_month,\n",
    "count(month(p.start_date)) as sale_month,\n",
    "sum(premium) as total_premium,\n",
    "current_timestamp() as updated_timestamp\n",
    "from silverlayer.policy p\n",
    "group by p.policy_type,month(p.start_date) having p.policy_type is not null;\n",
    "\n",
    "%sql select * from vw_gold_sales_by_policy_type_and_month"
   ]
  },
  {
   "cell_type": "code",
   "execution_count": 0,
   "metadata": {
    "application/vnd.databricks.v1+cell": {
     "cellMetadata": {
      "byteLimit": 2048000,
      "implicitDf": true,
      "rowLimit": 10000
     },
     "inputWidgets": {},
     "nuid": "489c6821-16d6-4422-ae61-21968c98bcbe",
     "showTitle": false,
     "title": ""
    }
   },
   "outputs": [
    {
     "output_type": "execute_result",
     "data": {
      "text/plain": [
       "DataFrame[num_affected_rows: bigint, num_updated_rows: bigint, num_deleted_rows: bigint, num_inserted_rows: bigint]"
      ]
     },
     "execution_count": 18,
     "metadata": {},
     "output_type": "execute_result"
    }
   ],
   "source": [
    "spark.sql(\"MERGE INTO goldenlayer.sales_by_policy_type_month as t using vw_gold_sales_by_policy_type_and_month as s on t.policy_type = s.policy_type when matched then update set t.purchase_month = s.purchase_month,t.sale_month = s.sale_month,t.total_premium = s.total_premium,t.updated_timestamp = current_timestamp() when not matched then insert (policy_type,purchase_month,sale_month,total_premium,updated_timestamp) values (s.policy_type,s.purchase_month,s.sale_month,s.total_premium,current_timestamp())\")"
   ]
  },
  {
   "cell_type": "code",
   "execution_count": 0,
   "metadata": {
    "application/vnd.databricks.v1+cell": {
     "cellMetadata": {
      "byteLimit": 2048000,
      "implicitDf": true,
      "rowLimit": 10000
     },
     "inputWidgets": {},
     "nuid": "12154f23-6ee3-42d4-a8a0-c67d3f1ba387",
     "showTitle": false,
     "title": ""
    }
   },
   "outputs": [
    {
     "output_type": "display_data",
     "data": {
      "text/html": [
       "<style scoped>\n",
       "  .table-result-container {\n",
       "    max-height: 300px;\n",
       "    overflow: auto;\n",
       "  }\n",
       "  table, th, td {\n",
       "    border: 1px solid black;\n",
       "    border-collapse: collapse;\n",
       "  }\n",
       "  th, td {\n",
       "    padding: 5px;\n",
       "  }\n",
       "  th {\n",
       "    text-align: left;\n",
       "  }\n",
       "</style><div class='table-result-container'><table class='table-result'><thead style='background-color: white'><tr><th>policy_type</th><th>purchase_month</th><th>sale_month</th><th>total_premium</th><th>updated_timestamp</th></tr></thead><tbody><tr><td>Health</td><td>4</td><td>32</td><td>3520677</td><td>2024-01-10T19:48:09.035Z</td></tr><tr><td>Auto</td><td>6</td><td>34</td><td>3398964</td><td>2024-01-10T19:48:09.035Z</td></tr><tr><td>Auto</td><td>3</td><td>25</td><td>2691985</td><td>2024-01-10T19:48:09.035Z</td></tr><tr><td>Auto</td><td>12</td><td>32</td><td>3908371</td><td>2024-01-10T19:48:09.035Z</td></tr><tr><td>Health</td><td>10</td><td>33</td><td>2858976</td><td>2024-01-10T19:48:09.035Z</td></tr><tr><td>Auto</td><td>11</td><td>23</td><td>2663283</td><td>2024-01-10T19:48:09.035Z</td></tr><tr><td>Health</td><td>9</td><td>21</td><td>2219249</td><td>2024-01-10T19:48:09.035Z</td></tr><tr><td>Auto</td><td>1</td><td>23</td><td>2252191</td><td>2024-01-10T19:48:09.035Z</td></tr><tr><td>Health</td><td>6</td><td>11</td><td>1096513</td><td>2024-01-10T19:48:09.035Z</td></tr><tr><td>Health</td><td>2</td><td>30</td><td>3267096</td><td>2024-01-10T19:48:09.035Z</td></tr><tr><td>Auto</td><td>9</td><td>29</td><td>2808716</td><td>2024-01-10T19:48:09.035Z</td></tr><tr><td>Auto</td><td>5</td><td>33</td><td>3792277</td><td>2024-01-10T19:48:09.035Z</td></tr><tr><td>Auto</td><td>2</td><td>35</td><td>3909070</td><td>2024-01-10T19:48:09.035Z</td></tr><tr><td>Health</td><td>12</td><td>36</td><td>3773031</td><td>2024-01-10T19:48:09.035Z</td></tr><tr><td>Auto</td><td>4</td><td>37</td><td>4609198</td><td>2024-01-10T19:48:09.035Z</td></tr><tr><td>Health</td><td>8</td><td>32</td><td>3361169</td><td>2024-01-10T19:48:09.035Z</td></tr><tr><td>Health</td><td>11</td><td>35</td><td>4189884</td><td>2024-01-10T19:48:09.035Z</td></tr><tr><td>Health</td><td>3</td><td>24</td><td>2866878</td><td>2024-01-10T19:48:09.035Z</td></tr><tr><td>Health</td><td>1</td><td>37</td><td>3897982</td><td>2024-01-10T19:48:09.035Z</td></tr><tr><td>Auto</td><td>7</td><td>37</td><td>4150923</td><td>2024-01-10T19:48:09.035Z</td></tr><tr><td>Auto</td><td>8</td><td>34</td><td>4076129</td><td>2024-01-10T19:48:09.035Z</td></tr><tr><td>Health</td><td>5</td><td>30</td><td>3370898</td><td>2024-01-10T19:48:09.035Z</td></tr><tr><td>Auto</td><td>10</td><td>39</td><td>2809132</td><td>2024-01-10T19:48:09.035Z</td></tr><tr><td>Health</td><td>7</td><td>35</td><td>4455055</td><td>2024-01-10T19:48:09.035Z</td></tr></tbody></table></div>"
      ]
     },
     "metadata": {
      "application/vnd.databricks.v1+output": {
       "addedWidgets": {},
       "aggData": [],
       "aggError": "",
       "aggOverflow": false,
       "aggSchema": [],
       "aggSeriesLimitReached": false,
       "aggType": "",
       "arguments": {},
       "columnCustomDisplayInfos": {},
       "data": [
        [
         "Health",
         4,
         "32",
         3520677,
         "2024-01-10T19:48:09.035Z"
        ],
        [
         "Auto",
         6,
         "34",
         3398964,
         "2024-01-10T19:48:09.035Z"
        ],
        [
         "Auto",
         3,
         "25",
         2691985,
         "2024-01-10T19:48:09.035Z"
        ],
        [
         "Auto",
         12,
         "32",
         3908371,
         "2024-01-10T19:48:09.035Z"
        ],
        [
         "Health",
         10,
         "33",
         2858976,
         "2024-01-10T19:48:09.035Z"
        ],
        [
         "Auto",
         11,
         "23",
         2663283,
         "2024-01-10T19:48:09.035Z"
        ],
        [
         "Health",
         9,
         "21",
         2219249,
         "2024-01-10T19:48:09.035Z"
        ],
        [
         "Auto",
         1,
         "23",
         2252191,
         "2024-01-10T19:48:09.035Z"
        ],
        [
         "Health",
         6,
         "11",
         1096513,
         "2024-01-10T19:48:09.035Z"
        ],
        [
         "Health",
         2,
         "30",
         3267096,
         "2024-01-10T19:48:09.035Z"
        ],
        [
         "Auto",
         9,
         "29",
         2808716,
         "2024-01-10T19:48:09.035Z"
        ],
        [
         "Auto",
         5,
         "33",
         3792277,
         "2024-01-10T19:48:09.035Z"
        ],
        [
         "Auto",
         2,
         "35",
         3909070,
         "2024-01-10T19:48:09.035Z"
        ],
        [
         "Health",
         12,
         "36",
         3773031,
         "2024-01-10T19:48:09.035Z"
        ],
        [
         "Auto",
         4,
         "37",
         4609198,
         "2024-01-10T19:48:09.035Z"
        ],
        [
         "Health",
         8,
         "32",
         3361169,
         "2024-01-10T19:48:09.035Z"
        ],
        [
         "Health",
         11,
         "35",
         4189884,
         "2024-01-10T19:48:09.035Z"
        ],
        [
         "Health",
         3,
         "24",
         2866878,
         "2024-01-10T19:48:09.035Z"
        ],
        [
         "Health",
         1,
         "37",
         3897982,
         "2024-01-10T19:48:09.035Z"
        ],
        [
         "Auto",
         7,
         "37",
         4150923,
         "2024-01-10T19:48:09.035Z"
        ],
        [
         "Auto",
         8,
         "34",
         4076129,
         "2024-01-10T19:48:09.035Z"
        ],
        [
         "Health",
         5,
         "30",
         3370898,
         "2024-01-10T19:48:09.035Z"
        ],
        [
         "Auto",
         10,
         "39",
         2809132,
         "2024-01-10T19:48:09.035Z"
        ],
        [
         "Health",
         7,
         "35",
         4455055,
         "2024-01-10T19:48:09.035Z"
        ]
       ],
       "datasetInfos": [],
       "dbfsResultPath": null,
       "isJsonSchema": true,
       "metadata": {
        "dataframeName": "_sqldf",
        "executionCount": 19
       },
       "overflow": false,
       "plotOptions": {
        "customPlotOptions": {},
        "displayType": "table",
        "pivotAggregation": null,
        "pivotColumns": null,
        "xColumns": null,
        "yColumns": null
       },
       "removedWidgets": [],
       "schema": [
        {
         "metadata": "{}",
         "name": "policy_type",
         "type": "\"string\""
        },
        {
         "metadata": "{}",
         "name": "purchase_month",
         "type": "\"integer\""
        },
        {
         "metadata": "{}",
         "name": "sale_month",
         "type": "\"string\""
        },
        {
         "metadata": "{}",
         "name": "total_premium",
         "type": "\"integer\""
        },
        {
         "metadata": "{}",
         "name": "updated_timestamp",
         "type": "\"timestamp\""
        }
       ],
       "type": "table"
      }
     },
     "output_type": "display_data"
    }
   ],
   "source": [
    "%sql select * from goldenlayer.sales_by_policy_type_month"
   ]
  },
  {
   "cell_type": "markdown",
   "metadata": {
    "application/vnd.databricks.v1+cell": {
     "cellMetadata": {},
     "inputWidgets": {},
     "nuid": "1322f169-2b6e-4283-a555-d5bcb763acd2",
     "showTitle": false,
     "title": ""
    }
   },
   "source": [
    "Claims by Policy Type and Status : This table would contain the number and amount of claims by policy type and claim status. It would monitor the claims process and identify any trends or issues.  "
   ]
  },
  {
   "cell_type": "code",
   "execution_count": 0,
   "metadata": {
    "application/vnd.databricks.v1+cell": {
     "cellMetadata": {
      "byteLimit": 2048000,
      "implicitDf": true,
      "rowLimit": 10000
     },
     "inputWidgets": {},
     "nuid": "c915f23d-b228-4a2e-87c6-15474999cd9f",
     "showTitle": false,
     "title": ""
    }
   },
   "outputs": [
    {
     "output_type": "display_data",
     "data": {
      "text/html": [
       "<style scoped>\n",
       "  .table-result-container {\n",
       "    max-height: 300px;\n",
       "    overflow: auto;\n",
       "  }\n",
       "  table, th, td {\n",
       "    border: 1px solid black;\n",
       "    border-collapse: collapse;\n",
       "  }\n",
       "  th, td {\n",
       "    padding: 5px;\n",
       "  }\n",
       "  th {\n",
       "    text-align: left;\n",
       "  }\n",
       "</style><div class='table-result-container'><table class='table-result'><thead style='background-color: white'><tr></tr></thead><tbody></tbody></table></div>"
      ]
     },
     "metadata": {
      "application/vnd.databricks.v1+output": {
       "addedWidgets": {},
       "aggData": [],
       "aggError": "",
       "aggOverflow": false,
       "aggSchema": [],
       "aggSeriesLimitReached": false,
       "aggType": "",
       "arguments": {},
       "columnCustomDisplayInfos": {},
       "data": [],
       "datasetInfos": [],
       "dbfsResultPath": null,
       "isJsonSchema": true,
       "metadata": {
        "dataframeName": null
       },
       "overflow": false,
       "plotOptions": {
        "customPlotOptions": {},
        "displayType": "table",
        "pivotAggregation": null,
        "pivotColumns": null,
        "xColumns": null,
        "yColumns": null
       },
       "removedWidgets": [],
       "schema": [],
       "type": "table"
      }
     },
     "output_type": "display_data"
    }
   ],
   "source": [
    "%sql create or replace temp view vw_gold_claims_by_policy_type_and_status\n",
    "as \n",
    "select \n",
    "P.policy_type,\n",
    "C.claim_status,\n",
    "count(*) as total_claims,\n",
    "sum(C.claim_amount) as total_claim_amount,\n",
    "current_timestamp() as updated_timestamp\n",
    "from silverlayer.Policy P\n",
    "inner join silverlayer.Claim C\n",
    "on P.policy_id = C.policy_id\n",
    "group by policy_type,claim_status having P.policy_type is not null\n",
    "\n",
    "%sql select * from vw_gold_claims_by_policy_type_and_status"
   ]
  },
  {
   "cell_type": "code",
   "execution_count": 0,
   "metadata": {
    "application/vnd.databricks.v1+cell": {
     "cellMetadata": {
      "byteLimit": 2048000,
      "rowLimit": 10000
     },
     "inputWidgets": {},
     "nuid": "dbb07a8e-3206-40ec-b5fa-6be80f00d9ef",
     "showTitle": false,
     "title": ""
    }
   },
   "outputs": [
    {
     "output_type": "execute_result",
     "data": {
      "text/plain": [
       "DataFrame[num_affected_rows: bigint, num_updated_rows: bigint, num_deleted_rows: bigint, num_inserted_rows: bigint]"
      ]
     },
     "execution_count": 20,
     "metadata": {},
     "output_type": "execute_result"
    }
   ],
   "source": [
    "spark.sql(\"MERGE INTO goldenlayer.sales_by_policy_type_and_status as t using vw_gold_claims_by_policy_type_and_status as s on t.policy_type = s.policy_type when matched then update set t.claim_status = s.claim_status,t.total_claims = s.total_claims,t.total_claim_amount = s.total_claim_amount,t.updated_timestamp = current_timestamp() when not matched then insert (policy_type,claim_status,total_claims,total_claim_amount,updated_timestamp) values (s.policy_type,s.claim_status,s.total_claims,s.total_claim_amount,current_timestamp())\")"
   ]
  },
  {
   "cell_type": "code",
   "execution_count": 0,
   "metadata": {
    "application/vnd.databricks.v1+cell": {
     "cellMetadata": {
      "byteLimit": 2048000,
      "implicitDf": true,
      "rowLimit": 10000
     },
     "inputWidgets": {},
     "nuid": "a179f2d5-93af-4192-9940-06677e4c6fe0",
     "showTitle": false,
     "title": ""
    }
   },
   "outputs": [
    {
     "output_type": "display_data",
     "data": {
      "text/html": [
       "<style scoped>\n",
       "  .table-result-container {\n",
       "    max-height: 300px;\n",
       "    overflow: auto;\n",
       "  }\n",
       "  table, th, td {\n",
       "    border: 1px solid black;\n",
       "    border-collapse: collapse;\n",
       "  }\n",
       "  th, td {\n",
       "    padding: 5px;\n",
       "  }\n",
       "  th {\n",
       "    text-align: left;\n",
       "  }\n",
       "</style><div class='table-result-container'><table class='table-result'><thead style='background-color: white'><tr><th>policy_type</th><th>claim_status</th><th>total_claims</th><th>total_claim_amount</th><th>updated_timestamp</th></tr></thead><tbody><tr><td>Auto</td><td>Pending</td><td>55</td><td>6649455</td><td>2024-01-10T19:53:48.866Z</td></tr><tr><td>Health</td><td>Denied</td><td>95</td><td>8935970</td><td>2024-01-10T19:53:48.866Z</td></tr><tr><td>Auto</td><td>Completed</td><td>850</td><td>85743100</td><td>2024-01-10T19:53:48.866Z</td></tr><tr><td>Health</td><td>In Progress</td><td>835</td><td>78298935</td><td>2024-01-10T19:53:48.866Z</td></tr><tr><td>Health</td><td>Completed</td><td>745</td><td>73734630</td><td>2024-01-10T19:53:48.866Z</td></tr><tr><td>Health</td><td>Pending</td><td>75</td><td>9006675</td><td>2024-01-10T19:53:48.866Z</td></tr><tr><td>Auto</td><td>In Progress</td><td>795</td><td>76829555</td><td>2024-01-10T19:53:48.866Z</td></tr><tr><td>Auto</td><td>Denied</td><td>55</td><td>5989300</td><td>2024-01-10T19:53:48.866Z</td></tr></tbody></table></div>"
      ]
     },
     "metadata": {
      "application/vnd.databricks.v1+output": {
       "addedWidgets": {},
       "aggData": [],
       "aggError": "",
       "aggOverflow": false,
       "aggSchema": [],
       "aggSeriesLimitReached": false,
       "aggType": "",
       "arguments": {},
       "columnCustomDisplayInfos": {},
       "data": [
        [
         "Auto",
         "Pending",
         55,
         6649455,
         "2024-01-10T19:53:48.866Z"
        ],
        [
         "Health",
         "Denied",
         95,
         8935970,
         "2024-01-10T19:53:48.866Z"
        ],
        [
         "Auto",
         "Completed",
         850,
         85743100,
         "2024-01-10T19:53:48.866Z"
        ],
        [
         "Health",
         "In Progress",
         835,
         78298935,
         "2024-01-10T19:53:48.866Z"
        ],
        [
         "Health",
         "Completed",
         745,
         73734630,
         "2024-01-10T19:53:48.866Z"
        ],
        [
         "Health",
         "Pending",
         75,
         9006675,
         "2024-01-10T19:53:48.866Z"
        ],
        [
         "Auto",
         "In Progress",
         795,
         76829555,
         "2024-01-10T19:53:48.866Z"
        ],
        [
         "Auto",
         "Denied",
         55,
         5989300,
         "2024-01-10T19:53:48.866Z"
        ]
       ],
       "datasetInfos": [],
       "dbfsResultPath": null,
       "isJsonSchema": true,
       "metadata": {
        "dataframeName": "_sqldf",
        "executionCount": 22
       },
       "overflow": false,
       "plotOptions": {
        "customPlotOptions": {},
        "displayType": "table",
        "pivotAggregation": null,
        "pivotColumns": null,
        "xColumns": null,
        "yColumns": null
       },
       "removedWidgets": [],
       "schema": [
        {
         "metadata": "{}",
         "name": "policy_type",
         "type": "\"string\""
        },
        {
         "metadata": "{}",
         "name": "claim_status",
         "type": "\"string\""
        },
        {
         "metadata": "{}",
         "name": "total_claims",
         "type": "\"integer\""
        },
        {
         "metadata": "{}",
         "name": "total_claim_amount",
         "type": "\"integer\""
        },
        {
         "metadata": "{}",
         "name": "updated_timestamp",
         "type": "\"timestamp\""
        }
       ],
       "type": "table"
      }
     },
     "output_type": "display_data"
    }
   ],
   "source": [
    "%sql select * from goldenlayer.sales_by_policy_type_and_status"
   ]
  },
  {
   "cell_type": "markdown",
   "metadata": {
    "application/vnd.databricks.v1+cell": {
     "cellMetadata": {},
     "inputWidgets": {},
     "nuid": "d46f9412-b963-43de-874e-8a91dce5bb71",
     "showTitle": false,
     "title": ""
    }
   },
   "source": [
    "Analyze the claim data based on policy type like AVG, MAX, MIN, Count of claim "
   ]
  },
  {
   "cell_type": "code",
   "execution_count": 0,
   "metadata": {
    "application/vnd.databricks.v1+cell": {
     "cellMetadata": {
      "byteLimit": 2048000,
      "implicitDf": true,
      "rowLimit": 10000
     },
     "inputWidgets": {},
     "nuid": "75b99f4c-7e80-4a6a-8746-26193b1654cd",
     "showTitle": false,
     "title": ""
    }
   },
   "outputs": [
    {
     "output_type": "display_data",
     "data": {
      "text/html": [
       "<style scoped>\n",
       "  .table-result-container {\n",
       "    max-height: 300px;\n",
       "    overflow: auto;\n",
       "  }\n",
       "  table, th, td {\n",
       "    border: 1px solid black;\n",
       "    border-collapse: collapse;\n",
       "  }\n",
       "  th, td {\n",
       "    padding: 5px;\n",
       "  }\n",
       "  th {\n",
       "    text-align: left;\n",
       "  }\n",
       "</style><div class='table-result-container'><table class='table-result'><thead style='background-color: white'><tr></tr></thead><tbody></tbody></table></div>"
      ]
     },
     "metadata": {
      "application/vnd.databricks.v1+output": {
       "addedWidgets": {},
       "aggData": [],
       "aggError": "",
       "aggOverflow": false,
       "aggSchema": [],
       "aggSeriesLimitReached": false,
       "aggType": "",
       "arguments": {},
       "columnCustomDisplayInfos": {},
       "data": [],
       "datasetInfos": [],
       "dbfsResultPath": null,
       "isJsonSchema": true,
       "metadata": {
        "dataframeName": null
       },
       "overflow": false,
       "plotOptions": {
        "customPlotOptions": {},
        "displayType": "table",
        "pivotAggregation": null,
        "pivotColumns": null,
        "xColumns": null,
        "yColumns": null
       },
       "removedWidgets": [],
       "schema": [],
       "type": "table"
      }
     },
     "output_type": "display_data"
    }
   ],
   "source": [
    "%sql\n",
    "create or replace temp view vw_gold_claims_analysis\n",
    "as \n",
    "select \n",
    "P.policy_type,\n",
    "avg(C.claim_amount) as avg_claim_amt,\n",
    "max(C.claim_amount) as max_claim_amt,\n",
    "min(C.claim_amount) as min_claim_amt,\n",
    "count(*) as total_claims,\n",
    "current_timestamp() as updated_timestamp  \n",
    "from silverlayer.Policy P\n",
    "inner join silverlayer.Claim C\n",
    "on P.policy_id = C.policy_id\n",
    "group by policy_type having P.policy_type is not null\n",
    "\n",
    "%sql select * from vw_gold_claims_analysis"
   ]
  },
  {
   "cell_type": "code",
   "execution_count": 0,
   "metadata": {
    "application/vnd.databricks.v1+cell": {
     "cellMetadata": {
      "byteLimit": 2048000,
      "rowLimit": 10000
     },
     "inputWidgets": {},
     "nuid": "5451481f-d88a-43c8-804e-37b5b1fefd74",
     "showTitle": false,
     "title": ""
    }
   },
   "outputs": [
    {
     "output_type": "execute_result",
     "data": {
      "text/plain": [
       "DataFrame[num_affected_rows: bigint, num_updated_rows: bigint, num_deleted_rows: bigint, num_inserted_rows: bigint]"
      ]
     },
     "execution_count": 23,
     "metadata": {},
     "output_type": "execute_result"
    }
   ],
   "source": [
    "spark.sql(\"MERGE INTO goldenlayer.claims_analysis as t using vw_gold_claims_analysis as s on t.policy_type = s.policy_type when matched then update set t.avg_claim_amt = s.avg_claim_amt,t.max_claim_amt = s.max_claim_amt,t.min_claim_amt = s.min_claim_amt,t.total_claims = s.total_claims,t.updated_timestamp = current_timestamp() when not matched then insert (policy_type,avg_claim_amt,max_claim_amt,min_claim_amt,total_claims,updated_timestamp) values (s.policy_type,s.avg_claim_amt,s.max_claim_amt,s.min_claim_amt,s.total_claims,current_timestamp())\")"
   ]
  },
  {
   "cell_type": "code",
   "execution_count": 0,
   "metadata": {
    "application/vnd.databricks.v1+cell": {
     "cellMetadata": {
      "byteLimit": 2048000,
      "implicitDf": true,
      "rowLimit": 10000
     },
     "inputWidgets": {},
     "nuid": "59ef977d-97e3-4bf5-8936-1daab482c688",
     "showTitle": false,
     "title": ""
    }
   },
   "outputs": [
    {
     "output_type": "display_data",
     "data": {
      "text/html": [
       "<style scoped>\n",
       "  .table-result-container {\n",
       "    max-height: 300px;\n",
       "    overflow: auto;\n",
       "  }\n",
       "  table, th, td {\n",
       "    border: 1px solid black;\n",
       "    border-collapse: collapse;\n",
       "  }\n",
       "  th, td {\n",
       "    padding: 5px;\n",
       "  }\n",
       "  th {\n",
       "    text-align: left;\n",
       "  }\n",
       "</style><div class='table-result-container'><table class='table-result'><thead style='background-color: white'><tr><th>policy_type</th><th>avg_claim_amt</th><th>max_claim_amt</th><th>min_claim_amt</th><th>total_claims</th><th>updated_timestamp</th></tr></thead><tbody><tr><td>Health</td><td>97129</td><td>199995</td><td>2188</td><td>1750</td><td>2024-01-10T19:59:20.962Z</td></tr><tr><td>Auto</td><td>99835</td><td>197403</td><td>2283</td><td>1755</td><td>2024-01-10T19:59:20.962Z</td></tr></tbody></table></div>"
      ]
     },
     "metadata": {
      "application/vnd.databricks.v1+output": {
       "addedWidgets": {},
       "aggData": [],
       "aggError": "",
       "aggOverflow": false,
       "aggSchema": [],
       "aggSeriesLimitReached": false,
       "aggType": "",
       "arguments": {},
       "columnCustomDisplayInfos": {},
       "data": [
        [
         "Health",
         97129,
         199995,
         2188,
         1750,
         "2024-01-10T19:59:20.962Z"
        ],
        [
         "Auto",
         99835,
         197403,
         2283,
         1755,
         "2024-01-10T19:59:20.962Z"
        ]
       ],
       "datasetInfos": [],
       "dbfsResultPath": null,
       "isJsonSchema": true,
       "metadata": {
        "dataframeName": "_sqldf",
        "executionCount": 25
       },
       "overflow": false,
       "plotOptions": {
        "customPlotOptions": {},
        "displayType": "table",
        "pivotAggregation": null,
        "pivotColumns": null,
        "xColumns": null,
        "yColumns": null
       },
       "removedWidgets": [],
       "schema": [
        {
         "metadata": "{}",
         "name": "policy_type",
         "type": "\"string\""
        },
        {
         "metadata": "{}",
         "name": "avg_claim_amt",
         "type": "\"integer\""
        },
        {
         "metadata": "{}",
         "name": "max_claim_amt",
         "type": "\"integer\""
        },
        {
         "metadata": "{}",
         "name": "min_claim_amt",
         "type": "\"integer\""
        },
        {
         "metadata": "{}",
         "name": "total_claims",
         "type": "\"integer\""
        },
        {
         "metadata": "{}",
         "name": "updated_timestamp",
         "type": "\"timestamp\""
        }
       ],
       "type": "table"
      }
     },
     "output_type": "display_data"
    }
   ],
   "source": [
    "%sql select * from goldenlayer.claims_analysis"
   ]
  }
 ],
 "metadata": {
  "application/vnd.databricks.v1+notebook": {
   "dashboards": [],
   "language": "python",
   "notebookMetadata": {
    "mostRecentlyExecutedCommandWithImplicitDF": {
     "commandId": 4308439765849953,
     "dataframes": [
      "_sqldf"
     ]
    },
    "pythonIndentUnit": 4
   },
   "notebookName": "goldenlayer-Display",
   "widgets": {}
  }
 },
 "nbformat": 4,
 "nbformat_minor": 0
}
