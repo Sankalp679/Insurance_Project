{
 "cells": [
  {
   "cell_type": "code",
   "execution_count": 0,
   "metadata": {
    "application/vnd.databricks.v1+cell": {
     "cellMetadata": {
      "byteLimit": 2048000,
      "rowLimit": 10000
     },
     "inputWidgets": {},
     "nuid": "37f1f078-1625-463e-8de5-a21b8ede9e29",
     "showTitle": false,
     "title": ""
    }
   },
   "outputs": [],
   "source": [
    "schemaDec = \"branch_id integer,branch_country string,branch_city string\""
   ]
  },
  {
   "cell_type": "code",
   "execution_count": 0,
   "metadata": {
    "application/vnd.databricks.v1+cell": {
     "cellMetadata": {
      "byteLimit": 2048000,
      "implicitDf": true,
      "rowLimit": 10000
     },
     "inputWidgets": {},
     "nuid": "24751bd0-9fbc-40c0-a91b-03ed9039b1d4",
     "showTitle": false,
     "title": ""
    }
   },
   "outputs": [],
   "source": [
    "from pyspark.sql.functions import * \n",
    "df = spark.read.parquet(\"/mnt/landinglayer123/branch/*.parquet\",schema = schemaDec,header=True,inferSchema=False)\n",
    "df = df.withColumn(\"merge_flag\",lit(False))\n",
    "df.write.option(\"path\",\"/mnt/bronzelayer123/branch\").mode(\"append\").saveAsTable(\"bronzelayer.branch\")\n",
    "df.show()"
   ]
  },
  {
   "cell_type": "code",
   "execution_count": 0,
   "metadata": {
    "application/vnd.databricks.v1+cell": {
     "cellMetadata": {},
     "inputWidgets": {},
     "nuid": "e4b3a17d-5898-45bc-a99c-609bf01c6059",
     "showTitle": false,
     "title": ""
    }
   },
   "outputs": [],
   "source": [
    "# to remove the files of external delta table after it is dropped so that again delta table can be created in some place with a different schema.\n",
    "# https://stackoverflow.com/questions/58990742/databricks-drop-a-delta-table \n",
    "dbutils.fs.rm('/mnt/processed/AgentData/01-05-2024/_delta_log', recurse=True)"
   ]
  },
  {
   "cell_type": "code",
   "execution_count": 0,
   "metadata": {
    "application/vnd.databricks.v1+cell": {
     "cellMetadata": {
      "byteLimit": 2048000,
      "rowLimit": 10000
     },
     "inputWidgets": {},
     "nuid": "f2de401c-e933-4b04-9057-77cb282b032c",
     "showTitle": false,
     "title": ""
    }
   },
   "outputs": [],
   "source": [
    "from datetime import datetime \n",
    "\n",
    "def getpathindatetime(path):\n",
    "    current_time = datetime.now().strftime('%m-%d-%Y')\n",
    "    new_path = \"/mnt/processedlayer123/BranchData\" + '/' + current_time\n",
    "    return new_path"
   ]
  },
  {
   "cell_type": "code",
   "execution_count": 0,
   "metadata": {
    "application/vnd.databricks.v1+cell": {
     "cellMetadata": {
      "byteLimit": 2048000,
      "rowLimit": 10000
     },
     "inputWidgets": {},
     "nuid": "dc768939-6ec1-41e8-8350-18734fc45307",
     "showTitle": false,
     "title": ""
    }
   },
   "outputs": [
    {
     "output_type": "execute_result",
     "data": {
      "text/plain": [
       "True"
      ]
     },
     "execution_count": 12,
     "metadata": {},
     "output_type": "execute_result"
    }
   ],
   "source": [
    "dbutils.fs.cp(\"/mnt/bronzelayer123/branch\",getpathindatetime('/mnt/processedlayer123/BranchData'),True)"
   ]
  }
 ],
 "metadata": {
  "application/vnd.databricks.v1+notebook": {
   "dashboards": [],
   "language": "python",
   "notebookMetadata": {
    "mostRecentlyExecutedCommandWithImplicitDF": {
     "commandId": -1,
     "dataframes": [
      "_sqldf"
     ]
    },
    "pythonIndentUnit": 4
   },
   "notebookName": "BranchData-Ingestion",
   "widgets": {}
  }
 },
 "nbformat": 4,
 "nbformat_minor": 0
}
