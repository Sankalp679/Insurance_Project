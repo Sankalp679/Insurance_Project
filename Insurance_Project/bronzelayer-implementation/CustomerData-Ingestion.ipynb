{
 "cells": [
  {
   "cell_type": "code",
   "execution_count": 0,
   "metadata": {
    "application/vnd.databricks.v1+cell": {
     "cellMetadata": {
      "byteLimit": 2048000,
      "rowLimit": 10000
     },
     "inputWidgets": {},
     "nuid": "e751ce66-38c0-42c4-8560-93c32c530671",
     "showTitle": false,
     "title": ""
    }
   },
   "outputs": [],
   "source": [
    "schemaDec = \"customer_id integer,first_name string,last_name string,email string,phone string,country string,city string,registration_date timestamp,date_of_birth timestamp,gender string\""
   ]
  },
  {
   "cell_type": "code",
   "execution_count": 0,
   "metadata": {
    "application/vnd.databricks.v1+cell": {
     "cellMetadata": {
      "byteLimit": 2048000,
      "rowLimit": 10000
     },
     "inputWidgets": {},
     "nuid": "b7fb4bdc-216d-4166-9878-f08b77d24051",
     "showTitle": false,
     "title": ""
    }
   },
   "outputs": [
    {
     "output_type": "stream",
     "name": "stdout",
     "output_type": "stream",
     "text": [
      "+-----------+----------+----------+--------------------+----------+--------------+----------------+-------------------+-------------------+------+----------+\n|customer_id|first_name| last_name|               email|     phone|       country|            city|  registration_date|      date_of_birth|gender|merge_flag|\n+-----------+----------+----------+--------------------+----------+--------------+----------------+-------------------+-------------------+------+----------+\n|       1001|     Bruis|     Myall|    bmyall0@hibu.com|3604158081| United States|       Vancouver|2022-09-23 11:10:45|2023-02-13 03:14:05|  Male|     false|\n|       1002|    Ellene|MacSporran|emacsporran1@mapq...|9011721346| United States|         Memphis|2022-10-15 18:01:12|2023-03-28 13:09:21|Female|     false|\n|       1003| Isabelita|Powlesland|ipowlesland2@chic...|7081890902|United Kingdom|       Liverpool|2022-06-20 03:55:09|2022-09-08 06:25:57|Female|     false|\n|       1004|     Elden|      Tonn|  etonn3@t-online.de|8156364393| United States|        Rockford|2023-03-08 09:56:41|2023-01-07 01:31:46|  Male|     false|\n|       1005|       Edd|      NULL|ediviny4@list-man...|4053842760| United States|            NULL|2022-08-14 19:04:28|2022-04-23 15:11:46|  Male|     false|\n|       1006|   Heinrik|    Bulled|hbulled5@oaic.gov.au|8175639621| United States|      Fort Worth|2022-11-26 05:31:07|2022-06-02 11:30:28|  Male|     false|\n|       1007|  Greggory|    Ellick|gellick6@bandcamp...|8064064523|     Australia|    Sydney South|2022-05-10 08:45:30|2022-08-09 08:28:35|  Male|     false|\n|       1008|     Nolan| Dundridge|ndundridge7@sohu.com|2172361875| United States|     Springfield|2023-04-14 07:37:43|2023-04-06 16:18:45|  Male|     false|\n|       1009|      NULL|Standfield|tstandfield8@yout...|9459074722|          NULL|          Hatton|2022-11-15 20:47:58|2022-06-05 23:04:35|Female|     false|\n|       1010|   Rozella|    Hebdon|    rhebdon9@sun.com|7129805160| United States|           Omaha|2022-08-23 08:29:47|2023-02-13 08:06:10|Female|     false|\n|       1011|  Reinwald|    Bronot|rbronota@mayoclin...|8131221909| United States|     Zephyrhills|2022-08-13 13:37:14|2022-05-27 06:57:24|  Male|     false|\n|       1012|    Lesley|   Dowdall|  ldowdallb@java.com|7146669804| United States|   Newport Beach|2022-12-11 02:26:39|2022-09-26 06:06:33|  Male|     false|\n|       1013|    Darcey|    Febvre|     dfebvrec@ed.gov|5705101497| United States|    Wilkes Barre|2022-05-02 12:20:09|2022-09-07 03:24:46|Female|     false|\n|       1014|  Petronia|   Walstow|   pwalstowd@epa.gov|2105167261| United States|     San Antonio|2022-09-27 22:51:35|2022-08-15 09:05:42|Female|     false|\n|       1015|   Georgia|      Ewan|   gewane@cpanel.net|4108947729| United States|       Baltimore|2022-07-18 22:14:16|2022-11-15 18:47:46|Female|     false|\n|       1016|     Haven|    Dowsey|hdowseyf@devianta...|9151612265| United States|         El Paso|2022-10-13 04:20:04|2023-02-26 13:12:51|  Male|     false|\n|       1017|   Belicia|     Reven|  breveng@weebly.com|7191334356| United States|Colorado Springs|2022-11-14 10:41:24|2022-09-13 15:33:01|Female|     false|\n|       1018|    Hughie|    Monini|    hmoninih@mail.ru|9372078108| United States|          Dayton|2022-12-01 20:42:34|2022-04-21 12:27:14|  Male|     false|\n|       1019|     Filia|      NULL| fyitzhakovi@bbb.org|2031170676| United States|            NULL|2022-05-16 19:37:41|2022-09-11 16:37:54|Female|     false|\n|       1020|      NULL| Furmagier|sfurmagierj@marke...|9712578616|          NULL|        Portland|2022-04-27 04:34:29|2023-03-19 13:41:31|Female|     false|\n+-----------+----------+----------+--------------------+----------+--------------+----------------+-------------------+-------------------+------+----------+\nonly showing top 20 rows\n\n"
     ]
    }
   ],
   "source": [
    "from pyspark.sql.functions import * \n",
    "df = spark.read.csv(\"/mnt/landinglayer123/customer/*.csv\",schema = schemaDec,header=True,inferSchema=False)\n",
    "df = df.withColumn(\"merge_flag\",lit(False))\n",
    "df.write.option(\"path\",\"/mnt/bronzelayer123/customer\").mode(\"append\").saveAsTable(\"bronzelayer.customer\")\n",
    "df.show()"
   ]
  },
  {
   "cell_type": "code",
   "execution_count": 0,
   "metadata": {
    "application/vnd.databricks.v1+cell": {
     "cellMetadata": {
      "byteLimit": 2048000,
      "rowLimit": 10000
     },
     "inputWidgets": {},
     "nuid": "978e8db8-71aa-4176-acd4-1a6353223484",
     "showTitle": false,
     "title": ""
    }
   },
   "outputs": [],
   "source": [
    "from datetime import datetime \n",
    "\n",
    "def getpathindatetime(path):\n",
    "    current_time = datetime.now().strftime('%m-%d-%Y')\n",
    "    new_path = \"/mnt/processedlayer123/CustomerData\" + '/' + current_time\n",
    "    return new_path"
   ]
  },
  {
   "cell_type": "code",
   "execution_count": 0,
   "metadata": {
    "application/vnd.databricks.v1+cell": {
     "cellMetadata": {
      "byteLimit": 2048000,
      "rowLimit": 10000
     },
     "inputWidgets": {},
     "nuid": "e6eac37b-f339-4546-9abd-58297121778b",
     "showTitle": false,
     "title": ""
    }
   },
   "outputs": [
    {
     "output_type": "execute_result",
     "data": {
      "text/plain": [
       "True"
      ]
     },
     "execution_count": 7,
     "metadata": {},
     "output_type": "execute_result"
    }
   ],
   "source": [
    "dbutils.fs.cp(\"/mnt/bronzelayer123/customer\",getpathindatetime('/mnt/processedlayer123/CustomerData'),True)"
   ]
  }
 ],
 "metadata": {
  "application/vnd.databricks.v1+notebook": {
   "dashboards": [],
   "language": "python",
   "notebookMetadata": {
    "pythonIndentUnit": 4
   },
   "notebookName": "CustomerData-Ingestion",
   "widgets": {}
  }
 },
 "nbformat": 4,
 "nbformat_minor": 0
}
