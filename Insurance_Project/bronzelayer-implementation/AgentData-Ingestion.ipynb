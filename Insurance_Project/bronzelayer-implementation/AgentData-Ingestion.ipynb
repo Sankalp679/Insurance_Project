{
 "cells": [
  {
   "cell_type": "code",
   "execution_count": 0,
   "metadata": {
    "application/vnd.databricks.v1+cell": {
     "cellMetadata": {
      "byteLimit": 2048000,
      "rowLimit": 10000
     },
     "inputWidgets": {},
     "nuid": "554dc95a-0927-4857-b89e-fee9b8aa1f45",
     "showTitle": false,
     "title": ""
    }
   },
   "outputs": [],
   "source": [
    "schemaDec = \"agent_id integer,agent_name string,agent_email string,agent_phone string,branch_id integer,create_timestamp timestamp\""
   ]
  },
  {
   "cell_type": "code",
   "execution_count": 0,
   "metadata": {
    "application/vnd.databricks.v1+cell": {
     "cellMetadata": {
      "byteLimit": 2048000,
      "rowLimit": 10000
     },
     "inputWidgets": {},
     "nuid": "1d4fa312-ec1e-4579-bb45-12ba709f66f2",
     "showTitle": false,
     "title": ""
    }
   },
   "outputs": [
    {
     "output_type": "stream",
     "name": "stdout",
     "output_type": "stream",
     "text": [
      "+--------+--------------------+--------------------+-----------+---------+-------------------+----------+\n|agent_id|          agent_name|         agent_email|agent_phone|branch_id|   create_timestamp|merge_flag|\n+--------+--------------------+--------------------+-----------+---------+-------------------+----------+\n|    2001|     Kristel Sealove|ksealove0@chronoe...| 3407666314|     2289|2021-06-11 21:44:01|     false|\n|    2002|         Niel  Quhan|    nmquhan1@mac.com| 5631758726|     2138|2021-07-17 21:16:52|     false|\n|    2003|                NULL|bcreeber2@sitemet...| 3509759144|     2138|2021-12-05 05:05:23|     false|\n|    2004|    Rutledge Aindriu|raindriu3@cbsnews...| 6314963878|     2481|2021-12-24 08:04:13|     false|\n|    2005|       Cherey Astill|    castill4@163.com| 7454714899|     2152|2021-12-25 16:37:00|     false|\n|    2006|                NULL|sdrissell5@cyberc...| 2432547349|     2464|2021-06-08 13:13:42|     false|\n|    2007|     Jenelle Oliveto|  joliveto6@usgs.gov| 4641806529|     2370|2021-06-04 17:34:48|     false|\n|    2008|     Ruperta Symcock|rsymcock7@freeweb...| 5349539503|     2109|2022-02-23 02:51:50|     false|\n|    2009|Gearalt Domenichelli|gdomenichelli8@ed...| 6204859637|     2012|2021-07-28 22:08:23|     false|\n|    2010|           Dud Doxey|ddoxey9@statcount...| 7392004283|     2160|2021-09-14 09:34:54|     false|\n|    2011| Cherrita Breakspear|cbreakspeara@wix.com| 8305971141|     2331|2021-10-16 11:38:23|     false|\n|    2012|        Erl Pennyman|epennymanb@youku.com| 5282979548|     2149|2022-02-04 17:10:18|     false|\n|    2013|   Rudolfo Sweetmore|rsweetmorec@sohu.com| 1064011388|     2426|2021-10-31 08:58:03|     false|\n|    2014|          Rod Cahill|rcahilld@over-blo...| 6739710574|     2100|2021-06-28 08:07:36|     false|\n|    2015|          Dori Cogar|dcogare@amazon.co.uk| 2423227268|     2231|2021-12-14 22:19:30|     false|\n|    2016|    Aggi MacUchadair|amacuchadairf@ovh...| 7241568174|     2222|2021-08-15 11:19:09|     false|\n|    2017|       Peter Gresley|pgresleyg@elegant...| 5311094776|     2122|2021-07-23 17:49:25|     false|\n|    2018|     Avrit Casbourne|acasbourneh@plala...| 6246176223|     2077|2021-09-30 18:36:16|     false|\n|    2019|        Darn Spooner|dspooneri@liveint...| 8346973086|     2357|2021-08-31 09:31:38|     false|\n|    2020|    Kathlin Cammoile| kcammoilej@sohu.com| 9924767144|     2356|2022-03-29 00:11:46|     false|\n+--------+--------------------+--------------------+-----------+---------+-------------------+----------+\nonly showing top 20 rows\n\n"
     ]
    }
   ],
   "source": [
    "from pyspark.sql.functions import * \n",
    "df = spark.read.csv(\"/mnt/landinglayer123/Agent/*.txt\",schema = schemaDec,header=True)\n",
    "df = df.withColumn(\"merge_flag\",lit(False))\n",
    "df.write.option(\"path\",\"/mnt/bronzelayer123/Agent\").mode(\"append\").saveAsTable(\"bronzelayer.Agent\")\n",
    "df.show()"
   ]
  },
  {
   "cell_type": "code",
   "execution_count": 0,
   "metadata": {
    "application/vnd.databricks.v1+cell": {
     "cellMetadata": {
      "byteLimit": 2048000,
      "rowLimit": 10000
     },
     "inputWidgets": {},
     "nuid": "ce0b5d10-8fb4-4da3-9663-e254bfabcf65",
     "showTitle": false,
     "title": ""
    }
   },
   "outputs": [],
   "source": [
    "from datetime import datetime \n",
    "\n",
    "def getpathindatetime(path):\n",
    "    current_time = datetime.now().strftime('%m-%d-%Y')\n",
    "    new_path = \"/mnt/processedlayer123/AgentData\" + '/' + current_time\n",
    "    return new_path"
   ]
  },
  {
   "cell_type": "code",
   "execution_count": 0,
   "metadata": {
    "application/vnd.databricks.v1+cell": {
     "cellMetadata": {
      "byteLimit": 2048000,
      "rowLimit": 10000
     },
     "inputWidgets": {},
     "nuid": "a6deeb93-ffc0-4433-8552-5591a9ed53a3",
     "showTitle": false,
     "title": ""
    }
   },
   "outputs": [
    {
     "output_type": "execute_result",
     "data": {
      "text/plain": [
       "True"
      ]
     },
     "execution_count": 4,
     "metadata": {},
     "output_type": "execute_result"
    }
   ],
   "source": [
    "dbutils.fs.cp(\"/mnt/bronzelayer123/Agent\",getpathindatetime('/mnt/processedlayer123/AgentData'),True)"
   ]
  }
 ],
 "metadata": {
  "application/vnd.databricks.v1+notebook": {
   "dashboards": [],
   "language": "python",
   "notebookMetadata": {
    "pythonIndentUnit": 4
   },
   "notebookName": "AgentData-Ingestion",
   "widgets": {}
  }
 },
 "nbformat": 4,
 "nbformat_minor": 0
}
