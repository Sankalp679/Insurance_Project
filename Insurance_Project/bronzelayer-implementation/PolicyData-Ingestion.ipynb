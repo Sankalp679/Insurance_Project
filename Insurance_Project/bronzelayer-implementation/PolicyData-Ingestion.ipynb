{
 "cells": [
  {
   "cell_type": "code",
   "execution_count": 0,
   "metadata": {
    "application/vnd.databricks.v1+cell": {
     "cellMetadata": {
      "byteLimit": 2048000,
      "rowLimit": 10000
     },
     "inputWidgets": {},
     "nuid": "635c0d78-accb-4b32-8e36-169376b4ada8",
     "showTitle": false,
     "title": ""
    }
   },
   "outputs": [],
   "source": [
    "schemaDec = \"policy_id integer,policy_type string,customer_id integer,start_date timestamp,end_date timestamp,premium integer, coverage_amount integer\""
   ]
  },
  {
   "cell_type": "code",
   "execution_count": 0,
   "metadata": {
    "application/vnd.databricks.v1+cell": {
     "cellMetadata": {
      "byteLimit": 2048000,
      "rowLimit": 10000
     },
     "inputWidgets": {},
     "nuid": "ed63cd2d-1420-4337-a578-8d668759c597",
     "showTitle": false,
     "title": ""
    }
   },
   "outputs": [
    {
     "output_type": "stream",
     "name": "stdout",
     "output_type": "stream",
     "text": [
      "+---------+-----------+-----------+-------------------+-------------------+-------+---------------+----------+\n|policy_id|policy_type|customer_id|         start_date|           end_date|premium|coverage_amount|merge_flag|\n+---------+-----------+-----------+-------------------+-------------------+-------+---------------+----------+\n|        2|     Health|       1343|2023-03-01 01:54:27|2023-09-28 09:03:51|  21062|           NULL|     false|\n|        3|       Auto|       1609|2023-02-07 09:18:35|2024-02-28 05:09:11|  38737|         304308|     false|\n|        4|     Health|       1021|2022-09-05 02:52:10|2024-02-28 17:26:41| 117350|         651873|     false|\n|        5|     Health|       1893|2022-11-27 08:26:02|2023-08-18 15:21:43| 156670|         899773|     false|\n|        6|     Health|       1536|2022-11-07 06:29:12|2023-08-02 16:24:35|  38190|         380038|     false|\n|        7|     Health|       NULL|2022-07-08 05:29:55|2024-03-17 15:15:06|  96617|         490906|     false|\n|        8|       Auto|       1612|2023-02-03 22:11:45|2023-12-25 04:14:56| 165981|         714562|     false|\n|        9|     Health|       1350|2023-01-25 13:10:50|2023-10-19 09:32:35| 195090|         273053|     false|\n|       10|       Auto|       1486|2023-02-27 09:52:02|2023-06-14 03:48:11|  95109|        1078838|     false|\n|       11|       NULL|       NULL|2022-09-24 19:00:46|2023-09-11 01:36:31| 192502|         231284|     false|\n|       12|       Auto|       1768|2022-06-04 08:41:44|2023-11-08 20:15:51|  91474|        1257396|     false|\n|       13|     Health|       1174|2022-07-06 16:26:40|2023-08-29 02:11:07| 142738|         961892|     false|\n|       14|     Health|       1624|2022-05-07 05:40:18|2024-03-18 06:59:40|  65672|           NULL|     false|\n|       15|     Health|       NULL|2022-10-29 04:36:57|2023-07-29 05:16:23| 190964|         394331|     false|\n|       16|       Auto|       1406|2022-05-03 06:22:22|2024-01-29 21:48:44|  78603|         711414|     false|\n|       17|       Auto|       1783|2023-03-06 10:37:39|2023-11-05 02:27:07|  17984|         613047|     false|\n|       18|       Auto|       1116|2022-06-22 12:27:41|2024-03-30 19:52:46| 113078|         946430|     false|\n|       19|     Health|       1132|2022-08-03 13:36:35|2023-09-15 02:59:57|  14021|        1978307|     false|\n|       20|     Health|       1427|2022-04-18 10:11:55|2023-08-21 18:16:40| 154105|        1184499|     false|\n|       21|       Auto|       1886|2022-08-31 01:48:41|2023-08-18 01:49:56| 103168|         980380|     false|\n+---------+-----------+-----------+-------------------+-------------------+-------+---------------+----------+\nonly showing top 20 rows\n\n"
     ]
    }
   ],
   "source": [
    "from pyspark.sql.functions import * \n",
    "df = spark.read.json(\"/mnt/landinglayer123/policy/*.json\",schema = schemaDec)\n",
    "df = df.withColumn(\"merge_flag\",lit(False))\n",
    "df.write.option(\"path\",\"/mnt/bronzelayer123/policy\").mode(\"append\").saveAsTable(\"bronzelayer.policy\")\n",
    "df.show()"
   ]
  },
  {
   "cell_type": "code",
   "execution_count": 0,
   "metadata": {
    "application/vnd.databricks.v1+cell": {
     "cellMetadata": {
      "byteLimit": 2048000,
      "rowLimit": 10000
     },
     "inputWidgets": {},
     "nuid": "4fc55a03-2bf4-4d3d-a82a-9dba42efa354",
     "showTitle": false,
     "title": ""
    }
   },
   "outputs": [],
   "source": [
    "from datetime import datetime \n",
    "\n",
    "def getpathindatetime(path):\n",
    "    current_time = datetime.now().strftime('%m-%d-%Y')\n",
    "    new_path = \"/mnt/processedlayer123/PolicyData\" + '/' + current_time\n",
    "    return new_path"
   ]
  },
  {
   "cell_type": "code",
   "execution_count": 0,
   "metadata": {
    "application/vnd.databricks.v1+cell": {
     "cellMetadata": {
      "byteLimit": 2048000,
      "rowLimit": 10000
     },
     "inputWidgets": {},
     "nuid": "47ad40ba-e9d6-4106-a386-c91f0b7310ea",
     "showTitle": false,
     "title": ""
    }
   },
   "outputs": [
    {
     "output_type": "execute_result",
     "data": {
      "text/plain": [
       "True"
      ]
     },
     "execution_count": 4,
     "metadata": {},
     "output_type": "execute_result"
    }
   ],
   "source": [
    "dbutils.fs.cp(\"/mnt/bronzelayer123/policy\",getpathindatetime('/mnt/processedlayer123/PolicyData'),True)"
   ]
  }
 ],
 "metadata": {
  "application/vnd.databricks.v1+notebook": {
   "dashboards": [],
   "language": "python",
   "notebookMetadata": {
    "pythonIndentUnit": 4
   },
   "notebookName": "PolicyData-Ingestion",
   "widgets": {}
  }
 },
 "nbformat": 4,
 "nbformat_minor": 0
}
