{
 "cells": [
  {
   "cell_type": "markdown",
   "metadata": {
    "application/vnd.databricks.v1+cell": {
     "cellMetadata": {},
     "inputWidgets": {},
     "nuid": "728f0254-02c7-46f4-a85c-c9b164ce12a6",
     "showTitle": false,
     "title": ""
    }
   },
   "source": [
    "Remove all rows where branch id not exist i.e.null in branch table"
   ]
  },
  {
   "cell_type": "markdown",
   "metadata": {
    "application/vnd.databricks.v1+cell": {
     "cellMetadata": {},
     "inputWidgets": {},
     "nuid": "3628f7d5-47b4-4d30-b117-7a1e5d568724",
     "showTitle": false,
     "title": ""
    }
   },
   "source": [
    "Remove all the leading and trailing spaces in branch country and convert it into upper case \n"
   ]
  },
  {
   "cell_type": "code",
   "execution_count": 0,
   "metadata": {
    "application/vnd.databricks.v1+cell": {
     "cellMetadata": {
      "byteLimit": 2048000,
      "implicitDf": true,
      "rowLimit": 10000
     },
     "inputWidgets": {},
     "nuid": "c640be85-a6bf-49d3-a834-dc4ae3ff2c66",
     "showTitle": false,
     "title": ""
    }
   },
   "outputs": [
    {
     "output_type": "display_data",
     "data": {
      "text/html": [
       "<style scoped>\n",
       "  .table-result-container {\n",
       "    max-height: 300px;\n",
       "    overflow: auto;\n",
       "  }\n",
       "  table, th, td {\n",
       "    border: 1px solid black;\n",
       "    border-collapse: collapse;\n",
       "  }\n",
       "  th, td {\n",
       "    padding: 5px;\n",
       "  }\n",
       "  th {\n",
       "    text-align: left;\n",
       "  }\n",
       "</style><div class='table-result-container'><table class='table-result'><thead style='background-color: white'><tr><th>branch_id</th><th>branch_city</th><th>branch_country</th></tr></thead><tbody><tr><td>2001</td><td>Seattle</td><td>UNITED STATES</td></tr><tr><td>2002</td><td>Huntington</td><td>UNITED STATES</td></tr><tr><td>2003</td><td>Littleton</td><td>UNITED STATES</td></tr><tr><td>2004</td><td>Tampa</td><td>UNITED STATES</td></tr><tr><td>2005</td><td>Glendale</td><td>UNITED STATES</td></tr><tr><td>2006</td><td>Kirkton</td><td>UNITED KINGDOM</td></tr><tr><td>2007</td><td>New York City</td><td>UNITED STATES</td></tr><tr><td>2008</td><td></td><td></td></tr><tr><td>2009</td><td>Austin</td><td>UNITED STATES</td></tr><tr><td>2010</td><td>Huntsville</td><td>UNITED STATES</td></tr><tr><td>2011</td><td>Sacramento</td><td>UNITED STATES</td></tr><tr><td>2012</td><td>Richmond</td><td>UNITED STATES</td></tr><tr><td>2013</td><td>Santa Monica</td><td>UNITED STATES</td></tr><tr><td>2014</td><td>Bristol</td><td>UNITED KINGDOM</td></tr><tr><td>2015</td><td></td><td></td></tr><tr><td>2016</td><td>Newton</td><td>UNITED STATES</td></tr><tr><td>2017</td><td>Dean</td><td>UNITED KINGDOM</td></tr><tr><td>2018</td><td>Knoxville</td><td>UNITED STATES</td></tr><tr><td>2019</td><td>Wilkes Barre</td><td>UNITED STATES</td></tr><tr><td>2020</td><td>Columbia</td><td>UNITED STATES</td></tr><tr><td>2021</td><td>Monticello</td><td>UNITED STATES</td></tr><tr><td>2022</td><td>Austin</td><td>UNITED STATES</td></tr><tr><td>2023</td><td>Washington</td><td>UNITED STATES</td></tr><tr><td>2024</td><td>Colorado Springs</td><td>UNITED STATES</td></tr><tr><td>2025</td><td></td><td></td></tr><tr><td>2026</td><td>Tucson</td><td>UNITED STATES</td></tr><tr><td>2027</td><td>Lakeland</td><td>UNITED STATES</td></tr><tr><td>2028</td><td>Detroit</td><td>UNITED STATES</td></tr><tr><td>2029</td><td>Schaumburg</td><td>UNITED STATES</td></tr><tr><td>2030</td><td>Reston</td><td>UNITED STATES</td></tr><tr><td>2031</td><td>Twyford</td><td>UNITED KINGDOM</td></tr><tr><td>2032</td><td>Houston</td><td>UNITED STATES</td></tr><tr><td>2033</td><td>Wirral</td><td>UNITED KINGDOM</td></tr><tr><td>2034</td><td>Madison</td><td>UNITED STATES</td></tr><tr><td>2035</td><td>Bronx</td><td>UNITED STATES</td></tr><tr><td>2036</td><td>Bronx</td><td>UNITED STATES</td></tr><tr><td>2037</td><td>Carlton</td><td>UNITED KINGDOM</td></tr><tr><td>2038</td><td>Garland</td><td>UNITED STATES</td></tr><tr><td>2039</td><td>Lincoln</td><td>UNITED STATES</td></tr><tr><td>2040</td><td>London</td><td>UNITED KINGDOM</td></tr><tr><td>2041</td><td>London</td><td>UNITED KINGDOM</td></tr><tr><td>2042</td><td>Dallas</td><td>UNITED STATES</td></tr><tr><td>2043</td><td>Scranton</td><td>UNITED STATES</td></tr><tr><td>2044</td><td></td><td></td></tr><tr><td>2045</td><td>Huntington</td><td>UNITED STATES</td></tr><tr><td>2046</td><td>Sacramento</td><td>UNITED STATES</td></tr><tr><td>2047</td><td>Newark</td><td>UNITED STATES</td></tr><tr><td>2048</td><td>Las Vegas</td><td>UNITED STATES</td></tr><tr><td>2049</td><td>New York City</td><td>UNITED STATES</td></tr><tr><td>2050</td><td>San Diego</td><td>UNITED STATES</td></tr><tr><td>2051</td><td>Shreveport</td><td>UNITED STATES</td></tr><tr><td>2052</td><td>Knoxville</td><td>UNITED STATES</td></tr><tr><td>2053</td><td>Fargo</td><td>UNITED STATES</td></tr><tr><td>2054</td><td>Atlanta</td><td>UNITED STATES</td></tr><tr><td>2055</td><td>Birmingham</td><td>UNITED STATES</td></tr><tr><td>2056</td><td>Newport News</td><td>UNITED STATES</td></tr><tr><td>2057</td><td>Denver</td><td>UNITED STATES</td></tr><tr><td>2058</td><td>Seattle</td><td>UNITED STATES</td></tr><tr><td>2059</td><td>Rockford</td><td>UNITED STATES</td></tr><tr><td>2060</td><td>Portland</td><td>UNITED STATES</td></tr><tr><td>2061</td><td>Sadar Bazar</td><td>INDIA</td></tr><tr><td>2062</td><td>Bethlehem</td><td>UNITED STATES</td></tr><tr><td>2063</td><td>Charlotte</td><td>UNITED STATES</td></tr><tr><td>2064</td><td>Springfield</td><td>UNITED STATES</td></tr><tr><td>2065</td><td>Asheville</td><td>UNITED STATES</td></tr><tr><td>2066</td><td>Madison</td><td>UNITED STATES</td></tr><tr><td>2067</td><td>Cedar Rapids</td><td>UNITED STATES</td></tr><tr><td>2068</td><td>Fort Worth</td><td>UNITED STATES</td></tr><tr><td>2069</td><td>Dallas</td><td>UNITED STATES</td></tr><tr><td>2070</td><td>Fresno</td><td>UNITED STATES</td></tr><tr><td>2071</td><td>Amarillo</td><td>UNITED STATES</td></tr><tr><td>2072</td><td>Los Angeles</td><td>UNITED STATES</td></tr><tr><td>2073</td><td>Rochester</td><td>UNITED STATES</td></tr><tr><td>2074</td><td>Irving</td><td>UNITED STATES</td></tr><tr><td>2075</td><td>Roanoke</td><td>UNITED STATES</td></tr><tr><td>2076</td><td>Washington</td><td>UNITED STATES</td></tr><tr><td>2077</td><td>Grand Forks</td><td>UNITED STATES</td></tr><tr><td>2078</td><td>Birmingham</td><td>UNITED STATES</td></tr><tr><td>2079</td><td>Birmingham</td><td>UNITED STATES</td></tr><tr><td>2080</td><td>Denver</td><td>UNITED STATES</td></tr><tr><td>2081</td><td>Chicago</td><td>UNITED STATES</td></tr><tr><td>2082</td><td>Fresno</td><td>UNITED STATES</td></tr><tr><td>2083</td><td>Washington</td><td>UNITED STATES</td></tr><tr><td>2084</td><td>Charlotte</td><td>UNITED STATES</td></tr><tr><td>2085</td><td>Detroit</td><td>UNITED STATES</td></tr><tr><td>2086</td><td>Miami</td><td>UNITED STATES</td></tr><tr><td>2087</td><td>Kingston</td><td>UNITED KINGDOM</td></tr><tr><td>2088</td><td></td><td></td></tr><tr><td>2089</td><td>Van Nuys</td><td>UNITED STATES</td></tr><tr><td>2090</td><td>Carlsbad</td><td>UNITED STATES</td></tr><tr><td>2091</td><td>Silver Spring</td><td>UNITED STATES</td></tr><tr><td>2092</td><td>Salt Lake City</td><td>UNITED STATES</td></tr><tr><td>2093</td><td>Las Vegas</td><td>UNITED STATES</td></tr><tr><td>2094</td><td>Newark</td><td>UNITED STATES</td></tr><tr><td>2095</td><td>Manassas</td><td>UNITED STATES</td></tr><tr><td>2096</td><td>Stockton</td><td>UNITED STATES</td></tr><tr><td>2097</td><td>Durham</td><td>UNITED STATES</td></tr><tr><td>2098</td><td>Los Angeles</td><td>UNITED STATES</td></tr><tr><td>2099</td><td>Honolulu</td><td>UNITED STATES</td></tr><tr><td>2100</td><td>Richmond</td><td>UNITED STATES</td></tr><tr><td>2101</td><td>Corona</td><td>UNITED STATES</td></tr><tr><td>2102</td><td>Chicago</td><td>UNITED STATES</td></tr><tr><td>2103</td><td>Phoenix</td><td>UNITED STATES</td></tr><tr><td>2104</td><td>Naples</td><td>UNITED STATES</td></tr><tr><td>2105</td><td>Baton Rouge</td><td>UNITED STATES</td></tr><tr><td>2106</td><td>Corona</td><td>UNITED STATES</td></tr><tr><td>2107</td><td>New Orleans</td><td>UNITED STATES</td></tr><tr><td>2108</td><td>Washington</td><td>UNITED STATES</td></tr><tr><td>2109</td><td>Mobile</td><td>UNITED STATES</td></tr><tr><td>2110</td><td>Carson City</td><td>UNITED STATES</td></tr><tr><td>2111</td><td>Fort Worth</td><td>UNITED STATES</td></tr><tr><td>2112</td><td>Philadelphia</td><td>UNITED STATES</td></tr><tr><td>2113</td><td>Springfield</td><td>UNITED STATES</td></tr><tr><td>2114</td><td>Fort Lauderdale</td><td>UNITED STATES</td></tr><tr><td>2115</td><td>Baton Rouge</td><td>UNITED STATES</td></tr><tr><td>2116</td><td>Washington</td><td>UNITED STATES</td></tr><tr><td>2117</td><td>Madison</td><td>UNITED STATES</td></tr><tr><td>2118</td><td>Chicago</td><td>UNITED STATES</td></tr><tr><td>2119</td><td>San Diego</td><td>UNITED STATES</td></tr><tr><td>2120</td><td>Baton Rouge</td><td>UNITED STATES</td></tr><tr><td>2121</td><td>Chesapeake</td><td>UNITED STATES</td></tr><tr><td>2122</td><td>Santa Monica</td><td>UNITED STATES</td></tr><tr><td>2123</td><td>Saint Louis</td><td>UNITED STATES</td></tr><tr><td>2124</td><td>London</td><td>UNITED KINGDOM</td></tr><tr><td>2125</td><td>Knoxville</td><td>UNITED STATES</td></tr><tr><td>2126</td><td>Jacksonville</td><td>UNITED STATES</td></tr><tr><td>2127</td><td>Nashville</td><td>UNITED STATES</td></tr><tr><td>2128</td><td>Fort Pierce</td><td>UNITED STATES</td></tr><tr><td>2129</td><td>New Orleans</td><td>UNITED STATES</td></tr><tr><td>2130</td><td>Tyler</td><td>UNITED STATES</td></tr><tr><td>2131</td><td>Irvine</td><td>UNITED STATES</td></tr><tr><td>2132</td><td></td><td></td></tr><tr><td>2133</td><td>Fargo</td><td>UNITED STATES</td></tr><tr><td>2134</td><td>Montgomery</td><td>UNITED STATES</td></tr><tr><td>2135</td><td>Washington</td><td>UNITED STATES</td></tr><tr><td>2136</td><td>Stockton</td><td>UNITED STATES</td></tr><tr><td>2137</td><td>Sterling</td><td>UNITED STATES</td></tr><tr><td>2138</td><td></td><td></td></tr><tr><td>2139</td><td>Tyler</td><td>UNITED STATES</td></tr><tr><td>2140</td><td>Saint Augustine</td><td>UNITED STATES</td></tr><tr><td>2141</td><td>Atlanta</td><td>UNITED STATES</td></tr><tr><td>2142</td><td>Birmingham</td><td>UNITED STATES</td></tr><tr><td>2143</td><td>Dallas</td><td>UNITED STATES</td></tr><tr><td>2144</td><td></td><td></td></tr><tr><td>2145</td><td>Waco</td><td>UNITED STATES</td></tr><tr><td>2146</td><td>Delray Beach</td><td>UNITED STATES</td></tr><tr><td>2147</td><td>Toledo</td><td>UNITED STATES</td></tr><tr><td>2148</td><td>Saint Petersburg</td><td>UNITED STATES</td></tr><tr><td>2149</td><td>Racine</td><td>UNITED STATES</td></tr><tr><td>2150</td><td>Knoxville</td><td>UNITED STATES</td></tr><tr><td>2151</td><td>Washington</td><td>UNITED STATES</td></tr><tr><td>2152</td><td>Shreveport</td><td>UNITED STATES</td></tr><tr><td>2153</td><td>Philadelphia</td><td>UNITED STATES</td></tr><tr><td>2154</td><td>Englewood</td><td>UNITED STATES</td></tr><tr><td>2155</td><td>Asheville</td><td>UNITED STATES</td></tr><tr><td>2156</td><td>San Francisco</td><td>UNITED STATES</td></tr><tr><td>2157</td><td></td><td></td></tr><tr><td>2158</td><td>Provo</td><td>UNITED STATES</td></tr><tr><td>2159</td><td>Charlotte</td><td>UNITED STATES</td></tr><tr><td>2160</td><td>Baton Rouge</td><td>UNITED STATES</td></tr><tr><td>2161</td><td>New Orleans</td><td>UNITED STATES</td></tr><tr><td>2162</td><td>Denver</td><td>UNITED STATES</td></tr><tr><td>2163</td><td>San Antonio</td><td>UNITED STATES</td></tr><tr><td>2164</td><td>El Paso</td><td>UNITED STATES</td></tr><tr><td>2165</td><td>Wilkes Barre</td><td>UNITED STATES</td></tr><tr><td>2166</td><td>Nashville</td><td>UNITED STATES</td></tr><tr><td>2167</td><td>Chicago</td><td>UNITED STATES</td></tr><tr><td>2168</td><td>Kansas City</td><td>UNITED STATES</td></tr><tr><td>2169</td><td>Rochester</td><td>UNITED STATES</td></tr><tr><td>2170</td><td>Dallas</td><td>UNITED STATES</td></tr><tr><td>2171</td><td>Tucson</td><td>UNITED STATES</td></tr><tr><td>2172</td><td>Springfield</td><td>UNITED STATES</td></tr><tr><td>2173</td><td>Madison</td><td>UNITED STATES</td></tr><tr><td>2174</td><td>Racine</td><td>UNITED STATES</td></tr><tr><td>2175</td><td>Louisville</td><td>UNITED STATES</td></tr><tr><td>2176</td><td>Van Nuys</td><td>UNITED STATES</td></tr><tr><td>2177</td><td>Atlanta</td><td>UNITED STATES</td></tr><tr><td>2178</td><td>Cincinnati</td><td>UNITED STATES</td></tr><tr><td>2179</td><td>Washington</td><td>UNITED STATES</td></tr><tr><td>2180</td><td>El Paso</td><td>UNITED STATES</td></tr><tr><td>2181</td><td>Norfolk</td><td>UNITED STATES</td></tr><tr><td>2182</td><td>El Paso</td><td>UNITED STATES</td></tr><tr><td>2183</td><td>Montgomery</td><td>UNITED STATES</td></tr><tr><td>2184</td><td>Dallas</td><td>UNITED STATES</td></tr><tr><td>2185</td><td>Memphis</td><td>UNITED STATES</td></tr><tr><td>2186</td><td>Glendale</td><td>UNITED STATES</td></tr><tr><td>2187</td><td>Dallas</td><td>UNITED STATES</td></tr><tr><td>2188</td><td>Indianapolis</td><td>UNITED STATES</td></tr><tr><td>2189</td><td>Wootton</td><td>UNITED KINGDOM</td></tr><tr><td>2190</td><td>R S</td><td>INDIA</td></tr><tr><td>2191</td><td>Minneapolis</td><td>UNITED STATES</td></tr><tr><td>2192</td><td>Pensacola</td><td>UNITED STATES</td></tr><tr><td>2193</td><td>Milwaukee</td><td>UNITED STATES</td></tr><tr><td>2194</td><td>Chicago</td><td>UNITED STATES</td></tr><tr><td>2195</td><td>Charlotte</td><td>UNITED STATES</td></tr><tr><td>2196</td><td>Aurora</td><td>UNITED STATES</td></tr><tr><td>2197</td><td>Seattle</td><td>UNITED STATES</td></tr><tr><td>2198</td><td>Raleigh</td><td>UNITED STATES</td></tr><tr><td>2199</td><td>Austin</td><td>UNITED STATES</td></tr><tr><td>2200</td><td>Schaumburg</td><td>UNITED STATES</td></tr><tr><td>2201</td><td>Newport News</td><td>UNITED STATES</td></tr><tr><td>2202</td><td>Clearwater</td><td>UNITED STATES</td></tr><tr><td>2203</td><td>San Diego</td><td>UNITED STATES</td></tr><tr><td>2204</td><td>El Paso</td><td>UNITED STATES</td></tr><tr><td>2205</td><td>Birmingham</td><td>UNITED STATES</td></tr><tr><td>2206</td><td>New Orleans</td><td>UNITED STATES</td></tr><tr><td>2207</td><td>Seminole</td><td>UNITED STATES</td></tr><tr><td>2208</td><td>Cumming</td><td>UNITED STATES</td></tr><tr><td>2209</td><td>Sacramento</td><td>UNITED STATES</td></tr><tr><td>2210</td><td>Normanton</td><td>UNITED KINGDOM</td></tr><tr><td>2211</td><td>Aurora</td><td>UNITED STATES</td></tr><tr><td>2212</td><td>Mobile</td><td>UNITED STATES</td></tr><tr><td>2213</td><td>Hartford</td><td>UNITED STATES</td></tr><tr><td>2214</td><td>Toledo</td><td>UNITED STATES</td></tr><tr><td>2215</td><td>Lansing</td><td>UNITED STATES</td></tr><tr><td>2216</td><td>Shawnee Mission</td><td>UNITED STATES</td></tr><tr><td>2217</td><td>Richmond</td><td>UNITED STATES</td></tr><tr><td>2218</td><td>Detroit</td><td>UNITED STATES</td></tr><tr><td>2219</td><td>Lexington</td><td>UNITED STATES</td></tr><tr><td>2220</td><td>Atlanta</td><td>UNITED STATES</td></tr><tr><td>2221</td><td>Albuquerque</td><td>UNITED STATES</td></tr><tr><td>2222</td><td>Tyler</td><td>UNITED STATES</td></tr><tr><td>2223</td><td></td><td></td></tr><tr><td>2224</td><td>Washington</td><td>UNITED STATES</td></tr><tr><td>2225</td><td>Tulsa</td><td>UNITED STATES</td></tr><tr><td>2226</td><td>Norfolk</td><td>UNITED STATES</td></tr><tr><td>2227</td><td>Agraharam</td><td>INDIA</td></tr><tr><td>2228</td><td>Little Rock</td><td>UNITED STATES</td></tr><tr><td>2229</td><td>Pompano Beach</td><td>UNITED STATES</td></tr><tr><td>2230</td><td>Simi Valley</td><td>UNITED STATES</td></tr><tr><td>2231</td><td>Oklahoma City</td><td>UNITED STATES</td></tr><tr><td>2232</td><td>Upton</td><td>UNITED KINGDOM</td></tr><tr><td>2233</td><td>Belfast</td><td>UNITED KINGDOM</td></tr><tr><td>2234</td><td>Cleveland</td><td>UNITED STATES</td></tr><tr><td>2235</td><td>Nashville</td><td>UNITED STATES</td></tr><tr><td>2236</td><td>Odessa</td><td>UNITED STATES</td></tr><tr><td>2237</td><td>San Rafael</td><td>UNITED STATES</td></tr><tr><td>2238</td><td>Saint Louis</td><td>UNITED STATES</td></tr><tr><td>2239</td><td>Minneapolis</td><td>UNITED STATES</td></tr><tr><td>2240</td><td>Jamaica</td><td>UNITED STATES</td></tr><tr><td>2241</td><td>Shreveport</td><td>UNITED STATES</td></tr><tr><td>2242</td><td>Sutton</td><td>UNITED KINGDOM</td></tr><tr><td>2243</td><td></td><td></td></tr><tr><td>2244</td><td>Virginia Beach</td><td>UNITED STATES</td></tr><tr><td>2245</td><td>Beaufort</td><td>UNITED STATES</td></tr><tr><td>2246</td><td>Peoria</td><td>UNITED STATES</td></tr><tr><td>2247</td><td>New York City</td><td>UNITED STATES</td></tr><tr><td>2248</td><td>San Diego</td><td>UNITED STATES</td></tr><tr><td>2249</td><td>West Hartford</td><td>UNITED STATES</td></tr><tr><td>2250</td><td>Houston</td><td>UNITED STATES</td></tr><tr><td>2251</td><td>Albany</td><td>UNITED STATES</td></tr><tr><td>2252</td><td>Peoria</td><td>UNITED STATES</td></tr><tr><td>2253</td><td>Tucson</td><td>UNITED STATES</td></tr><tr><td>2254</td><td>Mesa</td><td>UNITED STATES</td></tr><tr><td>2255</td><td>Norfolk</td><td>UNITED STATES</td></tr><tr><td>2256</td><td></td><td></td></tr><tr><td>2257</td><td>Alhambra</td><td>UNITED STATES</td></tr><tr><td>2258</td><td>Seattle</td><td>UNITED STATES</td></tr><tr><td>2259</td><td>New York City</td><td>UNITED STATES</td></tr><tr><td>2260</td><td>Jamaica</td><td>UNITED STATES</td></tr><tr><td>2261</td><td>Louisville</td><td>UNITED STATES</td></tr><tr><td>2262</td><td></td><td></td></tr><tr><td>2263</td><td>Winston Salem</td><td>UNITED STATES</td></tr><tr><td>2264</td><td>Grand Rapids</td><td>UNITED STATES</td></tr><tr><td>2265</td><td>Muskegon</td><td>UNITED STATES</td></tr><tr><td>2266</td><td>Wilmington</td><td>UNITED STATES</td></tr><tr><td>2267</td><td>Salt Lake City</td><td>UNITED STATES</td></tr><tr><td>2268</td><td>East End</td><td>UNITED KINGDOM</td></tr><tr><td>2269</td><td>Knoxville</td><td>UNITED STATES</td></tr><tr><td>2270</td><td>Las Vegas</td><td>UNITED STATES</td></tr><tr><td>2271</td><td>Columbus</td><td>UNITED STATES</td></tr><tr><td>2272</td><td>Melbourne</td><td>UNITED STATES</td></tr><tr><td>2273</td><td>Oklahoma City</td><td>UNITED STATES</td></tr><tr><td>2274</td><td>Bloomington</td><td>UNITED STATES</td></tr><tr><td>2275</td><td>Phoenix</td><td>UNITED STATES</td></tr><tr><td>2276</td><td>San Diego</td><td>UNITED STATES</td></tr><tr><td>2277</td><td>Bethlehem</td><td>UNITED STATES</td></tr><tr><td>2278</td><td>Washington</td><td>UNITED STATES</td></tr><tr><td>2279</td><td>Jacksonville</td><td>UNITED STATES</td></tr><tr><td>2280</td><td>Midland</td><td>UNITED STATES</td></tr><tr><td>2281</td><td></td><td></td></tr><tr><td>2282</td><td>Orlando</td><td>UNITED STATES</td></tr><tr><td>2283</td><td>Alexandria</td><td>UNITED STATES</td></tr><tr><td>2284</td><td>London</td><td>UNITED KINGDOM</td></tr><tr><td>2285</td><td>Spring</td><td>UNITED STATES</td></tr><tr><td>2286</td><td>San Francisco</td><td>UNITED STATES</td></tr><tr><td>2287</td><td>Fort Smith</td><td>UNITED STATES</td></tr><tr><td>2288</td><td>Chicago</td><td>UNITED STATES</td></tr><tr><td>2289</td><td>Tacoma</td><td>UNITED STATES</td></tr><tr><td>2290</td><td>El Paso</td><td>UNITED STATES</td></tr><tr><td>2291</td><td>Lafayette</td><td>UNITED STATES</td></tr><tr><td>2292</td><td>Washington</td><td>UNITED STATES</td></tr><tr><td>2293</td><td>San Jose</td><td>UNITED STATES</td></tr><tr><td>2294</td><td>Houston</td><td>UNITED STATES</td></tr><tr><td>2295</td><td>Upton</td><td>UNITED KINGDOM</td></tr><tr><td>2296</td><td>Des Moines</td><td>UNITED STATES</td></tr><tr><td>2297</td><td>Saginaw</td><td>UNITED STATES</td></tr><tr><td>2298</td><td>Reno</td><td>UNITED STATES</td></tr><tr><td>2299</td><td>Gainesville</td><td>UNITED STATES</td></tr><tr><td>2300</td><td>Wichita</td><td>UNITED STATES</td></tr><tr><td>2301</td><td>Springfield</td><td>UNITED STATES</td></tr><tr><td>2302</td><td>Rochester</td><td>UNITED STATES</td></tr><tr><td>2303</td><td>Jacksonville</td><td>UNITED STATES</td></tr><tr><td>2304</td><td>Greensboro</td><td>UNITED STATES</td></tr><tr><td>2305</td><td>Dallas</td><td>UNITED STATES</td></tr><tr><td>2306</td><td>Huntington</td><td>UNITED STATES</td></tr><tr><td>2307</td><td>San Francisco</td><td>UNITED STATES</td></tr><tr><td>2308</td><td>Iowa City</td><td>UNITED STATES</td></tr><tr><td>2309</td><td>Des Moines</td><td>UNITED STATES</td></tr><tr><td>2310</td><td>Cincinnati</td><td>UNITED STATES</td></tr><tr><td>2311</td><td>Pittsburgh</td><td>UNITED STATES</td></tr><tr><td>2312</td><td>Knoxville</td><td>UNITED STATES</td></tr><tr><td>2313</td><td>Birmingham</td><td>UNITED KINGDOM</td></tr><tr><td>2314</td><td>Roanoke</td><td>UNITED STATES</td></tr><tr><td>2315</td><td>Salt Lake City</td><td>UNITED STATES</td></tr><tr><td>2316</td><td>Schaumburg</td><td>UNITED STATES</td></tr><tr><td>2317</td><td>Reading</td><td>UNITED STATES</td></tr><tr><td>2318</td><td>Wilkes Barre</td><td>UNITED STATES</td></tr><tr><td>2319</td><td>Charlotte</td><td>UNITED STATES</td></tr><tr><td>2320</td><td>Craigavon</td><td>UNITED KINGDOM</td></tr><tr><td>2321</td><td>Fresno</td><td>UNITED STATES</td></tr><tr><td>2322</td><td>Brooklyn</td><td>UNITED STATES</td></tr><tr><td>2323</td><td>Amarillo</td><td>UNITED STATES</td></tr><tr><td>2324</td><td>Saint Louis</td><td>UNITED STATES</td></tr><tr><td>2325</td><td>Newark</td><td>UNITED STATES</td></tr><tr><td>2326</td><td>Philadelphia</td><td>UNITED STATES</td></tr><tr><td>2327</td><td>Cedar Rapids</td><td>UNITED STATES</td></tr><tr><td>2328</td><td>Minneapolis</td><td>UNITED STATES</td></tr><tr><td>2329</td><td>Virginia Beach</td><td>UNITED STATES</td></tr><tr><td>2330</td><td>Odessa</td><td>UNITED STATES</td></tr><tr><td>2331</td><td>Baton Rouge</td><td>UNITED STATES</td></tr><tr><td>2332</td><td>Fort Wayne</td><td>UNITED STATES</td></tr><tr><td>2333</td><td>Miami</td><td>UNITED STATES</td></tr><tr><td>2334</td><td>San Diego</td><td>UNITED STATES</td></tr><tr><td>2335</td><td>Raleigh</td><td>UNITED STATES</td></tr><tr><td>2336</td><td>Hartford</td><td>UNITED STATES</td></tr><tr><td>2337</td><td>Waco</td><td>UNITED STATES</td></tr><tr><td>2338</td><td>Washington</td><td>UNITED STATES</td></tr><tr><td>2339</td><td>Kansas City</td><td>UNITED STATES</td></tr><tr><td>2340</td><td>Sacramento</td><td>UNITED STATES</td></tr><tr><td>2341</td><td>Arlington</td><td>UNITED STATES</td></tr><tr><td>2342</td><td>Madison</td><td>UNITED STATES</td></tr><tr><td>2343</td><td>Murfreesboro</td><td>UNITED STATES</td></tr><tr><td>2344</td><td>Philadelphia</td><td>UNITED STATES</td></tr><tr><td>2345</td><td>Los Angeles</td><td>UNITED STATES</td></tr><tr><td>2346</td><td>Baltimore</td><td>UNITED STATES</td></tr><tr><td>2347</td><td>Farmington</td><td>UNITED STATES</td></tr><tr><td>2348</td><td>Hartford</td><td>UNITED STATES</td></tr><tr><td>2349</td><td>Dallas</td><td>UNITED STATES</td></tr><tr><td>2350</td><td>Fort Lauderdale</td><td>UNITED STATES</td></tr><tr><td>2351</td><td>Dallas</td><td>UNITED STATES</td></tr><tr><td>2352</td><td>Omaha</td><td>UNITED STATES</td></tr><tr><td>2353</td><td>Pasadena</td><td>UNITED STATES</td></tr><tr><td>2354</td><td>Amarillo</td><td>UNITED STATES</td></tr><tr><td>2355</td><td>Philadelphia</td><td>UNITED STATES</td></tr><tr><td>2356</td><td>Huntsville</td><td>UNITED STATES</td></tr><tr><td>2357</td><td>Portland</td><td>UNITED STATES</td></tr><tr><td>2358</td><td>Middleton</td><td>UNITED KINGDOM</td></tr><tr><td>2359</td><td>Jamaica</td><td>UNITED STATES</td></tr><tr><td>2360</td><td>San Antonio</td><td>UNITED STATES</td></tr><tr><td>2361</td><td>Hartford</td><td>UNITED STATES</td></tr><tr><td>2362</td><td>Omaha</td><td>UNITED STATES</td></tr><tr><td>2363</td><td>Torrance</td><td>UNITED STATES</td></tr><tr><td>2364</td><td>Jacksonville</td><td>UNITED STATES</td></tr><tr><td>2365</td><td>Tulsa</td><td>UNITED STATES</td></tr><tr><td>2366</td><td>Vienna</td><td>UNITED STATES</td></tr><tr><td>2367</td><td>Brampton</td><td>UNITED KINGDOM</td></tr><tr><td>2368</td><td>Delray Beach</td><td>UNITED STATES</td></tr><tr><td>2369</td><td>Grand Rapids</td><td>UNITED STATES</td></tr><tr><td>2370</td><td>New York City</td><td>UNITED STATES</td></tr><tr><td>2371</td><td>Toledo</td><td>UNITED STATES</td></tr><tr><td>2372</td><td>Milton</td><td>UNITED KINGDOM</td></tr><tr><td>2373</td><td>Montgomery</td><td>UNITED STATES</td></tr><tr><td>2374</td><td>Jackson</td><td>UNITED STATES</td></tr><tr><td>2375</td><td>Middleton</td><td>UNITED KINGDOM</td></tr><tr><td>2376</td><td>Louisville</td><td>UNITED STATES</td></tr><tr><td>2377</td><td></td><td></td></tr><tr><td>2378</td><td>Oklahoma City</td><td>UNITED STATES</td></tr><tr><td>2379</td><td>Boca Raton</td><td>UNITED STATES</td></tr><tr><td>2380</td><td>Vienna</td><td>UNITED STATES</td></tr><tr><td>2381</td><td>Nashville</td><td>UNITED STATES</td></tr><tr><td>2382</td><td>Waco</td><td>UNITED STATES</td></tr><tr><td>2383</td><td>Columbus</td><td>UNITED STATES</td></tr><tr><td>2384</td><td>Hampton</td><td>UNITED STATES</td></tr><tr><td>2385</td><td>Orlando</td><td>UNITED STATES</td></tr><tr><td>2386</td><td>Asheville</td><td>UNITED STATES</td></tr><tr><td>2387</td><td>Virginia Beach</td><td>UNITED STATES</td></tr><tr><td>2388</td><td>Des Moines</td><td>UNITED STATES</td></tr><tr><td>2389</td><td>Denver</td><td>UNITED STATES</td></tr><tr><td>2390</td><td>Dulles</td><td>UNITED STATES</td></tr><tr><td>2391</td><td>Mesa</td><td>UNITED STATES</td></tr><tr><td>2392</td><td>Aberdeen</td><td>UNITED KINGDOM</td></tr><tr><td>2393</td><td>Charleston</td><td>UNITED STATES</td></tr><tr><td>2394</td><td>Swindon</td><td>UNITED KINGDOM</td></tr><tr><td>2395</td><td>London</td><td>UNITED KINGDOM</td></tr><tr><td>2396</td><td>San Diego</td><td>UNITED STATES</td></tr><tr><td>2397</td><td>Lansing</td><td>UNITED STATES</td></tr><tr><td>2398</td><td>Sioux City</td><td>UNITED STATES</td></tr><tr><td>2399</td><td>Chico</td><td>UNITED STATES</td></tr><tr><td>2400</td><td>Santa Fe</td><td>UNITED STATES</td></tr><tr><td>2401</td><td>Washington</td><td>UNITED STATES</td></tr><tr><td>2402</td><td>Bakersfield</td><td>UNITED STATES</td></tr><tr><td>2403</td><td>Reston</td><td>UNITED STATES</td></tr><tr><td>2404</td><td>Hartford</td><td>UNITED STATES</td></tr><tr><td>2405</td><td>Maple Plain</td><td>UNITED STATES</td></tr><tr><td>2406</td><td>Stockton</td><td>UNITED STATES</td></tr><tr><td>2407</td><td>Anaheim</td><td>UNITED STATES</td></tr><tr><td>2408</td><td>Roanoke</td><td>UNITED STATES</td></tr><tr><td>2409</td><td>Lancaster</td><td>UNITED STATES</td></tr><tr><td>2410</td><td>Saint Louis</td><td>UNITED STATES</td></tr><tr><td>2411</td><td>Pasadena</td><td>UNITED STATES</td></tr><tr><td>2412</td><td>Vienna</td><td>UNITED STATES</td></tr><tr><td>2413</td><td>Mobile</td><td>UNITED STATES</td></tr><tr><td>2414</td><td>Dallas</td><td>UNITED STATES</td></tr><tr><td>2415</td><td>San Francisco</td><td>UNITED STATES</td></tr><tr><td>2416</td><td>Lansing</td><td>UNITED STATES</td></tr><tr><td>2417</td><td>Stapleford</td><td>UNITED KINGDOM</td></tr><tr><td>2418</td><td>Rochester</td><td>UNITED STATES</td></tr><tr><td>2419</td><td>Middleton</td><td>UNITED KINGDOM</td></tr><tr><td>2420</td><td>Lincoln</td><td>UNITED STATES</td></tr><tr><td>2421</td><td>Atlanta</td><td>UNITED STATES</td></tr><tr><td>2422</td><td>Peoria</td><td>UNITED STATES</td></tr><tr><td>2423</td><td>Sacramento</td><td>UNITED STATES</td></tr><tr><td>2424</td><td>Newport News</td><td>UNITED STATES</td></tr><tr><td>2425</td><td>Savannah</td><td>UNITED STATES</td></tr><tr><td>2426</td><td>Charlotte</td><td>UNITED STATES</td></tr><tr><td>2427</td><td>Whittier</td><td>UNITED STATES</td></tr><tr><td>2428</td><td>Hamilton</td><td>UNITED STATES</td></tr><tr><td>2429</td><td>Huntsville</td><td>UNITED STATES</td></tr><tr><td>2430</td><td>Dallas</td><td>UNITED STATES</td></tr><tr><td>2431</td><td></td><td></td></tr><tr><td>2432</td><td>Colorado Springs</td><td>UNITED STATES</td></tr><tr><td>2433</td><td>Tulsa</td><td>UNITED STATES</td></tr><tr><td>2434</td><td>San Antonio</td><td>UNITED STATES</td></tr><tr><td>2435</td><td>Eaton</td><td>UNITED KINGDOM</td></tr><tr><td>2436</td><td>Greensboro</td><td>UNITED STATES</td></tr><tr><td>2437</td><td>Harrisburg</td><td>UNITED STATES</td></tr><tr><td>2438</td><td>Fresno</td><td>UNITED STATES</td></tr><tr><td>2439</td><td>Hartford</td><td>UNITED STATES</td></tr><tr><td>2440</td><td>Saint Paul</td><td>UNITED STATES</td></tr><tr><td>2441</td><td>Cedar Rapids</td><td>UNITED STATES</td></tr><tr><td>2442</td><td>Springfield</td><td>UNITED STATES</td></tr><tr><td>2443</td><td>Springfield</td><td>UNITED STATES</td></tr><tr><td>2444</td><td>Chicago</td><td>UNITED STATES</td></tr><tr><td>2445</td><td>Akron</td><td>UNITED STATES</td></tr><tr><td>2446</td><td>Church End</td><td>UNITED KINGDOM</td></tr><tr><td>2447</td><td>Toledo</td><td>UNITED STATES</td></tr><tr><td>2448</td><td>Burnside</td><td>UNITED KINGDOM</td></tr><tr><td>2449</td><td>Fort Wayne</td><td>UNITED STATES</td></tr><tr><td>2450</td><td>Cedar Rapids</td><td>UNITED STATES</td></tr><tr><td>2451</td><td>Arlington</td><td>UNITED STATES</td></tr><tr><td>2452</td><td>Washington</td><td>UNITED STATES</td></tr><tr><td>2453</td><td>El Paso</td><td>UNITED STATES</td></tr><tr><td>2454</td><td>Cincinnati</td><td>UNITED STATES</td></tr><tr><td>2455</td><td>Fullerton</td><td>UNITED STATES</td></tr><tr><td>2456</td><td>Los Angeles</td><td>UNITED STATES</td></tr><tr><td>2457</td><td></td><td></td></tr><tr><td>2458</td><td>Naples</td><td>UNITED STATES</td></tr><tr><td>2459</td><td>Chicago</td><td>UNITED STATES</td></tr><tr><td>2460</td><td></td><td></td></tr><tr><td>2461</td><td>Glendale</td><td>UNITED STATES</td></tr><tr><td>2462</td><td>Chicago</td><td>UNITED STATES</td></tr><tr><td>2463</td><td>Pasadena</td><td>UNITED STATES</td></tr><tr><td>2464</td><td>Santa Ana</td><td>UNITED STATES</td></tr><tr><td>2465</td><td>Sioux Falls</td><td>UNITED STATES</td></tr><tr><td>2466</td><td>Florence</td><td>UNITED STATES</td></tr><tr><td>2467</td><td></td><td></td></tr><tr><td>2468</td><td>Dallas</td><td>UNITED STATES</td></tr><tr><td>2469</td><td>Lincoln</td><td>UNITED STATES</td></tr><tr><td>2470</td><td>Evansville</td><td>UNITED STATES</td></tr><tr><td>2471</td><td>Chicago</td><td>UNITED STATES</td></tr><tr><td>2472</td><td>Boston</td><td>UNITED STATES</td></tr><tr><td>2473</td><td></td><td></td></tr><tr><td>2474</td><td>Oklahoma City</td><td>UNITED STATES</td></tr><tr><td>2475</td><td>Norfolk</td><td>UNITED STATES</td></tr><tr><td>2476</td><td>Springfield</td><td>UNITED STATES</td></tr><tr><td>2477</td><td>Shreveport</td><td>UNITED STATES</td></tr><tr><td>2478</td><td>Richmond</td><td>UNITED STATES</td></tr><tr><td>2479</td><td>Miami</td><td>UNITED STATES</td></tr><tr><td>2480</td><td>Fargo</td><td>UNITED STATES</td></tr><tr><td>2481</td><td>Boston</td><td>UNITED STATES</td></tr><tr><td>2482</td><td>Omaha</td><td>UNITED STATES</td></tr><tr><td>2483</td><td></td><td></td></tr><tr><td>2484</td><td>Las Vegas</td><td>UNITED STATES</td></tr><tr><td>2485</td><td>Springfield</td><td>UNITED STATES</td></tr><tr><td>2486</td><td>Anchorage</td><td>UNITED STATES</td></tr><tr><td>2487</td><td>Washington</td><td>UNITED STATES</td></tr><tr><td>2488</td><td>Great Neck</td><td>UNITED STATES</td></tr><tr><td>2489</td><td>Lafayette</td><td>UNITED STATES</td></tr><tr><td>2490</td><td>Young America</td><td>UNITED STATES</td></tr><tr><td>2491</td><td>Santa Rosa</td><td>UNITED STATES</td></tr><tr><td>2492</td><td>Pensacola</td><td>UNITED STATES</td></tr><tr><td>2493</td><td>Beaumont</td><td>UNITED STATES</td></tr><tr><td>2494</td><td>Olympia</td><td>UNITED STATES</td></tr><tr><td>2495</td><td></td><td></td></tr><tr><td>2496</td><td>Springfield</td><td>UNITED STATES</td></tr><tr><td>2497</td><td>Des Moines</td><td>UNITED STATES</td></tr><tr><td>2498</td><td>Atlanta</td><td>UNITED STATES</td></tr><tr><td>2499</td><td>Saint Louis</td><td>UNITED STATES</td></tr><tr><td>2500</td><td>Albuquerque</td><td>UNITED STATES</td></tr><tr><td>2501</td><td>Sunnyvale</td><td>UNITED STATES</td></tr><tr><td>2502</td><td></td><td></td></tr><tr><td>2503</td><td>Albuquerque</td><td>UNITED STATES</td></tr><tr><td>2504</td><td>Roanoke</td><td>UNITED STATES</td></tr><tr><td>2505</td><td>Salt Lake City</td><td>UNITED STATES</td></tr><tr><td>2506</td><td>Trenton</td><td>UNITED STATES</td></tr><tr><td>2507</td><td>El Paso</td><td>UNITED STATES</td></tr><tr><td>2508</td><td>San Antonio</td><td>UNITED STATES</td></tr><tr><td>2509</td><td>North Little Rock</td><td>UNITED STATES</td></tr><tr><td>2510</td><td>Sacramento</td><td>UNITED STATES</td></tr><tr><td>2511</td><td>Phoenix</td><td>UNITED STATES</td></tr><tr><td>2512</td><td>Rockford</td><td>UNITED STATES</td></tr><tr><td>2513</td><td>Amarillo</td><td>UNITED STATES</td></tr><tr><td>2514</td><td>Shreveport</td><td>UNITED STATES</td></tr><tr><td>2515</td><td>Washington</td><td>UNITED STATES</td></tr><tr><td>2516</td><td>Tucson</td><td>UNITED STATES</td></tr><tr><td>2517</td><td>Los Angeles</td><td>UNITED STATES</td></tr><tr><td>2518</td><td>Little Rock</td><td>UNITED STATES</td></tr><tr><td>2519</td><td>Warren</td><td>UNITED STATES</td></tr><tr><td>2520</td><td>Bronx</td><td>UNITED STATES</td></tr><tr><td>2521</td><td>Los Angeles</td><td>UNITED STATES</td></tr><tr><td>2522</td><td>Reno</td><td>UNITED STATES</td></tr><tr><td>2523</td><td>Tempe</td><td>UNITED STATES</td></tr><tr><td>2524</td><td>Shawnee Mission</td><td>UNITED STATES</td></tr><tr><td>2525</td><td>Lafayette</td><td>UNITED STATES</td></tr><tr><td>2526</td><td>Fort Worth</td><td>UNITED STATES</td></tr><tr><td>2527</td><td>Reston</td><td>UNITED STATES</td></tr><tr><td>2528</td><td>Denton</td><td>UNITED STATES</td></tr><tr><td>2529</td><td>Roanoke</td><td>UNITED STATES</td></tr><tr><td>2530</td><td>Asheville</td><td>UNITED STATES</td></tr><tr><td>2531</td><td>Naples</td><td>UNITED STATES</td></tr><tr><td>2532</td><td>Fresno</td><td>UNITED STATES</td></tr><tr><td>2533</td><td>Washington</td><td>UNITED STATES</td></tr><tr><td>2534</td><td>Beaverton</td><td>UNITED STATES</td></tr><tr><td>2535</td><td>Erie</td><td>UNITED STATES</td></tr><tr><td>2536</td><td>Reading</td><td>UNITED STATES</td></tr><tr><td>2537</td><td>Sacramento</td><td>UNITED STATES</td></tr><tr><td>2538</td><td>Louisville</td><td>UNITED STATES</td></tr><tr><td>2539</td><td>Waco</td><td>UNITED STATES</td></tr><tr><td>2540</td><td>Tacoma</td><td>UNITED STATES</td></tr><tr><td>2541</td><td>Nashville</td><td>UNITED STATES</td></tr><tr><td>2542</td><td>New Orleans</td><td>UNITED STATES</td></tr><tr><td>2543</td><td>Jamaica</td><td>UNITED STATES</td></tr><tr><td>2544</td><td>Greensboro</td><td>UNITED STATES</td></tr><tr><td>2545</td><td>Raleigh</td><td>UNITED STATES</td></tr><tr><td>2546</td><td>Richmond</td><td>UNITED STATES</td></tr><tr><td>2547</td><td>Denver</td><td>UNITED STATES</td></tr><tr><td>2548</td><td>Buffalo</td><td>UNITED STATES</td></tr><tr><td>2549</td><td>Charlotte</td><td>UNITED STATES</td></tr><tr><td>2550</td><td>East End</td><td>UNITED KINGDOM</td></tr><tr><td>2551</td><td>Miami</td><td>UNITED STATES</td></tr><tr><td>2552</td><td>Ashley</td><td>UNITED KINGDOM</td></tr><tr><td>2553</td><td>Arlington</td><td>UNITED STATES</td></tr><tr><td>2554</td><td>Des Moines</td><td>UNITED STATES</td></tr><tr><td>2555</td><td>Oakland</td><td>UNITED STATES</td></tr><tr><td>2556</td><td>Erie</td><td>UNITED STATES</td></tr><tr><td>2557</td><td>El Paso</td><td>UNITED STATES</td></tr><tr><td>2558</td><td>Colorado Springs</td><td>UNITED STATES</td></tr><tr><td>2559</td><td>Las Vegas</td><td>UNITED STATES</td></tr><tr><td>2560</td><td>Omaha</td><td>UNITED STATES</td></tr><tr><td>2561</td><td>Houston</td><td>UNITED STATES</td></tr><tr><td>2562</td><td>Fairbanks</td><td>UNITED STATES</td></tr><tr><td>2563</td><td>Annapolis</td><td>UNITED STATES</td></tr><tr><td>2564</td><td>Columbus</td><td>UNITED STATES</td></tr><tr><td>2565</td><td>Washington</td><td>UNITED STATES</td></tr><tr><td>2566</td><td>Syracuse</td><td>UNITED STATES</td></tr><tr><td>2567</td><td></td><td></td></tr><tr><td>2568</td><td>Charlotte</td><td>UNITED STATES</td></tr><tr><td>2569</td><td>Weston</td><td>UNITED KINGDOM</td></tr><tr><td>2570</td><td>Charlotte</td><td>UNITED STATES</td></tr><tr><td>2571</td><td>Huntington</td><td>UNITED STATES</td></tr><tr><td>2572</td><td>Albany</td><td>UNITED STATES</td></tr><tr><td>2573</td><td>Atlanta</td><td>UNITED STATES</td></tr><tr><td>2574</td><td>Cincinnati</td><td>UNITED STATES</td></tr><tr><td>2575</td><td></td><td></td></tr><tr><td>2576</td><td>Shreveport</td><td>UNITED STATES</td></tr><tr><td>2577</td><td>Detroit</td><td>UNITED STATES</td></tr><tr><td>2578</td><td>New York City</td><td>UNITED STATES</td></tr><tr><td>2579</td><td>El Paso</td><td>UNITED STATES</td></tr><tr><td>2580</td><td>Buffalo</td><td>UNITED STATES</td></tr><tr><td>2581</td><td>Biloxi</td><td>UNITED STATES</td></tr><tr><td>2582</td><td>Lancaster</td><td>UNITED STATES</td></tr><tr><td>2583</td><td>Phoenix</td><td>UNITED STATES</td></tr><tr><td>2584</td><td>Louisville</td><td>UNITED STATES</td></tr><tr><td>2585</td><td>Port Washington</td><td>UNITED STATES</td></tr><tr><td>2586</td><td>Washington</td><td>UNITED STATES</td></tr><tr><td>2587</td><td>Vienna</td><td>UNITED STATES</td></tr><tr><td>2588</td><td>Lubbock</td><td>UNITED STATES</td></tr><tr><td>2589</td><td>Lansing</td><td>UNITED STATES</td></tr><tr><td>2590</td><td>Montgomery</td><td>UNITED STATES</td></tr><tr><td>2591</td><td>New York City</td><td>UNITED STATES</td></tr><tr><td>2592</td><td>Harrisburg</td><td>UNITED STATES</td></tr><tr><td>2593</td><td></td><td></td></tr><tr><td>2594</td><td>Tallahassee</td><td>UNITED STATES</td></tr><tr><td>2595</td><td>Glasgow</td><td>UNITED KINGDOM</td></tr><tr><td>2596</td><td>Miami</td><td>UNITED STATES</td></tr><tr><td>2597</td><td>Macon</td><td>UNITED STATES</td></tr><tr><td>2598</td><td>Erie</td><td>UNITED STATES</td></tr><tr><td>2599</td><td>El Paso</td><td>UNITED STATES</td></tr><tr><td>2600</td><td>Harrisburg</td><td>UNITED STATES</td></tr><tr><td>2601</td><td>Clearwater</td><td>UNITED STATES</td></tr><tr><td>2602</td><td>Aston</td><td>UNITED KINGDOM</td></tr><tr><td>2603</td><td>Baton Rouge</td><td>UNITED STATES</td></tr><tr><td>2604</td><td>Zephyrhills</td><td>UNITED STATES</td></tr><tr><td>2605</td><td>Lansing</td><td>UNITED STATES</td></tr><tr><td>2606</td><td>Omaha</td><td>UNITED STATES</td></tr><tr><td>2607</td><td>Washington</td><td>UNITED STATES</td></tr><tr><td>2608</td><td>Knoxville</td><td>UNITED STATES</td></tr><tr><td>2609</td><td>Dallas</td><td>UNITED STATES</td></tr><tr><td>2610</td><td>Lees Summit</td><td>UNITED STATES</td></tr><tr><td>2611</td><td>Odessa</td><td>UNITED STATES</td></tr><tr><td>2612</td><td>Pasadena</td><td>UNITED STATES</td></tr><tr><td>2613</td><td>Preston</td><td>UNITED KINGDOM</td></tr><tr><td>2614</td><td>Sheffield</td><td>UNITED KINGDOM</td></tr><tr><td>2615</td><td>Los Angeles</td><td>UNITED STATES</td></tr><tr><td>2616</td><td>Little Rock</td><td>UNITED STATES</td></tr><tr><td>2617</td><td>Harrisburg</td><td>UNITED STATES</td></tr><tr><td>2618</td><td>Horton</td><td>UNITED KINGDOM</td></tr><tr><td>2619</td><td>Shawnee Mission</td><td>UNITED STATES</td></tr><tr><td>2620</td><td>Atlanta</td><td>UNITED STATES</td></tr><tr><td>2621</td><td>Sacramento</td><td>UNITED STATES</td></tr><tr><td>2622</td><td>Saint Louis</td><td>UNITED STATES</td></tr><tr><td>2623</td><td>Cleveland</td><td>UNITED STATES</td></tr><tr><td>2624</td><td>Newton</td><td>UNITED STATES</td></tr><tr><td>2625</td><td></td><td></td></tr><tr><td>2626</td><td>Austin</td><td>UNITED STATES</td></tr><tr><td>2627</td><td>San Diego</td><td>UNITED STATES</td></tr><tr><td>2628</td><td>El Paso</td><td>UNITED STATES</td></tr><tr><td>2629</td><td>Denton</td><td>UNITED STATES</td></tr><tr><td>2630</td><td></td><td></td></tr><tr><td>2631</td><td>Yonkers</td><td>UNITED STATES</td></tr><tr><td>2632</td><td>Chattanooga</td><td>UNITED STATES</td></tr><tr><td>2633</td><td>Aston</td><td>UNITED KINGDOM</td></tr><tr><td>2634</td><td>Dayton</td><td>UNITED STATES</td></tr><tr><td>2635</td><td>Sacramento</td><td>UNITED STATES</td></tr><tr><td>2636</td><td>Duluth</td><td>UNITED STATES</td></tr><tr><td>2637</td><td>Allentown</td><td>UNITED STATES</td></tr><tr><td>2638</td><td>Norfolk</td><td>UNITED STATES</td></tr><tr><td>2639</td><td>Honolulu</td><td>UNITED STATES</td></tr><tr><td>2640</td><td>Macon</td><td>UNITED STATES</td></tr><tr><td>2641</td><td>Shawnee Mission</td><td>UNITED STATES</td></tr><tr><td>2642</td><td>San Diego</td><td>UNITED STATES</td></tr><tr><td>2643</td><td></td><td></td></tr><tr><td>2644</td><td>Atlanta</td><td>UNITED STATES</td></tr><tr><td>2645</td><td>Peoria</td><td>UNITED STATES</td></tr><tr><td>2646</td><td>Chattanooga</td><td>UNITED STATES</td></tr><tr><td>2647</td><td>Asheville</td><td>UNITED STATES</td></tr><tr><td>2648</td><td>Oklahoma City</td><td>UNITED STATES</td></tr><tr><td>2649</td><td>Detroit</td><td>UNITED STATES</td></tr><tr><td>2650</td><td>Buffalo</td><td>UNITED STATES</td></tr><tr><td>2651</td><td>Amarillo</td><td>UNITED STATES</td></tr><tr><td>2652</td><td>Charleston</td><td>UNITED STATES</td></tr><tr><td>2653</td><td>Evansville</td><td>UNITED STATES</td></tr><tr><td>2654</td><td>Rochester</td><td>UNITED STATES</td></tr><tr><td>2655</td><td>Philadelphia</td><td>UNITED STATES</td></tr><tr><td>2656</td><td>Lawrenceville</td><td>UNITED STATES</td></tr><tr><td>2657</td><td>Shawnee Mission</td><td>UNITED STATES</td></tr><tr><td>2658</td><td>Johnson City</td><td>UNITED STATES</td></tr><tr><td>2659</td><td>Philadelphia</td><td>UNITED STATES</td></tr><tr><td>2660</td><td>San Diego</td><td>UNITED STATES</td></tr><tr><td>2661</td><td>Vancouver</td><td>UNITED STATES</td></tr><tr><td>2662</td><td>Toledo</td><td>UNITED STATES</td></tr><tr><td>2663</td><td>Waterbury</td><td>UNITED STATES</td></tr><tr><td>2664</td><td></td><td></td></tr><tr><td>2665</td><td></td><td></td></tr><tr><td>2666</td><td>Raleigh</td><td>UNITED STATES</td></tr><tr><td>2667</td><td>Montgomery</td><td>UNITED STATES</td></tr><tr><td>2668</td><td>Jacksonville</td><td>UNITED STATES</td></tr><tr><td>2669</td><td>Columbus</td><td>UNITED STATES</td></tr><tr><td>2670</td><td>Sacramento</td><td>UNITED STATES</td></tr><tr><td>2671</td><td>Fort Wayne</td><td>UNITED STATES</td></tr><tr><td>2672</td><td>Dallas</td><td>UNITED STATES</td></tr><tr><td>2673</td><td>Chicago</td><td>UNITED STATES</td></tr><tr><td>2674</td><td>Maple Plain</td><td>UNITED STATES</td></tr><tr><td>2675</td><td>Rochester</td><td>UNITED STATES</td></tr><tr><td>2676</td><td>Pasadena</td><td>UNITED STATES</td></tr><tr><td>2677</td><td>Memphis</td><td>UNITED STATES</td></tr><tr><td>2678</td><td>Chicago</td><td>UNITED STATES</td></tr><tr><td>2679</td><td>Orlando</td><td>UNITED STATES</td></tr><tr><td>2680</td><td>Lincoln</td><td>UNITED STATES</td></tr><tr><td>2681</td><td>Shreveport</td><td>UNITED STATES</td></tr><tr><td>2682</td><td>Durham</td><td>UNITED STATES</td></tr><tr><td>2683</td><td>Peoria</td><td>UNITED STATES</td></tr><tr><td>2684</td><td>Cincinnati</td><td>UNITED STATES</td></tr><tr><td>2685</td><td>Muskegon</td><td>UNITED STATES</td></tr><tr><td>2686</td><td>Los Angeles</td><td>UNITED STATES</td></tr><tr><td>2687</td><td>San Jose</td><td>UNITED STATES</td></tr><tr><td>2688</td><td>Dallas</td><td>UNITED STATES</td></tr><tr><td>2689</td><td>Conroe</td><td>UNITED STATES</td></tr><tr><td>2690</td><td>Columbus</td><td>UNITED STATES</td></tr><tr><td>2691</td><td>Boston</td><td>UNITED STATES</td></tr><tr><td>2692</td><td>Buffalo</td><td>UNITED STATES</td></tr><tr><td>2693</td><td>Seattle</td><td>UNITED STATES</td></tr><tr><td>2694</td><td>Brooklyn</td><td>UNITED STATES</td></tr><tr><td>2695</td><td>Bronx</td><td>UNITED STATES</td></tr><tr><td>2696</td><td>Burnside</td><td>UNITED KINGDOM</td></tr><tr><td>2697</td><td>Charleston</td><td>UNITED STATES</td></tr><tr><td>2698</td><td>London</td><td>UNITED KINGDOM</td></tr><tr><td>2699</td><td></td><td></td></tr><tr><td>2700</td><td></td><td></td></tr><tr><td>2701</td><td>Staten Island</td><td>UNITED STATES</td></tr><tr><td>2702</td><td>Garden Grove</td><td>UNITED STATES</td></tr><tr><td>2703</td><td>Columbus</td><td>UNITED STATES</td></tr><tr><td>2704</td><td>Phoenix</td><td>UNITED STATES</td></tr><tr><td>2705</td><td></td><td></td></tr><tr><td>2706</td><td>New Orleans</td><td>UNITED STATES</td></tr><tr><td>2707</td><td>Richmond</td><td>UNITED STATES</td></tr><tr><td>2708</td><td>Birmingham</td><td>UNITED STATES</td></tr><tr><td>2709</td><td>Alexandria</td><td>UNITED STATES</td></tr><tr><td>2710</td><td>Tallahassee</td><td>UNITED STATES</td></tr><tr><td>2711</td><td></td><td></td></tr><tr><td>2712</td><td>Monroe</td><td>UNITED STATES</td></tr><tr><td>2713</td><td>Dallas</td><td>UNITED STATES</td></tr><tr><td>2714</td><td>Erie</td><td>UNITED STATES</td></tr><tr><td>2715</td><td>Huntsville</td><td>UNITED STATES</td></tr><tr><td>2716</td><td>London</td><td>UNITED KINGDOM</td></tr><tr><td>2717</td><td>Phoenix</td><td>UNITED STATES</td></tr><tr><td>2718</td><td>El Paso</td><td>UNITED STATES</td></tr><tr><td>2719</td><td>Huntsville</td><td>UNITED STATES</td></tr><tr><td>2720</td><td>Racine</td><td>UNITED STATES</td></tr><tr><td>2721</td><td>Baton Rouge</td><td>UNITED STATES</td></tr><tr><td>2722</td><td>Duluth</td><td>UNITED STATES</td></tr><tr><td>2723</td><td>Gainesville</td><td>UNITED STATES</td></tr><tr><td>2724</td><td>Cincinnati</td><td>UNITED STATES</td></tr><tr><td>2725</td><td>Las Vegas</td><td>UNITED STATES</td></tr><tr><td>2726</td><td></td><td></td></tr><tr><td>2727</td><td>Aberdeen</td><td>UNITED KINGDOM</td></tr><tr><td>2728</td><td>Washington</td><td>UNITED STATES</td></tr><tr><td>2729</td><td>Lancaster</td><td>UNITED STATES</td></tr><tr><td>2730</td><td></td><td></td></tr><tr><td>2731</td><td>Ogden</td><td>UNITED STATES</td></tr><tr><td>2732</td><td>Washington</td><td>UNITED STATES</td></tr><tr><td>2733</td><td>Las Vegas</td><td>UNITED STATES</td></tr><tr><td>2734</td><td>Lexington</td><td>UNITED STATES</td></tr><tr><td>2735</td><td></td><td></td></tr><tr><td>2736</td><td>Seaton</td><td>UNITED KINGDOM</td></tr><tr><td>2737</td><td>Seattle</td><td>UNITED STATES</td></tr><tr><td>2738</td><td>Seattle</td><td>UNITED STATES</td></tr><tr><td>2739</td><td>Wilmington</td><td>UNITED STATES</td></tr><tr><td>2740</td><td>Birmingham</td><td>UNITED KINGDOM</td></tr><tr><td>2741</td><td>Roanoke</td><td>UNITED STATES</td></tr><tr><td>2742</td><td>Springfield</td><td>UNITED STATES</td></tr><tr><td>2743</td><td>Seattle</td><td>UNITED STATES</td></tr><tr><td>2744</td><td>Houston</td><td>UNITED STATES</td></tr><tr><td>2745</td><td>Birmingham</td><td>UNITED STATES</td></tr><tr><td>2746</td><td>Cedar Rapids</td><td>UNITED STATES</td></tr><tr><td>2747</td><td>Young America</td><td>UNITED STATES</td></tr><tr><td>2748</td><td>Springfield</td><td>UNITED STATES</td></tr><tr><td>2749</td><td>Knoxville</td><td>UNITED STATES</td></tr><tr><td>2750</td><td>Evansville</td><td>UNITED STATES</td></tr><tr><td>2751</td><td>New York City</td><td>UNITED STATES</td></tr><tr><td>2752</td><td>Vienna</td><td>UNITED STATES</td></tr><tr><td>2753</td><td>Pittsburgh</td><td>UNITED STATES</td></tr><tr><td>2754</td><td>San Antonio</td><td>UNITED STATES</td></tr><tr><td>2755</td><td></td><td></td></tr><tr><td>2756</td><td>San Antonio</td><td>UNITED STATES</td></tr><tr><td>2757</td><td>Denver</td><td>UNITED STATES</td></tr><tr><td>2758</td><td>Nashville</td><td>UNITED STATES</td></tr><tr><td>2759</td><td>Pueblo</td><td>UNITED STATES</td></tr><tr><td>2760</td><td>Newton</td><td>UNITED STATES</td></tr><tr><td>2761</td><td>Duluth</td><td>UNITED STATES</td></tr><tr><td>2762</td><td>Garden Grove</td><td>UNITED STATES</td></tr><tr><td>2763</td><td>Jacksonville</td><td>UNITED STATES</td></tr><tr><td>2764</td><td>Lexington</td><td>UNITED STATES</td></tr><tr><td>2765</td><td>Annapolis</td><td>UNITED STATES</td></tr><tr><td>2766</td><td>Grand Forks</td><td>UNITED STATES</td></tr><tr><td>2767</td><td>Saint Petersburg</td><td>UNITED STATES</td></tr><tr><td>2768</td><td></td><td></td></tr><tr><td>2769</td><td>Pasadena</td><td>UNITED STATES</td></tr><tr><td>2770</td><td>Shreveport</td><td>UNITED STATES</td></tr><tr><td>2771</td><td>Atlanta</td><td>UNITED STATES</td></tr><tr><td>2772</td><td>Houston</td><td>UNITED STATES</td></tr><tr><td>2773</td><td>Newton</td><td>UNITED KINGDOM</td></tr><tr><td>2774</td><td>Vancouver</td><td>UNITED STATES</td></tr><tr><td>2775</td><td>Washington</td><td>UNITED STATES</td></tr><tr><td>2776</td><td>Chicago</td><td>UNITED STATES</td></tr><tr><td>2777</td><td>Memphis</td><td>UNITED STATES</td></tr><tr><td>2778</td><td>New York City</td><td>UNITED STATES</td></tr><tr><td>2779</td><td>Houston</td><td>UNITED STATES</td></tr><tr><td>2780</td><td>Newport Beach</td><td>UNITED STATES</td></tr><tr><td>2781</td><td></td><td></td></tr><tr><td>2782</td><td></td><td></td></tr><tr><td>2783</td><td>Honolulu</td><td>UNITED STATES</td></tr><tr><td>2784</td><td></td><td></td></tr><tr><td>2785</td><td>Amarillo</td><td>UNITED STATES</td></tr><tr><td>2786</td><td></td><td></td></tr><tr><td>2787</td><td></td><td></td></tr><tr><td>2788</td><td>New York City</td><td>UNITED STATES</td></tr><tr><td>2789</td><td>New York City</td><td>UNITED STATES</td></tr><tr><td>2790</td><td>Sheffield</td><td>UNITED KINGDOM</td></tr><tr><td>2791</td><td>Daytona Beach</td><td>UNITED STATES</td></tr><tr><td>2792</td><td>Washington</td><td>UNITED STATES</td></tr><tr><td>2793</td><td>San Jose</td><td>UNITED STATES</td></tr><tr><td>2794</td><td>Harrisburg</td><td>UNITED STATES</td></tr><tr><td>2795</td><td>Kirkton</td><td>UNITED KINGDOM</td></tr><tr><td>2796</td><td>Kingston</td><td>UNITED KINGDOM</td></tr><tr><td>2797</td><td>San Diego</td><td>UNITED STATES</td></tr><tr><td>2798</td><td>Saint Petersburg</td><td>UNITED STATES</td></tr><tr><td>2799</td><td>Dallas</td><td>UNITED STATES</td></tr><tr><td>2800</td><td>Atlanta</td><td>UNITED STATES</td></tr><tr><td>2801</td><td>Atlanta</td><td>UNITED STATES</td></tr><tr><td>2802</td><td>San Antonio</td><td>UNITED STATES</td></tr><tr><td>2803</td><td>Austin</td><td>UNITED STATES</td></tr><tr><td>2804</td><td>Manchester</td><td>UNITED KINGDOM</td></tr><tr><td>2805</td><td>Nashville</td><td>UNITED STATES</td></tr><tr><td>2806</td><td>Los Angeles</td><td>UNITED STATES</td></tr><tr><td>2807</td><td></td><td></td></tr><tr><td>2808</td><td>Louisville</td><td>UNITED STATES</td></tr><tr><td>2809</td><td>Beaufort</td><td>UNITED STATES</td></tr><tr><td>2810</td><td>Columbus</td><td>UNITED STATES</td></tr><tr><td>2811</td><td>Columbus</td><td>UNITED STATES</td></tr><tr><td>2812</td><td>Charleston</td><td>UNITED STATES</td></tr><tr><td>2813</td><td>Beaverton</td><td>UNITED STATES</td></tr><tr><td>2814</td><td>Portland</td><td>UNITED STATES</td></tr><tr><td>2815</td><td>Saint Louis</td><td>UNITED STATES</td></tr><tr><td>2816</td><td></td><td></td></tr><tr><td>2817</td><td>Cincinnati</td><td>UNITED STATES</td></tr><tr><td>2818</td><td>Marston</td><td>UNITED KINGDOM</td></tr><tr><td>2819</td><td>Whittier</td><td>UNITED STATES</td></tr><tr><td>2820</td><td>Brooklyn</td><td>UNITED STATES</td></tr><tr><td>2821</td><td>Saint Louis</td><td>UNITED STATES</td></tr><tr><td>2822</td><td>Nashville</td><td>UNITED STATES</td></tr><tr><td>2823</td><td>Youngstown</td><td>UNITED STATES</td></tr><tr><td>2824</td><td>Philadelphia</td><td>UNITED STATES</td></tr><tr><td>2825</td><td>Charlotte</td><td>UNITED STATES</td></tr><tr><td>2826</td><td>Columbia</td><td>UNITED STATES</td></tr><tr><td>2827</td><td>Birmingham</td><td>UNITED STATES</td></tr><tr><td>2828</td><td>Charleston</td><td>UNITED STATES</td></tr><tr><td>2829</td><td>Tacoma</td><td>UNITED STATES</td></tr><tr><td>2830</td><td></td><td></td></tr><tr><td>2831</td><td>Montgomery</td><td>UNITED STATES</td></tr><tr><td>2832</td><td>Craigavon</td><td>UNITED KINGDOM</td></tr><tr><td>2833</td><td>Fresno</td><td>UNITED STATES</td></tr><tr><td>2834</td><td>Honolulu</td><td>UNITED STATES</td></tr><tr><td>2835</td><td>Arlington</td><td>UNITED STATES</td></tr><tr><td>2836</td><td>Monroe</td><td>UNITED STATES</td></tr><tr><td>2837</td><td>Fort Worth</td><td>UNITED STATES</td></tr><tr><td>2838</td><td>Colorado Springs</td><td>UNITED STATES</td></tr><tr><td>2839</td><td>Pittsburgh</td><td>UNITED STATES</td></tr><tr><td>2840</td><td></td><td></td></tr><tr><td>2841</td><td>Jackson</td><td>UNITED STATES</td></tr><tr><td>2842</td><td>Raleigh</td><td>UNITED STATES</td></tr><tr><td>2843</td><td>Milwaukee</td><td>UNITED STATES</td></tr><tr><td>2844</td><td>El Paso</td><td>UNITED STATES</td></tr><tr><td>2845</td><td>Anchorage</td><td>UNITED STATES</td></tr><tr><td>2846</td><td>El Paso</td><td>UNITED STATES</td></tr><tr><td>2847</td><td>Asheville</td><td>UNITED STATES</td></tr><tr><td>2848</td><td>Sacramento</td><td>UNITED STATES</td></tr><tr><td>2849</td><td>Montgomery</td><td>UNITED STATES</td></tr><tr><td>2850</td><td>Palmdale</td><td>UNITED STATES</td></tr><tr><td>2851</td><td>Shreveport</td><td>UNITED STATES</td></tr><tr><td>2852</td><td>Fort Myers</td><td>UNITED STATES</td></tr><tr><td>2853</td><td>Houston</td><td>UNITED STATES</td></tr><tr><td>2854</td><td>Macon</td><td>UNITED STATES</td></tr><tr><td>2855</td><td>Carlton</td><td>UNITED KINGDOM</td></tr><tr><td>2856</td><td>Waco</td><td>UNITED STATES</td></tr><tr><td>2857</td><td>Pittsburgh</td><td>UNITED STATES</td></tr><tr><td>2858</td><td>Fresno</td><td>UNITED STATES</td></tr><tr><td>2859</td><td>Merton</td><td>UNITED KINGDOM</td></tr><tr><td>2860</td><td>Louisville</td><td>UNITED STATES</td></tr><tr><td>2861</td><td>Rockford</td><td>UNITED STATES</td></tr><tr><td>2862</td><td>Saint Louis</td><td>UNITED STATES</td></tr><tr><td>2863</td><td>Stamford</td><td>UNITED STATES</td></tr><tr><td>2864</td><td>Washington</td><td>UNITED STATES</td></tr><tr><td>2865</td><td></td><td></td></tr><tr><td>2866</td><td>Memphis</td><td>UNITED STATES</td></tr><tr><td>2867</td><td>Charleston</td><td>UNITED STATES</td></tr><tr><td>2868</td><td>Santa Rosa</td><td>UNITED STATES</td></tr><tr><td>2869</td><td>Lansing</td><td>UNITED STATES</td></tr><tr><td>2870</td><td>Honolulu</td><td>UNITED STATES</td></tr><tr><td>2871</td><td>Cedar Rapids</td><td>UNITED STATES</td></tr><tr><td>2872</td><td>Peoria</td><td>UNITED STATES</td></tr><tr><td>2873</td><td>New York City</td><td>UNITED STATES</td></tr><tr><td>2874</td><td>Denver</td><td>UNITED STATES</td></tr><tr><td>2875</td><td>Tacoma</td><td>UNITED STATES</td></tr><tr><td>2876</td><td>Wichita</td><td>UNITED STATES</td></tr><tr><td>2877</td><td>Colorado Springs</td><td>UNITED STATES</td></tr><tr><td>2878</td><td>Aurora</td><td>UNITED STATES</td></tr><tr><td>2879</td><td>Muskegon</td><td>UNITED STATES</td></tr><tr><td>2880</td><td>El Paso</td><td>UNITED STATES</td></tr><tr><td>2881</td><td>Grand Rapids</td><td>UNITED STATES</td></tr><tr><td>2882</td><td>Chicago</td><td>UNITED STATES</td></tr><tr><td>2883</td><td>Albany</td><td>UNITED STATES</td></tr><tr><td>2884</td><td>Garden Grove</td><td>UNITED STATES</td></tr><tr><td>2885</td><td>Craigavon</td><td>UNITED KINGDOM</td></tr><tr><td>2886</td><td>Tulsa</td><td>UNITED STATES</td></tr><tr><td>2887</td><td>Grand Rapids</td><td>UNITED STATES</td></tr><tr><td>2888</td><td>Mobile</td><td>UNITED STATES</td></tr><tr><td>2889</td><td>Mobile</td><td>UNITED STATES</td></tr><tr><td>2890</td><td>Washington</td><td>UNITED STATES</td></tr><tr><td>2891</td><td>Philadelphia</td><td>UNITED STATES</td></tr><tr><td>2892</td><td>Round Rock</td><td>UNITED STATES</td></tr><tr><td>2893</td><td>Baltimore</td><td>UNITED STATES</td></tr><tr><td>2894</td><td>London</td><td>UNITED KINGDOM</td></tr><tr><td>2895</td><td>Las Vegas</td><td>UNITED STATES</td></tr><tr><td>2896</td><td>Vancouver</td><td>UNITED STATES</td></tr><tr><td>2897</td><td>Omaha</td><td>UNITED STATES</td></tr><tr><td>2898</td><td>Great Neck</td><td>UNITED STATES</td></tr><tr><td>2899</td><td>Stamford</td><td>UNITED STATES</td></tr><tr><td>2900</td><td>Milwaukee</td><td>UNITED STATES</td></tr><tr><td>2901</td><td>Paterson</td><td>UNITED STATES</td></tr><tr><td>2902</td><td>Honolulu</td><td>UNITED STATES</td></tr><tr><td>2903</td><td></td><td></td></tr><tr><td>2904</td><td>Memphis</td><td>UNITED STATES</td></tr><tr><td>2905</td><td>Dallas</td><td>UNITED STATES</td></tr><tr><td>2906</td><td>Sadar Bazar</td><td>INDIA</td></tr><tr><td>2907</td><td>San Jose</td><td>UNITED STATES</td></tr><tr><td>2908</td><td>New York City</td><td>UNITED STATES</td></tr><tr><td>2909</td><td></td><td></td></tr><tr><td>2910</td><td>Evansville</td><td>UNITED STATES</td></tr><tr><td>2911</td><td>Tempe</td><td>UNITED STATES</td></tr><tr><td>2912</td><td></td><td></td></tr><tr><td>2913</td><td>Boulder</td><td>UNITED STATES</td></tr><tr><td>2914</td><td>Lincoln</td><td>UNITED STATES</td></tr><tr><td>2915</td><td>Melbourne</td><td>UNITED STATES</td></tr><tr><td>2916</td><td>Kansas City</td><td>UNITED STATES</td></tr><tr><td>2917</td><td>Boca Raton</td><td>UNITED STATES</td></tr><tr><td>2918</td><td>Sheffield</td><td>UNITED KINGDOM</td></tr><tr><td>2919</td><td>Washington</td><td>UNITED STATES</td></tr><tr><td>2920</td><td>Lincoln</td><td>UNITED STATES</td></tr><tr><td>2921</td><td>Toledo</td><td>UNITED STATES</td></tr><tr><td>2922</td><td>Dulles</td><td>UNITED STATES</td></tr><tr><td>2923</td><td>Bellevue</td><td>UNITED STATES</td></tr><tr><td>2924</td><td>Boston</td><td>UNITED STATES</td></tr><tr><td>2925</td><td>Great Neck</td><td>UNITED STATES</td></tr><tr><td>2926</td><td>Columbus</td><td>UNITED STATES</td></tr><tr><td>2927</td><td>Dallas</td><td>UNITED STATES</td></tr><tr><td>2928</td><td>Sheffield</td><td>UNITED KINGDOM</td></tr><tr><td>2929</td><td>Wootton</td><td>UNITED KINGDOM</td></tr><tr><td>2930</td><td>Joliet</td><td>UNITED STATES</td></tr><tr><td>2931</td><td>New Haven</td><td>UNITED STATES</td></tr><tr><td>2932</td><td>Birmingham</td><td>UNITED KINGDOM</td></tr><tr><td>2933</td><td>Boise</td><td>UNITED STATES</td></tr><tr><td>2934</td><td>Mesquite</td><td>UNITED STATES</td></tr><tr><td>2935</td><td>Columbus</td><td>UNITED STATES</td></tr><tr><td>2936</td><td>Oceanside</td><td>UNITED STATES</td></tr><tr><td>2937</td><td>Jackson</td><td>UNITED STATES</td></tr><tr><td>2938</td><td>Thorpe</td><td>UNITED KINGDOM</td></tr><tr><td>2939</td><td>Indianapolis</td><td>UNITED STATES</td></tr><tr><td>2940</td><td>Tulsa</td><td>UNITED STATES</td></tr><tr><td>2941</td><td>Saginaw</td><td>UNITED STATES</td></tr><tr><td>2942</td><td>Norton</td><td>UNITED KINGDOM</td></tr><tr><td>2943</td><td>Buffalo</td><td>UNITED STATES</td></tr><tr><td>2944</td><td>Murfreesboro</td><td>UNITED STATES</td></tr><tr><td>2945</td><td>Shawnee Mission</td><td>UNITED STATES</td></tr><tr><td>2946</td><td>Salinas</td><td>UNITED STATES</td></tr><tr><td>2947</td><td>Salt Lake City</td><td>UNITED STATES</td></tr><tr><td>2948</td><td>Portland</td><td>UNITED STATES</td></tr><tr><td>2949</td><td>Washington</td><td>UNITED STATES</td></tr><tr><td>2950</td><td>Brooklyn</td><td>UNITED STATES</td></tr><tr><td>2951</td><td>Newark</td><td>UNITED STATES</td></tr><tr><td>2952</td><td>Oklahoma City</td><td>UNITED STATES</td></tr><tr><td>2953</td><td>Middleton</td><td>UNITED KINGDOM</td></tr><tr><td>2954</td><td>Fort Smith</td><td>UNITED STATES</td></tr><tr><td>2955</td><td>Aurora</td><td>UNITED STATES</td></tr><tr><td>2956</td><td>Fort Worth</td><td>UNITED STATES</td></tr><tr><td>2957</td><td>Tulsa</td><td>UNITED STATES</td></tr><tr><td>2958</td><td></td><td></td></tr><tr><td>2959</td><td>Portland</td><td>UNITED STATES</td></tr><tr><td>2960</td><td>Columbia</td><td>UNITED STATES</td></tr><tr><td>2961</td><td>Saint Paul</td><td>UNITED STATES</td></tr><tr><td>2962</td><td>Huntington</td><td>UNITED STATES</td></tr><tr><td>2963</td><td>Sterling</td><td>UNITED STATES</td></tr><tr><td>2964</td><td>Chesapeake</td><td>UNITED STATES</td></tr><tr><td>2965</td><td>Birmingham</td><td>UNITED STATES</td></tr><tr><td>2966</td><td></td><td></td></tr><tr><td>2967</td><td>Springfield</td><td>UNITED STATES</td></tr><tr><td>2968</td><td>Savannah</td><td>UNITED STATES</td></tr><tr><td>2969</td><td></td><td></td></tr><tr><td>2970</td><td>Tampa</td><td>UNITED STATES</td></tr><tr><td>2971</td><td>San Bernardino</td><td>UNITED STATES</td></tr><tr><td>2972</td><td>Staten Island</td><td>UNITED STATES</td></tr><tr><td>2973</td><td>Philadelphia</td><td>UNITED STATES</td></tr><tr><td>2974</td><td>Mountain View</td><td>UNITED STATES</td></tr><tr><td>2975</td><td>Ocala</td><td>UNITED STATES</td></tr><tr><td>2976</td><td>Houston</td><td>UNITED STATES</td></tr><tr><td>2977</td><td>San Diego</td><td>UNITED STATES</td></tr><tr><td>2978</td><td>Topeka</td><td>UNITED STATES</td></tr><tr><td>2979</td><td>Los Angeles</td><td>UNITED STATES</td></tr><tr><td>2980</td><td>Wilkes Barre</td><td>UNITED STATES</td></tr><tr><td>2981</td><td>Punta Gorda</td><td>UNITED STATES</td></tr><tr><td>2982</td><td>Colorado Springs</td><td>UNITED STATES</td></tr><tr><td>2983</td><td>Rochester</td><td>UNITED STATES</td></tr><tr><td>2984</td><td>Washington</td><td>UNITED STATES</td></tr><tr><td>2985</td><td>Savannah</td><td>UNITED STATES</td></tr><tr><td>2986</td><td>Aurora</td><td>UNITED STATES</td></tr><tr><td>2987</td><td>Paterson</td><td>UNITED STATES</td></tr><tr><td>2988</td><td>Lakeland</td><td>UNITED STATES</td></tr><tr><td>2989</td><td>Milwaukee</td><td>UNITED STATES</td></tr><tr><td>2990</td><td>Huntington</td><td>UNITED STATES</td></tr><tr><td>2991</td><td>Charlotte</td><td>UNITED STATES</td></tr><tr><td>2992</td><td>Denton</td><td>UNITED STATES</td></tr><tr><td>2993</td><td>Orlando</td><td>UNITED STATES</td></tr><tr><td>2994</td><td>San Antonio</td><td>UNITED STATES</td></tr><tr><td>2995</td><td>Newton</td><td>UNITED STATES</td></tr><tr><td>2996</td><td>Nashville</td><td>UNITED STATES</td></tr><tr><td>2997</td><td>Daytona Beach</td><td>UNITED STATES</td></tr><tr><td>2998</td><td>Virginia Beach</td><td>UNITED STATES</td></tr><tr><td>2999</td><td>Brampton</td><td>UNITED KINGDOM</td></tr><tr><td>3000</td><td>Rochester</td><td>UNITED STATES</td></tr></tbody></table></div>"
      ]
     },
     "metadata": {
      "application/vnd.databricks.v1+output": {
       "addedWidgets": {},
       "aggData": [],
       "aggError": "",
       "aggOverflow": false,
       "aggSchema": [],
       "aggSeriesLimitReached": false,
       "aggType": "",
       "arguments": {},
       "columnCustomDisplayInfos": {},
       "data": [
        [
         2001,
         "Seattle",
         "UNITED STATES"
        ],
        [
         2002,
         "Huntington",
         "UNITED STATES"
        ],
        [
         2003,
         "Littleton",
         "UNITED STATES"
        ],
        [
         2004,
         "Tampa",
         "UNITED STATES"
        ],
        [
         2005,
         "Glendale",
         "UNITED STATES"
        ],
        [
         2006,
         "Kirkton",
         "UNITED KINGDOM"
        ],
        [
         2007,
         "New York City",
         "UNITED STATES"
        ],
        [
         2008,
         "",
         ""
        ],
        [
         2009,
         "Austin",
         "UNITED STATES"
        ],
        [
         2010,
         "Huntsville",
         "UNITED STATES"
        ],
        [
         2011,
         "Sacramento",
         "UNITED STATES"
        ],
        [
         2012,
         "Richmond",
         "UNITED STATES"
        ],
        [
         2013,
         "Santa Monica",
         "UNITED STATES"
        ],
        [
         2014,
         "Bristol",
         "UNITED KINGDOM"
        ],
        [
         2015,
         "",
         ""
        ],
        [
         2016,
         "Newton",
         "UNITED STATES"
        ],
        [
         2017,
         "Dean",
         "UNITED KINGDOM"
        ],
        [
         2018,
         "Knoxville",
         "UNITED STATES"
        ],
        [
         2019,
         "Wilkes Barre",
         "UNITED STATES"
        ],
        [
         2020,
         "Columbia",
         "UNITED STATES"
        ],
        [
         2021,
         "Monticello",
         "UNITED STATES"
        ],
        [
         2022,
         "Austin",
         "UNITED STATES"
        ],
        [
         2023,
         "Washington",
         "UNITED STATES"
        ],
        [
         2024,
         "Colorado Springs",
         "UNITED STATES"
        ],
        [
         2025,
         "",
         ""
        ],
        [
         2026,
         "Tucson",
         "UNITED STATES"
        ],
        [
         2027,
         "Lakeland",
         "UNITED STATES"
        ],
        [
         2028,
         "Detroit",
         "UNITED STATES"
        ],
        [
         2029,
         "Schaumburg",
         "UNITED STATES"
        ],
        [
         2030,
         "Reston",
         "UNITED STATES"
        ],
        [
         2031,
         "Twyford",
         "UNITED KINGDOM"
        ],
        [
         2032,
         "Houston",
         "UNITED STATES"
        ],
        [
         2033,
         "Wirral",
         "UNITED KINGDOM"
        ],
        [
         2034,
         "Madison",
         "UNITED STATES"
        ],
        [
         2035,
         "Bronx",
         "UNITED STATES"
        ],
        [
         2036,
         "Bronx",
         "UNITED STATES"
        ],
        [
         2037,
         "Carlton",
         "UNITED KINGDOM"
        ],
        [
         2038,
         "Garland",
         "UNITED STATES"
        ],
        [
         2039,
         "Lincoln",
         "UNITED STATES"
        ],
        [
         2040,
         "London",
         "UNITED KINGDOM"
        ],
        [
         2041,
         "London",
         "UNITED KINGDOM"
        ],
        [
         2042,
         "Dallas",
         "UNITED STATES"
        ],
        [
         2043,
         "Scranton",
         "UNITED STATES"
        ],
        [
         2044,
         "",
         ""
        ],
        [
         2045,
         "Huntington",
         "UNITED STATES"
        ],
        [
         2046,
         "Sacramento",
         "UNITED STATES"
        ],
        [
         2047,
         "Newark",
         "UNITED STATES"
        ],
        [
         2048,
         "Las Vegas",
         "UNITED STATES"
        ],
        [
         2049,
         "New York City",
         "UNITED STATES"
        ],
        [
         2050,
         "San Diego",
         "UNITED STATES"
        ],
        [
         2051,
         "Shreveport",
         "UNITED STATES"
        ],
        [
         2052,
         "Knoxville",
         "UNITED STATES"
        ],
        [
         2053,
         "Fargo",
         "UNITED STATES"
        ],
        [
         2054,
         "Atlanta",
         "UNITED STATES"
        ],
        [
         2055,
         "Birmingham",
         "UNITED STATES"
        ],
        [
         2056,
         "Newport News",
         "UNITED STATES"
        ],
        [
         2057,
         "Denver",
         "UNITED STATES"
        ],
        [
         2058,
         "Seattle",
         "UNITED STATES"
        ],
        [
         2059,
         "Rockford",
         "UNITED STATES"
        ],
        [
         2060,
         "Portland",
         "UNITED STATES"
        ],
        [
         2061,
         "Sadar Bazar",
         "INDIA"
        ],
        [
         2062,
         "Bethlehem",
         "UNITED STATES"
        ],
        [
         2063,
         "Charlotte",
         "UNITED STATES"
        ],
        [
         2064,
         "Springfield",
         "UNITED STATES"
        ],
        [
         2065,
         "Asheville",
         "UNITED STATES"
        ],
        [
         2066,
         "Madison",
         "UNITED STATES"
        ],
        [
         2067,
         "Cedar Rapids",
         "UNITED STATES"
        ],
        [
         2068,
         "Fort Worth",
         "UNITED STATES"
        ],
        [
         2069,
         "Dallas",
         "UNITED STATES"
        ],
        [
         2070,
         "Fresno",
         "UNITED STATES"
        ],
        [
         2071,
         "Amarillo",
         "UNITED STATES"
        ],
        [
         2072,
         "Los Angeles",
         "UNITED STATES"
        ],
        [
         2073,
         "Rochester",
         "UNITED STATES"
        ],
        [
         2074,
         "Irving",
         "UNITED STATES"
        ],
        [
         2075,
         "Roanoke",
         "UNITED STATES"
        ],
        [
         2076,
         "Washington",
         "UNITED STATES"
        ],
        [
         2077,
         "Grand Forks",
         "UNITED STATES"
        ],
        [
         2078,
         "Birmingham",
         "UNITED STATES"
        ],
        [
         2079,
         "Birmingham",
         "UNITED STATES"
        ],
        [
         2080,
         "Denver",
         "UNITED STATES"
        ],
        [
         2081,
         "Chicago",
         "UNITED STATES"
        ],
        [
         2082,
         "Fresno",
         "UNITED STATES"
        ],
        [
         2083,
         "Washington",
         "UNITED STATES"
        ],
        [
         2084,
         "Charlotte",
         "UNITED STATES"
        ],
        [
         2085,
         "Detroit",
         "UNITED STATES"
        ],
        [
         2086,
         "Miami",
         "UNITED STATES"
        ],
        [
         2087,
         "Kingston",
         "UNITED KINGDOM"
        ],
        [
         2088,
         "",
         ""
        ],
        [
         2089,
         "Van Nuys",
         "UNITED STATES"
        ],
        [
         2090,
         "Carlsbad",
         "UNITED STATES"
        ],
        [
         2091,
         "Silver Spring",
         "UNITED STATES"
        ],
        [
         2092,
         "Salt Lake City",
         "UNITED STATES"
        ],
        [
         2093,
         "Las Vegas",
         "UNITED STATES"
        ],
        [
         2094,
         "Newark",
         "UNITED STATES"
        ],
        [
         2095,
         "Manassas",
         "UNITED STATES"
        ],
        [
         2096,
         "Stockton",
         "UNITED STATES"
        ],
        [
         2097,
         "Durham",
         "UNITED STATES"
        ],
        [
         2098,
         "Los Angeles",
         "UNITED STATES"
        ],
        [
         2099,
         "Honolulu",
         "UNITED STATES"
        ],
        [
         2100,
         "Richmond",
         "UNITED STATES"
        ],
        [
         2101,
         "Corona",
         "UNITED STATES"
        ],
        [
         2102,
         "Chicago",
         "UNITED STATES"
        ],
        [
         2103,
         "Phoenix",
         "UNITED STATES"
        ],
        [
         2104,
         "Naples",
         "UNITED STATES"
        ],
        [
         2105,
         "Baton Rouge",
         "UNITED STATES"
        ],
        [
         2106,
         "Corona",
         "UNITED STATES"
        ],
        [
         2107,
         "New Orleans",
         "UNITED STATES"
        ],
        [
         2108,
         "Washington",
         "UNITED STATES"
        ],
        [
         2109,
         "Mobile",
         "UNITED STATES"
        ],
        [
         2110,
         "Carson City",
         "UNITED STATES"
        ],
        [
         2111,
         "Fort Worth",
         "UNITED STATES"
        ],
        [
         2112,
         "Philadelphia",
         "UNITED STATES"
        ],
        [
         2113,
         "Springfield",
         "UNITED STATES"
        ],
        [
         2114,
         "Fort Lauderdale",
         "UNITED STATES"
        ],
        [
         2115,
         "Baton Rouge",
         "UNITED STATES"
        ],
        [
         2116,
         "Washington",
         "UNITED STATES"
        ],
        [
         2117,
         "Madison",
         "UNITED STATES"
        ],
        [
         2118,
         "Chicago",
         "UNITED STATES"
        ],
        [
         2119,
         "San Diego",
         "UNITED STATES"
        ],
        [
         2120,
         "Baton Rouge",
         "UNITED STATES"
        ],
        [
         2121,
         "Chesapeake",
         "UNITED STATES"
        ],
        [
         2122,
         "Santa Monica",
         "UNITED STATES"
        ],
        [
         2123,
         "Saint Louis",
         "UNITED STATES"
        ],
        [
         2124,
         "London",
         "UNITED KINGDOM"
        ],
        [
         2125,
         "Knoxville",
         "UNITED STATES"
        ],
        [
         2126,
         "Jacksonville",
         "UNITED STATES"
        ],
        [
         2127,
         "Nashville",
         "UNITED STATES"
        ],
        [
         2128,
         "Fort Pierce",
         "UNITED STATES"
        ],
        [
         2129,
         "New Orleans",
         "UNITED STATES"
        ],
        [
         2130,
         "Tyler",
         "UNITED STATES"
        ],
        [
         2131,
         "Irvine",
         "UNITED STATES"
        ],
        [
         2132,
         "",
         ""
        ],
        [
         2133,
         "Fargo",
         "UNITED STATES"
        ],
        [
         2134,
         "Montgomery",
         "UNITED STATES"
        ],
        [
         2135,
         "Washington",
         "UNITED STATES"
        ],
        [
         2136,
         "Stockton",
         "UNITED STATES"
        ],
        [
         2137,
         "Sterling",
         "UNITED STATES"
        ],
        [
         2138,
         "",
         ""
        ],
        [
         2139,
         "Tyler",
         "UNITED STATES"
        ],
        [
         2140,
         "Saint Augustine",
         "UNITED STATES"
        ],
        [
         2141,
         "Atlanta",
         "UNITED STATES"
        ],
        [
         2142,
         "Birmingham",
         "UNITED STATES"
        ],
        [
         2143,
         "Dallas",
         "UNITED STATES"
        ],
        [
         2144,
         "",
         ""
        ],
        [
         2145,
         "Waco",
         "UNITED STATES"
        ],
        [
         2146,
         "Delray Beach",
         "UNITED STATES"
        ],
        [
         2147,
         "Toledo",
         "UNITED STATES"
        ],
        [
         2148,
         "Saint Petersburg",
         "UNITED STATES"
        ],
        [
         2149,
         "Racine",
         "UNITED STATES"
        ],
        [
         2150,
         "Knoxville",
         "UNITED STATES"
        ],
        [
         2151,
         "Washington",
         "UNITED STATES"
        ],
        [
         2152,
         "Shreveport",
         "UNITED STATES"
        ],
        [
         2153,
         "Philadelphia",
         "UNITED STATES"
        ],
        [
         2154,
         "Englewood",
         "UNITED STATES"
        ],
        [
         2155,
         "Asheville",
         "UNITED STATES"
        ],
        [
         2156,
         "San Francisco",
         "UNITED STATES"
        ],
        [
         2157,
         "",
         ""
        ],
        [
         2158,
         "Provo",
         "UNITED STATES"
        ],
        [
         2159,
         "Charlotte",
         "UNITED STATES"
        ],
        [
         2160,
         "Baton Rouge",
         "UNITED STATES"
        ],
        [
         2161,
         "New Orleans",
         "UNITED STATES"
        ],
        [
         2162,
         "Denver",
         "UNITED STATES"
        ],
        [
         2163,
         "San Antonio",
         "UNITED STATES"
        ],
        [
         2164,
         "El Paso",
         "UNITED STATES"
        ],
        [
         2165,
         "Wilkes Barre",
         "UNITED STATES"
        ],
        [
         2166,
         "Nashville",
         "UNITED STATES"
        ],
        [
         2167,
         "Chicago",
         "UNITED STATES"
        ],
        [
         2168,
         "Kansas City",
         "UNITED STATES"
        ],
        [
         2169,
         "Rochester",
         "UNITED STATES"
        ],
        [
         2170,
         "Dallas",
         "UNITED STATES"
        ],
        [
         2171,
         "Tucson",
         "UNITED STATES"
        ],
        [
         2172,
         "Springfield",
         "UNITED STATES"
        ],
        [
         2173,
         "Madison",
         "UNITED STATES"
        ],
        [
         2174,
         "Racine",
         "UNITED STATES"
        ],
        [
         2175,
         "Louisville",
         "UNITED STATES"
        ],
        [
         2176,
         "Van Nuys",
         "UNITED STATES"
        ],
        [
         2177,
         "Atlanta",
         "UNITED STATES"
        ],
        [
         2178,
         "Cincinnati",
         "UNITED STATES"
        ],
        [
         2179,
         "Washington",
         "UNITED STATES"
        ],
        [
         2180,
         "El Paso",
         "UNITED STATES"
        ],
        [
         2181,
         "Norfolk",
         "UNITED STATES"
        ],
        [
         2182,
         "El Paso",
         "UNITED STATES"
        ],
        [
         2183,
         "Montgomery",
         "UNITED STATES"
        ],
        [
         2184,
         "Dallas",
         "UNITED STATES"
        ],
        [
         2185,
         "Memphis",
         "UNITED STATES"
        ],
        [
         2186,
         "Glendale",
         "UNITED STATES"
        ],
        [
         2187,
         "Dallas",
         "UNITED STATES"
        ],
        [
         2188,
         "Indianapolis",
         "UNITED STATES"
        ],
        [
         2189,
         "Wootton",
         "UNITED KINGDOM"
        ],
        [
         2190,
         "R S",
         "INDIA"
        ],
        [
         2191,
         "Minneapolis",
         "UNITED STATES"
        ],
        [
         2192,
         "Pensacola",
         "UNITED STATES"
        ],
        [
         2193,
         "Milwaukee",
         "UNITED STATES"
        ],
        [
         2194,
         "Chicago",
         "UNITED STATES"
        ],
        [
         2195,
         "Charlotte",
         "UNITED STATES"
        ],
        [
         2196,
         "Aurora",
         "UNITED STATES"
        ],
        [
         2197,
         "Seattle",
         "UNITED STATES"
        ],
        [
         2198,
         "Raleigh",
         "UNITED STATES"
        ],
        [
         2199,
         "Austin",
         "UNITED STATES"
        ],
        [
         2200,
         "Schaumburg",
         "UNITED STATES"
        ],
        [
         2201,
         "Newport News",
         "UNITED STATES"
        ],
        [
         2202,
         "Clearwater",
         "UNITED STATES"
        ],
        [
         2203,
         "San Diego",
         "UNITED STATES"
        ],
        [
         2204,
         "El Paso",
         "UNITED STATES"
        ],
        [
         2205,
         "Birmingham",
         "UNITED STATES"
        ],
        [
         2206,
         "New Orleans",
         "UNITED STATES"
        ],
        [
         2207,
         "Seminole",
         "UNITED STATES"
        ],
        [
         2208,
         "Cumming",
         "UNITED STATES"
        ],
        [
         2209,
         "Sacramento",
         "UNITED STATES"
        ],
        [
         2210,
         "Normanton",
         "UNITED KINGDOM"
        ],
        [
         2211,
         "Aurora",
         "UNITED STATES"
        ],
        [
         2212,
         "Mobile",
         "UNITED STATES"
        ],
        [
         2213,
         "Hartford",
         "UNITED STATES"
        ],
        [
         2214,
         "Toledo",
         "UNITED STATES"
        ],
        [
         2215,
         "Lansing",
         "UNITED STATES"
        ],
        [
         2216,
         "Shawnee Mission",
         "UNITED STATES"
        ],
        [
         2217,
         "Richmond",
         "UNITED STATES"
        ],
        [
         2218,
         "Detroit",
         "UNITED STATES"
        ],
        [
         2219,
         "Lexington",
         "UNITED STATES"
        ],
        [
         2220,
         "Atlanta",
         "UNITED STATES"
        ],
        [
         2221,
         "Albuquerque",
         "UNITED STATES"
        ],
        [
         2222,
         "Tyler",
         "UNITED STATES"
        ],
        [
         2223,
         "",
         ""
        ],
        [
         2224,
         "Washington",
         "UNITED STATES"
        ],
        [
         2225,
         "Tulsa",
         "UNITED STATES"
        ],
        [
         2226,
         "Norfolk",
         "UNITED STATES"
        ],
        [
         2227,
         "Agraharam",
         "INDIA"
        ],
        [
         2228,
         "Little Rock",
         "UNITED STATES"
        ],
        [
         2229,
         "Pompano Beach",
         "UNITED STATES"
        ],
        [
         2230,
         "Simi Valley",
         "UNITED STATES"
        ],
        [
         2231,
         "Oklahoma City",
         "UNITED STATES"
        ],
        [
         2232,
         "Upton",
         "UNITED KINGDOM"
        ],
        [
         2233,
         "Belfast",
         "UNITED KINGDOM"
        ],
        [
         2234,
         "Cleveland",
         "UNITED STATES"
        ],
        [
         2235,
         "Nashville",
         "UNITED STATES"
        ],
        [
         2236,
         "Odessa",
         "UNITED STATES"
        ],
        [
         2237,
         "San Rafael",
         "UNITED STATES"
        ],
        [
         2238,
         "Saint Louis",
         "UNITED STATES"
        ],
        [
         2239,
         "Minneapolis",
         "UNITED STATES"
        ],
        [
         2240,
         "Jamaica",
         "UNITED STATES"
        ],
        [
         2241,
         "Shreveport",
         "UNITED STATES"
        ],
        [
         2242,
         "Sutton",
         "UNITED KINGDOM"
        ],
        [
         2243,
         "",
         ""
        ],
        [
         2244,
         "Virginia Beach",
         "UNITED STATES"
        ],
        [
         2245,
         "Beaufort",
         "UNITED STATES"
        ],
        [
         2246,
         "Peoria",
         "UNITED STATES"
        ],
        [
         2247,
         "New York City",
         "UNITED STATES"
        ],
        [
         2248,
         "San Diego",
         "UNITED STATES"
        ],
        [
         2249,
         "West Hartford",
         "UNITED STATES"
        ],
        [
         2250,
         "Houston",
         "UNITED STATES"
        ],
        [
         2251,
         "Albany",
         "UNITED STATES"
        ],
        [
         2252,
         "Peoria",
         "UNITED STATES"
        ],
        [
         2253,
         "Tucson",
         "UNITED STATES"
        ],
        [
         2254,
         "Mesa",
         "UNITED STATES"
        ],
        [
         2255,
         "Norfolk",
         "UNITED STATES"
        ],
        [
         2256,
         "",
         ""
        ],
        [
         2257,
         "Alhambra",
         "UNITED STATES"
        ],
        [
         2258,
         "Seattle",
         "UNITED STATES"
        ],
        [
         2259,
         "New York City",
         "UNITED STATES"
        ],
        [
         2260,
         "Jamaica",
         "UNITED STATES"
        ],
        [
         2261,
         "Louisville",
         "UNITED STATES"
        ],
        [
         2262,
         "",
         ""
        ],
        [
         2263,
         "Winston Salem",
         "UNITED STATES"
        ],
        [
         2264,
         "Grand Rapids",
         "UNITED STATES"
        ],
        [
         2265,
         "Muskegon",
         "UNITED STATES"
        ],
        [
         2266,
         "Wilmington",
         "UNITED STATES"
        ],
        [
         2267,
         "Salt Lake City",
         "UNITED STATES"
        ],
        [
         2268,
         "East End",
         "UNITED KINGDOM"
        ],
        [
         2269,
         "Knoxville",
         "UNITED STATES"
        ],
        [
         2270,
         "Las Vegas",
         "UNITED STATES"
        ],
        [
         2271,
         "Columbus",
         "UNITED STATES"
        ],
        [
         2272,
         "Melbourne",
         "UNITED STATES"
        ],
        [
         2273,
         "Oklahoma City",
         "UNITED STATES"
        ],
        [
         2274,
         "Bloomington",
         "UNITED STATES"
        ],
        [
         2275,
         "Phoenix",
         "UNITED STATES"
        ],
        [
         2276,
         "San Diego",
         "UNITED STATES"
        ],
        [
         2277,
         "Bethlehem",
         "UNITED STATES"
        ],
        [
         2278,
         "Washington",
         "UNITED STATES"
        ],
        [
         2279,
         "Jacksonville",
         "UNITED STATES"
        ],
        [
         2280,
         "Midland",
         "UNITED STATES"
        ],
        [
         2281,
         "",
         ""
        ],
        [
         2282,
         "Orlando",
         "UNITED STATES"
        ],
        [
         2283,
         "Alexandria",
         "UNITED STATES"
        ],
        [
         2284,
         "London",
         "UNITED KINGDOM"
        ],
        [
         2285,
         "Spring",
         "UNITED STATES"
        ],
        [
         2286,
         "San Francisco",
         "UNITED STATES"
        ],
        [
         2287,
         "Fort Smith",
         "UNITED STATES"
        ],
        [
         2288,
         "Chicago",
         "UNITED STATES"
        ],
        [
         2289,
         "Tacoma",
         "UNITED STATES"
        ],
        [
         2290,
         "El Paso",
         "UNITED STATES"
        ],
        [
         2291,
         "Lafayette",
         "UNITED STATES"
        ],
        [
         2292,
         "Washington",
         "UNITED STATES"
        ],
        [
         2293,
         "San Jose",
         "UNITED STATES"
        ],
        [
         2294,
         "Houston",
         "UNITED STATES"
        ],
        [
         2295,
         "Upton",
         "UNITED KINGDOM"
        ],
        [
         2296,
         "Des Moines",
         "UNITED STATES"
        ],
        [
         2297,
         "Saginaw",
         "UNITED STATES"
        ],
        [
         2298,
         "Reno",
         "UNITED STATES"
        ],
        [
         2299,
         "Gainesville",
         "UNITED STATES"
        ],
        [
         2300,
         "Wichita",
         "UNITED STATES"
        ],
        [
         2301,
         "Springfield",
         "UNITED STATES"
        ],
        [
         2302,
         "Rochester",
         "UNITED STATES"
        ],
        [
         2303,
         "Jacksonville",
         "UNITED STATES"
        ],
        [
         2304,
         "Greensboro",
         "UNITED STATES"
        ],
        [
         2305,
         "Dallas",
         "UNITED STATES"
        ],
        [
         2306,
         "Huntington",
         "UNITED STATES"
        ],
        [
         2307,
         "San Francisco",
         "UNITED STATES"
        ],
        [
         2308,
         "Iowa City",
         "UNITED STATES"
        ],
        [
         2309,
         "Des Moines",
         "UNITED STATES"
        ],
        [
         2310,
         "Cincinnati",
         "UNITED STATES"
        ],
        [
         2311,
         "Pittsburgh",
         "UNITED STATES"
        ],
        [
         2312,
         "Knoxville",
         "UNITED STATES"
        ],
        [
         2313,
         "Birmingham",
         "UNITED KINGDOM"
        ],
        [
         2314,
         "Roanoke",
         "UNITED STATES"
        ],
        [
         2315,
         "Salt Lake City",
         "UNITED STATES"
        ],
        [
         2316,
         "Schaumburg",
         "UNITED STATES"
        ],
        [
         2317,
         "Reading",
         "UNITED STATES"
        ],
        [
         2318,
         "Wilkes Barre",
         "UNITED STATES"
        ],
        [
         2319,
         "Charlotte",
         "UNITED STATES"
        ],
        [
         2320,
         "Craigavon",
         "UNITED KINGDOM"
        ],
        [
         2321,
         "Fresno",
         "UNITED STATES"
        ],
        [
         2322,
         "Brooklyn",
         "UNITED STATES"
        ],
        [
         2323,
         "Amarillo",
         "UNITED STATES"
        ],
        [
         2324,
         "Saint Louis",
         "UNITED STATES"
        ],
        [
         2325,
         "Newark",
         "UNITED STATES"
        ],
        [
         2326,
         "Philadelphia",
         "UNITED STATES"
        ],
        [
         2327,
         "Cedar Rapids",
         "UNITED STATES"
        ],
        [
         2328,
         "Minneapolis",
         "UNITED STATES"
        ],
        [
         2329,
         "Virginia Beach",
         "UNITED STATES"
        ],
        [
         2330,
         "Odessa",
         "UNITED STATES"
        ],
        [
         2331,
         "Baton Rouge",
         "UNITED STATES"
        ],
        [
         2332,
         "Fort Wayne",
         "UNITED STATES"
        ],
        [
         2333,
         "Miami",
         "UNITED STATES"
        ],
        [
         2334,
         "San Diego",
         "UNITED STATES"
        ],
        [
         2335,
         "Raleigh",
         "UNITED STATES"
        ],
        [
         2336,
         "Hartford",
         "UNITED STATES"
        ],
        [
         2337,
         "Waco",
         "UNITED STATES"
        ],
        [
         2338,
         "Washington",
         "UNITED STATES"
        ],
        [
         2339,
         "Kansas City",
         "UNITED STATES"
        ],
        [
         2340,
         "Sacramento",
         "UNITED STATES"
        ],
        [
         2341,
         "Arlington",
         "UNITED STATES"
        ],
        [
         2342,
         "Madison",
         "UNITED STATES"
        ],
        [
         2343,
         "Murfreesboro",
         "UNITED STATES"
        ],
        [
         2344,
         "Philadelphia",
         "UNITED STATES"
        ],
        [
         2345,
         "Los Angeles",
         "UNITED STATES"
        ],
        [
         2346,
         "Baltimore",
         "UNITED STATES"
        ],
        [
         2347,
         "Farmington",
         "UNITED STATES"
        ],
        [
         2348,
         "Hartford",
         "UNITED STATES"
        ],
        [
         2349,
         "Dallas",
         "UNITED STATES"
        ],
        [
         2350,
         "Fort Lauderdale",
         "UNITED STATES"
        ],
        [
         2351,
         "Dallas",
         "UNITED STATES"
        ],
        [
         2352,
         "Omaha",
         "UNITED STATES"
        ],
        [
         2353,
         "Pasadena",
         "UNITED STATES"
        ],
        [
         2354,
         "Amarillo",
         "UNITED STATES"
        ],
        [
         2355,
         "Philadelphia",
         "UNITED STATES"
        ],
        [
         2356,
         "Huntsville",
         "UNITED STATES"
        ],
        [
         2357,
         "Portland",
         "UNITED STATES"
        ],
        [
         2358,
         "Middleton",
         "UNITED KINGDOM"
        ],
        [
         2359,
         "Jamaica",
         "UNITED STATES"
        ],
        [
         2360,
         "San Antonio",
         "UNITED STATES"
        ],
        [
         2361,
         "Hartford",
         "UNITED STATES"
        ],
        [
         2362,
         "Omaha",
         "UNITED STATES"
        ],
        [
         2363,
         "Torrance",
         "UNITED STATES"
        ],
        [
         2364,
         "Jacksonville",
         "UNITED STATES"
        ],
        [
         2365,
         "Tulsa",
         "UNITED STATES"
        ],
        [
         2366,
         "Vienna",
         "UNITED STATES"
        ],
        [
         2367,
         "Brampton",
         "UNITED KINGDOM"
        ],
        [
         2368,
         "Delray Beach",
         "UNITED STATES"
        ],
        [
         2369,
         "Grand Rapids",
         "UNITED STATES"
        ],
        [
         2370,
         "New York City",
         "UNITED STATES"
        ],
        [
         2371,
         "Toledo",
         "UNITED STATES"
        ],
        [
         2372,
         "Milton",
         "UNITED KINGDOM"
        ],
        [
         2373,
         "Montgomery",
         "UNITED STATES"
        ],
        [
         2374,
         "Jackson",
         "UNITED STATES"
        ],
        [
         2375,
         "Middleton",
         "UNITED KINGDOM"
        ],
        [
         2376,
         "Louisville",
         "UNITED STATES"
        ],
        [
         2377,
         "",
         ""
        ],
        [
         2378,
         "Oklahoma City",
         "UNITED STATES"
        ],
        [
         2379,
         "Boca Raton",
         "UNITED STATES"
        ],
        [
         2380,
         "Vienna",
         "UNITED STATES"
        ],
        [
         2381,
         "Nashville",
         "UNITED STATES"
        ],
        [
         2382,
         "Waco",
         "UNITED STATES"
        ],
        [
         2383,
         "Columbus",
         "UNITED STATES"
        ],
        [
         2384,
         "Hampton",
         "UNITED STATES"
        ],
        [
         2385,
         "Orlando",
         "UNITED STATES"
        ],
        [
         2386,
         "Asheville",
         "UNITED STATES"
        ],
        [
         2387,
         "Virginia Beach",
         "UNITED STATES"
        ],
        [
         2388,
         "Des Moines",
         "UNITED STATES"
        ],
        [
         2389,
         "Denver",
         "UNITED STATES"
        ],
        [
         2390,
         "Dulles",
         "UNITED STATES"
        ],
        [
         2391,
         "Mesa",
         "UNITED STATES"
        ],
        [
         2392,
         "Aberdeen",
         "UNITED KINGDOM"
        ],
        [
         2393,
         "Charleston",
         "UNITED STATES"
        ],
        [
         2394,
         "Swindon",
         "UNITED KINGDOM"
        ],
        [
         2395,
         "London",
         "UNITED KINGDOM"
        ],
        [
         2396,
         "San Diego",
         "UNITED STATES"
        ],
        [
         2397,
         "Lansing",
         "UNITED STATES"
        ],
        [
         2398,
         "Sioux City",
         "UNITED STATES"
        ],
        [
         2399,
         "Chico",
         "UNITED STATES"
        ],
        [
         2400,
         "Santa Fe",
         "UNITED STATES"
        ],
        [
         2401,
         "Washington",
         "UNITED STATES"
        ],
        [
         2402,
         "Bakersfield",
         "UNITED STATES"
        ],
        [
         2403,
         "Reston",
         "UNITED STATES"
        ],
        [
         2404,
         "Hartford",
         "UNITED STATES"
        ],
        [
         2405,
         "Maple Plain",
         "UNITED STATES"
        ],
        [
         2406,
         "Stockton",
         "UNITED STATES"
        ],
        [
         2407,
         "Anaheim",
         "UNITED STATES"
        ],
        [
         2408,
         "Roanoke",
         "UNITED STATES"
        ],
        [
         2409,
         "Lancaster",
         "UNITED STATES"
        ],
        [
         2410,
         "Saint Louis",
         "UNITED STATES"
        ],
        [
         2411,
         "Pasadena",
         "UNITED STATES"
        ],
        [
         2412,
         "Vienna",
         "UNITED STATES"
        ],
        [
         2413,
         "Mobile",
         "UNITED STATES"
        ],
        [
         2414,
         "Dallas",
         "UNITED STATES"
        ],
        [
         2415,
         "San Francisco",
         "UNITED STATES"
        ],
        [
         2416,
         "Lansing",
         "UNITED STATES"
        ],
        [
         2417,
         "Stapleford",
         "UNITED KINGDOM"
        ],
        [
         2418,
         "Rochester",
         "UNITED STATES"
        ],
        [
         2419,
         "Middleton",
         "UNITED KINGDOM"
        ],
        [
         2420,
         "Lincoln",
         "UNITED STATES"
        ],
        [
         2421,
         "Atlanta",
         "UNITED STATES"
        ],
        [
         2422,
         "Peoria",
         "UNITED STATES"
        ],
        [
         2423,
         "Sacramento",
         "UNITED STATES"
        ],
        [
         2424,
         "Newport News",
         "UNITED STATES"
        ],
        [
         2425,
         "Savannah",
         "UNITED STATES"
        ],
        [
         2426,
         "Charlotte",
         "UNITED STATES"
        ],
        [
         2427,
         "Whittier",
         "UNITED STATES"
        ],
        [
         2428,
         "Hamilton",
         "UNITED STATES"
        ],
        [
         2429,
         "Huntsville",
         "UNITED STATES"
        ],
        [
         2430,
         "Dallas",
         "UNITED STATES"
        ],
        [
         2431,
         "",
         ""
        ],
        [
         2432,
         "Colorado Springs",
         "UNITED STATES"
        ],
        [
         2433,
         "Tulsa",
         "UNITED STATES"
        ],
        [
         2434,
         "San Antonio",
         "UNITED STATES"
        ],
        [
         2435,
         "Eaton",
         "UNITED KINGDOM"
        ],
        [
         2436,
         "Greensboro",
         "UNITED STATES"
        ],
        [
         2437,
         "Harrisburg",
         "UNITED STATES"
        ],
        [
         2438,
         "Fresno",
         "UNITED STATES"
        ],
        [
         2439,
         "Hartford",
         "UNITED STATES"
        ],
        [
         2440,
         "Saint Paul",
         "UNITED STATES"
        ],
        [
         2441,
         "Cedar Rapids",
         "UNITED STATES"
        ],
        [
         2442,
         "Springfield",
         "UNITED STATES"
        ],
        [
         2443,
         "Springfield",
         "UNITED STATES"
        ],
        [
         2444,
         "Chicago",
         "UNITED STATES"
        ],
        [
         2445,
         "Akron",
         "UNITED STATES"
        ],
        [
         2446,
         "Church End",
         "UNITED KINGDOM"
        ],
        [
         2447,
         "Toledo",
         "UNITED STATES"
        ],
        [
         2448,
         "Burnside",
         "UNITED KINGDOM"
        ],
        [
         2449,
         "Fort Wayne",
         "UNITED STATES"
        ],
        [
         2450,
         "Cedar Rapids",
         "UNITED STATES"
        ],
        [
         2451,
         "Arlington",
         "UNITED STATES"
        ],
        [
         2452,
         "Washington",
         "UNITED STATES"
        ],
        [
         2453,
         "El Paso",
         "UNITED STATES"
        ],
        [
         2454,
         "Cincinnati",
         "UNITED STATES"
        ],
        [
         2455,
         "Fullerton",
         "UNITED STATES"
        ],
        [
         2456,
         "Los Angeles",
         "UNITED STATES"
        ],
        [
         2457,
         "",
         ""
        ],
        [
         2458,
         "Naples",
         "UNITED STATES"
        ],
        [
         2459,
         "Chicago",
         "UNITED STATES"
        ],
        [
         2460,
         "",
         ""
        ],
        [
         2461,
         "Glendale",
         "UNITED STATES"
        ],
        [
         2462,
         "Chicago",
         "UNITED STATES"
        ],
        [
         2463,
         "Pasadena",
         "UNITED STATES"
        ],
        [
         2464,
         "Santa Ana",
         "UNITED STATES"
        ],
        [
         2465,
         "Sioux Falls",
         "UNITED STATES"
        ],
        [
         2466,
         "Florence",
         "UNITED STATES"
        ],
        [
         2467,
         "",
         ""
        ],
        [
         2468,
         "Dallas",
         "UNITED STATES"
        ],
        [
         2469,
         "Lincoln",
         "UNITED STATES"
        ],
        [
         2470,
         "Evansville",
         "UNITED STATES"
        ],
        [
         2471,
         "Chicago",
         "UNITED STATES"
        ],
        [
         2472,
         "Boston",
         "UNITED STATES"
        ],
        [
         2473,
         "",
         ""
        ],
        [
         2474,
         "Oklahoma City",
         "UNITED STATES"
        ],
        [
         2475,
         "Norfolk",
         "UNITED STATES"
        ],
        [
         2476,
         "Springfield",
         "UNITED STATES"
        ],
        [
         2477,
         "Shreveport",
         "UNITED STATES"
        ],
        [
         2478,
         "Richmond",
         "UNITED STATES"
        ],
        [
         2479,
         "Miami",
         "UNITED STATES"
        ],
        [
         2480,
         "Fargo",
         "UNITED STATES"
        ],
        [
         2481,
         "Boston",
         "UNITED STATES"
        ],
        [
         2482,
         "Omaha",
         "UNITED STATES"
        ],
        [
         2483,
         "",
         ""
        ],
        [
         2484,
         "Las Vegas",
         "UNITED STATES"
        ],
        [
         2485,
         "Springfield",
         "UNITED STATES"
        ],
        [
         2486,
         "Anchorage",
         "UNITED STATES"
        ],
        [
         2487,
         "Washington",
         "UNITED STATES"
        ],
        [
         2488,
         "Great Neck",
         "UNITED STATES"
        ],
        [
         2489,
         "Lafayette",
         "UNITED STATES"
        ],
        [
         2490,
         "Young America",
         "UNITED STATES"
        ],
        [
         2491,
         "Santa Rosa",
         "UNITED STATES"
        ],
        [
         2492,
         "Pensacola",
         "UNITED STATES"
        ],
        [
         2493,
         "Beaumont",
         "UNITED STATES"
        ],
        [
         2494,
         "Olympia",
         "UNITED STATES"
        ],
        [
         2495,
         "",
         ""
        ],
        [
         2496,
         "Springfield",
         "UNITED STATES"
        ],
        [
         2497,
         "Des Moines",
         "UNITED STATES"
        ],
        [
         2498,
         "Atlanta",
         "UNITED STATES"
        ],
        [
         2499,
         "Saint Louis",
         "UNITED STATES"
        ],
        [
         2500,
         "Albuquerque",
         "UNITED STATES"
        ],
        [
         2501,
         "Sunnyvale",
         "UNITED STATES"
        ],
        [
         2502,
         "",
         ""
        ],
        [
         2503,
         "Albuquerque",
         "UNITED STATES"
        ],
        [
         2504,
         "Roanoke",
         "UNITED STATES"
        ],
        [
         2505,
         "Salt Lake City",
         "UNITED STATES"
        ],
        [
         2506,
         "Trenton",
         "UNITED STATES"
        ],
        [
         2507,
         "El Paso",
         "UNITED STATES"
        ],
        [
         2508,
         "San Antonio",
         "UNITED STATES"
        ],
        [
         2509,
         "North Little Rock",
         "UNITED STATES"
        ],
        [
         2510,
         "Sacramento",
         "UNITED STATES"
        ],
        [
         2511,
         "Phoenix",
         "UNITED STATES"
        ],
        [
         2512,
         "Rockford",
         "UNITED STATES"
        ],
        [
         2513,
         "Amarillo",
         "UNITED STATES"
        ],
        [
         2514,
         "Shreveport",
         "UNITED STATES"
        ],
        [
         2515,
         "Washington",
         "UNITED STATES"
        ],
        [
         2516,
         "Tucson",
         "UNITED STATES"
        ],
        [
         2517,
         "Los Angeles",
         "UNITED STATES"
        ],
        [
         2518,
         "Little Rock",
         "UNITED STATES"
        ],
        [
         2519,
         "Warren",
         "UNITED STATES"
        ],
        [
         2520,
         "Bronx",
         "UNITED STATES"
        ],
        [
         2521,
         "Los Angeles",
         "UNITED STATES"
        ],
        [
         2522,
         "Reno",
         "UNITED STATES"
        ],
        [
         2523,
         "Tempe",
         "UNITED STATES"
        ],
        [
         2524,
         "Shawnee Mission",
         "UNITED STATES"
        ],
        [
         2525,
         "Lafayette",
         "UNITED STATES"
        ],
        [
         2526,
         "Fort Worth",
         "UNITED STATES"
        ],
        [
         2527,
         "Reston",
         "UNITED STATES"
        ],
        [
         2528,
         "Denton",
         "UNITED STATES"
        ],
        [
         2529,
         "Roanoke",
         "UNITED STATES"
        ],
        [
         2530,
         "Asheville",
         "UNITED STATES"
        ],
        [
         2531,
         "Naples",
         "UNITED STATES"
        ],
        [
         2532,
         "Fresno",
         "UNITED STATES"
        ],
        [
         2533,
         "Washington",
         "UNITED STATES"
        ],
        [
         2534,
         "Beaverton",
         "UNITED STATES"
        ],
        [
         2535,
         "Erie",
         "UNITED STATES"
        ],
        [
         2536,
         "Reading",
         "UNITED STATES"
        ],
        [
         2537,
         "Sacramento",
         "UNITED STATES"
        ],
        [
         2538,
         "Louisville",
         "UNITED STATES"
        ],
        [
         2539,
         "Waco",
         "UNITED STATES"
        ],
        [
         2540,
         "Tacoma",
         "UNITED STATES"
        ],
        [
         2541,
         "Nashville",
         "UNITED STATES"
        ],
        [
         2542,
         "New Orleans",
         "UNITED STATES"
        ],
        [
         2543,
         "Jamaica",
         "UNITED STATES"
        ],
        [
         2544,
         "Greensboro",
         "UNITED STATES"
        ],
        [
         2545,
         "Raleigh",
         "UNITED STATES"
        ],
        [
         2546,
         "Richmond",
         "UNITED STATES"
        ],
        [
         2547,
         "Denver",
         "UNITED STATES"
        ],
        [
         2548,
         "Buffalo",
         "UNITED STATES"
        ],
        [
         2549,
         "Charlotte",
         "UNITED STATES"
        ],
        [
         2550,
         "East End",
         "UNITED KINGDOM"
        ],
        [
         2551,
         "Miami",
         "UNITED STATES"
        ],
        [
         2552,
         "Ashley",
         "UNITED KINGDOM"
        ],
        [
         2553,
         "Arlington",
         "UNITED STATES"
        ],
        [
         2554,
         "Des Moines",
         "UNITED STATES"
        ],
        [
         2555,
         "Oakland",
         "UNITED STATES"
        ],
        [
         2556,
         "Erie",
         "UNITED STATES"
        ],
        [
         2557,
         "El Paso",
         "UNITED STATES"
        ],
        [
         2558,
         "Colorado Springs",
         "UNITED STATES"
        ],
        [
         2559,
         "Las Vegas",
         "UNITED STATES"
        ],
        [
         2560,
         "Omaha",
         "UNITED STATES"
        ],
        [
         2561,
         "Houston",
         "UNITED STATES"
        ],
        [
         2562,
         "Fairbanks",
         "UNITED STATES"
        ],
        [
         2563,
         "Annapolis",
         "UNITED STATES"
        ],
        [
         2564,
         "Columbus",
         "UNITED STATES"
        ],
        [
         2565,
         "Washington",
         "UNITED STATES"
        ],
        [
         2566,
         "Syracuse",
         "UNITED STATES"
        ],
        [
         2567,
         "",
         ""
        ],
        [
         2568,
         "Charlotte",
         "UNITED STATES"
        ],
        [
         2569,
         "Weston",
         "UNITED KINGDOM"
        ],
        [
         2570,
         "Charlotte",
         "UNITED STATES"
        ],
        [
         2571,
         "Huntington",
         "UNITED STATES"
        ],
        [
         2572,
         "Albany",
         "UNITED STATES"
        ],
        [
         2573,
         "Atlanta",
         "UNITED STATES"
        ],
        [
         2574,
         "Cincinnati",
         "UNITED STATES"
        ],
        [
         2575,
         "",
         ""
        ],
        [
         2576,
         "Shreveport",
         "UNITED STATES"
        ],
        [
         2577,
         "Detroit",
         "UNITED STATES"
        ],
        [
         2578,
         "New York City",
         "UNITED STATES"
        ],
        [
         2579,
         "El Paso",
         "UNITED STATES"
        ],
        [
         2580,
         "Buffalo",
         "UNITED STATES"
        ],
        [
         2581,
         "Biloxi",
         "UNITED STATES"
        ],
        [
         2582,
         "Lancaster",
         "UNITED STATES"
        ],
        [
         2583,
         "Phoenix",
         "UNITED STATES"
        ],
        [
         2584,
         "Louisville",
         "UNITED STATES"
        ],
        [
         2585,
         "Port Washington",
         "UNITED STATES"
        ],
        [
         2586,
         "Washington",
         "UNITED STATES"
        ],
        [
         2587,
         "Vienna",
         "UNITED STATES"
        ],
        [
         2588,
         "Lubbock",
         "UNITED STATES"
        ],
        [
         2589,
         "Lansing",
         "UNITED STATES"
        ],
        [
         2590,
         "Montgomery",
         "UNITED STATES"
        ],
        [
         2591,
         "New York City",
         "UNITED STATES"
        ],
        [
         2592,
         "Harrisburg",
         "UNITED STATES"
        ],
        [
         2593,
         "",
         ""
        ],
        [
         2594,
         "Tallahassee",
         "UNITED STATES"
        ],
        [
         2595,
         "Glasgow",
         "UNITED KINGDOM"
        ],
        [
         2596,
         "Miami",
         "UNITED STATES"
        ],
        [
         2597,
         "Macon",
         "UNITED STATES"
        ],
        [
         2598,
         "Erie",
         "UNITED STATES"
        ],
        [
         2599,
         "El Paso",
         "UNITED STATES"
        ],
        [
         2600,
         "Harrisburg",
         "UNITED STATES"
        ],
        [
         2601,
         "Clearwater",
         "UNITED STATES"
        ],
        [
         2602,
         "Aston",
         "UNITED KINGDOM"
        ],
        [
         2603,
         "Baton Rouge",
         "UNITED STATES"
        ],
        [
         2604,
         "Zephyrhills",
         "UNITED STATES"
        ],
        [
         2605,
         "Lansing",
         "UNITED STATES"
        ],
        [
         2606,
         "Omaha",
         "UNITED STATES"
        ],
        [
         2607,
         "Washington",
         "UNITED STATES"
        ],
        [
         2608,
         "Knoxville",
         "UNITED STATES"
        ],
        [
         2609,
         "Dallas",
         "UNITED STATES"
        ],
        [
         2610,
         "Lees Summit",
         "UNITED STATES"
        ],
        [
         2611,
         "Odessa",
         "UNITED STATES"
        ],
        [
         2612,
         "Pasadena",
         "UNITED STATES"
        ],
        [
         2613,
         "Preston",
         "UNITED KINGDOM"
        ],
        [
         2614,
         "Sheffield",
         "UNITED KINGDOM"
        ],
        [
         2615,
         "Los Angeles",
         "UNITED STATES"
        ],
        [
         2616,
         "Little Rock",
         "UNITED STATES"
        ],
        [
         2617,
         "Harrisburg",
         "UNITED STATES"
        ],
        [
         2618,
         "Horton",
         "UNITED KINGDOM"
        ],
        [
         2619,
         "Shawnee Mission",
         "UNITED STATES"
        ],
        [
         2620,
         "Atlanta",
         "UNITED STATES"
        ],
        [
         2621,
         "Sacramento",
         "UNITED STATES"
        ],
        [
         2622,
         "Saint Louis",
         "UNITED STATES"
        ],
        [
         2623,
         "Cleveland",
         "UNITED STATES"
        ],
        [
         2624,
         "Newton",
         "UNITED STATES"
        ],
        [
         2625,
         "",
         ""
        ],
        [
         2626,
         "Austin",
         "UNITED STATES"
        ],
        [
         2627,
         "San Diego",
         "UNITED STATES"
        ],
        [
         2628,
         "El Paso",
         "UNITED STATES"
        ],
        [
         2629,
         "Denton",
         "UNITED STATES"
        ],
        [
         2630,
         "",
         ""
        ],
        [
         2631,
         "Yonkers",
         "UNITED STATES"
        ],
        [
         2632,
         "Chattanooga",
         "UNITED STATES"
        ],
        [
         2633,
         "Aston",
         "UNITED KINGDOM"
        ],
        [
         2634,
         "Dayton",
         "UNITED STATES"
        ],
        [
         2635,
         "Sacramento",
         "UNITED STATES"
        ],
        [
         2636,
         "Duluth",
         "UNITED STATES"
        ],
        [
         2637,
         "Allentown",
         "UNITED STATES"
        ],
        [
         2638,
         "Norfolk",
         "UNITED STATES"
        ],
        [
         2639,
         "Honolulu",
         "UNITED STATES"
        ],
        [
         2640,
         "Macon",
         "UNITED STATES"
        ],
        [
         2641,
         "Shawnee Mission",
         "UNITED STATES"
        ],
        [
         2642,
         "San Diego",
         "UNITED STATES"
        ],
        [
         2643,
         "",
         ""
        ],
        [
         2644,
         "Atlanta",
         "UNITED STATES"
        ],
        [
         2645,
         "Peoria",
         "UNITED STATES"
        ],
        [
         2646,
         "Chattanooga",
         "UNITED STATES"
        ],
        [
         2647,
         "Asheville",
         "UNITED STATES"
        ],
        [
         2648,
         "Oklahoma City",
         "UNITED STATES"
        ],
        [
         2649,
         "Detroit",
         "UNITED STATES"
        ],
        [
         2650,
         "Buffalo",
         "UNITED STATES"
        ],
        [
         2651,
         "Amarillo",
         "UNITED STATES"
        ],
        [
         2652,
         "Charleston",
         "UNITED STATES"
        ],
        [
         2653,
         "Evansville",
         "UNITED STATES"
        ],
        [
         2654,
         "Rochester",
         "UNITED STATES"
        ],
        [
         2655,
         "Philadelphia",
         "UNITED STATES"
        ],
        [
         2656,
         "Lawrenceville",
         "UNITED STATES"
        ],
        [
         2657,
         "Shawnee Mission",
         "UNITED STATES"
        ],
        [
         2658,
         "Johnson City",
         "UNITED STATES"
        ],
        [
         2659,
         "Philadelphia",
         "UNITED STATES"
        ],
        [
         2660,
         "San Diego",
         "UNITED STATES"
        ],
        [
         2661,
         "Vancouver",
         "UNITED STATES"
        ],
        [
         2662,
         "Toledo",
         "UNITED STATES"
        ],
        [
         2663,
         "Waterbury",
         "UNITED STATES"
        ],
        [
         2664,
         "",
         ""
        ],
        [
         2665,
         "",
         ""
        ],
        [
         2666,
         "Raleigh",
         "UNITED STATES"
        ],
        [
         2667,
         "Montgomery",
         "UNITED STATES"
        ],
        [
         2668,
         "Jacksonville",
         "UNITED STATES"
        ],
        [
         2669,
         "Columbus",
         "UNITED STATES"
        ],
        [
         2670,
         "Sacramento",
         "UNITED STATES"
        ],
        [
         2671,
         "Fort Wayne",
         "UNITED STATES"
        ],
        [
         2672,
         "Dallas",
         "UNITED STATES"
        ],
        [
         2673,
         "Chicago",
         "UNITED STATES"
        ],
        [
         2674,
         "Maple Plain",
         "UNITED STATES"
        ],
        [
         2675,
         "Rochester",
         "UNITED STATES"
        ],
        [
         2676,
         "Pasadena",
         "UNITED STATES"
        ],
        [
         2677,
         "Memphis",
         "UNITED STATES"
        ],
        [
         2678,
         "Chicago",
         "UNITED STATES"
        ],
        [
         2679,
         "Orlando",
         "UNITED STATES"
        ],
        [
         2680,
         "Lincoln",
         "UNITED STATES"
        ],
        [
         2681,
         "Shreveport",
         "UNITED STATES"
        ],
        [
         2682,
         "Durham",
         "UNITED STATES"
        ],
        [
         2683,
         "Peoria",
         "UNITED STATES"
        ],
        [
         2684,
         "Cincinnati",
         "UNITED STATES"
        ],
        [
         2685,
         "Muskegon",
         "UNITED STATES"
        ],
        [
         2686,
         "Los Angeles",
         "UNITED STATES"
        ],
        [
         2687,
         "San Jose",
         "UNITED STATES"
        ],
        [
         2688,
         "Dallas",
         "UNITED STATES"
        ],
        [
         2689,
         "Conroe",
         "UNITED STATES"
        ],
        [
         2690,
         "Columbus",
         "UNITED STATES"
        ],
        [
         2691,
         "Boston",
         "UNITED STATES"
        ],
        [
         2692,
         "Buffalo",
         "UNITED STATES"
        ],
        [
         2693,
         "Seattle",
         "UNITED STATES"
        ],
        [
         2694,
         "Brooklyn",
         "UNITED STATES"
        ],
        [
         2695,
         "Bronx",
         "UNITED STATES"
        ],
        [
         2696,
         "Burnside",
         "UNITED KINGDOM"
        ],
        [
         2697,
         "Charleston",
         "UNITED STATES"
        ],
        [
         2698,
         "London",
         "UNITED KINGDOM"
        ],
        [
         2699,
         "",
         ""
        ],
        [
         2700,
         "",
         ""
        ],
        [
         2701,
         "Staten Island",
         "UNITED STATES"
        ],
        [
         2702,
         "Garden Grove",
         "UNITED STATES"
        ],
        [
         2703,
         "Columbus",
         "UNITED STATES"
        ],
        [
         2704,
         "Phoenix",
         "UNITED STATES"
        ],
        [
         2705,
         "",
         ""
        ],
        [
         2706,
         "New Orleans",
         "UNITED STATES"
        ],
        [
         2707,
         "Richmond",
         "UNITED STATES"
        ],
        [
         2708,
         "Birmingham",
         "UNITED STATES"
        ],
        [
         2709,
         "Alexandria",
         "UNITED STATES"
        ],
        [
         2710,
         "Tallahassee",
         "UNITED STATES"
        ],
        [
         2711,
         "",
         ""
        ],
        [
         2712,
         "Monroe",
         "UNITED STATES"
        ],
        [
         2713,
         "Dallas",
         "UNITED STATES"
        ],
        [
         2714,
         "Erie",
         "UNITED STATES"
        ],
        [
         2715,
         "Huntsville",
         "UNITED STATES"
        ],
        [
         2716,
         "London",
         "UNITED KINGDOM"
        ],
        [
         2717,
         "Phoenix",
         "UNITED STATES"
        ],
        [
         2718,
         "El Paso",
         "UNITED STATES"
        ],
        [
         2719,
         "Huntsville",
         "UNITED STATES"
        ],
        [
         2720,
         "Racine",
         "UNITED STATES"
        ],
        [
         2721,
         "Baton Rouge",
         "UNITED STATES"
        ],
        [
         2722,
         "Duluth",
         "UNITED STATES"
        ],
        [
         2723,
         "Gainesville",
         "UNITED STATES"
        ],
        [
         2724,
         "Cincinnati",
         "UNITED STATES"
        ],
        [
         2725,
         "Las Vegas",
         "UNITED STATES"
        ],
        [
         2726,
         "",
         ""
        ],
        [
         2727,
         "Aberdeen",
         "UNITED KINGDOM"
        ],
        [
         2728,
         "Washington",
         "UNITED STATES"
        ],
        [
         2729,
         "Lancaster",
         "UNITED STATES"
        ],
        [
         2730,
         "",
         ""
        ],
        [
         2731,
         "Ogden",
         "UNITED STATES"
        ],
        [
         2732,
         "Washington",
         "UNITED STATES"
        ],
        [
         2733,
         "Las Vegas",
         "UNITED STATES"
        ],
        [
         2734,
         "Lexington",
         "UNITED STATES"
        ],
        [
         2735,
         "",
         ""
        ],
        [
         2736,
         "Seaton",
         "UNITED KINGDOM"
        ],
        [
         2737,
         "Seattle",
         "UNITED STATES"
        ],
        [
         2738,
         "Seattle",
         "UNITED STATES"
        ],
        [
         2739,
         "Wilmington",
         "UNITED STATES"
        ],
        [
         2740,
         "Birmingham",
         "UNITED KINGDOM"
        ],
        [
         2741,
         "Roanoke",
         "UNITED STATES"
        ],
        [
         2742,
         "Springfield",
         "UNITED STATES"
        ],
        [
         2743,
         "Seattle",
         "UNITED STATES"
        ],
        [
         2744,
         "Houston",
         "UNITED STATES"
        ],
        [
         2745,
         "Birmingham",
         "UNITED STATES"
        ],
        [
         2746,
         "Cedar Rapids",
         "UNITED STATES"
        ],
        [
         2747,
         "Young America",
         "UNITED STATES"
        ],
        [
         2748,
         "Springfield",
         "UNITED STATES"
        ],
        [
         2749,
         "Knoxville",
         "UNITED STATES"
        ],
        [
         2750,
         "Evansville",
         "UNITED STATES"
        ],
        [
         2751,
         "New York City",
         "UNITED STATES"
        ],
        [
         2752,
         "Vienna",
         "UNITED STATES"
        ],
        [
         2753,
         "Pittsburgh",
         "UNITED STATES"
        ],
        [
         2754,
         "San Antonio",
         "UNITED STATES"
        ],
        [
         2755,
         "",
         ""
        ],
        [
         2756,
         "San Antonio",
         "UNITED STATES"
        ],
        [
         2757,
         "Denver",
         "UNITED STATES"
        ],
        [
         2758,
         "Nashville",
         "UNITED STATES"
        ],
        [
         2759,
         "Pueblo",
         "UNITED STATES"
        ],
        [
         2760,
         "Newton",
         "UNITED STATES"
        ],
        [
         2761,
         "Duluth",
         "UNITED STATES"
        ],
        [
         2762,
         "Garden Grove",
         "UNITED STATES"
        ],
        [
         2763,
         "Jacksonville",
         "UNITED STATES"
        ],
        [
         2764,
         "Lexington",
         "UNITED STATES"
        ],
        [
         2765,
         "Annapolis",
         "UNITED STATES"
        ],
        [
         2766,
         "Grand Forks",
         "UNITED STATES"
        ],
        [
         2767,
         "Saint Petersburg",
         "UNITED STATES"
        ],
        [
         2768,
         "",
         ""
        ],
        [
         2769,
         "Pasadena",
         "UNITED STATES"
        ],
        [
         2770,
         "Shreveport",
         "UNITED STATES"
        ],
        [
         2771,
         "Atlanta",
         "UNITED STATES"
        ],
        [
         2772,
         "Houston",
         "UNITED STATES"
        ],
        [
         2773,
         "Newton",
         "UNITED KINGDOM"
        ],
        [
         2774,
         "Vancouver",
         "UNITED STATES"
        ],
        [
         2775,
         "Washington",
         "UNITED STATES"
        ],
        [
         2776,
         "Chicago",
         "UNITED STATES"
        ],
        [
         2777,
         "Memphis",
         "UNITED STATES"
        ],
        [
         2778,
         "New York City",
         "UNITED STATES"
        ],
        [
         2779,
         "Houston",
         "UNITED STATES"
        ],
        [
         2780,
         "Newport Beach",
         "UNITED STATES"
        ],
        [
         2781,
         "",
         ""
        ],
        [
         2782,
         "",
         ""
        ],
        [
         2783,
         "Honolulu",
         "UNITED STATES"
        ],
        [
         2784,
         "",
         ""
        ],
        [
         2785,
         "Amarillo",
         "UNITED STATES"
        ],
        [
         2786,
         "",
         ""
        ],
        [
         2787,
         "",
         ""
        ],
        [
         2788,
         "New York City",
         "UNITED STATES"
        ],
        [
         2789,
         "New York City",
         "UNITED STATES"
        ],
        [
         2790,
         "Sheffield",
         "UNITED KINGDOM"
        ],
        [
         2791,
         "Daytona Beach",
         "UNITED STATES"
        ],
        [
         2792,
         "Washington",
         "UNITED STATES"
        ],
        [
         2793,
         "San Jose",
         "UNITED STATES"
        ],
        [
         2794,
         "Harrisburg",
         "UNITED STATES"
        ],
        [
         2795,
         "Kirkton",
         "UNITED KINGDOM"
        ],
        [
         2796,
         "Kingston",
         "UNITED KINGDOM"
        ],
        [
         2797,
         "San Diego",
         "UNITED STATES"
        ],
        [
         2798,
         "Saint Petersburg",
         "UNITED STATES"
        ],
        [
         2799,
         "Dallas",
         "UNITED STATES"
        ],
        [
         2800,
         "Atlanta",
         "UNITED STATES"
        ],
        [
         2801,
         "Atlanta",
         "UNITED STATES"
        ],
        [
         2802,
         "San Antonio",
         "UNITED STATES"
        ],
        [
         2803,
         "Austin",
         "UNITED STATES"
        ],
        [
         2804,
         "Manchester",
         "UNITED KINGDOM"
        ],
        [
         2805,
         "Nashville",
         "UNITED STATES"
        ],
        [
         2806,
         "Los Angeles",
         "UNITED STATES"
        ],
        [
         2807,
         "",
         ""
        ],
        [
         2808,
         "Louisville",
         "UNITED STATES"
        ],
        [
         2809,
         "Beaufort",
         "UNITED STATES"
        ],
        [
         2810,
         "Columbus",
         "UNITED STATES"
        ],
        [
         2811,
         "Columbus",
         "UNITED STATES"
        ],
        [
         2812,
         "Charleston",
         "UNITED STATES"
        ],
        [
         2813,
         "Beaverton",
         "UNITED STATES"
        ],
        [
         2814,
         "Portland",
         "UNITED STATES"
        ],
        [
         2815,
         "Saint Louis",
         "UNITED STATES"
        ],
        [
         2816,
         "",
         ""
        ],
        [
         2817,
         "Cincinnati",
         "UNITED STATES"
        ],
        [
         2818,
         "Marston",
         "UNITED KINGDOM"
        ],
        [
         2819,
         "Whittier",
         "UNITED STATES"
        ],
        [
         2820,
         "Brooklyn",
         "UNITED STATES"
        ],
        [
         2821,
         "Saint Louis",
         "UNITED STATES"
        ],
        [
         2822,
         "Nashville",
         "UNITED STATES"
        ],
        [
         2823,
         "Youngstown",
         "UNITED STATES"
        ],
        [
         2824,
         "Philadelphia",
         "UNITED STATES"
        ],
        [
         2825,
         "Charlotte",
         "UNITED STATES"
        ],
        [
         2826,
         "Columbia",
         "UNITED STATES"
        ],
        [
         2827,
         "Birmingham",
         "UNITED STATES"
        ],
        [
         2828,
         "Charleston",
         "UNITED STATES"
        ],
        [
         2829,
         "Tacoma",
         "UNITED STATES"
        ],
        [
         2830,
         "",
         ""
        ],
        [
         2831,
         "Montgomery",
         "UNITED STATES"
        ],
        [
         2832,
         "Craigavon",
         "UNITED KINGDOM"
        ],
        [
         2833,
         "Fresno",
         "UNITED STATES"
        ],
        [
         2834,
         "Honolulu",
         "UNITED STATES"
        ],
        [
         2835,
         "Arlington",
         "UNITED STATES"
        ],
        [
         2836,
         "Monroe",
         "UNITED STATES"
        ],
        [
         2837,
         "Fort Worth",
         "UNITED STATES"
        ],
        [
         2838,
         "Colorado Springs",
         "UNITED STATES"
        ],
        [
         2839,
         "Pittsburgh",
         "UNITED STATES"
        ],
        [
         2840,
         "",
         ""
        ],
        [
         2841,
         "Jackson",
         "UNITED STATES"
        ],
        [
         2842,
         "Raleigh",
         "UNITED STATES"
        ],
        [
         2843,
         "Milwaukee",
         "UNITED STATES"
        ],
        [
         2844,
         "El Paso",
         "UNITED STATES"
        ],
        [
         2845,
         "Anchorage",
         "UNITED STATES"
        ],
        [
         2846,
         "El Paso",
         "UNITED STATES"
        ],
        [
         2847,
         "Asheville",
         "UNITED STATES"
        ],
        [
         2848,
         "Sacramento",
         "UNITED STATES"
        ],
        [
         2849,
         "Montgomery",
         "UNITED STATES"
        ],
        [
         2850,
         "Palmdale",
         "UNITED STATES"
        ],
        [
         2851,
         "Shreveport",
         "UNITED STATES"
        ],
        [
         2852,
         "Fort Myers",
         "UNITED STATES"
        ],
        [
         2853,
         "Houston",
         "UNITED STATES"
        ],
        [
         2854,
         "Macon",
         "UNITED STATES"
        ],
        [
         2855,
         "Carlton",
         "UNITED KINGDOM"
        ],
        [
         2856,
         "Waco",
         "UNITED STATES"
        ],
        [
         2857,
         "Pittsburgh",
         "UNITED STATES"
        ],
        [
         2858,
         "Fresno",
         "UNITED STATES"
        ],
        [
         2859,
         "Merton",
         "UNITED KINGDOM"
        ],
        [
         2860,
         "Louisville",
         "UNITED STATES"
        ],
        [
         2861,
         "Rockford",
         "UNITED STATES"
        ],
        [
         2862,
         "Saint Louis",
         "UNITED STATES"
        ],
        [
         2863,
         "Stamford",
         "UNITED STATES"
        ],
        [
         2864,
         "Washington",
         "UNITED STATES"
        ],
        [
         2865,
         "",
         ""
        ],
        [
         2866,
         "Memphis",
         "UNITED STATES"
        ],
        [
         2867,
         "Charleston",
         "UNITED STATES"
        ],
        [
         2868,
         "Santa Rosa",
         "UNITED STATES"
        ],
        [
         2869,
         "Lansing",
         "UNITED STATES"
        ],
        [
         2870,
         "Honolulu",
         "UNITED STATES"
        ],
        [
         2871,
         "Cedar Rapids",
         "UNITED STATES"
        ],
        [
         2872,
         "Peoria",
         "UNITED STATES"
        ],
        [
         2873,
         "New York City",
         "UNITED STATES"
        ],
        [
         2874,
         "Denver",
         "UNITED STATES"
        ],
        [
         2875,
         "Tacoma",
         "UNITED STATES"
        ],
        [
         2876,
         "Wichita",
         "UNITED STATES"
        ],
        [
         2877,
         "Colorado Springs",
         "UNITED STATES"
        ],
        [
         2878,
         "Aurora",
         "UNITED STATES"
        ],
        [
         2879,
         "Muskegon",
         "UNITED STATES"
        ],
        [
         2880,
         "El Paso",
         "UNITED STATES"
        ],
        [
         2881,
         "Grand Rapids",
         "UNITED STATES"
        ],
        [
         2882,
         "Chicago",
         "UNITED STATES"
        ],
        [
         2883,
         "Albany",
         "UNITED STATES"
        ],
        [
         2884,
         "Garden Grove",
         "UNITED STATES"
        ],
        [
         2885,
         "Craigavon",
         "UNITED KINGDOM"
        ],
        [
         2886,
         "Tulsa",
         "UNITED STATES"
        ],
        [
         2887,
         "Grand Rapids",
         "UNITED STATES"
        ],
        [
         2888,
         "Mobile",
         "UNITED STATES"
        ],
        [
         2889,
         "Mobile",
         "UNITED STATES"
        ],
        [
         2890,
         "Washington",
         "UNITED STATES"
        ],
        [
         2891,
         "Philadelphia",
         "UNITED STATES"
        ],
        [
         2892,
         "Round Rock",
         "UNITED STATES"
        ],
        [
         2893,
         "Baltimore",
         "UNITED STATES"
        ],
        [
         2894,
         "London",
         "UNITED KINGDOM"
        ],
        [
         2895,
         "Las Vegas",
         "UNITED STATES"
        ],
        [
         2896,
         "Vancouver",
         "UNITED STATES"
        ],
        [
         2897,
         "Omaha",
         "UNITED STATES"
        ],
        [
         2898,
         "Great Neck",
         "UNITED STATES"
        ],
        [
         2899,
         "Stamford",
         "UNITED STATES"
        ],
        [
         2900,
         "Milwaukee",
         "UNITED STATES"
        ],
        [
         2901,
         "Paterson",
         "UNITED STATES"
        ],
        [
         2902,
         "Honolulu",
         "UNITED STATES"
        ],
        [
         2903,
         "",
         ""
        ],
        [
         2904,
         "Memphis",
         "UNITED STATES"
        ],
        [
         2905,
         "Dallas",
         "UNITED STATES"
        ],
        [
         2906,
         "Sadar Bazar",
         "INDIA"
        ],
        [
         2907,
         "San Jose",
         "UNITED STATES"
        ],
        [
         2908,
         "New York City",
         "UNITED STATES"
        ],
        [
         2909,
         "",
         ""
        ],
        [
         2910,
         "Evansville",
         "UNITED STATES"
        ],
        [
         2911,
         "Tempe",
         "UNITED STATES"
        ],
        [
         2912,
         "",
         ""
        ],
        [
         2913,
         "Boulder",
         "UNITED STATES"
        ],
        [
         2914,
         "Lincoln",
         "UNITED STATES"
        ],
        [
         2915,
         "Melbourne",
         "UNITED STATES"
        ],
        [
         2916,
         "Kansas City",
         "UNITED STATES"
        ],
        [
         2917,
         "Boca Raton",
         "UNITED STATES"
        ],
        [
         2918,
         "Sheffield",
         "UNITED KINGDOM"
        ],
        [
         2919,
         "Washington",
         "UNITED STATES"
        ],
        [
         2920,
         "Lincoln",
         "UNITED STATES"
        ],
        [
         2921,
         "Toledo",
         "UNITED STATES"
        ],
        [
         2922,
         "Dulles",
         "UNITED STATES"
        ],
        [
         2923,
         "Bellevue",
         "UNITED STATES"
        ],
        [
         2924,
         "Boston",
         "UNITED STATES"
        ],
        [
         2925,
         "Great Neck",
         "UNITED STATES"
        ],
        [
         2926,
         "Columbus",
         "UNITED STATES"
        ],
        [
         2927,
         "Dallas",
         "UNITED STATES"
        ],
        [
         2928,
         "Sheffield",
         "UNITED KINGDOM"
        ],
        [
         2929,
         "Wootton",
         "UNITED KINGDOM"
        ],
        [
         2930,
         "Joliet",
         "UNITED STATES"
        ],
        [
         2931,
         "New Haven",
         "UNITED STATES"
        ],
        [
         2932,
         "Birmingham",
         "UNITED KINGDOM"
        ],
        [
         2933,
         "Boise",
         "UNITED STATES"
        ],
        [
         2934,
         "Mesquite",
         "UNITED STATES"
        ],
        [
         2935,
         "Columbus",
         "UNITED STATES"
        ],
        [
         2936,
         "Oceanside",
         "UNITED STATES"
        ],
        [
         2937,
         "Jackson",
         "UNITED STATES"
        ],
        [
         2938,
         "Thorpe",
         "UNITED KINGDOM"
        ],
        [
         2939,
         "Indianapolis",
         "UNITED STATES"
        ],
        [
         2940,
         "Tulsa",
         "UNITED STATES"
        ],
        [
         2941,
         "Saginaw",
         "UNITED STATES"
        ],
        [
         2942,
         "Norton",
         "UNITED KINGDOM"
        ],
        [
         2943,
         "Buffalo",
         "UNITED STATES"
        ],
        [
         2944,
         "Murfreesboro",
         "UNITED STATES"
        ],
        [
         2945,
         "Shawnee Mission",
         "UNITED STATES"
        ],
        [
         2946,
         "Salinas",
         "UNITED STATES"
        ],
        [
         2947,
         "Salt Lake City",
         "UNITED STATES"
        ],
        [
         2948,
         "Portland",
         "UNITED STATES"
        ],
        [
         2949,
         "Washington",
         "UNITED STATES"
        ],
        [
         2950,
         "Brooklyn",
         "UNITED STATES"
        ],
        [
         2951,
         "Newark",
         "UNITED STATES"
        ],
        [
         2952,
         "Oklahoma City",
         "UNITED STATES"
        ],
        [
         2953,
         "Middleton",
         "UNITED KINGDOM"
        ],
        [
         2954,
         "Fort Smith",
         "UNITED STATES"
        ],
        [
         2955,
         "Aurora",
         "UNITED STATES"
        ],
        [
         2956,
         "Fort Worth",
         "UNITED STATES"
        ],
        [
         2957,
         "Tulsa",
         "UNITED STATES"
        ],
        [
         2958,
         "",
         ""
        ],
        [
         2959,
         "Portland",
         "UNITED STATES"
        ],
        [
         2960,
         "Columbia",
         "UNITED STATES"
        ],
        [
         2961,
         "Saint Paul",
         "UNITED STATES"
        ],
        [
         2962,
         "Huntington",
         "UNITED STATES"
        ],
        [
         2963,
         "Sterling",
         "UNITED STATES"
        ],
        [
         2964,
         "Chesapeake",
         "UNITED STATES"
        ],
        [
         2965,
         "Birmingham",
         "UNITED STATES"
        ],
        [
         2966,
         "",
         ""
        ],
        [
         2967,
         "Springfield",
         "UNITED STATES"
        ],
        [
         2968,
         "Savannah",
         "UNITED STATES"
        ],
        [
         2969,
         "",
         ""
        ],
        [
         2970,
         "Tampa",
         "UNITED STATES"
        ],
        [
         2971,
         "San Bernardino",
         "UNITED STATES"
        ],
        [
         2972,
         "Staten Island",
         "UNITED STATES"
        ],
        [
         2973,
         "Philadelphia",
         "UNITED STATES"
        ],
        [
         2974,
         "Mountain View",
         "UNITED STATES"
        ],
        [
         2975,
         "Ocala",
         "UNITED STATES"
        ],
        [
         2976,
         "Houston",
         "UNITED STATES"
        ],
        [
         2977,
         "San Diego",
         "UNITED STATES"
        ],
        [
         2978,
         "Topeka",
         "UNITED STATES"
        ],
        [
         2979,
         "Los Angeles",
         "UNITED STATES"
        ],
        [
         2980,
         "Wilkes Barre",
         "UNITED STATES"
        ],
        [
         2981,
         "Punta Gorda",
         "UNITED STATES"
        ],
        [
         2982,
         "Colorado Springs",
         "UNITED STATES"
        ],
        [
         2983,
         "Rochester",
         "UNITED STATES"
        ],
        [
         2984,
         "Washington",
         "UNITED STATES"
        ],
        [
         2985,
         "Savannah",
         "UNITED STATES"
        ],
        [
         2986,
         "Aurora",
         "UNITED STATES"
        ],
        [
         2987,
         "Paterson",
         "UNITED STATES"
        ],
        [
         2988,
         "Lakeland",
         "UNITED STATES"
        ],
        [
         2989,
         "Milwaukee",
         "UNITED STATES"
        ],
        [
         2990,
         "Huntington",
         "UNITED STATES"
        ],
        [
         2991,
         "Charlotte",
         "UNITED STATES"
        ],
        [
         2992,
         "Denton",
         "UNITED STATES"
        ],
        [
         2993,
         "Orlando",
         "UNITED STATES"
        ],
        [
         2994,
         "San Antonio",
         "UNITED STATES"
        ],
        [
         2995,
         "Newton",
         "UNITED STATES"
        ],
        [
         2996,
         "Nashville",
         "UNITED STATES"
        ],
        [
         2997,
         "Daytona Beach",
         "UNITED STATES"
        ],
        [
         2998,
         "Virginia Beach",
         "UNITED STATES"
        ],
        [
         2999,
         "Brampton",
         "UNITED KINGDOM"
        ],
        [
         3000,
         "Rochester",
         "UNITED STATES"
        ]
       ],
       "datasetInfos": [],
       "dbfsResultPath": null,
       "isJsonSchema": true,
       "metadata": {},
       "overflow": false,
       "plotOptions": {
        "customPlotOptions": {},
        "displayType": "table",
        "pivotAggregation": null,
        "pivotColumns": null,
        "xColumns": null,
        "yColumns": null
       },
       "removedWidgets": [],
       "schema": [
        {
         "metadata": "{}",
         "name": "branch_id",
         "type": "\"integer\""
        },
        {
         "metadata": "{}",
         "name": "branch_city",
         "type": "\"string\""
        },
        {
         "metadata": "{}",
         "name": "branch_country",
         "type": "\"string\""
        }
       ],
       "type": "table"
      }
     },
     "output_type": "display_data"
    }
   ],
   "source": [
    "df_ans = spark.sql(\"select branch_id,branch_city,UPPER(trim(branch_country)) as branch_country from bronzelayer.branch where branch_id is not null and merge_flag=false\")\n",
    "display(df_ans)"
   ]
  },
  {
   "cell_type": "markdown",
   "metadata": {
    "application/vnd.databricks.v1+cell": {
     "cellMetadata": {},
     "inputWidgets": {},
     "nuid": "1e753a9d-e238-40f4-a403-ae4fdb688bb0",
     "showTitle": false,
     "title": ""
    }
   },
   "source": [
    "Merge into silver layer table "
   ]
  },
  {
   "cell_type": "code",
   "execution_count": 0,
   "metadata": {
    "application/vnd.databricks.v1+cell": {
     "cellMetadata": {
      "byteLimit": 2048000,
      "rowLimit": 10000
     },
     "inputWidgets": {},
     "nuid": "d1493cc0-d059-4f15-af93-8ff89e661e23",
     "showTitle": false,
     "title": ""
    }
   },
   "outputs": [
    {
     "output_type": "execute_result",
     "data": {
      "text/plain": [
       "DataFrame[num_affected_rows: bigint, num_updated_rows: bigint, num_deleted_rows: bigint, num_inserted_rows: bigint]"
      ]
     },
     "execution_count": 16,
     "metadata": {},
     "output_type": "execute_result"
    }
   ],
   "source": [
    "df_ans.createOrReplaceTempView(\"clean_branch\")\n",
    "\n",
    "spark.sql(\"MERGE INTO silverlayer.branch as t using clean_branch as s on t.branch_id = s.branch_id when matched then update set t.branch_country = s.branch_country,t.branch_city = s.branch_city,t.merged_timestamp = current_timestamp() when not matched then insert (branch_id,branch_country,branch_city,merged_timestamp) values (s.branch_id,s.branch_country,s.branch_city,current_timestamp())\")"
   ]
  },
  {
   "cell_type": "markdown",
   "metadata": {
    "application/vnd.databricks.v1+cell": {
     "cellMetadata": {},
     "inputWidgets": {},
     "nuid": "8c412bd6-161e-4b1e-98cc-a282dcc01207",
     "showTitle": false,
     "title": ""
    }
   },
   "source": [
    "Update the merged flag in the bronzelayer table"
   ]
  },
  {
   "cell_type": "code",
   "execution_count": 0,
   "metadata": {
    "application/vnd.databricks.v1+cell": {
     "cellMetadata": {
      "byteLimit": 2048000,
      "implicitDf": true,
      "rowLimit": 10000
     },
     "inputWidgets": {},
     "nuid": "7316c922-4a27-488b-ab60-74de5e10ab52",
     "showTitle": false,
     "title": ""
    }
   },
   "outputs": [
    {
     "output_type": "display_data",
     "data": {
      "text/html": [
       "<style scoped>\n",
       "  .table-result-container {\n",
       "    max-height: 300px;\n",
       "    overflow: auto;\n",
       "  }\n",
       "  table, th, td {\n",
       "    border: 1px solid black;\n",
       "    border-collapse: collapse;\n",
       "  }\n",
       "  th, td {\n",
       "    padding: 5px;\n",
       "  }\n",
       "  th {\n",
       "    text-align: left;\n",
       "  }\n",
       "</style><div class='table-result-container'><table class='table-result'><thead style='background-color: white'><tr><th>branch_id</th><th>branch_country</th><th>branch_city</th><th>merged_timestamp</th></tr></thead><tbody><tr><td>2001</td><td>UNITED STATES</td><td>Seattle</td><td>2024-01-07T10:51:20.318Z</td></tr><tr><td>2002</td><td>UNITED STATES</td><td>Huntington</td><td>2024-01-07T10:51:20.318Z</td></tr><tr><td>2003</td><td>UNITED STATES</td><td>Littleton</td><td>2024-01-07T10:51:20.318Z</td></tr><tr><td>2004</td><td>UNITED STATES</td><td>Tampa</td><td>2024-01-07T10:51:20.318Z</td></tr><tr><td>2005</td><td>UNITED STATES</td><td>Glendale</td><td>2024-01-07T10:51:20.318Z</td></tr><tr><td>2006</td><td>UNITED KINGDOM</td><td>Kirkton</td><td>2024-01-07T10:51:20.318Z</td></tr><tr><td>2007</td><td>UNITED STATES</td><td>New York City</td><td>2024-01-07T10:51:20.318Z</td></tr><tr><td>2008</td><td></td><td></td><td>2024-01-07T10:51:20.318Z</td></tr><tr><td>2009</td><td>UNITED STATES</td><td>Austin</td><td>2024-01-07T10:51:20.318Z</td></tr><tr><td>2010</td><td>UNITED STATES</td><td>Huntsville</td><td>2024-01-07T10:51:20.318Z</td></tr><tr><td>2011</td><td>UNITED STATES</td><td>Sacramento</td><td>2024-01-07T10:51:20.318Z</td></tr><tr><td>2012</td><td>UNITED STATES</td><td>Richmond</td><td>2024-01-07T10:51:20.318Z</td></tr><tr><td>2013</td><td>UNITED STATES</td><td>Santa Monica</td><td>2024-01-07T10:51:20.318Z</td></tr><tr><td>2014</td><td>UNITED KINGDOM</td><td>Bristol</td><td>2024-01-07T10:51:20.318Z</td></tr><tr><td>2015</td><td></td><td></td><td>2024-01-07T10:51:20.318Z</td></tr><tr><td>2016</td><td>UNITED STATES</td><td>Newton</td><td>2024-01-07T10:51:20.318Z</td></tr><tr><td>2017</td><td>UNITED KINGDOM</td><td>Dean</td><td>2024-01-07T10:51:20.318Z</td></tr><tr><td>2018</td><td>UNITED STATES</td><td>Knoxville</td><td>2024-01-07T10:51:20.318Z</td></tr><tr><td>2019</td><td>UNITED STATES</td><td>Wilkes Barre</td><td>2024-01-07T10:51:20.318Z</td></tr><tr><td>2020</td><td>UNITED STATES</td><td>Columbia</td><td>2024-01-07T10:51:20.318Z</td></tr><tr><td>2021</td><td>UNITED STATES</td><td>Monticello</td><td>2024-01-07T10:51:20.318Z</td></tr><tr><td>2022</td><td>UNITED STATES</td><td>Austin</td><td>2024-01-07T10:51:20.318Z</td></tr><tr><td>2023</td><td>UNITED STATES</td><td>Washington</td><td>2024-01-07T10:51:20.318Z</td></tr><tr><td>2024</td><td>UNITED STATES</td><td>Colorado Springs</td><td>2024-01-07T10:51:20.318Z</td></tr><tr><td>2025</td><td></td><td></td><td>2024-01-07T10:51:20.318Z</td></tr><tr><td>2026</td><td>UNITED STATES</td><td>Tucson</td><td>2024-01-07T10:51:20.318Z</td></tr><tr><td>2027</td><td>UNITED STATES</td><td>Lakeland</td><td>2024-01-07T10:51:20.318Z</td></tr><tr><td>2028</td><td>UNITED STATES</td><td>Detroit</td><td>2024-01-07T10:51:20.318Z</td></tr><tr><td>2029</td><td>UNITED STATES</td><td>Schaumburg</td><td>2024-01-07T10:51:20.318Z</td></tr><tr><td>2030</td><td>UNITED STATES</td><td>Reston</td><td>2024-01-07T10:51:20.318Z</td></tr><tr><td>2031</td><td>UNITED KINGDOM</td><td>Twyford</td><td>2024-01-07T10:51:20.318Z</td></tr><tr><td>2032</td><td>UNITED STATES</td><td>Houston</td><td>2024-01-07T10:51:20.318Z</td></tr><tr><td>2033</td><td>UNITED KINGDOM</td><td>Wirral</td><td>2024-01-07T10:51:20.318Z</td></tr><tr><td>2034</td><td>UNITED STATES</td><td>Madison</td><td>2024-01-07T10:51:20.318Z</td></tr><tr><td>2035</td><td>UNITED STATES</td><td>Bronx</td><td>2024-01-07T10:51:20.318Z</td></tr><tr><td>2036</td><td>UNITED STATES</td><td>Bronx</td><td>2024-01-07T10:51:20.318Z</td></tr><tr><td>2037</td><td>UNITED KINGDOM</td><td>Carlton</td><td>2024-01-07T10:51:20.318Z</td></tr><tr><td>2038</td><td>UNITED STATES</td><td>Garland</td><td>2024-01-07T10:51:20.318Z</td></tr><tr><td>2039</td><td>UNITED STATES</td><td>Lincoln</td><td>2024-01-07T10:51:20.318Z</td></tr><tr><td>2040</td><td>UNITED KINGDOM</td><td>London</td><td>2024-01-07T10:51:20.318Z</td></tr><tr><td>2041</td><td>UNITED KINGDOM</td><td>London</td><td>2024-01-07T10:51:20.318Z</td></tr><tr><td>2042</td><td>UNITED STATES</td><td>Dallas</td><td>2024-01-07T10:51:20.318Z</td></tr><tr><td>2043</td><td>UNITED STATES</td><td>Scranton</td><td>2024-01-07T10:51:20.318Z</td></tr><tr><td>2044</td><td></td><td></td><td>2024-01-07T10:51:20.318Z</td></tr><tr><td>2045</td><td>UNITED STATES</td><td>Huntington</td><td>2024-01-07T10:51:20.318Z</td></tr><tr><td>2046</td><td>UNITED STATES</td><td>Sacramento</td><td>2024-01-07T10:51:20.318Z</td></tr><tr><td>2047</td><td>UNITED STATES</td><td>Newark</td><td>2024-01-07T10:51:20.318Z</td></tr><tr><td>2048</td><td>UNITED STATES</td><td>Las Vegas</td><td>2024-01-07T10:51:20.318Z</td></tr><tr><td>2049</td><td>UNITED STATES</td><td>New York City</td><td>2024-01-07T10:51:20.318Z</td></tr><tr><td>2050</td><td>UNITED STATES</td><td>San Diego</td><td>2024-01-07T10:51:20.318Z</td></tr><tr><td>2051</td><td>UNITED STATES</td><td>Shreveport</td><td>2024-01-07T10:51:20.318Z</td></tr><tr><td>2052</td><td>UNITED STATES</td><td>Knoxville</td><td>2024-01-07T10:51:20.318Z</td></tr><tr><td>2053</td><td>UNITED STATES</td><td>Fargo</td><td>2024-01-07T10:51:20.318Z</td></tr><tr><td>2054</td><td>UNITED STATES</td><td>Atlanta</td><td>2024-01-07T10:51:20.318Z</td></tr><tr><td>2055</td><td>UNITED STATES</td><td>Birmingham</td><td>2024-01-07T10:51:20.318Z</td></tr><tr><td>2056</td><td>UNITED STATES</td><td>Newport News</td><td>2024-01-07T10:51:20.318Z</td></tr><tr><td>2057</td><td>UNITED STATES</td><td>Denver</td><td>2024-01-07T10:51:20.318Z</td></tr><tr><td>2058</td><td>UNITED STATES</td><td>Seattle</td><td>2024-01-07T10:51:20.318Z</td></tr><tr><td>2059</td><td>UNITED STATES</td><td>Rockford</td><td>2024-01-07T10:51:20.318Z</td></tr><tr><td>2060</td><td>UNITED STATES</td><td>Portland</td><td>2024-01-07T10:51:20.318Z</td></tr><tr><td>2061</td><td>INDIA</td><td>Sadar Bazar</td><td>2024-01-07T10:51:20.318Z</td></tr><tr><td>2062</td><td>UNITED STATES</td><td>Bethlehem</td><td>2024-01-07T10:51:20.318Z</td></tr><tr><td>2063</td><td>UNITED STATES</td><td>Charlotte</td><td>2024-01-07T10:51:20.318Z</td></tr><tr><td>2064</td><td>UNITED STATES</td><td>Springfield</td><td>2024-01-07T10:51:20.318Z</td></tr><tr><td>2065</td><td>UNITED STATES</td><td>Asheville</td><td>2024-01-07T10:51:20.318Z</td></tr><tr><td>2066</td><td>UNITED STATES</td><td>Madison</td><td>2024-01-07T10:51:20.318Z</td></tr><tr><td>2067</td><td>UNITED STATES</td><td>Cedar Rapids</td><td>2024-01-07T10:51:20.318Z</td></tr><tr><td>2068</td><td>UNITED STATES</td><td>Fort Worth</td><td>2024-01-07T10:51:20.318Z</td></tr><tr><td>2069</td><td>UNITED STATES</td><td>Dallas</td><td>2024-01-07T10:51:20.318Z</td></tr><tr><td>2070</td><td>UNITED STATES</td><td>Fresno</td><td>2024-01-07T10:51:20.318Z</td></tr><tr><td>2071</td><td>UNITED STATES</td><td>Amarillo</td><td>2024-01-07T10:51:20.318Z</td></tr><tr><td>2072</td><td>UNITED STATES</td><td>Los Angeles</td><td>2024-01-07T10:51:20.318Z</td></tr><tr><td>2073</td><td>UNITED STATES</td><td>Rochester</td><td>2024-01-07T10:51:20.318Z</td></tr><tr><td>2074</td><td>UNITED STATES</td><td>Irving</td><td>2024-01-07T10:51:20.318Z</td></tr><tr><td>2075</td><td>UNITED STATES</td><td>Roanoke</td><td>2024-01-07T10:51:20.318Z</td></tr><tr><td>2076</td><td>UNITED STATES</td><td>Washington</td><td>2024-01-07T10:51:20.318Z</td></tr><tr><td>2077</td><td>UNITED STATES</td><td>Grand Forks</td><td>2024-01-07T10:51:20.318Z</td></tr><tr><td>2078</td><td>UNITED STATES</td><td>Birmingham</td><td>2024-01-07T10:51:20.318Z</td></tr><tr><td>2079</td><td>UNITED STATES</td><td>Birmingham</td><td>2024-01-07T10:51:20.318Z</td></tr><tr><td>2080</td><td>UNITED STATES</td><td>Denver</td><td>2024-01-07T10:51:20.318Z</td></tr><tr><td>2081</td><td>UNITED STATES</td><td>Chicago</td><td>2024-01-07T10:51:20.318Z</td></tr><tr><td>2082</td><td>UNITED STATES</td><td>Fresno</td><td>2024-01-07T10:51:20.318Z</td></tr><tr><td>2083</td><td>UNITED STATES</td><td>Washington</td><td>2024-01-07T10:51:20.318Z</td></tr><tr><td>2084</td><td>UNITED STATES</td><td>Charlotte</td><td>2024-01-07T10:51:20.318Z</td></tr><tr><td>2085</td><td>UNITED STATES</td><td>Detroit</td><td>2024-01-07T10:51:20.318Z</td></tr><tr><td>2086</td><td>UNITED STATES</td><td>Miami</td><td>2024-01-07T10:51:20.318Z</td></tr><tr><td>2087</td><td>UNITED KINGDOM</td><td>Kingston</td><td>2024-01-07T10:51:20.318Z</td></tr><tr><td>2088</td><td></td><td></td><td>2024-01-07T10:51:20.318Z</td></tr><tr><td>2089</td><td>UNITED STATES</td><td>Van Nuys</td><td>2024-01-07T10:51:20.318Z</td></tr><tr><td>2090</td><td>UNITED STATES</td><td>Carlsbad</td><td>2024-01-07T10:51:20.318Z</td></tr><tr><td>2091</td><td>UNITED STATES</td><td>Silver Spring</td><td>2024-01-07T10:51:20.318Z</td></tr><tr><td>2092</td><td>UNITED STATES</td><td>Salt Lake City</td><td>2024-01-07T10:51:20.318Z</td></tr><tr><td>2093</td><td>UNITED STATES</td><td>Las Vegas</td><td>2024-01-07T10:51:20.318Z</td></tr><tr><td>2094</td><td>UNITED STATES</td><td>Newark</td><td>2024-01-07T10:51:20.318Z</td></tr><tr><td>2095</td><td>UNITED STATES</td><td>Manassas</td><td>2024-01-07T10:51:20.318Z</td></tr><tr><td>2096</td><td>UNITED STATES</td><td>Stockton</td><td>2024-01-07T10:51:20.318Z</td></tr><tr><td>2097</td><td>UNITED STATES</td><td>Durham</td><td>2024-01-07T10:51:20.318Z</td></tr><tr><td>2098</td><td>UNITED STATES</td><td>Los Angeles</td><td>2024-01-07T10:51:20.318Z</td></tr><tr><td>2099</td><td>UNITED STATES</td><td>Honolulu</td><td>2024-01-07T10:51:20.318Z</td></tr><tr><td>2100</td><td>UNITED STATES</td><td>Richmond</td><td>2024-01-07T10:51:20.318Z</td></tr><tr><td>2101</td><td>UNITED STATES</td><td>Corona</td><td>2024-01-07T10:51:20.318Z</td></tr><tr><td>2102</td><td>UNITED STATES</td><td>Chicago</td><td>2024-01-07T10:51:20.318Z</td></tr><tr><td>2103</td><td>UNITED STATES</td><td>Phoenix</td><td>2024-01-07T10:51:20.318Z</td></tr><tr><td>2104</td><td>UNITED STATES</td><td>Naples</td><td>2024-01-07T10:51:20.318Z</td></tr><tr><td>2105</td><td>UNITED STATES</td><td>Baton Rouge</td><td>2024-01-07T10:51:20.318Z</td></tr><tr><td>2106</td><td>UNITED STATES</td><td>Corona</td><td>2024-01-07T10:51:20.318Z</td></tr><tr><td>2107</td><td>UNITED STATES</td><td>New Orleans</td><td>2024-01-07T10:51:20.318Z</td></tr><tr><td>2108</td><td>UNITED STATES</td><td>Washington</td><td>2024-01-07T10:51:20.318Z</td></tr><tr><td>2109</td><td>UNITED STATES</td><td>Mobile</td><td>2024-01-07T10:51:20.318Z</td></tr><tr><td>2110</td><td>UNITED STATES</td><td>Carson City</td><td>2024-01-07T10:51:20.318Z</td></tr><tr><td>2111</td><td>UNITED STATES</td><td>Fort Worth</td><td>2024-01-07T10:51:20.318Z</td></tr><tr><td>2112</td><td>UNITED STATES</td><td>Philadelphia</td><td>2024-01-07T10:51:20.318Z</td></tr><tr><td>2113</td><td>UNITED STATES</td><td>Springfield</td><td>2024-01-07T10:51:20.318Z</td></tr><tr><td>2114</td><td>UNITED STATES</td><td>Fort Lauderdale</td><td>2024-01-07T10:51:20.318Z</td></tr><tr><td>2115</td><td>UNITED STATES</td><td>Baton Rouge</td><td>2024-01-07T10:51:20.318Z</td></tr><tr><td>2116</td><td>UNITED STATES</td><td>Washington</td><td>2024-01-07T10:51:20.318Z</td></tr><tr><td>2117</td><td>UNITED STATES</td><td>Madison</td><td>2024-01-07T10:51:20.318Z</td></tr><tr><td>2118</td><td>UNITED STATES</td><td>Chicago</td><td>2024-01-07T10:51:20.318Z</td></tr><tr><td>2119</td><td>UNITED STATES</td><td>San Diego</td><td>2024-01-07T10:51:20.318Z</td></tr><tr><td>2120</td><td>UNITED STATES</td><td>Baton Rouge</td><td>2024-01-07T10:51:20.318Z</td></tr><tr><td>2121</td><td>UNITED STATES</td><td>Chesapeake</td><td>2024-01-07T10:51:20.318Z</td></tr><tr><td>2122</td><td>UNITED STATES</td><td>Santa Monica</td><td>2024-01-07T10:51:20.318Z</td></tr><tr><td>2123</td><td>UNITED STATES</td><td>Saint Louis</td><td>2024-01-07T10:51:20.318Z</td></tr><tr><td>2124</td><td>UNITED KINGDOM</td><td>London</td><td>2024-01-07T10:51:20.318Z</td></tr><tr><td>2125</td><td>UNITED STATES</td><td>Knoxville</td><td>2024-01-07T10:51:20.318Z</td></tr><tr><td>2126</td><td>UNITED STATES</td><td>Jacksonville</td><td>2024-01-07T10:51:20.318Z</td></tr><tr><td>2127</td><td>UNITED STATES</td><td>Nashville</td><td>2024-01-07T10:51:20.318Z</td></tr><tr><td>2128</td><td>UNITED STATES</td><td>Fort Pierce</td><td>2024-01-07T10:51:20.318Z</td></tr><tr><td>2129</td><td>UNITED STATES</td><td>New Orleans</td><td>2024-01-07T10:51:20.318Z</td></tr><tr><td>2130</td><td>UNITED STATES</td><td>Tyler</td><td>2024-01-07T10:51:20.318Z</td></tr><tr><td>2131</td><td>UNITED STATES</td><td>Irvine</td><td>2024-01-07T10:51:20.318Z</td></tr><tr><td>2132</td><td></td><td></td><td>2024-01-07T10:51:20.318Z</td></tr><tr><td>2133</td><td>UNITED STATES</td><td>Fargo</td><td>2024-01-07T10:51:20.318Z</td></tr><tr><td>2134</td><td>UNITED STATES</td><td>Montgomery</td><td>2024-01-07T10:51:20.318Z</td></tr><tr><td>2135</td><td>UNITED STATES</td><td>Washington</td><td>2024-01-07T10:51:20.318Z</td></tr><tr><td>2136</td><td>UNITED STATES</td><td>Stockton</td><td>2024-01-07T10:51:20.318Z</td></tr><tr><td>2137</td><td>UNITED STATES</td><td>Sterling</td><td>2024-01-07T10:51:20.318Z</td></tr><tr><td>2138</td><td></td><td></td><td>2024-01-07T10:51:20.318Z</td></tr><tr><td>2139</td><td>UNITED STATES</td><td>Tyler</td><td>2024-01-07T10:51:20.318Z</td></tr><tr><td>2140</td><td>UNITED STATES</td><td>Saint Augustine</td><td>2024-01-07T10:51:20.318Z</td></tr><tr><td>2141</td><td>UNITED STATES</td><td>Atlanta</td><td>2024-01-07T10:51:20.318Z</td></tr><tr><td>2142</td><td>UNITED STATES</td><td>Birmingham</td><td>2024-01-07T10:51:20.318Z</td></tr><tr><td>2143</td><td>UNITED STATES</td><td>Dallas</td><td>2024-01-07T10:51:20.318Z</td></tr><tr><td>2144</td><td></td><td></td><td>2024-01-07T10:51:20.318Z</td></tr><tr><td>2145</td><td>UNITED STATES</td><td>Waco</td><td>2024-01-07T10:51:20.318Z</td></tr><tr><td>2146</td><td>UNITED STATES</td><td>Delray Beach</td><td>2024-01-07T10:51:20.318Z</td></tr><tr><td>2147</td><td>UNITED STATES</td><td>Toledo</td><td>2024-01-07T10:51:20.318Z</td></tr><tr><td>2148</td><td>UNITED STATES</td><td>Saint Petersburg</td><td>2024-01-07T10:51:20.318Z</td></tr><tr><td>2149</td><td>UNITED STATES</td><td>Racine</td><td>2024-01-07T10:51:20.318Z</td></tr><tr><td>2150</td><td>UNITED STATES</td><td>Knoxville</td><td>2024-01-07T10:51:20.318Z</td></tr><tr><td>2151</td><td>UNITED STATES</td><td>Washington</td><td>2024-01-07T10:51:20.318Z</td></tr><tr><td>2152</td><td>UNITED STATES</td><td>Shreveport</td><td>2024-01-07T10:51:20.318Z</td></tr><tr><td>2153</td><td>UNITED STATES</td><td>Philadelphia</td><td>2024-01-07T10:51:20.318Z</td></tr><tr><td>2154</td><td>UNITED STATES</td><td>Englewood</td><td>2024-01-07T10:51:20.318Z</td></tr><tr><td>2155</td><td>UNITED STATES</td><td>Asheville</td><td>2024-01-07T10:51:20.318Z</td></tr><tr><td>2156</td><td>UNITED STATES</td><td>San Francisco</td><td>2024-01-07T10:51:20.318Z</td></tr><tr><td>2157</td><td></td><td></td><td>2024-01-07T10:51:20.318Z</td></tr><tr><td>2158</td><td>UNITED STATES</td><td>Provo</td><td>2024-01-07T10:51:20.318Z</td></tr><tr><td>2159</td><td>UNITED STATES</td><td>Charlotte</td><td>2024-01-07T10:51:20.318Z</td></tr><tr><td>2160</td><td>UNITED STATES</td><td>Baton Rouge</td><td>2024-01-07T10:51:20.318Z</td></tr><tr><td>2161</td><td>UNITED STATES</td><td>New Orleans</td><td>2024-01-07T10:51:20.318Z</td></tr><tr><td>2162</td><td>UNITED STATES</td><td>Denver</td><td>2024-01-07T10:51:20.318Z</td></tr><tr><td>2163</td><td>UNITED STATES</td><td>San Antonio</td><td>2024-01-07T10:51:20.318Z</td></tr><tr><td>2164</td><td>UNITED STATES</td><td>El Paso</td><td>2024-01-07T10:51:20.318Z</td></tr><tr><td>2165</td><td>UNITED STATES</td><td>Wilkes Barre</td><td>2024-01-07T10:51:20.318Z</td></tr><tr><td>2166</td><td>UNITED STATES</td><td>Nashville</td><td>2024-01-07T10:51:20.318Z</td></tr><tr><td>2167</td><td>UNITED STATES</td><td>Chicago</td><td>2024-01-07T10:51:20.318Z</td></tr><tr><td>2168</td><td>UNITED STATES</td><td>Kansas City</td><td>2024-01-07T10:51:20.318Z</td></tr><tr><td>2169</td><td>UNITED STATES</td><td>Rochester</td><td>2024-01-07T10:51:20.318Z</td></tr><tr><td>2170</td><td>UNITED STATES</td><td>Dallas</td><td>2024-01-07T10:51:20.318Z</td></tr><tr><td>2171</td><td>UNITED STATES</td><td>Tucson</td><td>2024-01-07T10:51:20.318Z</td></tr><tr><td>2172</td><td>UNITED STATES</td><td>Springfield</td><td>2024-01-07T10:51:20.318Z</td></tr><tr><td>2173</td><td>UNITED STATES</td><td>Madison</td><td>2024-01-07T10:51:20.318Z</td></tr><tr><td>2174</td><td>UNITED STATES</td><td>Racine</td><td>2024-01-07T10:51:20.318Z</td></tr><tr><td>2175</td><td>UNITED STATES</td><td>Louisville</td><td>2024-01-07T10:51:20.318Z</td></tr><tr><td>2176</td><td>UNITED STATES</td><td>Van Nuys</td><td>2024-01-07T10:51:20.318Z</td></tr><tr><td>2177</td><td>UNITED STATES</td><td>Atlanta</td><td>2024-01-07T10:51:20.318Z</td></tr><tr><td>2178</td><td>UNITED STATES</td><td>Cincinnati</td><td>2024-01-07T10:51:20.318Z</td></tr><tr><td>2179</td><td>UNITED STATES</td><td>Washington</td><td>2024-01-07T10:51:20.318Z</td></tr><tr><td>2180</td><td>UNITED STATES</td><td>El Paso</td><td>2024-01-07T10:51:20.318Z</td></tr><tr><td>2181</td><td>UNITED STATES</td><td>Norfolk</td><td>2024-01-07T10:51:20.318Z</td></tr><tr><td>2182</td><td>UNITED STATES</td><td>El Paso</td><td>2024-01-07T10:51:20.318Z</td></tr><tr><td>2183</td><td>UNITED STATES</td><td>Montgomery</td><td>2024-01-07T10:51:20.318Z</td></tr><tr><td>2184</td><td>UNITED STATES</td><td>Dallas</td><td>2024-01-07T10:51:20.318Z</td></tr><tr><td>2185</td><td>UNITED STATES</td><td>Memphis</td><td>2024-01-07T10:51:20.318Z</td></tr><tr><td>2186</td><td>UNITED STATES</td><td>Glendale</td><td>2024-01-07T10:51:20.318Z</td></tr><tr><td>2187</td><td>UNITED STATES</td><td>Dallas</td><td>2024-01-07T10:51:20.318Z</td></tr><tr><td>2188</td><td>UNITED STATES</td><td>Indianapolis</td><td>2024-01-07T10:51:20.318Z</td></tr><tr><td>2189</td><td>UNITED KINGDOM</td><td>Wootton</td><td>2024-01-07T10:51:20.318Z</td></tr><tr><td>2190</td><td>INDIA</td><td>R S</td><td>2024-01-07T10:51:20.318Z</td></tr><tr><td>2191</td><td>UNITED STATES</td><td>Minneapolis</td><td>2024-01-07T10:51:20.318Z</td></tr><tr><td>2192</td><td>UNITED STATES</td><td>Pensacola</td><td>2024-01-07T10:51:20.318Z</td></tr><tr><td>2193</td><td>UNITED STATES</td><td>Milwaukee</td><td>2024-01-07T10:51:20.318Z</td></tr><tr><td>2194</td><td>UNITED STATES</td><td>Chicago</td><td>2024-01-07T10:51:20.318Z</td></tr><tr><td>2195</td><td>UNITED STATES</td><td>Charlotte</td><td>2024-01-07T10:51:20.318Z</td></tr><tr><td>2196</td><td>UNITED STATES</td><td>Aurora</td><td>2024-01-07T10:51:20.318Z</td></tr><tr><td>2197</td><td>UNITED STATES</td><td>Seattle</td><td>2024-01-07T10:51:20.318Z</td></tr><tr><td>2198</td><td>UNITED STATES</td><td>Raleigh</td><td>2024-01-07T10:51:20.318Z</td></tr><tr><td>2199</td><td>UNITED STATES</td><td>Austin</td><td>2024-01-07T10:51:20.318Z</td></tr><tr><td>2200</td><td>UNITED STATES</td><td>Schaumburg</td><td>2024-01-07T10:51:20.318Z</td></tr><tr><td>2201</td><td>UNITED STATES</td><td>Newport News</td><td>2024-01-07T10:51:20.318Z</td></tr><tr><td>2202</td><td>UNITED STATES</td><td>Clearwater</td><td>2024-01-07T10:51:20.318Z</td></tr><tr><td>2203</td><td>UNITED STATES</td><td>San Diego</td><td>2024-01-07T10:51:20.318Z</td></tr><tr><td>2204</td><td>UNITED STATES</td><td>El Paso</td><td>2024-01-07T10:51:20.318Z</td></tr><tr><td>2205</td><td>UNITED STATES</td><td>Birmingham</td><td>2024-01-07T10:51:20.318Z</td></tr><tr><td>2206</td><td>UNITED STATES</td><td>New Orleans</td><td>2024-01-07T10:51:20.318Z</td></tr><tr><td>2207</td><td>UNITED STATES</td><td>Seminole</td><td>2024-01-07T10:51:20.318Z</td></tr><tr><td>2208</td><td>UNITED STATES</td><td>Cumming</td><td>2024-01-07T10:51:20.318Z</td></tr><tr><td>2209</td><td>UNITED STATES</td><td>Sacramento</td><td>2024-01-07T10:51:20.318Z</td></tr><tr><td>2210</td><td>UNITED KINGDOM</td><td>Normanton</td><td>2024-01-07T10:51:20.318Z</td></tr><tr><td>2211</td><td>UNITED STATES</td><td>Aurora</td><td>2024-01-07T10:51:20.318Z</td></tr><tr><td>2212</td><td>UNITED STATES</td><td>Mobile</td><td>2024-01-07T10:51:20.318Z</td></tr><tr><td>2213</td><td>UNITED STATES</td><td>Hartford</td><td>2024-01-07T10:51:20.318Z</td></tr><tr><td>2214</td><td>UNITED STATES</td><td>Toledo</td><td>2024-01-07T10:51:20.318Z</td></tr><tr><td>2215</td><td>UNITED STATES</td><td>Lansing</td><td>2024-01-07T10:51:20.318Z</td></tr><tr><td>2216</td><td>UNITED STATES</td><td>Shawnee Mission</td><td>2024-01-07T10:51:20.318Z</td></tr><tr><td>2217</td><td>UNITED STATES</td><td>Richmond</td><td>2024-01-07T10:51:20.318Z</td></tr><tr><td>2218</td><td>UNITED STATES</td><td>Detroit</td><td>2024-01-07T10:51:20.318Z</td></tr><tr><td>2219</td><td>UNITED STATES</td><td>Lexington</td><td>2024-01-07T10:51:20.318Z</td></tr><tr><td>2220</td><td>UNITED STATES</td><td>Atlanta</td><td>2024-01-07T10:51:20.318Z</td></tr><tr><td>2221</td><td>UNITED STATES</td><td>Albuquerque</td><td>2024-01-07T10:51:20.318Z</td></tr><tr><td>2222</td><td>UNITED STATES</td><td>Tyler</td><td>2024-01-07T10:51:20.318Z</td></tr><tr><td>2223</td><td></td><td></td><td>2024-01-07T10:51:20.318Z</td></tr><tr><td>2224</td><td>UNITED STATES</td><td>Washington</td><td>2024-01-07T10:51:20.318Z</td></tr><tr><td>2225</td><td>UNITED STATES</td><td>Tulsa</td><td>2024-01-07T10:51:20.318Z</td></tr><tr><td>2226</td><td>UNITED STATES</td><td>Norfolk</td><td>2024-01-07T10:51:20.318Z</td></tr><tr><td>2227</td><td>INDIA</td><td>Agraharam</td><td>2024-01-07T10:51:20.318Z</td></tr><tr><td>2228</td><td>UNITED STATES</td><td>Little Rock</td><td>2024-01-07T10:51:20.318Z</td></tr><tr><td>2229</td><td>UNITED STATES</td><td>Pompano Beach</td><td>2024-01-07T10:51:20.318Z</td></tr><tr><td>2230</td><td>UNITED STATES</td><td>Simi Valley</td><td>2024-01-07T10:51:20.318Z</td></tr><tr><td>2231</td><td>UNITED STATES</td><td>Oklahoma City</td><td>2024-01-07T10:51:20.318Z</td></tr><tr><td>2232</td><td>UNITED KINGDOM</td><td>Upton</td><td>2024-01-07T10:51:20.318Z</td></tr><tr><td>2233</td><td>UNITED KINGDOM</td><td>Belfast</td><td>2024-01-07T10:51:20.318Z</td></tr><tr><td>2234</td><td>UNITED STATES</td><td>Cleveland</td><td>2024-01-07T10:51:20.318Z</td></tr><tr><td>2235</td><td>UNITED STATES</td><td>Nashville</td><td>2024-01-07T10:51:20.318Z</td></tr><tr><td>2236</td><td>UNITED STATES</td><td>Odessa</td><td>2024-01-07T10:51:20.318Z</td></tr><tr><td>2237</td><td>UNITED STATES</td><td>San Rafael</td><td>2024-01-07T10:51:20.318Z</td></tr><tr><td>2238</td><td>UNITED STATES</td><td>Saint Louis</td><td>2024-01-07T10:51:20.318Z</td></tr><tr><td>2239</td><td>UNITED STATES</td><td>Minneapolis</td><td>2024-01-07T10:51:20.318Z</td></tr><tr><td>2240</td><td>UNITED STATES</td><td>Jamaica</td><td>2024-01-07T10:51:20.318Z</td></tr><tr><td>2241</td><td>UNITED STATES</td><td>Shreveport</td><td>2024-01-07T10:51:20.318Z</td></tr><tr><td>2242</td><td>UNITED KINGDOM</td><td>Sutton</td><td>2024-01-07T10:51:20.318Z</td></tr><tr><td>2243</td><td></td><td></td><td>2024-01-07T10:51:20.318Z</td></tr><tr><td>2244</td><td>UNITED STATES</td><td>Virginia Beach</td><td>2024-01-07T10:51:20.318Z</td></tr><tr><td>2245</td><td>UNITED STATES</td><td>Beaufort</td><td>2024-01-07T10:51:20.318Z</td></tr><tr><td>2246</td><td>UNITED STATES</td><td>Peoria</td><td>2024-01-07T10:51:20.318Z</td></tr><tr><td>2247</td><td>UNITED STATES</td><td>New York City</td><td>2024-01-07T10:51:20.318Z</td></tr><tr><td>2248</td><td>UNITED STATES</td><td>San Diego</td><td>2024-01-07T10:51:20.318Z</td></tr><tr><td>2249</td><td>UNITED STATES</td><td>West Hartford</td><td>2024-01-07T10:51:20.318Z</td></tr><tr><td>2250</td><td>UNITED STATES</td><td>Houston</td><td>2024-01-07T10:51:20.318Z</td></tr><tr><td>2251</td><td>UNITED STATES</td><td>Albany</td><td>2024-01-07T10:51:20.318Z</td></tr><tr><td>2252</td><td>UNITED STATES</td><td>Peoria</td><td>2024-01-07T10:51:20.318Z</td></tr><tr><td>2253</td><td>UNITED STATES</td><td>Tucson</td><td>2024-01-07T10:51:20.318Z</td></tr><tr><td>2254</td><td>UNITED STATES</td><td>Mesa</td><td>2024-01-07T10:51:20.318Z</td></tr><tr><td>2255</td><td>UNITED STATES</td><td>Norfolk</td><td>2024-01-07T10:51:20.318Z</td></tr><tr><td>2256</td><td></td><td></td><td>2024-01-07T10:51:20.318Z</td></tr><tr><td>2257</td><td>UNITED STATES</td><td>Alhambra</td><td>2024-01-07T10:51:20.318Z</td></tr><tr><td>2258</td><td>UNITED STATES</td><td>Seattle</td><td>2024-01-07T10:51:20.318Z</td></tr><tr><td>2259</td><td>UNITED STATES</td><td>New York City</td><td>2024-01-07T10:51:20.318Z</td></tr><tr><td>2260</td><td>UNITED STATES</td><td>Jamaica</td><td>2024-01-07T10:51:20.318Z</td></tr><tr><td>2261</td><td>UNITED STATES</td><td>Louisville</td><td>2024-01-07T10:51:20.318Z</td></tr><tr><td>2262</td><td></td><td></td><td>2024-01-07T10:51:20.318Z</td></tr><tr><td>2263</td><td>UNITED STATES</td><td>Winston Salem</td><td>2024-01-07T10:51:20.318Z</td></tr><tr><td>2264</td><td>UNITED STATES</td><td>Grand Rapids</td><td>2024-01-07T10:51:20.318Z</td></tr><tr><td>2265</td><td>UNITED STATES</td><td>Muskegon</td><td>2024-01-07T10:51:20.318Z</td></tr><tr><td>2266</td><td>UNITED STATES</td><td>Wilmington</td><td>2024-01-07T10:51:20.318Z</td></tr><tr><td>2267</td><td>UNITED STATES</td><td>Salt Lake City</td><td>2024-01-07T10:51:20.318Z</td></tr><tr><td>2268</td><td>UNITED KINGDOM</td><td>East End</td><td>2024-01-07T10:51:20.318Z</td></tr><tr><td>2269</td><td>UNITED STATES</td><td>Knoxville</td><td>2024-01-07T10:51:20.318Z</td></tr><tr><td>2270</td><td>UNITED STATES</td><td>Las Vegas</td><td>2024-01-07T10:51:20.318Z</td></tr><tr><td>2271</td><td>UNITED STATES</td><td>Columbus</td><td>2024-01-07T10:51:20.318Z</td></tr><tr><td>2272</td><td>UNITED STATES</td><td>Melbourne</td><td>2024-01-07T10:51:20.318Z</td></tr><tr><td>2273</td><td>UNITED STATES</td><td>Oklahoma City</td><td>2024-01-07T10:51:20.318Z</td></tr><tr><td>2274</td><td>UNITED STATES</td><td>Bloomington</td><td>2024-01-07T10:51:20.318Z</td></tr><tr><td>2275</td><td>UNITED STATES</td><td>Phoenix</td><td>2024-01-07T10:51:20.318Z</td></tr><tr><td>2276</td><td>UNITED STATES</td><td>San Diego</td><td>2024-01-07T10:51:20.318Z</td></tr><tr><td>2277</td><td>UNITED STATES</td><td>Bethlehem</td><td>2024-01-07T10:51:20.318Z</td></tr><tr><td>2278</td><td>UNITED STATES</td><td>Washington</td><td>2024-01-07T10:51:20.318Z</td></tr><tr><td>2279</td><td>UNITED STATES</td><td>Jacksonville</td><td>2024-01-07T10:51:20.318Z</td></tr><tr><td>2280</td><td>UNITED STATES</td><td>Midland</td><td>2024-01-07T10:51:20.318Z</td></tr><tr><td>2281</td><td></td><td></td><td>2024-01-07T10:51:20.318Z</td></tr><tr><td>2282</td><td>UNITED STATES</td><td>Orlando</td><td>2024-01-07T10:51:20.318Z</td></tr><tr><td>2283</td><td>UNITED STATES</td><td>Alexandria</td><td>2024-01-07T10:51:20.318Z</td></tr><tr><td>2284</td><td>UNITED KINGDOM</td><td>London</td><td>2024-01-07T10:51:20.318Z</td></tr><tr><td>2285</td><td>UNITED STATES</td><td>Spring</td><td>2024-01-07T10:51:20.318Z</td></tr><tr><td>2286</td><td>UNITED STATES</td><td>San Francisco</td><td>2024-01-07T10:51:20.318Z</td></tr><tr><td>2287</td><td>UNITED STATES</td><td>Fort Smith</td><td>2024-01-07T10:51:20.318Z</td></tr><tr><td>2288</td><td>UNITED STATES</td><td>Chicago</td><td>2024-01-07T10:51:20.318Z</td></tr><tr><td>2289</td><td>UNITED STATES</td><td>Tacoma</td><td>2024-01-07T10:51:20.318Z</td></tr><tr><td>2290</td><td>UNITED STATES</td><td>El Paso</td><td>2024-01-07T10:51:20.318Z</td></tr><tr><td>2291</td><td>UNITED STATES</td><td>Lafayette</td><td>2024-01-07T10:51:20.318Z</td></tr><tr><td>2292</td><td>UNITED STATES</td><td>Washington</td><td>2024-01-07T10:51:20.318Z</td></tr><tr><td>2293</td><td>UNITED STATES</td><td>San Jose</td><td>2024-01-07T10:51:20.318Z</td></tr><tr><td>2294</td><td>UNITED STATES</td><td>Houston</td><td>2024-01-07T10:51:20.318Z</td></tr><tr><td>2295</td><td>UNITED KINGDOM</td><td>Upton</td><td>2024-01-07T10:51:20.318Z</td></tr><tr><td>2296</td><td>UNITED STATES</td><td>Des Moines</td><td>2024-01-07T10:51:20.318Z</td></tr><tr><td>2297</td><td>UNITED STATES</td><td>Saginaw</td><td>2024-01-07T10:51:20.318Z</td></tr><tr><td>2298</td><td>UNITED STATES</td><td>Reno</td><td>2024-01-07T10:51:20.318Z</td></tr><tr><td>2299</td><td>UNITED STATES</td><td>Gainesville</td><td>2024-01-07T10:51:20.318Z</td></tr><tr><td>2300</td><td>UNITED STATES</td><td>Wichita</td><td>2024-01-07T10:51:20.318Z</td></tr><tr><td>2301</td><td>UNITED STATES</td><td>Springfield</td><td>2024-01-07T10:51:20.318Z</td></tr><tr><td>2302</td><td>UNITED STATES</td><td>Rochester</td><td>2024-01-07T10:51:20.318Z</td></tr><tr><td>2303</td><td>UNITED STATES</td><td>Jacksonville</td><td>2024-01-07T10:51:20.318Z</td></tr><tr><td>2304</td><td>UNITED STATES</td><td>Greensboro</td><td>2024-01-07T10:51:20.318Z</td></tr><tr><td>2305</td><td>UNITED STATES</td><td>Dallas</td><td>2024-01-07T10:51:20.318Z</td></tr><tr><td>2306</td><td>UNITED STATES</td><td>Huntington</td><td>2024-01-07T10:51:20.318Z</td></tr><tr><td>2307</td><td>UNITED STATES</td><td>San Francisco</td><td>2024-01-07T10:51:20.318Z</td></tr><tr><td>2308</td><td>UNITED STATES</td><td>Iowa City</td><td>2024-01-07T10:51:20.318Z</td></tr><tr><td>2309</td><td>UNITED STATES</td><td>Des Moines</td><td>2024-01-07T10:51:20.318Z</td></tr><tr><td>2310</td><td>UNITED STATES</td><td>Cincinnati</td><td>2024-01-07T10:51:20.318Z</td></tr><tr><td>2311</td><td>UNITED STATES</td><td>Pittsburgh</td><td>2024-01-07T10:51:20.318Z</td></tr><tr><td>2312</td><td>UNITED STATES</td><td>Knoxville</td><td>2024-01-07T10:51:20.318Z</td></tr><tr><td>2313</td><td>UNITED KINGDOM</td><td>Birmingham</td><td>2024-01-07T10:51:20.318Z</td></tr><tr><td>2314</td><td>UNITED STATES</td><td>Roanoke</td><td>2024-01-07T10:51:20.318Z</td></tr><tr><td>2315</td><td>UNITED STATES</td><td>Salt Lake City</td><td>2024-01-07T10:51:20.318Z</td></tr><tr><td>2316</td><td>UNITED STATES</td><td>Schaumburg</td><td>2024-01-07T10:51:20.318Z</td></tr><tr><td>2317</td><td>UNITED STATES</td><td>Reading</td><td>2024-01-07T10:51:20.318Z</td></tr><tr><td>2318</td><td>UNITED STATES</td><td>Wilkes Barre</td><td>2024-01-07T10:51:20.318Z</td></tr><tr><td>2319</td><td>UNITED STATES</td><td>Charlotte</td><td>2024-01-07T10:51:20.318Z</td></tr><tr><td>2320</td><td>UNITED KINGDOM</td><td>Craigavon</td><td>2024-01-07T10:51:20.318Z</td></tr><tr><td>2321</td><td>UNITED STATES</td><td>Fresno</td><td>2024-01-07T10:51:20.318Z</td></tr><tr><td>2322</td><td>UNITED STATES</td><td>Brooklyn</td><td>2024-01-07T10:51:20.318Z</td></tr><tr><td>2323</td><td>UNITED STATES</td><td>Amarillo</td><td>2024-01-07T10:51:20.318Z</td></tr><tr><td>2324</td><td>UNITED STATES</td><td>Saint Louis</td><td>2024-01-07T10:51:20.318Z</td></tr><tr><td>2325</td><td>UNITED STATES</td><td>Newark</td><td>2024-01-07T10:51:20.318Z</td></tr><tr><td>2326</td><td>UNITED STATES</td><td>Philadelphia</td><td>2024-01-07T10:51:20.318Z</td></tr><tr><td>2327</td><td>UNITED STATES</td><td>Cedar Rapids</td><td>2024-01-07T10:51:20.318Z</td></tr><tr><td>2328</td><td>UNITED STATES</td><td>Minneapolis</td><td>2024-01-07T10:51:20.318Z</td></tr><tr><td>2329</td><td>UNITED STATES</td><td>Virginia Beach</td><td>2024-01-07T10:51:20.318Z</td></tr><tr><td>2330</td><td>UNITED STATES</td><td>Odessa</td><td>2024-01-07T10:51:20.318Z</td></tr><tr><td>2331</td><td>UNITED STATES</td><td>Baton Rouge</td><td>2024-01-07T10:51:20.318Z</td></tr><tr><td>2332</td><td>UNITED STATES</td><td>Fort Wayne</td><td>2024-01-07T10:51:20.318Z</td></tr><tr><td>2333</td><td>UNITED STATES</td><td>Miami</td><td>2024-01-07T10:51:20.318Z</td></tr><tr><td>2334</td><td>UNITED STATES</td><td>San Diego</td><td>2024-01-07T10:51:20.318Z</td></tr><tr><td>2335</td><td>UNITED STATES</td><td>Raleigh</td><td>2024-01-07T10:51:20.318Z</td></tr><tr><td>2336</td><td>UNITED STATES</td><td>Hartford</td><td>2024-01-07T10:51:20.318Z</td></tr><tr><td>2337</td><td>UNITED STATES</td><td>Waco</td><td>2024-01-07T10:51:20.318Z</td></tr><tr><td>2338</td><td>UNITED STATES</td><td>Washington</td><td>2024-01-07T10:51:20.318Z</td></tr><tr><td>2339</td><td>UNITED STATES</td><td>Kansas City</td><td>2024-01-07T10:51:20.318Z</td></tr><tr><td>2340</td><td>UNITED STATES</td><td>Sacramento</td><td>2024-01-07T10:51:20.318Z</td></tr><tr><td>2341</td><td>UNITED STATES</td><td>Arlington</td><td>2024-01-07T10:51:20.318Z</td></tr><tr><td>2342</td><td>UNITED STATES</td><td>Madison</td><td>2024-01-07T10:51:20.318Z</td></tr><tr><td>2343</td><td>UNITED STATES</td><td>Murfreesboro</td><td>2024-01-07T10:51:20.318Z</td></tr><tr><td>2344</td><td>UNITED STATES</td><td>Philadelphia</td><td>2024-01-07T10:51:20.318Z</td></tr><tr><td>2345</td><td>UNITED STATES</td><td>Los Angeles</td><td>2024-01-07T10:51:20.318Z</td></tr><tr><td>2346</td><td>UNITED STATES</td><td>Baltimore</td><td>2024-01-07T10:51:20.318Z</td></tr><tr><td>2347</td><td>UNITED STATES</td><td>Farmington</td><td>2024-01-07T10:51:20.318Z</td></tr><tr><td>2348</td><td>UNITED STATES</td><td>Hartford</td><td>2024-01-07T10:51:20.318Z</td></tr><tr><td>2349</td><td>UNITED STATES</td><td>Dallas</td><td>2024-01-07T10:51:20.318Z</td></tr><tr><td>2350</td><td>UNITED STATES</td><td>Fort Lauderdale</td><td>2024-01-07T10:51:20.318Z</td></tr><tr><td>2351</td><td>UNITED STATES</td><td>Dallas</td><td>2024-01-07T10:51:20.318Z</td></tr><tr><td>2352</td><td>UNITED STATES</td><td>Omaha</td><td>2024-01-07T10:51:20.318Z</td></tr><tr><td>2353</td><td>UNITED STATES</td><td>Pasadena</td><td>2024-01-07T10:51:20.318Z</td></tr><tr><td>2354</td><td>UNITED STATES</td><td>Amarillo</td><td>2024-01-07T10:51:20.318Z</td></tr><tr><td>2355</td><td>UNITED STATES</td><td>Philadelphia</td><td>2024-01-07T10:51:20.318Z</td></tr><tr><td>2356</td><td>UNITED STATES</td><td>Huntsville</td><td>2024-01-07T10:51:20.318Z</td></tr><tr><td>2357</td><td>UNITED STATES</td><td>Portland</td><td>2024-01-07T10:51:20.318Z</td></tr><tr><td>2358</td><td>UNITED KINGDOM</td><td>Middleton</td><td>2024-01-07T10:51:20.318Z</td></tr><tr><td>2359</td><td>UNITED STATES</td><td>Jamaica</td><td>2024-01-07T10:51:20.318Z</td></tr><tr><td>2360</td><td>UNITED STATES</td><td>San Antonio</td><td>2024-01-07T10:51:20.318Z</td></tr><tr><td>2361</td><td>UNITED STATES</td><td>Hartford</td><td>2024-01-07T10:51:20.318Z</td></tr><tr><td>2362</td><td>UNITED STATES</td><td>Omaha</td><td>2024-01-07T10:51:20.318Z</td></tr><tr><td>2363</td><td>UNITED STATES</td><td>Torrance</td><td>2024-01-07T10:51:20.318Z</td></tr><tr><td>2364</td><td>UNITED STATES</td><td>Jacksonville</td><td>2024-01-07T10:51:20.318Z</td></tr><tr><td>2365</td><td>UNITED STATES</td><td>Tulsa</td><td>2024-01-07T10:51:20.318Z</td></tr><tr><td>2366</td><td>UNITED STATES</td><td>Vienna</td><td>2024-01-07T10:51:20.318Z</td></tr><tr><td>2367</td><td>UNITED KINGDOM</td><td>Brampton</td><td>2024-01-07T10:51:20.318Z</td></tr><tr><td>2368</td><td>UNITED STATES</td><td>Delray Beach</td><td>2024-01-07T10:51:20.318Z</td></tr><tr><td>2369</td><td>UNITED STATES</td><td>Grand Rapids</td><td>2024-01-07T10:51:20.318Z</td></tr><tr><td>2370</td><td>UNITED STATES</td><td>New York City</td><td>2024-01-07T10:51:20.318Z</td></tr><tr><td>2371</td><td>UNITED STATES</td><td>Toledo</td><td>2024-01-07T10:51:20.318Z</td></tr><tr><td>2372</td><td>UNITED KINGDOM</td><td>Milton</td><td>2024-01-07T10:51:20.318Z</td></tr><tr><td>2373</td><td>UNITED STATES</td><td>Montgomery</td><td>2024-01-07T10:51:20.318Z</td></tr><tr><td>2374</td><td>UNITED STATES</td><td>Jackson</td><td>2024-01-07T10:51:20.318Z</td></tr><tr><td>2375</td><td>UNITED KINGDOM</td><td>Middleton</td><td>2024-01-07T10:51:20.318Z</td></tr><tr><td>2376</td><td>UNITED STATES</td><td>Louisville</td><td>2024-01-07T10:51:20.318Z</td></tr><tr><td>2377</td><td></td><td></td><td>2024-01-07T10:51:20.318Z</td></tr><tr><td>2378</td><td>UNITED STATES</td><td>Oklahoma City</td><td>2024-01-07T10:51:20.318Z</td></tr><tr><td>2379</td><td>UNITED STATES</td><td>Boca Raton</td><td>2024-01-07T10:51:20.318Z</td></tr><tr><td>2380</td><td>UNITED STATES</td><td>Vienna</td><td>2024-01-07T10:51:20.318Z</td></tr><tr><td>2381</td><td>UNITED STATES</td><td>Nashville</td><td>2024-01-07T10:51:20.318Z</td></tr><tr><td>2382</td><td>UNITED STATES</td><td>Waco</td><td>2024-01-07T10:51:20.318Z</td></tr><tr><td>2383</td><td>UNITED STATES</td><td>Columbus</td><td>2024-01-07T10:51:20.318Z</td></tr><tr><td>2384</td><td>UNITED STATES</td><td>Hampton</td><td>2024-01-07T10:51:20.318Z</td></tr><tr><td>2385</td><td>UNITED STATES</td><td>Orlando</td><td>2024-01-07T10:51:20.318Z</td></tr><tr><td>2386</td><td>UNITED STATES</td><td>Asheville</td><td>2024-01-07T10:51:20.318Z</td></tr><tr><td>2387</td><td>UNITED STATES</td><td>Virginia Beach</td><td>2024-01-07T10:51:20.318Z</td></tr><tr><td>2388</td><td>UNITED STATES</td><td>Des Moines</td><td>2024-01-07T10:51:20.318Z</td></tr><tr><td>2389</td><td>UNITED STATES</td><td>Denver</td><td>2024-01-07T10:51:20.318Z</td></tr><tr><td>2390</td><td>UNITED STATES</td><td>Dulles</td><td>2024-01-07T10:51:20.318Z</td></tr><tr><td>2391</td><td>UNITED STATES</td><td>Mesa</td><td>2024-01-07T10:51:20.318Z</td></tr><tr><td>2392</td><td>UNITED KINGDOM</td><td>Aberdeen</td><td>2024-01-07T10:51:20.318Z</td></tr><tr><td>2393</td><td>UNITED STATES</td><td>Charleston</td><td>2024-01-07T10:51:20.318Z</td></tr><tr><td>2394</td><td>UNITED KINGDOM</td><td>Swindon</td><td>2024-01-07T10:51:20.318Z</td></tr><tr><td>2395</td><td>UNITED KINGDOM</td><td>London</td><td>2024-01-07T10:51:20.318Z</td></tr><tr><td>2396</td><td>UNITED STATES</td><td>San Diego</td><td>2024-01-07T10:51:20.318Z</td></tr><tr><td>2397</td><td>UNITED STATES</td><td>Lansing</td><td>2024-01-07T10:51:20.318Z</td></tr><tr><td>2398</td><td>UNITED STATES</td><td>Sioux City</td><td>2024-01-07T10:51:20.318Z</td></tr><tr><td>2399</td><td>UNITED STATES</td><td>Chico</td><td>2024-01-07T10:51:20.318Z</td></tr><tr><td>2400</td><td>UNITED STATES</td><td>Santa Fe</td><td>2024-01-07T10:51:20.318Z</td></tr><tr><td>2401</td><td>UNITED STATES</td><td>Washington</td><td>2024-01-07T10:51:20.318Z</td></tr><tr><td>2402</td><td>UNITED STATES</td><td>Bakersfield</td><td>2024-01-07T10:51:20.318Z</td></tr><tr><td>2403</td><td>UNITED STATES</td><td>Reston</td><td>2024-01-07T10:51:20.318Z</td></tr><tr><td>2404</td><td>UNITED STATES</td><td>Hartford</td><td>2024-01-07T10:51:20.318Z</td></tr><tr><td>2405</td><td>UNITED STATES</td><td>Maple Plain</td><td>2024-01-07T10:51:20.318Z</td></tr><tr><td>2406</td><td>UNITED STATES</td><td>Stockton</td><td>2024-01-07T10:51:20.318Z</td></tr><tr><td>2407</td><td>UNITED STATES</td><td>Anaheim</td><td>2024-01-07T10:51:20.318Z</td></tr><tr><td>2408</td><td>UNITED STATES</td><td>Roanoke</td><td>2024-01-07T10:51:20.318Z</td></tr><tr><td>2409</td><td>UNITED STATES</td><td>Lancaster</td><td>2024-01-07T10:51:20.318Z</td></tr><tr><td>2410</td><td>UNITED STATES</td><td>Saint Louis</td><td>2024-01-07T10:51:20.318Z</td></tr><tr><td>2411</td><td>UNITED STATES</td><td>Pasadena</td><td>2024-01-07T10:51:20.318Z</td></tr><tr><td>2412</td><td>UNITED STATES</td><td>Vienna</td><td>2024-01-07T10:51:20.318Z</td></tr><tr><td>2413</td><td>UNITED STATES</td><td>Mobile</td><td>2024-01-07T10:51:20.318Z</td></tr><tr><td>2414</td><td>UNITED STATES</td><td>Dallas</td><td>2024-01-07T10:51:20.318Z</td></tr><tr><td>2415</td><td>UNITED STATES</td><td>San Francisco</td><td>2024-01-07T10:51:20.318Z</td></tr><tr><td>2416</td><td>UNITED STATES</td><td>Lansing</td><td>2024-01-07T10:51:20.318Z</td></tr><tr><td>2417</td><td>UNITED KINGDOM</td><td>Stapleford</td><td>2024-01-07T10:51:20.318Z</td></tr><tr><td>2418</td><td>UNITED STATES</td><td>Rochester</td><td>2024-01-07T10:51:20.318Z</td></tr><tr><td>2419</td><td>UNITED KINGDOM</td><td>Middleton</td><td>2024-01-07T10:51:20.318Z</td></tr><tr><td>2420</td><td>UNITED STATES</td><td>Lincoln</td><td>2024-01-07T10:51:20.318Z</td></tr><tr><td>2421</td><td>UNITED STATES</td><td>Atlanta</td><td>2024-01-07T10:51:20.318Z</td></tr><tr><td>2422</td><td>UNITED STATES</td><td>Peoria</td><td>2024-01-07T10:51:20.318Z</td></tr><tr><td>2423</td><td>UNITED STATES</td><td>Sacramento</td><td>2024-01-07T10:51:20.318Z</td></tr><tr><td>2424</td><td>UNITED STATES</td><td>Newport News</td><td>2024-01-07T10:51:20.318Z</td></tr><tr><td>2425</td><td>UNITED STATES</td><td>Savannah</td><td>2024-01-07T10:51:20.318Z</td></tr><tr><td>2426</td><td>UNITED STATES</td><td>Charlotte</td><td>2024-01-07T10:51:20.318Z</td></tr><tr><td>2427</td><td>UNITED STATES</td><td>Whittier</td><td>2024-01-07T10:51:20.318Z</td></tr><tr><td>2428</td><td>UNITED STATES</td><td>Hamilton</td><td>2024-01-07T10:51:20.318Z</td></tr><tr><td>2429</td><td>UNITED STATES</td><td>Huntsville</td><td>2024-01-07T10:51:20.318Z</td></tr><tr><td>2430</td><td>UNITED STATES</td><td>Dallas</td><td>2024-01-07T10:51:20.318Z</td></tr><tr><td>2431</td><td></td><td></td><td>2024-01-07T10:51:20.318Z</td></tr><tr><td>2432</td><td>UNITED STATES</td><td>Colorado Springs</td><td>2024-01-07T10:51:20.318Z</td></tr><tr><td>2433</td><td>UNITED STATES</td><td>Tulsa</td><td>2024-01-07T10:51:20.318Z</td></tr><tr><td>2434</td><td>UNITED STATES</td><td>San Antonio</td><td>2024-01-07T10:51:20.318Z</td></tr><tr><td>2435</td><td>UNITED KINGDOM</td><td>Eaton</td><td>2024-01-07T10:51:20.318Z</td></tr><tr><td>2436</td><td>UNITED STATES</td><td>Greensboro</td><td>2024-01-07T10:51:20.318Z</td></tr><tr><td>2437</td><td>UNITED STATES</td><td>Harrisburg</td><td>2024-01-07T10:51:20.318Z</td></tr><tr><td>2438</td><td>UNITED STATES</td><td>Fresno</td><td>2024-01-07T10:51:20.318Z</td></tr><tr><td>2439</td><td>UNITED STATES</td><td>Hartford</td><td>2024-01-07T10:51:20.318Z</td></tr><tr><td>2440</td><td>UNITED STATES</td><td>Saint Paul</td><td>2024-01-07T10:51:20.318Z</td></tr><tr><td>2441</td><td>UNITED STATES</td><td>Cedar Rapids</td><td>2024-01-07T10:51:20.318Z</td></tr><tr><td>2442</td><td>UNITED STATES</td><td>Springfield</td><td>2024-01-07T10:51:20.318Z</td></tr><tr><td>2443</td><td>UNITED STATES</td><td>Springfield</td><td>2024-01-07T10:51:20.318Z</td></tr><tr><td>2444</td><td>UNITED STATES</td><td>Chicago</td><td>2024-01-07T10:51:20.318Z</td></tr><tr><td>2445</td><td>UNITED STATES</td><td>Akron</td><td>2024-01-07T10:51:20.318Z</td></tr><tr><td>2446</td><td>UNITED KINGDOM</td><td>Church End</td><td>2024-01-07T10:51:20.318Z</td></tr><tr><td>2447</td><td>UNITED STATES</td><td>Toledo</td><td>2024-01-07T10:51:20.318Z</td></tr><tr><td>2448</td><td>UNITED KINGDOM</td><td>Burnside</td><td>2024-01-07T10:51:20.318Z</td></tr><tr><td>2449</td><td>UNITED STATES</td><td>Fort Wayne</td><td>2024-01-07T10:51:20.318Z</td></tr><tr><td>2450</td><td>UNITED STATES</td><td>Cedar Rapids</td><td>2024-01-07T10:51:20.318Z</td></tr><tr><td>2451</td><td>UNITED STATES</td><td>Arlington</td><td>2024-01-07T10:51:20.318Z</td></tr><tr><td>2452</td><td>UNITED STATES</td><td>Washington</td><td>2024-01-07T10:51:20.318Z</td></tr><tr><td>2453</td><td>UNITED STATES</td><td>El Paso</td><td>2024-01-07T10:51:20.318Z</td></tr><tr><td>2454</td><td>UNITED STATES</td><td>Cincinnati</td><td>2024-01-07T10:51:20.318Z</td></tr><tr><td>2455</td><td>UNITED STATES</td><td>Fullerton</td><td>2024-01-07T10:51:20.318Z</td></tr><tr><td>2456</td><td>UNITED STATES</td><td>Los Angeles</td><td>2024-01-07T10:51:20.318Z</td></tr><tr><td>2457</td><td></td><td></td><td>2024-01-07T10:51:20.318Z</td></tr><tr><td>2458</td><td>UNITED STATES</td><td>Naples</td><td>2024-01-07T10:51:20.318Z</td></tr><tr><td>2459</td><td>UNITED STATES</td><td>Chicago</td><td>2024-01-07T10:51:20.318Z</td></tr><tr><td>2460</td><td></td><td></td><td>2024-01-07T10:51:20.318Z</td></tr><tr><td>2461</td><td>UNITED STATES</td><td>Glendale</td><td>2024-01-07T10:51:20.318Z</td></tr><tr><td>2462</td><td>UNITED STATES</td><td>Chicago</td><td>2024-01-07T10:51:20.318Z</td></tr><tr><td>2463</td><td>UNITED STATES</td><td>Pasadena</td><td>2024-01-07T10:51:20.318Z</td></tr><tr><td>2464</td><td>UNITED STATES</td><td>Santa Ana</td><td>2024-01-07T10:51:20.318Z</td></tr><tr><td>2465</td><td>UNITED STATES</td><td>Sioux Falls</td><td>2024-01-07T10:51:20.318Z</td></tr><tr><td>2466</td><td>UNITED STATES</td><td>Florence</td><td>2024-01-07T10:51:20.318Z</td></tr><tr><td>2467</td><td></td><td></td><td>2024-01-07T10:51:20.318Z</td></tr><tr><td>2468</td><td>UNITED STATES</td><td>Dallas</td><td>2024-01-07T10:51:20.318Z</td></tr><tr><td>2469</td><td>UNITED STATES</td><td>Lincoln</td><td>2024-01-07T10:51:20.318Z</td></tr><tr><td>2470</td><td>UNITED STATES</td><td>Evansville</td><td>2024-01-07T10:51:20.318Z</td></tr><tr><td>2471</td><td>UNITED STATES</td><td>Chicago</td><td>2024-01-07T10:51:20.318Z</td></tr><tr><td>2472</td><td>UNITED STATES</td><td>Boston</td><td>2024-01-07T10:51:20.318Z</td></tr><tr><td>2473</td><td></td><td></td><td>2024-01-07T10:51:20.318Z</td></tr><tr><td>2474</td><td>UNITED STATES</td><td>Oklahoma City</td><td>2024-01-07T10:51:20.318Z</td></tr><tr><td>2475</td><td>UNITED STATES</td><td>Norfolk</td><td>2024-01-07T10:51:20.318Z</td></tr><tr><td>2476</td><td>UNITED STATES</td><td>Springfield</td><td>2024-01-07T10:51:20.318Z</td></tr><tr><td>2477</td><td>UNITED STATES</td><td>Shreveport</td><td>2024-01-07T10:51:20.318Z</td></tr><tr><td>2478</td><td>UNITED STATES</td><td>Richmond</td><td>2024-01-07T10:51:20.318Z</td></tr><tr><td>2479</td><td>UNITED STATES</td><td>Miami</td><td>2024-01-07T10:51:20.318Z</td></tr><tr><td>2480</td><td>UNITED STATES</td><td>Fargo</td><td>2024-01-07T10:51:20.318Z</td></tr><tr><td>2481</td><td>UNITED STATES</td><td>Boston</td><td>2024-01-07T10:51:20.318Z</td></tr><tr><td>2482</td><td>UNITED STATES</td><td>Omaha</td><td>2024-01-07T10:51:20.318Z</td></tr><tr><td>2483</td><td></td><td></td><td>2024-01-07T10:51:20.318Z</td></tr><tr><td>2484</td><td>UNITED STATES</td><td>Las Vegas</td><td>2024-01-07T10:51:20.318Z</td></tr><tr><td>2485</td><td>UNITED STATES</td><td>Springfield</td><td>2024-01-07T10:51:20.318Z</td></tr><tr><td>2486</td><td>UNITED STATES</td><td>Anchorage</td><td>2024-01-07T10:51:20.318Z</td></tr><tr><td>2487</td><td>UNITED STATES</td><td>Washington</td><td>2024-01-07T10:51:20.318Z</td></tr><tr><td>2488</td><td>UNITED STATES</td><td>Great Neck</td><td>2024-01-07T10:51:20.318Z</td></tr><tr><td>2489</td><td>UNITED STATES</td><td>Lafayette</td><td>2024-01-07T10:51:20.318Z</td></tr><tr><td>2490</td><td>UNITED STATES</td><td>Young America</td><td>2024-01-07T10:51:20.318Z</td></tr><tr><td>2491</td><td>UNITED STATES</td><td>Santa Rosa</td><td>2024-01-07T10:51:20.318Z</td></tr><tr><td>2492</td><td>UNITED STATES</td><td>Pensacola</td><td>2024-01-07T10:51:20.318Z</td></tr><tr><td>2493</td><td>UNITED STATES</td><td>Beaumont</td><td>2024-01-07T10:51:20.318Z</td></tr><tr><td>2494</td><td>UNITED STATES</td><td>Olympia</td><td>2024-01-07T10:51:20.318Z</td></tr><tr><td>2495</td><td></td><td></td><td>2024-01-07T10:51:20.318Z</td></tr><tr><td>2496</td><td>UNITED STATES</td><td>Springfield</td><td>2024-01-07T10:51:20.318Z</td></tr><tr><td>2497</td><td>UNITED STATES</td><td>Des Moines</td><td>2024-01-07T10:51:20.318Z</td></tr><tr><td>2498</td><td>UNITED STATES</td><td>Atlanta</td><td>2024-01-07T10:51:20.318Z</td></tr><tr><td>2499</td><td>UNITED STATES</td><td>Saint Louis</td><td>2024-01-07T10:51:20.318Z</td></tr><tr><td>2500</td><td>UNITED STATES</td><td>Albuquerque</td><td>2024-01-07T10:51:20.318Z</td></tr><tr><td>2501</td><td>UNITED STATES</td><td>Sunnyvale</td><td>2024-01-07T10:51:20.318Z</td></tr><tr><td>2502</td><td></td><td></td><td>2024-01-07T10:51:20.318Z</td></tr><tr><td>2503</td><td>UNITED STATES</td><td>Albuquerque</td><td>2024-01-07T10:51:20.318Z</td></tr><tr><td>2504</td><td>UNITED STATES</td><td>Roanoke</td><td>2024-01-07T10:51:20.318Z</td></tr><tr><td>2505</td><td>UNITED STATES</td><td>Salt Lake City</td><td>2024-01-07T10:51:20.318Z</td></tr><tr><td>2506</td><td>UNITED STATES</td><td>Trenton</td><td>2024-01-07T10:51:20.318Z</td></tr><tr><td>2507</td><td>UNITED STATES</td><td>El Paso</td><td>2024-01-07T10:51:20.318Z</td></tr><tr><td>2508</td><td>UNITED STATES</td><td>San Antonio</td><td>2024-01-07T10:51:20.318Z</td></tr><tr><td>2509</td><td>UNITED STATES</td><td>North Little Rock</td><td>2024-01-07T10:51:20.318Z</td></tr><tr><td>2510</td><td>UNITED STATES</td><td>Sacramento</td><td>2024-01-07T10:51:20.318Z</td></tr><tr><td>2511</td><td>UNITED STATES</td><td>Phoenix</td><td>2024-01-07T10:51:20.318Z</td></tr><tr><td>2512</td><td>UNITED STATES</td><td>Rockford</td><td>2024-01-07T10:51:20.318Z</td></tr><tr><td>2513</td><td>UNITED STATES</td><td>Amarillo</td><td>2024-01-07T10:51:20.318Z</td></tr><tr><td>2514</td><td>UNITED STATES</td><td>Shreveport</td><td>2024-01-07T10:51:20.318Z</td></tr><tr><td>2515</td><td>UNITED STATES</td><td>Washington</td><td>2024-01-07T10:51:20.318Z</td></tr><tr><td>2516</td><td>UNITED STATES</td><td>Tucson</td><td>2024-01-07T10:51:20.318Z</td></tr><tr><td>2517</td><td>UNITED STATES</td><td>Los Angeles</td><td>2024-01-07T10:51:20.318Z</td></tr><tr><td>2518</td><td>UNITED STATES</td><td>Little Rock</td><td>2024-01-07T10:51:20.318Z</td></tr><tr><td>2519</td><td>UNITED STATES</td><td>Warren</td><td>2024-01-07T10:51:20.318Z</td></tr><tr><td>2520</td><td>UNITED STATES</td><td>Bronx</td><td>2024-01-07T10:51:20.318Z</td></tr><tr><td>2521</td><td>UNITED STATES</td><td>Los Angeles</td><td>2024-01-07T10:51:20.318Z</td></tr><tr><td>2522</td><td>UNITED STATES</td><td>Reno</td><td>2024-01-07T10:51:20.318Z</td></tr><tr><td>2523</td><td>UNITED STATES</td><td>Tempe</td><td>2024-01-07T10:51:20.318Z</td></tr><tr><td>2524</td><td>UNITED STATES</td><td>Shawnee Mission</td><td>2024-01-07T10:51:20.318Z</td></tr><tr><td>2525</td><td>UNITED STATES</td><td>Lafayette</td><td>2024-01-07T10:51:20.318Z</td></tr><tr><td>2526</td><td>UNITED STATES</td><td>Fort Worth</td><td>2024-01-07T10:51:20.318Z</td></tr><tr><td>2527</td><td>UNITED STATES</td><td>Reston</td><td>2024-01-07T10:51:20.318Z</td></tr><tr><td>2528</td><td>UNITED STATES</td><td>Denton</td><td>2024-01-07T10:51:20.318Z</td></tr><tr><td>2529</td><td>UNITED STATES</td><td>Roanoke</td><td>2024-01-07T10:51:20.318Z</td></tr><tr><td>2530</td><td>UNITED STATES</td><td>Asheville</td><td>2024-01-07T10:51:20.318Z</td></tr><tr><td>2531</td><td>UNITED STATES</td><td>Naples</td><td>2024-01-07T10:51:20.318Z</td></tr><tr><td>2532</td><td>UNITED STATES</td><td>Fresno</td><td>2024-01-07T10:51:20.318Z</td></tr><tr><td>2533</td><td>UNITED STATES</td><td>Washington</td><td>2024-01-07T10:51:20.318Z</td></tr><tr><td>2534</td><td>UNITED STATES</td><td>Beaverton</td><td>2024-01-07T10:51:20.318Z</td></tr><tr><td>2535</td><td>UNITED STATES</td><td>Erie</td><td>2024-01-07T10:51:20.318Z</td></tr><tr><td>2536</td><td>UNITED STATES</td><td>Reading</td><td>2024-01-07T10:51:20.318Z</td></tr><tr><td>2537</td><td>UNITED STATES</td><td>Sacramento</td><td>2024-01-07T10:51:20.318Z</td></tr><tr><td>2538</td><td>UNITED STATES</td><td>Louisville</td><td>2024-01-07T10:51:20.318Z</td></tr><tr><td>2539</td><td>UNITED STATES</td><td>Waco</td><td>2024-01-07T10:51:20.318Z</td></tr><tr><td>2540</td><td>UNITED STATES</td><td>Tacoma</td><td>2024-01-07T10:51:20.318Z</td></tr><tr><td>2541</td><td>UNITED STATES</td><td>Nashville</td><td>2024-01-07T10:51:20.318Z</td></tr><tr><td>2542</td><td>UNITED STATES</td><td>New Orleans</td><td>2024-01-07T10:51:20.318Z</td></tr><tr><td>2543</td><td>UNITED STATES</td><td>Jamaica</td><td>2024-01-07T10:51:20.318Z</td></tr><tr><td>2544</td><td>UNITED STATES</td><td>Greensboro</td><td>2024-01-07T10:51:20.318Z</td></tr><tr><td>2545</td><td>UNITED STATES</td><td>Raleigh</td><td>2024-01-07T10:51:20.318Z</td></tr><tr><td>2546</td><td>UNITED STATES</td><td>Richmond</td><td>2024-01-07T10:51:20.318Z</td></tr><tr><td>2547</td><td>UNITED STATES</td><td>Denver</td><td>2024-01-07T10:51:20.318Z</td></tr><tr><td>2548</td><td>UNITED STATES</td><td>Buffalo</td><td>2024-01-07T10:51:20.318Z</td></tr><tr><td>2549</td><td>UNITED STATES</td><td>Charlotte</td><td>2024-01-07T10:51:20.318Z</td></tr><tr><td>2550</td><td>UNITED KINGDOM</td><td>East End</td><td>2024-01-07T10:51:20.318Z</td></tr><tr><td>2551</td><td>UNITED STATES</td><td>Miami</td><td>2024-01-07T10:51:20.318Z</td></tr><tr><td>2552</td><td>UNITED KINGDOM</td><td>Ashley</td><td>2024-01-07T10:51:20.318Z</td></tr><tr><td>2553</td><td>UNITED STATES</td><td>Arlington</td><td>2024-01-07T10:51:20.318Z</td></tr><tr><td>2554</td><td>UNITED STATES</td><td>Des Moines</td><td>2024-01-07T10:51:20.318Z</td></tr><tr><td>2555</td><td>UNITED STATES</td><td>Oakland</td><td>2024-01-07T10:51:20.318Z</td></tr><tr><td>2556</td><td>UNITED STATES</td><td>Erie</td><td>2024-01-07T10:51:20.318Z</td></tr><tr><td>2557</td><td>UNITED STATES</td><td>El Paso</td><td>2024-01-07T10:51:20.318Z</td></tr><tr><td>2558</td><td>UNITED STATES</td><td>Colorado Springs</td><td>2024-01-07T10:51:20.318Z</td></tr><tr><td>2559</td><td>UNITED STATES</td><td>Las Vegas</td><td>2024-01-07T10:51:20.318Z</td></tr><tr><td>2560</td><td>UNITED STATES</td><td>Omaha</td><td>2024-01-07T10:51:20.318Z</td></tr><tr><td>2561</td><td>UNITED STATES</td><td>Houston</td><td>2024-01-07T10:51:20.318Z</td></tr><tr><td>2562</td><td>UNITED STATES</td><td>Fairbanks</td><td>2024-01-07T10:51:20.318Z</td></tr><tr><td>2563</td><td>UNITED STATES</td><td>Annapolis</td><td>2024-01-07T10:51:20.318Z</td></tr><tr><td>2564</td><td>UNITED STATES</td><td>Columbus</td><td>2024-01-07T10:51:20.318Z</td></tr><tr><td>2565</td><td>UNITED STATES</td><td>Washington</td><td>2024-01-07T10:51:20.318Z</td></tr><tr><td>2566</td><td>UNITED STATES</td><td>Syracuse</td><td>2024-01-07T10:51:20.318Z</td></tr><tr><td>2567</td><td></td><td></td><td>2024-01-07T10:51:20.318Z</td></tr><tr><td>2568</td><td>UNITED STATES</td><td>Charlotte</td><td>2024-01-07T10:51:20.318Z</td></tr><tr><td>2569</td><td>UNITED KINGDOM</td><td>Weston</td><td>2024-01-07T10:51:20.318Z</td></tr><tr><td>2570</td><td>UNITED STATES</td><td>Charlotte</td><td>2024-01-07T10:51:20.318Z</td></tr><tr><td>2571</td><td>UNITED STATES</td><td>Huntington</td><td>2024-01-07T10:51:20.318Z</td></tr><tr><td>2572</td><td>UNITED STATES</td><td>Albany</td><td>2024-01-07T10:51:20.318Z</td></tr><tr><td>2573</td><td>UNITED STATES</td><td>Atlanta</td><td>2024-01-07T10:51:20.318Z</td></tr><tr><td>2574</td><td>UNITED STATES</td><td>Cincinnati</td><td>2024-01-07T10:51:20.318Z</td></tr><tr><td>2575</td><td></td><td></td><td>2024-01-07T10:51:20.318Z</td></tr><tr><td>2576</td><td>UNITED STATES</td><td>Shreveport</td><td>2024-01-07T10:51:20.318Z</td></tr><tr><td>2577</td><td>UNITED STATES</td><td>Detroit</td><td>2024-01-07T10:51:20.318Z</td></tr><tr><td>2578</td><td>UNITED STATES</td><td>New York City</td><td>2024-01-07T10:51:20.318Z</td></tr><tr><td>2579</td><td>UNITED STATES</td><td>El Paso</td><td>2024-01-07T10:51:20.318Z</td></tr><tr><td>2580</td><td>UNITED STATES</td><td>Buffalo</td><td>2024-01-07T10:51:20.318Z</td></tr><tr><td>2581</td><td>UNITED STATES</td><td>Biloxi</td><td>2024-01-07T10:51:20.318Z</td></tr><tr><td>2582</td><td>UNITED STATES</td><td>Lancaster</td><td>2024-01-07T10:51:20.318Z</td></tr><tr><td>2583</td><td>UNITED STATES</td><td>Phoenix</td><td>2024-01-07T10:51:20.318Z</td></tr><tr><td>2584</td><td>UNITED STATES</td><td>Louisville</td><td>2024-01-07T10:51:20.318Z</td></tr><tr><td>2585</td><td>UNITED STATES</td><td>Port Washington</td><td>2024-01-07T10:51:20.318Z</td></tr><tr><td>2586</td><td>UNITED STATES</td><td>Washington</td><td>2024-01-07T10:51:20.318Z</td></tr><tr><td>2587</td><td>UNITED STATES</td><td>Vienna</td><td>2024-01-07T10:51:20.318Z</td></tr><tr><td>2588</td><td>UNITED STATES</td><td>Lubbock</td><td>2024-01-07T10:51:20.318Z</td></tr><tr><td>2589</td><td>UNITED STATES</td><td>Lansing</td><td>2024-01-07T10:51:20.318Z</td></tr><tr><td>2590</td><td>UNITED STATES</td><td>Montgomery</td><td>2024-01-07T10:51:20.318Z</td></tr><tr><td>2591</td><td>UNITED STATES</td><td>New York City</td><td>2024-01-07T10:51:20.318Z</td></tr><tr><td>2592</td><td>UNITED STATES</td><td>Harrisburg</td><td>2024-01-07T10:51:20.318Z</td></tr><tr><td>2593</td><td></td><td></td><td>2024-01-07T10:51:20.318Z</td></tr><tr><td>2594</td><td>UNITED STATES</td><td>Tallahassee</td><td>2024-01-07T10:51:20.318Z</td></tr><tr><td>2595</td><td>UNITED KINGDOM</td><td>Glasgow</td><td>2024-01-07T10:51:20.318Z</td></tr><tr><td>2596</td><td>UNITED STATES</td><td>Miami</td><td>2024-01-07T10:51:20.318Z</td></tr><tr><td>2597</td><td>UNITED STATES</td><td>Macon</td><td>2024-01-07T10:51:20.318Z</td></tr><tr><td>2598</td><td>UNITED STATES</td><td>Erie</td><td>2024-01-07T10:51:20.318Z</td></tr><tr><td>2599</td><td>UNITED STATES</td><td>El Paso</td><td>2024-01-07T10:51:20.318Z</td></tr><tr><td>2600</td><td>UNITED STATES</td><td>Harrisburg</td><td>2024-01-07T10:51:20.318Z</td></tr><tr><td>2601</td><td>UNITED STATES</td><td>Clearwater</td><td>2024-01-07T10:51:20.318Z</td></tr><tr><td>2602</td><td>UNITED KINGDOM</td><td>Aston</td><td>2024-01-07T10:51:20.318Z</td></tr><tr><td>2603</td><td>UNITED STATES</td><td>Baton Rouge</td><td>2024-01-07T10:51:20.318Z</td></tr><tr><td>2604</td><td>UNITED STATES</td><td>Zephyrhills</td><td>2024-01-07T10:51:20.318Z</td></tr><tr><td>2605</td><td>UNITED STATES</td><td>Lansing</td><td>2024-01-07T10:51:20.318Z</td></tr><tr><td>2606</td><td>UNITED STATES</td><td>Omaha</td><td>2024-01-07T10:51:20.318Z</td></tr><tr><td>2607</td><td>UNITED STATES</td><td>Washington</td><td>2024-01-07T10:51:20.318Z</td></tr><tr><td>2608</td><td>UNITED STATES</td><td>Knoxville</td><td>2024-01-07T10:51:20.318Z</td></tr><tr><td>2609</td><td>UNITED STATES</td><td>Dallas</td><td>2024-01-07T10:51:20.318Z</td></tr><tr><td>2610</td><td>UNITED STATES</td><td>Lees Summit</td><td>2024-01-07T10:51:20.318Z</td></tr><tr><td>2611</td><td>UNITED STATES</td><td>Odessa</td><td>2024-01-07T10:51:20.318Z</td></tr><tr><td>2612</td><td>UNITED STATES</td><td>Pasadena</td><td>2024-01-07T10:51:20.318Z</td></tr><tr><td>2613</td><td>UNITED KINGDOM</td><td>Preston</td><td>2024-01-07T10:51:20.318Z</td></tr><tr><td>2614</td><td>UNITED KINGDOM</td><td>Sheffield</td><td>2024-01-07T10:51:20.318Z</td></tr><tr><td>2615</td><td>UNITED STATES</td><td>Los Angeles</td><td>2024-01-07T10:51:20.318Z</td></tr><tr><td>2616</td><td>UNITED STATES</td><td>Little Rock</td><td>2024-01-07T10:51:20.318Z</td></tr><tr><td>2617</td><td>UNITED STATES</td><td>Harrisburg</td><td>2024-01-07T10:51:20.318Z</td></tr><tr><td>2618</td><td>UNITED KINGDOM</td><td>Horton</td><td>2024-01-07T10:51:20.318Z</td></tr><tr><td>2619</td><td>UNITED STATES</td><td>Shawnee Mission</td><td>2024-01-07T10:51:20.318Z</td></tr><tr><td>2620</td><td>UNITED STATES</td><td>Atlanta</td><td>2024-01-07T10:51:20.318Z</td></tr><tr><td>2621</td><td>UNITED STATES</td><td>Sacramento</td><td>2024-01-07T10:51:20.318Z</td></tr><tr><td>2622</td><td>UNITED STATES</td><td>Saint Louis</td><td>2024-01-07T10:51:20.318Z</td></tr><tr><td>2623</td><td>UNITED STATES</td><td>Cleveland</td><td>2024-01-07T10:51:20.318Z</td></tr><tr><td>2624</td><td>UNITED STATES</td><td>Newton</td><td>2024-01-07T10:51:20.318Z</td></tr><tr><td>2625</td><td></td><td></td><td>2024-01-07T10:51:20.318Z</td></tr><tr><td>2626</td><td>UNITED STATES</td><td>Austin</td><td>2024-01-07T10:51:20.318Z</td></tr><tr><td>2627</td><td>UNITED STATES</td><td>San Diego</td><td>2024-01-07T10:51:20.318Z</td></tr><tr><td>2628</td><td>UNITED STATES</td><td>El Paso</td><td>2024-01-07T10:51:20.318Z</td></tr><tr><td>2629</td><td>UNITED STATES</td><td>Denton</td><td>2024-01-07T10:51:20.318Z</td></tr><tr><td>2630</td><td></td><td></td><td>2024-01-07T10:51:20.318Z</td></tr><tr><td>2631</td><td>UNITED STATES</td><td>Yonkers</td><td>2024-01-07T10:51:20.318Z</td></tr><tr><td>2632</td><td>UNITED STATES</td><td>Chattanooga</td><td>2024-01-07T10:51:20.318Z</td></tr><tr><td>2633</td><td>UNITED KINGDOM</td><td>Aston</td><td>2024-01-07T10:51:20.318Z</td></tr><tr><td>2634</td><td>UNITED STATES</td><td>Dayton</td><td>2024-01-07T10:51:20.318Z</td></tr><tr><td>2635</td><td>UNITED STATES</td><td>Sacramento</td><td>2024-01-07T10:51:20.318Z</td></tr><tr><td>2636</td><td>UNITED STATES</td><td>Duluth</td><td>2024-01-07T10:51:20.318Z</td></tr><tr><td>2637</td><td>UNITED STATES</td><td>Allentown</td><td>2024-01-07T10:51:20.318Z</td></tr><tr><td>2638</td><td>UNITED STATES</td><td>Norfolk</td><td>2024-01-07T10:51:20.318Z</td></tr><tr><td>2639</td><td>UNITED STATES</td><td>Honolulu</td><td>2024-01-07T10:51:20.318Z</td></tr><tr><td>2640</td><td>UNITED STATES</td><td>Macon</td><td>2024-01-07T10:51:20.318Z</td></tr><tr><td>2641</td><td>UNITED STATES</td><td>Shawnee Mission</td><td>2024-01-07T10:51:20.318Z</td></tr><tr><td>2642</td><td>UNITED STATES</td><td>San Diego</td><td>2024-01-07T10:51:20.318Z</td></tr><tr><td>2643</td><td></td><td></td><td>2024-01-07T10:51:20.318Z</td></tr><tr><td>2644</td><td>UNITED STATES</td><td>Atlanta</td><td>2024-01-07T10:51:20.318Z</td></tr><tr><td>2645</td><td>UNITED STATES</td><td>Peoria</td><td>2024-01-07T10:51:20.318Z</td></tr><tr><td>2646</td><td>UNITED STATES</td><td>Chattanooga</td><td>2024-01-07T10:51:20.318Z</td></tr><tr><td>2647</td><td>UNITED STATES</td><td>Asheville</td><td>2024-01-07T10:51:20.318Z</td></tr><tr><td>2648</td><td>UNITED STATES</td><td>Oklahoma City</td><td>2024-01-07T10:51:20.318Z</td></tr><tr><td>2649</td><td>UNITED STATES</td><td>Detroit</td><td>2024-01-07T10:51:20.318Z</td></tr><tr><td>2650</td><td>UNITED STATES</td><td>Buffalo</td><td>2024-01-07T10:51:20.318Z</td></tr><tr><td>2651</td><td>UNITED STATES</td><td>Amarillo</td><td>2024-01-07T10:51:20.318Z</td></tr><tr><td>2652</td><td>UNITED STATES</td><td>Charleston</td><td>2024-01-07T10:51:20.318Z</td></tr><tr><td>2653</td><td>UNITED STATES</td><td>Evansville</td><td>2024-01-07T10:51:20.318Z</td></tr><tr><td>2654</td><td>UNITED STATES</td><td>Rochester</td><td>2024-01-07T10:51:20.318Z</td></tr><tr><td>2655</td><td>UNITED STATES</td><td>Philadelphia</td><td>2024-01-07T10:51:20.318Z</td></tr><tr><td>2656</td><td>UNITED STATES</td><td>Lawrenceville</td><td>2024-01-07T10:51:20.318Z</td></tr><tr><td>2657</td><td>UNITED STATES</td><td>Shawnee Mission</td><td>2024-01-07T10:51:20.318Z</td></tr><tr><td>2658</td><td>UNITED STATES</td><td>Johnson City</td><td>2024-01-07T10:51:20.318Z</td></tr><tr><td>2659</td><td>UNITED STATES</td><td>Philadelphia</td><td>2024-01-07T10:51:20.318Z</td></tr><tr><td>2660</td><td>UNITED STATES</td><td>San Diego</td><td>2024-01-07T10:51:20.318Z</td></tr><tr><td>2661</td><td>UNITED STATES</td><td>Vancouver</td><td>2024-01-07T10:51:20.318Z</td></tr><tr><td>2662</td><td>UNITED STATES</td><td>Toledo</td><td>2024-01-07T10:51:20.318Z</td></tr><tr><td>2663</td><td>UNITED STATES</td><td>Waterbury</td><td>2024-01-07T10:51:20.318Z</td></tr><tr><td>2664</td><td></td><td></td><td>2024-01-07T10:51:20.318Z</td></tr><tr><td>2665</td><td></td><td></td><td>2024-01-07T10:51:20.318Z</td></tr><tr><td>2666</td><td>UNITED STATES</td><td>Raleigh</td><td>2024-01-07T10:51:20.318Z</td></tr><tr><td>2667</td><td>UNITED STATES</td><td>Montgomery</td><td>2024-01-07T10:51:20.318Z</td></tr><tr><td>2668</td><td>UNITED STATES</td><td>Jacksonville</td><td>2024-01-07T10:51:20.318Z</td></tr><tr><td>2669</td><td>UNITED STATES</td><td>Columbus</td><td>2024-01-07T10:51:20.318Z</td></tr><tr><td>2670</td><td>UNITED STATES</td><td>Sacramento</td><td>2024-01-07T10:51:20.318Z</td></tr><tr><td>2671</td><td>UNITED STATES</td><td>Fort Wayne</td><td>2024-01-07T10:51:20.318Z</td></tr><tr><td>2672</td><td>UNITED STATES</td><td>Dallas</td><td>2024-01-07T10:51:20.318Z</td></tr><tr><td>2673</td><td>UNITED STATES</td><td>Chicago</td><td>2024-01-07T10:51:20.318Z</td></tr><tr><td>2674</td><td>UNITED STATES</td><td>Maple Plain</td><td>2024-01-07T10:51:20.318Z</td></tr><tr><td>2675</td><td>UNITED STATES</td><td>Rochester</td><td>2024-01-07T10:51:20.318Z</td></tr><tr><td>2676</td><td>UNITED STATES</td><td>Pasadena</td><td>2024-01-07T10:51:20.318Z</td></tr><tr><td>2677</td><td>UNITED STATES</td><td>Memphis</td><td>2024-01-07T10:51:20.318Z</td></tr><tr><td>2678</td><td>UNITED STATES</td><td>Chicago</td><td>2024-01-07T10:51:20.318Z</td></tr><tr><td>2679</td><td>UNITED STATES</td><td>Orlando</td><td>2024-01-07T10:51:20.318Z</td></tr><tr><td>2680</td><td>UNITED STATES</td><td>Lincoln</td><td>2024-01-07T10:51:20.318Z</td></tr><tr><td>2681</td><td>UNITED STATES</td><td>Shreveport</td><td>2024-01-07T10:51:20.318Z</td></tr><tr><td>2682</td><td>UNITED STATES</td><td>Durham</td><td>2024-01-07T10:51:20.318Z</td></tr><tr><td>2683</td><td>UNITED STATES</td><td>Peoria</td><td>2024-01-07T10:51:20.318Z</td></tr><tr><td>2684</td><td>UNITED STATES</td><td>Cincinnati</td><td>2024-01-07T10:51:20.318Z</td></tr><tr><td>2685</td><td>UNITED STATES</td><td>Muskegon</td><td>2024-01-07T10:51:20.318Z</td></tr><tr><td>2686</td><td>UNITED STATES</td><td>Los Angeles</td><td>2024-01-07T10:51:20.318Z</td></tr><tr><td>2687</td><td>UNITED STATES</td><td>San Jose</td><td>2024-01-07T10:51:20.318Z</td></tr><tr><td>2688</td><td>UNITED STATES</td><td>Dallas</td><td>2024-01-07T10:51:20.318Z</td></tr><tr><td>2689</td><td>UNITED STATES</td><td>Conroe</td><td>2024-01-07T10:51:20.318Z</td></tr><tr><td>2690</td><td>UNITED STATES</td><td>Columbus</td><td>2024-01-07T10:51:20.318Z</td></tr><tr><td>2691</td><td>UNITED STATES</td><td>Boston</td><td>2024-01-07T10:51:20.318Z</td></tr><tr><td>2692</td><td>UNITED STATES</td><td>Buffalo</td><td>2024-01-07T10:51:20.318Z</td></tr><tr><td>2693</td><td>UNITED STATES</td><td>Seattle</td><td>2024-01-07T10:51:20.318Z</td></tr><tr><td>2694</td><td>UNITED STATES</td><td>Brooklyn</td><td>2024-01-07T10:51:20.318Z</td></tr><tr><td>2695</td><td>UNITED STATES</td><td>Bronx</td><td>2024-01-07T10:51:20.318Z</td></tr><tr><td>2696</td><td>UNITED KINGDOM</td><td>Burnside</td><td>2024-01-07T10:51:20.318Z</td></tr><tr><td>2697</td><td>UNITED STATES</td><td>Charleston</td><td>2024-01-07T10:51:20.318Z</td></tr><tr><td>2698</td><td>UNITED KINGDOM</td><td>London</td><td>2024-01-07T10:51:20.318Z</td></tr><tr><td>2699</td><td></td><td></td><td>2024-01-07T10:51:20.318Z</td></tr><tr><td>2700</td><td></td><td></td><td>2024-01-07T10:51:20.318Z</td></tr><tr><td>2701</td><td>UNITED STATES</td><td>Staten Island</td><td>2024-01-07T10:51:20.318Z</td></tr><tr><td>2702</td><td>UNITED STATES</td><td>Garden Grove</td><td>2024-01-07T10:51:20.318Z</td></tr><tr><td>2703</td><td>UNITED STATES</td><td>Columbus</td><td>2024-01-07T10:51:20.318Z</td></tr><tr><td>2704</td><td>UNITED STATES</td><td>Phoenix</td><td>2024-01-07T10:51:20.318Z</td></tr><tr><td>2705</td><td></td><td></td><td>2024-01-07T10:51:20.318Z</td></tr><tr><td>2706</td><td>UNITED STATES</td><td>New Orleans</td><td>2024-01-07T10:51:20.318Z</td></tr><tr><td>2707</td><td>UNITED STATES</td><td>Richmond</td><td>2024-01-07T10:51:20.318Z</td></tr><tr><td>2708</td><td>UNITED STATES</td><td>Birmingham</td><td>2024-01-07T10:51:20.318Z</td></tr><tr><td>2709</td><td>UNITED STATES</td><td>Alexandria</td><td>2024-01-07T10:51:20.318Z</td></tr><tr><td>2710</td><td>UNITED STATES</td><td>Tallahassee</td><td>2024-01-07T10:51:20.318Z</td></tr><tr><td>2711</td><td></td><td></td><td>2024-01-07T10:51:20.318Z</td></tr><tr><td>2712</td><td>UNITED STATES</td><td>Monroe</td><td>2024-01-07T10:51:20.318Z</td></tr><tr><td>2713</td><td>UNITED STATES</td><td>Dallas</td><td>2024-01-07T10:51:20.318Z</td></tr><tr><td>2714</td><td>UNITED STATES</td><td>Erie</td><td>2024-01-07T10:51:20.318Z</td></tr><tr><td>2715</td><td>UNITED STATES</td><td>Huntsville</td><td>2024-01-07T10:51:20.318Z</td></tr><tr><td>2716</td><td>UNITED KINGDOM</td><td>London</td><td>2024-01-07T10:51:20.318Z</td></tr><tr><td>2717</td><td>UNITED STATES</td><td>Phoenix</td><td>2024-01-07T10:51:20.318Z</td></tr><tr><td>2718</td><td>UNITED STATES</td><td>El Paso</td><td>2024-01-07T10:51:20.318Z</td></tr><tr><td>2719</td><td>UNITED STATES</td><td>Huntsville</td><td>2024-01-07T10:51:20.318Z</td></tr><tr><td>2720</td><td>UNITED STATES</td><td>Racine</td><td>2024-01-07T10:51:20.318Z</td></tr><tr><td>2721</td><td>UNITED STATES</td><td>Baton Rouge</td><td>2024-01-07T10:51:20.318Z</td></tr><tr><td>2722</td><td>UNITED STATES</td><td>Duluth</td><td>2024-01-07T10:51:20.318Z</td></tr><tr><td>2723</td><td>UNITED STATES</td><td>Gainesville</td><td>2024-01-07T10:51:20.318Z</td></tr><tr><td>2724</td><td>UNITED STATES</td><td>Cincinnati</td><td>2024-01-07T10:51:20.318Z</td></tr><tr><td>2725</td><td>UNITED STATES</td><td>Las Vegas</td><td>2024-01-07T10:51:20.318Z</td></tr><tr><td>2726</td><td></td><td></td><td>2024-01-07T10:51:20.318Z</td></tr><tr><td>2727</td><td>UNITED KINGDOM</td><td>Aberdeen</td><td>2024-01-07T10:51:20.318Z</td></tr><tr><td>2728</td><td>UNITED STATES</td><td>Washington</td><td>2024-01-07T10:51:20.318Z</td></tr><tr><td>2729</td><td>UNITED STATES</td><td>Lancaster</td><td>2024-01-07T10:51:20.318Z</td></tr><tr><td>2730</td><td></td><td></td><td>2024-01-07T10:51:20.318Z</td></tr><tr><td>2731</td><td>UNITED STATES</td><td>Ogden</td><td>2024-01-07T10:51:20.318Z</td></tr><tr><td>2732</td><td>UNITED STATES</td><td>Washington</td><td>2024-01-07T10:51:20.318Z</td></tr><tr><td>2733</td><td>UNITED STATES</td><td>Las Vegas</td><td>2024-01-07T10:51:20.318Z</td></tr><tr><td>2734</td><td>UNITED STATES</td><td>Lexington</td><td>2024-01-07T10:51:20.318Z</td></tr><tr><td>2735</td><td></td><td></td><td>2024-01-07T10:51:20.318Z</td></tr><tr><td>2736</td><td>UNITED KINGDOM</td><td>Seaton</td><td>2024-01-07T10:51:20.318Z</td></tr><tr><td>2737</td><td>UNITED STATES</td><td>Seattle</td><td>2024-01-07T10:51:20.318Z</td></tr><tr><td>2738</td><td>UNITED STATES</td><td>Seattle</td><td>2024-01-07T10:51:20.318Z</td></tr><tr><td>2739</td><td>UNITED STATES</td><td>Wilmington</td><td>2024-01-07T10:51:20.318Z</td></tr><tr><td>2740</td><td>UNITED KINGDOM</td><td>Birmingham</td><td>2024-01-07T10:51:20.318Z</td></tr><tr><td>2741</td><td>UNITED STATES</td><td>Roanoke</td><td>2024-01-07T10:51:20.318Z</td></tr><tr><td>2742</td><td>UNITED STATES</td><td>Springfield</td><td>2024-01-07T10:51:20.318Z</td></tr><tr><td>2743</td><td>UNITED STATES</td><td>Seattle</td><td>2024-01-07T10:51:20.318Z</td></tr><tr><td>2744</td><td>UNITED STATES</td><td>Houston</td><td>2024-01-07T10:51:20.318Z</td></tr><tr><td>2745</td><td>UNITED STATES</td><td>Birmingham</td><td>2024-01-07T10:51:20.318Z</td></tr><tr><td>2746</td><td>UNITED STATES</td><td>Cedar Rapids</td><td>2024-01-07T10:51:20.318Z</td></tr><tr><td>2747</td><td>UNITED STATES</td><td>Young America</td><td>2024-01-07T10:51:20.318Z</td></tr><tr><td>2748</td><td>UNITED STATES</td><td>Springfield</td><td>2024-01-07T10:51:20.318Z</td></tr><tr><td>2749</td><td>UNITED STATES</td><td>Knoxville</td><td>2024-01-07T10:51:20.318Z</td></tr><tr><td>2750</td><td>UNITED STATES</td><td>Evansville</td><td>2024-01-07T10:51:20.318Z</td></tr><tr><td>2751</td><td>UNITED STATES</td><td>New York City</td><td>2024-01-07T10:51:20.318Z</td></tr><tr><td>2752</td><td>UNITED STATES</td><td>Vienna</td><td>2024-01-07T10:51:20.318Z</td></tr><tr><td>2753</td><td>UNITED STATES</td><td>Pittsburgh</td><td>2024-01-07T10:51:20.318Z</td></tr><tr><td>2754</td><td>UNITED STATES</td><td>San Antonio</td><td>2024-01-07T10:51:20.318Z</td></tr><tr><td>2755</td><td></td><td></td><td>2024-01-07T10:51:20.318Z</td></tr><tr><td>2756</td><td>UNITED STATES</td><td>San Antonio</td><td>2024-01-07T10:51:20.318Z</td></tr><tr><td>2757</td><td>UNITED STATES</td><td>Denver</td><td>2024-01-07T10:51:20.318Z</td></tr><tr><td>2758</td><td>UNITED STATES</td><td>Nashville</td><td>2024-01-07T10:51:20.318Z</td></tr><tr><td>2759</td><td>UNITED STATES</td><td>Pueblo</td><td>2024-01-07T10:51:20.318Z</td></tr><tr><td>2760</td><td>UNITED STATES</td><td>Newton</td><td>2024-01-07T10:51:20.318Z</td></tr><tr><td>2761</td><td>UNITED STATES</td><td>Duluth</td><td>2024-01-07T10:51:20.318Z</td></tr><tr><td>2762</td><td>UNITED STATES</td><td>Garden Grove</td><td>2024-01-07T10:51:20.318Z</td></tr><tr><td>2763</td><td>UNITED STATES</td><td>Jacksonville</td><td>2024-01-07T10:51:20.318Z</td></tr><tr><td>2764</td><td>UNITED STATES</td><td>Lexington</td><td>2024-01-07T10:51:20.318Z</td></tr><tr><td>2765</td><td>UNITED STATES</td><td>Annapolis</td><td>2024-01-07T10:51:20.318Z</td></tr><tr><td>2766</td><td>UNITED STATES</td><td>Grand Forks</td><td>2024-01-07T10:51:20.318Z</td></tr><tr><td>2767</td><td>UNITED STATES</td><td>Saint Petersburg</td><td>2024-01-07T10:51:20.318Z</td></tr><tr><td>2768</td><td></td><td></td><td>2024-01-07T10:51:20.318Z</td></tr><tr><td>2769</td><td>UNITED STATES</td><td>Pasadena</td><td>2024-01-07T10:51:20.318Z</td></tr><tr><td>2770</td><td>UNITED STATES</td><td>Shreveport</td><td>2024-01-07T10:51:20.318Z</td></tr><tr><td>2771</td><td>UNITED STATES</td><td>Atlanta</td><td>2024-01-07T10:51:20.318Z</td></tr><tr><td>2772</td><td>UNITED STATES</td><td>Houston</td><td>2024-01-07T10:51:20.318Z</td></tr><tr><td>2773</td><td>UNITED KINGDOM</td><td>Newton</td><td>2024-01-07T10:51:20.318Z</td></tr><tr><td>2774</td><td>UNITED STATES</td><td>Vancouver</td><td>2024-01-07T10:51:20.318Z</td></tr><tr><td>2775</td><td>UNITED STATES</td><td>Washington</td><td>2024-01-07T10:51:20.318Z</td></tr><tr><td>2776</td><td>UNITED STATES</td><td>Chicago</td><td>2024-01-07T10:51:20.318Z</td></tr><tr><td>2777</td><td>UNITED STATES</td><td>Memphis</td><td>2024-01-07T10:51:20.318Z</td></tr><tr><td>2778</td><td>UNITED STATES</td><td>New York City</td><td>2024-01-07T10:51:20.318Z</td></tr><tr><td>2779</td><td>UNITED STATES</td><td>Houston</td><td>2024-01-07T10:51:20.318Z</td></tr><tr><td>2780</td><td>UNITED STATES</td><td>Newport Beach</td><td>2024-01-07T10:51:20.318Z</td></tr><tr><td>2781</td><td></td><td></td><td>2024-01-07T10:51:20.318Z</td></tr><tr><td>2782</td><td></td><td></td><td>2024-01-07T10:51:20.318Z</td></tr><tr><td>2783</td><td>UNITED STATES</td><td>Honolulu</td><td>2024-01-07T10:51:20.318Z</td></tr><tr><td>2784</td><td></td><td></td><td>2024-01-07T10:51:20.318Z</td></tr><tr><td>2785</td><td>UNITED STATES</td><td>Amarillo</td><td>2024-01-07T10:51:20.318Z</td></tr><tr><td>2786</td><td></td><td></td><td>2024-01-07T10:51:20.318Z</td></tr><tr><td>2787</td><td></td><td></td><td>2024-01-07T10:51:20.318Z</td></tr><tr><td>2788</td><td>UNITED STATES</td><td>New York City</td><td>2024-01-07T10:51:20.318Z</td></tr><tr><td>2789</td><td>UNITED STATES</td><td>New York City</td><td>2024-01-07T10:51:20.318Z</td></tr><tr><td>2790</td><td>UNITED KINGDOM</td><td>Sheffield</td><td>2024-01-07T10:51:20.318Z</td></tr><tr><td>2791</td><td>UNITED STATES</td><td>Daytona Beach</td><td>2024-01-07T10:51:20.318Z</td></tr><tr><td>2792</td><td>UNITED STATES</td><td>Washington</td><td>2024-01-07T10:51:20.318Z</td></tr><tr><td>2793</td><td>UNITED STATES</td><td>San Jose</td><td>2024-01-07T10:51:20.318Z</td></tr><tr><td>2794</td><td>UNITED STATES</td><td>Harrisburg</td><td>2024-01-07T10:51:20.318Z</td></tr><tr><td>2795</td><td>UNITED KINGDOM</td><td>Kirkton</td><td>2024-01-07T10:51:20.318Z</td></tr><tr><td>2796</td><td>UNITED KINGDOM</td><td>Kingston</td><td>2024-01-07T10:51:20.318Z</td></tr><tr><td>2797</td><td>UNITED STATES</td><td>San Diego</td><td>2024-01-07T10:51:20.318Z</td></tr><tr><td>2798</td><td>UNITED STATES</td><td>Saint Petersburg</td><td>2024-01-07T10:51:20.318Z</td></tr><tr><td>2799</td><td>UNITED STATES</td><td>Dallas</td><td>2024-01-07T10:51:20.318Z</td></tr><tr><td>2800</td><td>UNITED STATES</td><td>Atlanta</td><td>2024-01-07T10:51:20.318Z</td></tr><tr><td>2801</td><td>UNITED STATES</td><td>Atlanta</td><td>2024-01-07T10:51:20.318Z</td></tr><tr><td>2802</td><td>UNITED STATES</td><td>San Antonio</td><td>2024-01-07T10:51:20.318Z</td></tr><tr><td>2803</td><td>UNITED STATES</td><td>Austin</td><td>2024-01-07T10:51:20.318Z</td></tr><tr><td>2804</td><td>UNITED KINGDOM</td><td>Manchester</td><td>2024-01-07T10:51:20.318Z</td></tr><tr><td>2805</td><td>UNITED STATES</td><td>Nashville</td><td>2024-01-07T10:51:20.318Z</td></tr><tr><td>2806</td><td>UNITED STATES</td><td>Los Angeles</td><td>2024-01-07T10:51:20.318Z</td></tr><tr><td>2807</td><td></td><td></td><td>2024-01-07T10:51:20.318Z</td></tr><tr><td>2808</td><td>UNITED STATES</td><td>Louisville</td><td>2024-01-07T10:51:20.318Z</td></tr><tr><td>2809</td><td>UNITED STATES</td><td>Beaufort</td><td>2024-01-07T10:51:20.318Z</td></tr><tr><td>2810</td><td>UNITED STATES</td><td>Columbus</td><td>2024-01-07T10:51:20.318Z</td></tr><tr><td>2811</td><td>UNITED STATES</td><td>Columbus</td><td>2024-01-07T10:51:20.318Z</td></tr><tr><td>2812</td><td>UNITED STATES</td><td>Charleston</td><td>2024-01-07T10:51:20.318Z</td></tr><tr><td>2813</td><td>UNITED STATES</td><td>Beaverton</td><td>2024-01-07T10:51:20.318Z</td></tr><tr><td>2814</td><td>UNITED STATES</td><td>Portland</td><td>2024-01-07T10:51:20.318Z</td></tr><tr><td>2815</td><td>UNITED STATES</td><td>Saint Louis</td><td>2024-01-07T10:51:20.318Z</td></tr><tr><td>2816</td><td></td><td></td><td>2024-01-07T10:51:20.318Z</td></tr><tr><td>2817</td><td>UNITED STATES</td><td>Cincinnati</td><td>2024-01-07T10:51:20.318Z</td></tr><tr><td>2818</td><td>UNITED KINGDOM</td><td>Marston</td><td>2024-01-07T10:51:20.318Z</td></tr><tr><td>2819</td><td>UNITED STATES</td><td>Whittier</td><td>2024-01-07T10:51:20.318Z</td></tr><tr><td>2820</td><td>UNITED STATES</td><td>Brooklyn</td><td>2024-01-07T10:51:20.318Z</td></tr><tr><td>2821</td><td>UNITED STATES</td><td>Saint Louis</td><td>2024-01-07T10:51:20.318Z</td></tr><tr><td>2822</td><td>UNITED STATES</td><td>Nashville</td><td>2024-01-07T10:51:20.318Z</td></tr><tr><td>2823</td><td>UNITED STATES</td><td>Youngstown</td><td>2024-01-07T10:51:20.318Z</td></tr><tr><td>2824</td><td>UNITED STATES</td><td>Philadelphia</td><td>2024-01-07T10:51:20.318Z</td></tr><tr><td>2825</td><td>UNITED STATES</td><td>Charlotte</td><td>2024-01-07T10:51:20.318Z</td></tr><tr><td>2826</td><td>UNITED STATES</td><td>Columbia</td><td>2024-01-07T10:51:20.318Z</td></tr><tr><td>2827</td><td>UNITED STATES</td><td>Birmingham</td><td>2024-01-07T10:51:20.318Z</td></tr><tr><td>2828</td><td>UNITED STATES</td><td>Charleston</td><td>2024-01-07T10:51:20.318Z</td></tr><tr><td>2829</td><td>UNITED STATES</td><td>Tacoma</td><td>2024-01-07T10:51:20.318Z</td></tr><tr><td>2830</td><td></td><td></td><td>2024-01-07T10:51:20.318Z</td></tr><tr><td>2831</td><td>UNITED STATES</td><td>Montgomery</td><td>2024-01-07T10:51:20.318Z</td></tr><tr><td>2832</td><td>UNITED KINGDOM</td><td>Craigavon</td><td>2024-01-07T10:51:20.318Z</td></tr><tr><td>2833</td><td>UNITED STATES</td><td>Fresno</td><td>2024-01-07T10:51:20.318Z</td></tr><tr><td>2834</td><td>UNITED STATES</td><td>Honolulu</td><td>2024-01-07T10:51:20.318Z</td></tr><tr><td>2835</td><td>UNITED STATES</td><td>Arlington</td><td>2024-01-07T10:51:20.318Z</td></tr><tr><td>2836</td><td>UNITED STATES</td><td>Monroe</td><td>2024-01-07T10:51:20.318Z</td></tr><tr><td>2837</td><td>UNITED STATES</td><td>Fort Worth</td><td>2024-01-07T10:51:20.318Z</td></tr><tr><td>2838</td><td>UNITED STATES</td><td>Colorado Springs</td><td>2024-01-07T10:51:20.318Z</td></tr><tr><td>2839</td><td>UNITED STATES</td><td>Pittsburgh</td><td>2024-01-07T10:51:20.318Z</td></tr><tr><td>2840</td><td></td><td></td><td>2024-01-07T10:51:20.318Z</td></tr><tr><td>2841</td><td>UNITED STATES</td><td>Jackson</td><td>2024-01-07T10:51:20.318Z</td></tr><tr><td>2842</td><td>UNITED STATES</td><td>Raleigh</td><td>2024-01-07T10:51:20.318Z</td></tr><tr><td>2843</td><td>UNITED STATES</td><td>Milwaukee</td><td>2024-01-07T10:51:20.318Z</td></tr><tr><td>2844</td><td>UNITED STATES</td><td>El Paso</td><td>2024-01-07T10:51:20.318Z</td></tr><tr><td>2845</td><td>UNITED STATES</td><td>Anchorage</td><td>2024-01-07T10:51:20.318Z</td></tr><tr><td>2846</td><td>UNITED STATES</td><td>El Paso</td><td>2024-01-07T10:51:20.318Z</td></tr><tr><td>2847</td><td>UNITED STATES</td><td>Asheville</td><td>2024-01-07T10:51:20.318Z</td></tr><tr><td>2848</td><td>UNITED STATES</td><td>Sacramento</td><td>2024-01-07T10:51:20.318Z</td></tr><tr><td>2849</td><td>UNITED STATES</td><td>Montgomery</td><td>2024-01-07T10:51:20.318Z</td></tr><tr><td>2850</td><td>UNITED STATES</td><td>Palmdale</td><td>2024-01-07T10:51:20.318Z</td></tr><tr><td>2851</td><td>UNITED STATES</td><td>Shreveport</td><td>2024-01-07T10:51:20.318Z</td></tr><tr><td>2852</td><td>UNITED STATES</td><td>Fort Myers</td><td>2024-01-07T10:51:20.318Z</td></tr><tr><td>2853</td><td>UNITED STATES</td><td>Houston</td><td>2024-01-07T10:51:20.318Z</td></tr><tr><td>2854</td><td>UNITED STATES</td><td>Macon</td><td>2024-01-07T10:51:20.318Z</td></tr><tr><td>2855</td><td>UNITED KINGDOM</td><td>Carlton</td><td>2024-01-07T10:51:20.318Z</td></tr><tr><td>2856</td><td>UNITED STATES</td><td>Waco</td><td>2024-01-07T10:51:20.318Z</td></tr><tr><td>2857</td><td>UNITED STATES</td><td>Pittsburgh</td><td>2024-01-07T10:51:20.318Z</td></tr><tr><td>2858</td><td>UNITED STATES</td><td>Fresno</td><td>2024-01-07T10:51:20.318Z</td></tr><tr><td>2859</td><td>UNITED KINGDOM</td><td>Merton</td><td>2024-01-07T10:51:20.318Z</td></tr><tr><td>2860</td><td>UNITED STATES</td><td>Louisville</td><td>2024-01-07T10:51:20.318Z</td></tr><tr><td>2861</td><td>UNITED STATES</td><td>Rockford</td><td>2024-01-07T10:51:20.318Z</td></tr><tr><td>2862</td><td>UNITED STATES</td><td>Saint Louis</td><td>2024-01-07T10:51:20.318Z</td></tr><tr><td>2863</td><td>UNITED STATES</td><td>Stamford</td><td>2024-01-07T10:51:20.318Z</td></tr><tr><td>2864</td><td>UNITED STATES</td><td>Washington</td><td>2024-01-07T10:51:20.318Z</td></tr><tr><td>2865</td><td></td><td></td><td>2024-01-07T10:51:20.318Z</td></tr><tr><td>2866</td><td>UNITED STATES</td><td>Memphis</td><td>2024-01-07T10:51:20.318Z</td></tr><tr><td>2867</td><td>UNITED STATES</td><td>Charleston</td><td>2024-01-07T10:51:20.318Z</td></tr><tr><td>2868</td><td>UNITED STATES</td><td>Santa Rosa</td><td>2024-01-07T10:51:20.318Z</td></tr><tr><td>2869</td><td>UNITED STATES</td><td>Lansing</td><td>2024-01-07T10:51:20.318Z</td></tr><tr><td>2870</td><td>UNITED STATES</td><td>Honolulu</td><td>2024-01-07T10:51:20.318Z</td></tr><tr><td>2871</td><td>UNITED STATES</td><td>Cedar Rapids</td><td>2024-01-07T10:51:20.318Z</td></tr><tr><td>2872</td><td>UNITED STATES</td><td>Peoria</td><td>2024-01-07T10:51:20.318Z</td></tr><tr><td>2873</td><td>UNITED STATES</td><td>New York City</td><td>2024-01-07T10:51:20.318Z</td></tr><tr><td>2874</td><td>UNITED STATES</td><td>Denver</td><td>2024-01-07T10:51:20.318Z</td></tr><tr><td>2875</td><td>UNITED STATES</td><td>Tacoma</td><td>2024-01-07T10:51:20.318Z</td></tr><tr><td>2876</td><td>UNITED STATES</td><td>Wichita</td><td>2024-01-07T10:51:20.318Z</td></tr><tr><td>2877</td><td>UNITED STATES</td><td>Colorado Springs</td><td>2024-01-07T10:51:20.318Z</td></tr><tr><td>2878</td><td>UNITED STATES</td><td>Aurora</td><td>2024-01-07T10:51:20.318Z</td></tr><tr><td>2879</td><td>UNITED STATES</td><td>Muskegon</td><td>2024-01-07T10:51:20.318Z</td></tr><tr><td>2880</td><td>UNITED STATES</td><td>El Paso</td><td>2024-01-07T10:51:20.318Z</td></tr><tr><td>2881</td><td>UNITED STATES</td><td>Grand Rapids</td><td>2024-01-07T10:51:20.318Z</td></tr><tr><td>2882</td><td>UNITED STATES</td><td>Chicago</td><td>2024-01-07T10:51:20.318Z</td></tr><tr><td>2883</td><td>UNITED STATES</td><td>Albany</td><td>2024-01-07T10:51:20.318Z</td></tr><tr><td>2884</td><td>UNITED STATES</td><td>Garden Grove</td><td>2024-01-07T10:51:20.318Z</td></tr><tr><td>2885</td><td>UNITED KINGDOM</td><td>Craigavon</td><td>2024-01-07T10:51:20.318Z</td></tr><tr><td>2886</td><td>UNITED STATES</td><td>Tulsa</td><td>2024-01-07T10:51:20.318Z</td></tr><tr><td>2887</td><td>UNITED STATES</td><td>Grand Rapids</td><td>2024-01-07T10:51:20.318Z</td></tr><tr><td>2888</td><td>UNITED STATES</td><td>Mobile</td><td>2024-01-07T10:51:20.318Z</td></tr><tr><td>2889</td><td>UNITED STATES</td><td>Mobile</td><td>2024-01-07T10:51:20.318Z</td></tr><tr><td>2890</td><td>UNITED STATES</td><td>Washington</td><td>2024-01-07T10:51:20.318Z</td></tr><tr><td>2891</td><td>UNITED STATES</td><td>Philadelphia</td><td>2024-01-07T10:51:20.318Z</td></tr><tr><td>2892</td><td>UNITED STATES</td><td>Round Rock</td><td>2024-01-07T10:51:20.318Z</td></tr><tr><td>2893</td><td>UNITED STATES</td><td>Baltimore</td><td>2024-01-07T10:51:20.318Z</td></tr><tr><td>2894</td><td>UNITED KINGDOM</td><td>London</td><td>2024-01-07T10:51:20.318Z</td></tr><tr><td>2895</td><td>UNITED STATES</td><td>Las Vegas</td><td>2024-01-07T10:51:20.318Z</td></tr><tr><td>2896</td><td>UNITED STATES</td><td>Vancouver</td><td>2024-01-07T10:51:20.318Z</td></tr><tr><td>2897</td><td>UNITED STATES</td><td>Omaha</td><td>2024-01-07T10:51:20.318Z</td></tr><tr><td>2898</td><td>UNITED STATES</td><td>Great Neck</td><td>2024-01-07T10:51:20.318Z</td></tr><tr><td>2899</td><td>UNITED STATES</td><td>Stamford</td><td>2024-01-07T10:51:20.318Z</td></tr><tr><td>2900</td><td>UNITED STATES</td><td>Milwaukee</td><td>2024-01-07T10:51:20.318Z</td></tr><tr><td>2901</td><td>UNITED STATES</td><td>Paterson</td><td>2024-01-07T10:51:20.318Z</td></tr><tr><td>2902</td><td>UNITED STATES</td><td>Honolulu</td><td>2024-01-07T10:51:20.318Z</td></tr><tr><td>2903</td><td></td><td></td><td>2024-01-07T10:51:20.318Z</td></tr><tr><td>2904</td><td>UNITED STATES</td><td>Memphis</td><td>2024-01-07T10:51:20.318Z</td></tr><tr><td>2905</td><td>UNITED STATES</td><td>Dallas</td><td>2024-01-07T10:51:20.318Z</td></tr><tr><td>2906</td><td>INDIA</td><td>Sadar Bazar</td><td>2024-01-07T10:51:20.318Z</td></tr><tr><td>2907</td><td>UNITED STATES</td><td>San Jose</td><td>2024-01-07T10:51:20.318Z</td></tr><tr><td>2908</td><td>UNITED STATES</td><td>New York City</td><td>2024-01-07T10:51:20.318Z</td></tr><tr><td>2909</td><td></td><td></td><td>2024-01-07T10:51:20.318Z</td></tr><tr><td>2910</td><td>UNITED STATES</td><td>Evansville</td><td>2024-01-07T10:51:20.318Z</td></tr><tr><td>2911</td><td>UNITED STATES</td><td>Tempe</td><td>2024-01-07T10:51:20.318Z</td></tr><tr><td>2912</td><td></td><td></td><td>2024-01-07T10:51:20.318Z</td></tr><tr><td>2913</td><td>UNITED STATES</td><td>Boulder</td><td>2024-01-07T10:51:20.318Z</td></tr><tr><td>2914</td><td>UNITED STATES</td><td>Lincoln</td><td>2024-01-07T10:51:20.318Z</td></tr><tr><td>2915</td><td>UNITED STATES</td><td>Melbourne</td><td>2024-01-07T10:51:20.318Z</td></tr><tr><td>2916</td><td>UNITED STATES</td><td>Kansas City</td><td>2024-01-07T10:51:20.318Z</td></tr><tr><td>2917</td><td>UNITED STATES</td><td>Boca Raton</td><td>2024-01-07T10:51:20.318Z</td></tr><tr><td>2918</td><td>UNITED KINGDOM</td><td>Sheffield</td><td>2024-01-07T10:51:20.318Z</td></tr><tr><td>2919</td><td>UNITED STATES</td><td>Washington</td><td>2024-01-07T10:51:20.318Z</td></tr><tr><td>2920</td><td>UNITED STATES</td><td>Lincoln</td><td>2024-01-07T10:51:20.318Z</td></tr><tr><td>2921</td><td>UNITED STATES</td><td>Toledo</td><td>2024-01-07T10:51:20.318Z</td></tr><tr><td>2922</td><td>UNITED STATES</td><td>Dulles</td><td>2024-01-07T10:51:20.318Z</td></tr><tr><td>2923</td><td>UNITED STATES</td><td>Bellevue</td><td>2024-01-07T10:51:20.318Z</td></tr><tr><td>2924</td><td>UNITED STATES</td><td>Boston</td><td>2024-01-07T10:51:20.318Z</td></tr><tr><td>2925</td><td>UNITED STATES</td><td>Great Neck</td><td>2024-01-07T10:51:20.318Z</td></tr><tr><td>2926</td><td>UNITED STATES</td><td>Columbus</td><td>2024-01-07T10:51:20.318Z</td></tr><tr><td>2927</td><td>UNITED STATES</td><td>Dallas</td><td>2024-01-07T10:51:20.318Z</td></tr><tr><td>2928</td><td>UNITED KINGDOM</td><td>Sheffield</td><td>2024-01-07T10:51:20.318Z</td></tr><tr><td>2929</td><td>UNITED KINGDOM</td><td>Wootton</td><td>2024-01-07T10:51:20.318Z</td></tr><tr><td>2930</td><td>UNITED STATES</td><td>Joliet</td><td>2024-01-07T10:51:20.318Z</td></tr><tr><td>2931</td><td>UNITED STATES</td><td>New Haven</td><td>2024-01-07T10:51:20.318Z</td></tr><tr><td>2932</td><td>UNITED KINGDOM</td><td>Birmingham</td><td>2024-01-07T10:51:20.318Z</td></tr><tr><td>2933</td><td>UNITED STATES</td><td>Boise</td><td>2024-01-07T10:51:20.318Z</td></tr><tr><td>2934</td><td>UNITED STATES</td><td>Mesquite</td><td>2024-01-07T10:51:20.318Z</td></tr><tr><td>2935</td><td>UNITED STATES</td><td>Columbus</td><td>2024-01-07T10:51:20.318Z</td></tr><tr><td>2936</td><td>UNITED STATES</td><td>Oceanside</td><td>2024-01-07T10:51:20.318Z</td></tr><tr><td>2937</td><td>UNITED STATES</td><td>Jackson</td><td>2024-01-07T10:51:20.318Z</td></tr><tr><td>2938</td><td>UNITED KINGDOM</td><td>Thorpe</td><td>2024-01-07T10:51:20.318Z</td></tr><tr><td>2939</td><td>UNITED STATES</td><td>Indianapolis</td><td>2024-01-07T10:51:20.318Z</td></tr><tr><td>2940</td><td>UNITED STATES</td><td>Tulsa</td><td>2024-01-07T10:51:20.318Z</td></tr><tr><td>2941</td><td>UNITED STATES</td><td>Saginaw</td><td>2024-01-07T10:51:20.318Z</td></tr><tr><td>2942</td><td>UNITED KINGDOM</td><td>Norton</td><td>2024-01-07T10:51:20.318Z</td></tr><tr><td>2943</td><td>UNITED STATES</td><td>Buffalo</td><td>2024-01-07T10:51:20.318Z</td></tr><tr><td>2944</td><td>UNITED STATES</td><td>Murfreesboro</td><td>2024-01-07T10:51:20.318Z</td></tr><tr><td>2945</td><td>UNITED STATES</td><td>Shawnee Mission</td><td>2024-01-07T10:51:20.318Z</td></tr><tr><td>2946</td><td>UNITED STATES</td><td>Salinas</td><td>2024-01-07T10:51:20.318Z</td></tr><tr><td>2947</td><td>UNITED STATES</td><td>Salt Lake City</td><td>2024-01-07T10:51:20.318Z</td></tr><tr><td>2948</td><td>UNITED STATES</td><td>Portland</td><td>2024-01-07T10:51:20.318Z</td></tr><tr><td>2949</td><td>UNITED STATES</td><td>Washington</td><td>2024-01-07T10:51:20.318Z</td></tr><tr><td>2950</td><td>UNITED STATES</td><td>Brooklyn</td><td>2024-01-07T10:51:20.318Z</td></tr><tr><td>2951</td><td>UNITED STATES</td><td>Newark</td><td>2024-01-07T10:51:20.318Z</td></tr><tr><td>2952</td><td>UNITED STATES</td><td>Oklahoma City</td><td>2024-01-07T10:51:20.318Z</td></tr><tr><td>2953</td><td>UNITED KINGDOM</td><td>Middleton</td><td>2024-01-07T10:51:20.318Z</td></tr><tr><td>2954</td><td>UNITED STATES</td><td>Fort Smith</td><td>2024-01-07T10:51:20.318Z</td></tr><tr><td>2955</td><td>UNITED STATES</td><td>Aurora</td><td>2024-01-07T10:51:20.318Z</td></tr><tr><td>2956</td><td>UNITED STATES</td><td>Fort Worth</td><td>2024-01-07T10:51:20.318Z</td></tr><tr><td>2957</td><td>UNITED STATES</td><td>Tulsa</td><td>2024-01-07T10:51:20.318Z</td></tr><tr><td>2958</td><td></td><td></td><td>2024-01-07T10:51:20.318Z</td></tr><tr><td>2959</td><td>UNITED STATES</td><td>Portland</td><td>2024-01-07T10:51:20.318Z</td></tr><tr><td>2960</td><td>UNITED STATES</td><td>Columbia</td><td>2024-01-07T10:51:20.318Z</td></tr><tr><td>2961</td><td>UNITED STATES</td><td>Saint Paul</td><td>2024-01-07T10:51:20.318Z</td></tr><tr><td>2962</td><td>UNITED STATES</td><td>Huntington</td><td>2024-01-07T10:51:20.318Z</td></tr><tr><td>2963</td><td>UNITED STATES</td><td>Sterling</td><td>2024-01-07T10:51:20.318Z</td></tr><tr><td>2964</td><td>UNITED STATES</td><td>Chesapeake</td><td>2024-01-07T10:51:20.318Z</td></tr><tr><td>2965</td><td>UNITED STATES</td><td>Birmingham</td><td>2024-01-07T10:51:20.318Z</td></tr><tr><td>2966</td><td></td><td></td><td>2024-01-07T10:51:20.318Z</td></tr><tr><td>2967</td><td>UNITED STATES</td><td>Springfield</td><td>2024-01-07T10:51:20.318Z</td></tr><tr><td>2968</td><td>UNITED STATES</td><td>Savannah</td><td>2024-01-07T10:51:20.318Z</td></tr><tr><td>2969</td><td></td><td></td><td>2024-01-07T10:51:20.318Z</td></tr><tr><td>2970</td><td>UNITED STATES</td><td>Tampa</td><td>2024-01-07T10:51:20.318Z</td></tr><tr><td>2971</td><td>UNITED STATES</td><td>San Bernardino</td><td>2024-01-07T10:51:20.318Z</td></tr><tr><td>2972</td><td>UNITED STATES</td><td>Staten Island</td><td>2024-01-07T10:51:20.318Z</td></tr><tr><td>2973</td><td>UNITED STATES</td><td>Philadelphia</td><td>2024-01-07T10:51:20.318Z</td></tr><tr><td>2974</td><td>UNITED STATES</td><td>Mountain View</td><td>2024-01-07T10:51:20.318Z</td></tr><tr><td>2975</td><td>UNITED STATES</td><td>Ocala</td><td>2024-01-07T10:51:20.318Z</td></tr><tr><td>2976</td><td>UNITED STATES</td><td>Houston</td><td>2024-01-07T10:51:20.318Z</td></tr><tr><td>2977</td><td>UNITED STATES</td><td>San Diego</td><td>2024-01-07T10:51:20.318Z</td></tr><tr><td>2978</td><td>UNITED STATES</td><td>Topeka</td><td>2024-01-07T10:51:20.318Z</td></tr><tr><td>2979</td><td>UNITED STATES</td><td>Los Angeles</td><td>2024-01-07T10:51:20.318Z</td></tr><tr><td>2980</td><td>UNITED STATES</td><td>Wilkes Barre</td><td>2024-01-07T10:51:20.318Z</td></tr><tr><td>2981</td><td>UNITED STATES</td><td>Punta Gorda</td><td>2024-01-07T10:51:20.318Z</td></tr><tr><td>2982</td><td>UNITED STATES</td><td>Colorado Springs</td><td>2024-01-07T10:51:20.318Z</td></tr><tr><td>2983</td><td>UNITED STATES</td><td>Rochester</td><td>2024-01-07T10:51:20.318Z</td></tr><tr><td>2984</td><td>UNITED STATES</td><td>Washington</td><td>2024-01-07T10:51:20.318Z</td></tr><tr><td>2985</td><td>UNITED STATES</td><td>Savannah</td><td>2024-01-07T10:51:20.318Z</td></tr><tr><td>2986</td><td>UNITED STATES</td><td>Aurora</td><td>2024-01-07T10:51:20.318Z</td></tr><tr><td>2987</td><td>UNITED STATES</td><td>Paterson</td><td>2024-01-07T10:51:20.318Z</td></tr><tr><td>2988</td><td>UNITED STATES</td><td>Lakeland</td><td>2024-01-07T10:51:20.318Z</td></tr><tr><td>2989</td><td>UNITED STATES</td><td>Milwaukee</td><td>2024-01-07T10:51:20.318Z</td></tr><tr><td>2990</td><td>UNITED STATES</td><td>Huntington</td><td>2024-01-07T10:51:20.318Z</td></tr><tr><td>2991</td><td>UNITED STATES</td><td>Charlotte</td><td>2024-01-07T10:51:20.318Z</td></tr><tr><td>2992</td><td>UNITED STATES</td><td>Denton</td><td>2024-01-07T10:51:20.318Z</td></tr><tr><td>2993</td><td>UNITED STATES</td><td>Orlando</td><td>2024-01-07T10:51:20.318Z</td></tr><tr><td>2994</td><td>UNITED STATES</td><td>San Antonio</td><td>2024-01-07T10:51:20.318Z</td></tr><tr><td>2995</td><td>UNITED STATES</td><td>Newton</td><td>2024-01-07T10:51:20.318Z</td></tr><tr><td>2996</td><td>UNITED STATES</td><td>Nashville</td><td>2024-01-07T10:51:20.318Z</td></tr><tr><td>2997</td><td>UNITED STATES</td><td>Daytona Beach</td><td>2024-01-07T10:51:20.318Z</td></tr><tr><td>2998</td><td>UNITED STATES</td><td>Virginia Beach</td><td>2024-01-07T10:51:20.318Z</td></tr><tr><td>2999</td><td>UNITED KINGDOM</td><td>Brampton</td><td>2024-01-07T10:51:20.318Z</td></tr><tr><td>3000</td><td>UNITED STATES</td><td>Rochester</td><td>2024-01-07T10:51:20.318Z</td></tr></tbody></table></div>"
      ]
     },
     "metadata": {
      "application/vnd.databricks.v1+output": {
       "addedWidgets": {},
       "aggData": [],
       "aggError": "",
       "aggOverflow": false,
       "aggSchema": [],
       "aggSeriesLimitReached": false,
       "aggType": "",
       "arguments": {},
       "columnCustomDisplayInfos": {},
       "data": [
        [
         2001,
         "UNITED STATES",
         "Seattle",
         "2024-01-07T10:51:20.318Z"
        ],
        [
         2002,
         "UNITED STATES",
         "Huntington",
         "2024-01-07T10:51:20.318Z"
        ],
        [
         2003,
         "UNITED STATES",
         "Littleton",
         "2024-01-07T10:51:20.318Z"
        ],
        [
         2004,
         "UNITED STATES",
         "Tampa",
         "2024-01-07T10:51:20.318Z"
        ],
        [
         2005,
         "UNITED STATES",
         "Glendale",
         "2024-01-07T10:51:20.318Z"
        ],
        [
         2006,
         "UNITED KINGDOM",
         "Kirkton",
         "2024-01-07T10:51:20.318Z"
        ],
        [
         2007,
         "UNITED STATES",
         "New York City",
         "2024-01-07T10:51:20.318Z"
        ],
        [
         2008,
         "",
         "",
         "2024-01-07T10:51:20.318Z"
        ],
        [
         2009,
         "UNITED STATES",
         "Austin",
         "2024-01-07T10:51:20.318Z"
        ],
        [
         2010,
         "UNITED STATES",
         "Huntsville",
         "2024-01-07T10:51:20.318Z"
        ],
        [
         2011,
         "UNITED STATES",
         "Sacramento",
         "2024-01-07T10:51:20.318Z"
        ],
        [
         2012,
         "UNITED STATES",
         "Richmond",
         "2024-01-07T10:51:20.318Z"
        ],
        [
         2013,
         "UNITED STATES",
         "Santa Monica",
         "2024-01-07T10:51:20.318Z"
        ],
        [
         2014,
         "UNITED KINGDOM",
         "Bristol",
         "2024-01-07T10:51:20.318Z"
        ],
        [
         2015,
         "",
         "",
         "2024-01-07T10:51:20.318Z"
        ],
        [
         2016,
         "UNITED STATES",
         "Newton",
         "2024-01-07T10:51:20.318Z"
        ],
        [
         2017,
         "UNITED KINGDOM",
         "Dean",
         "2024-01-07T10:51:20.318Z"
        ],
        [
         2018,
         "UNITED STATES",
         "Knoxville",
         "2024-01-07T10:51:20.318Z"
        ],
        [
         2019,
         "UNITED STATES",
         "Wilkes Barre",
         "2024-01-07T10:51:20.318Z"
        ],
        [
         2020,
         "UNITED STATES",
         "Columbia",
         "2024-01-07T10:51:20.318Z"
        ],
        [
         2021,
         "UNITED STATES",
         "Monticello",
         "2024-01-07T10:51:20.318Z"
        ],
        [
         2022,
         "UNITED STATES",
         "Austin",
         "2024-01-07T10:51:20.318Z"
        ],
        [
         2023,
         "UNITED STATES",
         "Washington",
         "2024-01-07T10:51:20.318Z"
        ],
        [
         2024,
         "UNITED STATES",
         "Colorado Springs",
         "2024-01-07T10:51:20.318Z"
        ],
        [
         2025,
         "",
         "",
         "2024-01-07T10:51:20.318Z"
        ],
        [
         2026,
         "UNITED STATES",
         "Tucson",
         "2024-01-07T10:51:20.318Z"
        ],
        [
         2027,
         "UNITED STATES",
         "Lakeland",
         "2024-01-07T10:51:20.318Z"
        ],
        [
         2028,
         "UNITED STATES",
         "Detroit",
         "2024-01-07T10:51:20.318Z"
        ],
        [
         2029,
         "UNITED STATES",
         "Schaumburg",
         "2024-01-07T10:51:20.318Z"
        ],
        [
         2030,
         "UNITED STATES",
         "Reston",
         "2024-01-07T10:51:20.318Z"
        ],
        [
         2031,
         "UNITED KINGDOM",
         "Twyford",
         "2024-01-07T10:51:20.318Z"
        ],
        [
         2032,
         "UNITED STATES",
         "Houston",
         "2024-01-07T10:51:20.318Z"
        ],
        [
         2033,
         "UNITED KINGDOM",
         "Wirral",
         "2024-01-07T10:51:20.318Z"
        ],
        [
         2034,
         "UNITED STATES",
         "Madison",
         "2024-01-07T10:51:20.318Z"
        ],
        [
         2035,
         "UNITED STATES",
         "Bronx",
         "2024-01-07T10:51:20.318Z"
        ],
        [
         2036,
         "UNITED STATES",
         "Bronx",
         "2024-01-07T10:51:20.318Z"
        ],
        [
         2037,
         "UNITED KINGDOM",
         "Carlton",
         "2024-01-07T10:51:20.318Z"
        ],
        [
         2038,
         "UNITED STATES",
         "Garland",
         "2024-01-07T10:51:20.318Z"
        ],
        [
         2039,
         "UNITED STATES",
         "Lincoln",
         "2024-01-07T10:51:20.318Z"
        ],
        [
         2040,
         "UNITED KINGDOM",
         "London",
         "2024-01-07T10:51:20.318Z"
        ],
        [
         2041,
         "UNITED KINGDOM",
         "London",
         "2024-01-07T10:51:20.318Z"
        ],
        [
         2042,
         "UNITED STATES",
         "Dallas",
         "2024-01-07T10:51:20.318Z"
        ],
        [
         2043,
         "UNITED STATES",
         "Scranton",
         "2024-01-07T10:51:20.318Z"
        ],
        [
         2044,
         "",
         "",
         "2024-01-07T10:51:20.318Z"
        ],
        [
         2045,
         "UNITED STATES",
         "Huntington",
         "2024-01-07T10:51:20.318Z"
        ],
        [
         2046,
         "UNITED STATES",
         "Sacramento",
         "2024-01-07T10:51:20.318Z"
        ],
        [
         2047,
         "UNITED STATES",
         "Newark",
         "2024-01-07T10:51:20.318Z"
        ],
        [
         2048,
         "UNITED STATES",
         "Las Vegas",
         "2024-01-07T10:51:20.318Z"
        ],
        [
         2049,
         "UNITED STATES",
         "New York City",
         "2024-01-07T10:51:20.318Z"
        ],
        [
         2050,
         "UNITED STATES",
         "San Diego",
         "2024-01-07T10:51:20.318Z"
        ],
        [
         2051,
         "UNITED STATES",
         "Shreveport",
         "2024-01-07T10:51:20.318Z"
        ],
        [
         2052,
         "UNITED STATES",
         "Knoxville",
         "2024-01-07T10:51:20.318Z"
        ],
        [
         2053,
         "UNITED STATES",
         "Fargo",
         "2024-01-07T10:51:20.318Z"
        ],
        [
         2054,
         "UNITED STATES",
         "Atlanta",
         "2024-01-07T10:51:20.318Z"
        ],
        [
         2055,
         "UNITED STATES",
         "Birmingham",
         "2024-01-07T10:51:20.318Z"
        ],
        [
         2056,
         "UNITED STATES",
         "Newport News",
         "2024-01-07T10:51:20.318Z"
        ],
        [
         2057,
         "UNITED STATES",
         "Denver",
         "2024-01-07T10:51:20.318Z"
        ],
        [
         2058,
         "UNITED STATES",
         "Seattle",
         "2024-01-07T10:51:20.318Z"
        ],
        [
         2059,
         "UNITED STATES",
         "Rockford",
         "2024-01-07T10:51:20.318Z"
        ],
        [
         2060,
         "UNITED STATES",
         "Portland",
         "2024-01-07T10:51:20.318Z"
        ],
        [
         2061,
         "INDIA",
         "Sadar Bazar",
         "2024-01-07T10:51:20.318Z"
        ],
        [
         2062,
         "UNITED STATES",
         "Bethlehem",
         "2024-01-07T10:51:20.318Z"
        ],
        [
         2063,
         "UNITED STATES",
         "Charlotte",
         "2024-01-07T10:51:20.318Z"
        ],
        [
         2064,
         "UNITED STATES",
         "Springfield",
         "2024-01-07T10:51:20.318Z"
        ],
        [
         2065,
         "UNITED STATES",
         "Asheville",
         "2024-01-07T10:51:20.318Z"
        ],
        [
         2066,
         "UNITED STATES",
         "Madison",
         "2024-01-07T10:51:20.318Z"
        ],
        [
         2067,
         "UNITED STATES",
         "Cedar Rapids",
         "2024-01-07T10:51:20.318Z"
        ],
        [
         2068,
         "UNITED STATES",
         "Fort Worth",
         "2024-01-07T10:51:20.318Z"
        ],
        [
         2069,
         "UNITED STATES",
         "Dallas",
         "2024-01-07T10:51:20.318Z"
        ],
        [
         2070,
         "UNITED STATES",
         "Fresno",
         "2024-01-07T10:51:20.318Z"
        ],
        [
         2071,
         "UNITED STATES",
         "Amarillo",
         "2024-01-07T10:51:20.318Z"
        ],
        [
         2072,
         "UNITED STATES",
         "Los Angeles",
         "2024-01-07T10:51:20.318Z"
        ],
        [
         2073,
         "UNITED STATES",
         "Rochester",
         "2024-01-07T10:51:20.318Z"
        ],
        [
         2074,
         "UNITED STATES",
         "Irving",
         "2024-01-07T10:51:20.318Z"
        ],
        [
         2075,
         "UNITED STATES",
         "Roanoke",
         "2024-01-07T10:51:20.318Z"
        ],
        [
         2076,
         "UNITED STATES",
         "Washington",
         "2024-01-07T10:51:20.318Z"
        ],
        [
         2077,
         "UNITED STATES",
         "Grand Forks",
         "2024-01-07T10:51:20.318Z"
        ],
        [
         2078,
         "UNITED STATES",
         "Birmingham",
         "2024-01-07T10:51:20.318Z"
        ],
        [
         2079,
         "UNITED STATES",
         "Birmingham",
         "2024-01-07T10:51:20.318Z"
        ],
        [
         2080,
         "UNITED STATES",
         "Denver",
         "2024-01-07T10:51:20.318Z"
        ],
        [
         2081,
         "UNITED STATES",
         "Chicago",
         "2024-01-07T10:51:20.318Z"
        ],
        [
         2082,
         "UNITED STATES",
         "Fresno",
         "2024-01-07T10:51:20.318Z"
        ],
        [
         2083,
         "UNITED STATES",
         "Washington",
         "2024-01-07T10:51:20.318Z"
        ],
        [
         2084,
         "UNITED STATES",
         "Charlotte",
         "2024-01-07T10:51:20.318Z"
        ],
        [
         2085,
         "UNITED STATES",
         "Detroit",
         "2024-01-07T10:51:20.318Z"
        ],
        [
         2086,
         "UNITED STATES",
         "Miami",
         "2024-01-07T10:51:20.318Z"
        ],
        [
         2087,
         "UNITED KINGDOM",
         "Kingston",
         "2024-01-07T10:51:20.318Z"
        ],
        [
         2088,
         "",
         "",
         "2024-01-07T10:51:20.318Z"
        ],
        [
         2089,
         "UNITED STATES",
         "Van Nuys",
         "2024-01-07T10:51:20.318Z"
        ],
        [
         2090,
         "UNITED STATES",
         "Carlsbad",
         "2024-01-07T10:51:20.318Z"
        ],
        [
         2091,
         "UNITED STATES",
         "Silver Spring",
         "2024-01-07T10:51:20.318Z"
        ],
        [
         2092,
         "UNITED STATES",
         "Salt Lake City",
         "2024-01-07T10:51:20.318Z"
        ],
        [
         2093,
         "UNITED STATES",
         "Las Vegas",
         "2024-01-07T10:51:20.318Z"
        ],
        [
         2094,
         "UNITED STATES",
         "Newark",
         "2024-01-07T10:51:20.318Z"
        ],
        [
         2095,
         "UNITED STATES",
         "Manassas",
         "2024-01-07T10:51:20.318Z"
        ],
        [
         2096,
         "UNITED STATES",
         "Stockton",
         "2024-01-07T10:51:20.318Z"
        ],
        [
         2097,
         "UNITED STATES",
         "Durham",
         "2024-01-07T10:51:20.318Z"
        ],
        [
         2098,
         "UNITED STATES",
         "Los Angeles",
         "2024-01-07T10:51:20.318Z"
        ],
        [
         2099,
         "UNITED STATES",
         "Honolulu",
         "2024-01-07T10:51:20.318Z"
        ],
        [
         2100,
         "UNITED STATES",
         "Richmond",
         "2024-01-07T10:51:20.318Z"
        ],
        [
         2101,
         "UNITED STATES",
         "Corona",
         "2024-01-07T10:51:20.318Z"
        ],
        [
         2102,
         "UNITED STATES",
         "Chicago",
         "2024-01-07T10:51:20.318Z"
        ],
        [
         2103,
         "UNITED STATES",
         "Phoenix",
         "2024-01-07T10:51:20.318Z"
        ],
        [
         2104,
         "UNITED STATES",
         "Naples",
         "2024-01-07T10:51:20.318Z"
        ],
        [
         2105,
         "UNITED STATES",
         "Baton Rouge",
         "2024-01-07T10:51:20.318Z"
        ],
        [
         2106,
         "UNITED STATES",
         "Corona",
         "2024-01-07T10:51:20.318Z"
        ],
        [
         2107,
         "UNITED STATES",
         "New Orleans",
         "2024-01-07T10:51:20.318Z"
        ],
        [
         2108,
         "UNITED STATES",
         "Washington",
         "2024-01-07T10:51:20.318Z"
        ],
        [
         2109,
         "UNITED STATES",
         "Mobile",
         "2024-01-07T10:51:20.318Z"
        ],
        [
         2110,
         "UNITED STATES",
         "Carson City",
         "2024-01-07T10:51:20.318Z"
        ],
        [
         2111,
         "UNITED STATES",
         "Fort Worth",
         "2024-01-07T10:51:20.318Z"
        ],
        [
         2112,
         "UNITED STATES",
         "Philadelphia",
         "2024-01-07T10:51:20.318Z"
        ],
        [
         2113,
         "UNITED STATES",
         "Springfield",
         "2024-01-07T10:51:20.318Z"
        ],
        [
         2114,
         "UNITED STATES",
         "Fort Lauderdale",
         "2024-01-07T10:51:20.318Z"
        ],
        [
         2115,
         "UNITED STATES",
         "Baton Rouge",
         "2024-01-07T10:51:20.318Z"
        ],
        [
         2116,
         "UNITED STATES",
         "Washington",
         "2024-01-07T10:51:20.318Z"
        ],
        [
         2117,
         "UNITED STATES",
         "Madison",
         "2024-01-07T10:51:20.318Z"
        ],
        [
         2118,
         "UNITED STATES",
         "Chicago",
         "2024-01-07T10:51:20.318Z"
        ],
        [
         2119,
         "UNITED STATES",
         "San Diego",
         "2024-01-07T10:51:20.318Z"
        ],
        [
         2120,
         "UNITED STATES",
         "Baton Rouge",
         "2024-01-07T10:51:20.318Z"
        ],
        [
         2121,
         "UNITED STATES",
         "Chesapeake",
         "2024-01-07T10:51:20.318Z"
        ],
        [
         2122,
         "UNITED STATES",
         "Santa Monica",
         "2024-01-07T10:51:20.318Z"
        ],
        [
         2123,
         "UNITED STATES",
         "Saint Louis",
         "2024-01-07T10:51:20.318Z"
        ],
        [
         2124,
         "UNITED KINGDOM",
         "London",
         "2024-01-07T10:51:20.318Z"
        ],
        [
         2125,
         "UNITED STATES",
         "Knoxville",
         "2024-01-07T10:51:20.318Z"
        ],
        [
         2126,
         "UNITED STATES",
         "Jacksonville",
         "2024-01-07T10:51:20.318Z"
        ],
        [
         2127,
         "UNITED STATES",
         "Nashville",
         "2024-01-07T10:51:20.318Z"
        ],
        [
         2128,
         "UNITED STATES",
         "Fort Pierce",
         "2024-01-07T10:51:20.318Z"
        ],
        [
         2129,
         "UNITED STATES",
         "New Orleans",
         "2024-01-07T10:51:20.318Z"
        ],
        [
         2130,
         "UNITED STATES",
         "Tyler",
         "2024-01-07T10:51:20.318Z"
        ],
        [
         2131,
         "UNITED STATES",
         "Irvine",
         "2024-01-07T10:51:20.318Z"
        ],
        [
         2132,
         "",
         "",
         "2024-01-07T10:51:20.318Z"
        ],
        [
         2133,
         "UNITED STATES",
         "Fargo",
         "2024-01-07T10:51:20.318Z"
        ],
        [
         2134,
         "UNITED STATES",
         "Montgomery",
         "2024-01-07T10:51:20.318Z"
        ],
        [
         2135,
         "UNITED STATES",
         "Washington",
         "2024-01-07T10:51:20.318Z"
        ],
        [
         2136,
         "UNITED STATES",
         "Stockton",
         "2024-01-07T10:51:20.318Z"
        ],
        [
         2137,
         "UNITED STATES",
         "Sterling",
         "2024-01-07T10:51:20.318Z"
        ],
        [
         2138,
         "",
         "",
         "2024-01-07T10:51:20.318Z"
        ],
        [
         2139,
         "UNITED STATES",
         "Tyler",
         "2024-01-07T10:51:20.318Z"
        ],
        [
         2140,
         "UNITED STATES",
         "Saint Augustine",
         "2024-01-07T10:51:20.318Z"
        ],
        [
         2141,
         "UNITED STATES",
         "Atlanta",
         "2024-01-07T10:51:20.318Z"
        ],
        [
         2142,
         "UNITED STATES",
         "Birmingham",
         "2024-01-07T10:51:20.318Z"
        ],
        [
         2143,
         "UNITED STATES",
         "Dallas",
         "2024-01-07T10:51:20.318Z"
        ],
        [
         2144,
         "",
         "",
         "2024-01-07T10:51:20.318Z"
        ],
        [
         2145,
         "UNITED STATES",
         "Waco",
         "2024-01-07T10:51:20.318Z"
        ],
        [
         2146,
         "UNITED STATES",
         "Delray Beach",
         "2024-01-07T10:51:20.318Z"
        ],
        [
         2147,
         "UNITED STATES",
         "Toledo",
         "2024-01-07T10:51:20.318Z"
        ],
        [
         2148,
         "UNITED STATES",
         "Saint Petersburg",
         "2024-01-07T10:51:20.318Z"
        ],
        [
         2149,
         "UNITED STATES",
         "Racine",
         "2024-01-07T10:51:20.318Z"
        ],
        [
         2150,
         "UNITED STATES",
         "Knoxville",
         "2024-01-07T10:51:20.318Z"
        ],
        [
         2151,
         "UNITED STATES",
         "Washington",
         "2024-01-07T10:51:20.318Z"
        ],
        [
         2152,
         "UNITED STATES",
         "Shreveport",
         "2024-01-07T10:51:20.318Z"
        ],
        [
         2153,
         "UNITED STATES",
         "Philadelphia",
         "2024-01-07T10:51:20.318Z"
        ],
        [
         2154,
         "UNITED STATES",
         "Englewood",
         "2024-01-07T10:51:20.318Z"
        ],
        [
         2155,
         "UNITED STATES",
         "Asheville",
         "2024-01-07T10:51:20.318Z"
        ],
        [
         2156,
         "UNITED STATES",
         "San Francisco",
         "2024-01-07T10:51:20.318Z"
        ],
        [
         2157,
         "",
         "",
         "2024-01-07T10:51:20.318Z"
        ],
        [
         2158,
         "UNITED STATES",
         "Provo",
         "2024-01-07T10:51:20.318Z"
        ],
        [
         2159,
         "UNITED STATES",
         "Charlotte",
         "2024-01-07T10:51:20.318Z"
        ],
        [
         2160,
         "UNITED STATES",
         "Baton Rouge",
         "2024-01-07T10:51:20.318Z"
        ],
        [
         2161,
         "UNITED STATES",
         "New Orleans",
         "2024-01-07T10:51:20.318Z"
        ],
        [
         2162,
         "UNITED STATES",
         "Denver",
         "2024-01-07T10:51:20.318Z"
        ],
        [
         2163,
         "UNITED STATES",
         "San Antonio",
         "2024-01-07T10:51:20.318Z"
        ],
        [
         2164,
         "UNITED STATES",
         "El Paso",
         "2024-01-07T10:51:20.318Z"
        ],
        [
         2165,
         "UNITED STATES",
         "Wilkes Barre",
         "2024-01-07T10:51:20.318Z"
        ],
        [
         2166,
         "UNITED STATES",
         "Nashville",
         "2024-01-07T10:51:20.318Z"
        ],
        [
         2167,
         "UNITED STATES",
         "Chicago",
         "2024-01-07T10:51:20.318Z"
        ],
        [
         2168,
         "UNITED STATES",
         "Kansas City",
         "2024-01-07T10:51:20.318Z"
        ],
        [
         2169,
         "UNITED STATES",
         "Rochester",
         "2024-01-07T10:51:20.318Z"
        ],
        [
         2170,
         "UNITED STATES",
         "Dallas",
         "2024-01-07T10:51:20.318Z"
        ],
        [
         2171,
         "UNITED STATES",
         "Tucson",
         "2024-01-07T10:51:20.318Z"
        ],
        [
         2172,
         "UNITED STATES",
         "Springfield",
         "2024-01-07T10:51:20.318Z"
        ],
        [
         2173,
         "UNITED STATES",
         "Madison",
         "2024-01-07T10:51:20.318Z"
        ],
        [
         2174,
         "UNITED STATES",
         "Racine",
         "2024-01-07T10:51:20.318Z"
        ],
        [
         2175,
         "UNITED STATES",
         "Louisville",
         "2024-01-07T10:51:20.318Z"
        ],
        [
         2176,
         "UNITED STATES",
         "Van Nuys",
         "2024-01-07T10:51:20.318Z"
        ],
        [
         2177,
         "UNITED STATES",
         "Atlanta",
         "2024-01-07T10:51:20.318Z"
        ],
        [
         2178,
         "UNITED STATES",
         "Cincinnati",
         "2024-01-07T10:51:20.318Z"
        ],
        [
         2179,
         "UNITED STATES",
         "Washington",
         "2024-01-07T10:51:20.318Z"
        ],
        [
         2180,
         "UNITED STATES",
         "El Paso",
         "2024-01-07T10:51:20.318Z"
        ],
        [
         2181,
         "UNITED STATES",
         "Norfolk",
         "2024-01-07T10:51:20.318Z"
        ],
        [
         2182,
         "UNITED STATES",
         "El Paso",
         "2024-01-07T10:51:20.318Z"
        ],
        [
         2183,
         "UNITED STATES",
         "Montgomery",
         "2024-01-07T10:51:20.318Z"
        ],
        [
         2184,
         "UNITED STATES",
         "Dallas",
         "2024-01-07T10:51:20.318Z"
        ],
        [
         2185,
         "UNITED STATES",
         "Memphis",
         "2024-01-07T10:51:20.318Z"
        ],
        [
         2186,
         "UNITED STATES",
         "Glendale",
         "2024-01-07T10:51:20.318Z"
        ],
        [
         2187,
         "UNITED STATES",
         "Dallas",
         "2024-01-07T10:51:20.318Z"
        ],
        [
         2188,
         "UNITED STATES",
         "Indianapolis",
         "2024-01-07T10:51:20.318Z"
        ],
        [
         2189,
         "UNITED KINGDOM",
         "Wootton",
         "2024-01-07T10:51:20.318Z"
        ],
        [
         2190,
         "INDIA",
         "R S",
         "2024-01-07T10:51:20.318Z"
        ],
        [
         2191,
         "UNITED STATES",
         "Minneapolis",
         "2024-01-07T10:51:20.318Z"
        ],
        [
         2192,
         "UNITED STATES",
         "Pensacola",
         "2024-01-07T10:51:20.318Z"
        ],
        [
         2193,
         "UNITED STATES",
         "Milwaukee",
         "2024-01-07T10:51:20.318Z"
        ],
        [
         2194,
         "UNITED STATES",
         "Chicago",
         "2024-01-07T10:51:20.318Z"
        ],
        [
         2195,
         "UNITED STATES",
         "Charlotte",
         "2024-01-07T10:51:20.318Z"
        ],
        [
         2196,
         "UNITED STATES",
         "Aurora",
         "2024-01-07T10:51:20.318Z"
        ],
        [
         2197,
         "UNITED STATES",
         "Seattle",
         "2024-01-07T10:51:20.318Z"
        ],
        [
         2198,
         "UNITED STATES",
         "Raleigh",
         "2024-01-07T10:51:20.318Z"
        ],
        [
         2199,
         "UNITED STATES",
         "Austin",
         "2024-01-07T10:51:20.318Z"
        ],
        [
         2200,
         "UNITED STATES",
         "Schaumburg",
         "2024-01-07T10:51:20.318Z"
        ],
        [
         2201,
         "UNITED STATES",
         "Newport News",
         "2024-01-07T10:51:20.318Z"
        ],
        [
         2202,
         "UNITED STATES",
         "Clearwater",
         "2024-01-07T10:51:20.318Z"
        ],
        [
         2203,
         "UNITED STATES",
         "San Diego",
         "2024-01-07T10:51:20.318Z"
        ],
        [
         2204,
         "UNITED STATES",
         "El Paso",
         "2024-01-07T10:51:20.318Z"
        ],
        [
         2205,
         "UNITED STATES",
         "Birmingham",
         "2024-01-07T10:51:20.318Z"
        ],
        [
         2206,
         "UNITED STATES",
         "New Orleans",
         "2024-01-07T10:51:20.318Z"
        ],
        [
         2207,
         "UNITED STATES",
         "Seminole",
         "2024-01-07T10:51:20.318Z"
        ],
        [
         2208,
         "UNITED STATES",
         "Cumming",
         "2024-01-07T10:51:20.318Z"
        ],
        [
         2209,
         "UNITED STATES",
         "Sacramento",
         "2024-01-07T10:51:20.318Z"
        ],
        [
         2210,
         "UNITED KINGDOM",
         "Normanton",
         "2024-01-07T10:51:20.318Z"
        ],
        [
         2211,
         "UNITED STATES",
         "Aurora",
         "2024-01-07T10:51:20.318Z"
        ],
        [
         2212,
         "UNITED STATES",
         "Mobile",
         "2024-01-07T10:51:20.318Z"
        ],
        [
         2213,
         "UNITED STATES",
         "Hartford",
         "2024-01-07T10:51:20.318Z"
        ],
        [
         2214,
         "UNITED STATES",
         "Toledo",
         "2024-01-07T10:51:20.318Z"
        ],
        [
         2215,
         "UNITED STATES",
         "Lansing",
         "2024-01-07T10:51:20.318Z"
        ],
        [
         2216,
         "UNITED STATES",
         "Shawnee Mission",
         "2024-01-07T10:51:20.318Z"
        ],
        [
         2217,
         "UNITED STATES",
         "Richmond",
         "2024-01-07T10:51:20.318Z"
        ],
        [
         2218,
         "UNITED STATES",
         "Detroit",
         "2024-01-07T10:51:20.318Z"
        ],
        [
         2219,
         "UNITED STATES",
         "Lexington",
         "2024-01-07T10:51:20.318Z"
        ],
        [
         2220,
         "UNITED STATES",
         "Atlanta",
         "2024-01-07T10:51:20.318Z"
        ],
        [
         2221,
         "UNITED STATES",
         "Albuquerque",
         "2024-01-07T10:51:20.318Z"
        ],
        [
         2222,
         "UNITED STATES",
         "Tyler",
         "2024-01-07T10:51:20.318Z"
        ],
        [
         2223,
         "",
         "",
         "2024-01-07T10:51:20.318Z"
        ],
        [
         2224,
         "UNITED STATES",
         "Washington",
         "2024-01-07T10:51:20.318Z"
        ],
        [
         2225,
         "UNITED STATES",
         "Tulsa",
         "2024-01-07T10:51:20.318Z"
        ],
        [
         2226,
         "UNITED STATES",
         "Norfolk",
         "2024-01-07T10:51:20.318Z"
        ],
        [
         2227,
         "INDIA",
         "Agraharam",
         "2024-01-07T10:51:20.318Z"
        ],
        [
         2228,
         "UNITED STATES",
         "Little Rock",
         "2024-01-07T10:51:20.318Z"
        ],
        [
         2229,
         "UNITED STATES",
         "Pompano Beach",
         "2024-01-07T10:51:20.318Z"
        ],
        [
         2230,
         "UNITED STATES",
         "Simi Valley",
         "2024-01-07T10:51:20.318Z"
        ],
        [
         2231,
         "UNITED STATES",
         "Oklahoma City",
         "2024-01-07T10:51:20.318Z"
        ],
        [
         2232,
         "UNITED KINGDOM",
         "Upton",
         "2024-01-07T10:51:20.318Z"
        ],
        [
         2233,
         "UNITED KINGDOM",
         "Belfast",
         "2024-01-07T10:51:20.318Z"
        ],
        [
         2234,
         "UNITED STATES",
         "Cleveland",
         "2024-01-07T10:51:20.318Z"
        ],
        [
         2235,
         "UNITED STATES",
         "Nashville",
         "2024-01-07T10:51:20.318Z"
        ],
        [
         2236,
         "UNITED STATES",
         "Odessa",
         "2024-01-07T10:51:20.318Z"
        ],
        [
         2237,
         "UNITED STATES",
         "San Rafael",
         "2024-01-07T10:51:20.318Z"
        ],
        [
         2238,
         "UNITED STATES",
         "Saint Louis",
         "2024-01-07T10:51:20.318Z"
        ],
        [
         2239,
         "UNITED STATES",
         "Minneapolis",
         "2024-01-07T10:51:20.318Z"
        ],
        [
         2240,
         "UNITED STATES",
         "Jamaica",
         "2024-01-07T10:51:20.318Z"
        ],
        [
         2241,
         "UNITED STATES",
         "Shreveport",
         "2024-01-07T10:51:20.318Z"
        ],
        [
         2242,
         "UNITED KINGDOM",
         "Sutton",
         "2024-01-07T10:51:20.318Z"
        ],
        [
         2243,
         "",
         "",
         "2024-01-07T10:51:20.318Z"
        ],
        [
         2244,
         "UNITED STATES",
         "Virginia Beach",
         "2024-01-07T10:51:20.318Z"
        ],
        [
         2245,
         "UNITED STATES",
         "Beaufort",
         "2024-01-07T10:51:20.318Z"
        ],
        [
         2246,
         "UNITED STATES",
         "Peoria",
         "2024-01-07T10:51:20.318Z"
        ],
        [
         2247,
         "UNITED STATES",
         "New York City",
         "2024-01-07T10:51:20.318Z"
        ],
        [
         2248,
         "UNITED STATES",
         "San Diego",
         "2024-01-07T10:51:20.318Z"
        ],
        [
         2249,
         "UNITED STATES",
         "West Hartford",
         "2024-01-07T10:51:20.318Z"
        ],
        [
         2250,
         "UNITED STATES",
         "Houston",
         "2024-01-07T10:51:20.318Z"
        ],
        [
         2251,
         "UNITED STATES",
         "Albany",
         "2024-01-07T10:51:20.318Z"
        ],
        [
         2252,
         "UNITED STATES",
         "Peoria",
         "2024-01-07T10:51:20.318Z"
        ],
        [
         2253,
         "UNITED STATES",
         "Tucson",
         "2024-01-07T10:51:20.318Z"
        ],
        [
         2254,
         "UNITED STATES",
         "Mesa",
         "2024-01-07T10:51:20.318Z"
        ],
        [
         2255,
         "UNITED STATES",
         "Norfolk",
         "2024-01-07T10:51:20.318Z"
        ],
        [
         2256,
         "",
         "",
         "2024-01-07T10:51:20.318Z"
        ],
        [
         2257,
         "UNITED STATES",
         "Alhambra",
         "2024-01-07T10:51:20.318Z"
        ],
        [
         2258,
         "UNITED STATES",
         "Seattle",
         "2024-01-07T10:51:20.318Z"
        ],
        [
         2259,
         "UNITED STATES",
         "New York City",
         "2024-01-07T10:51:20.318Z"
        ],
        [
         2260,
         "UNITED STATES",
         "Jamaica",
         "2024-01-07T10:51:20.318Z"
        ],
        [
         2261,
         "UNITED STATES",
         "Louisville",
         "2024-01-07T10:51:20.318Z"
        ],
        [
         2262,
         "",
         "",
         "2024-01-07T10:51:20.318Z"
        ],
        [
         2263,
         "UNITED STATES",
         "Winston Salem",
         "2024-01-07T10:51:20.318Z"
        ],
        [
         2264,
         "UNITED STATES",
         "Grand Rapids",
         "2024-01-07T10:51:20.318Z"
        ],
        [
         2265,
         "UNITED STATES",
         "Muskegon",
         "2024-01-07T10:51:20.318Z"
        ],
        [
         2266,
         "UNITED STATES",
         "Wilmington",
         "2024-01-07T10:51:20.318Z"
        ],
        [
         2267,
         "UNITED STATES",
         "Salt Lake City",
         "2024-01-07T10:51:20.318Z"
        ],
        [
         2268,
         "UNITED KINGDOM",
         "East End",
         "2024-01-07T10:51:20.318Z"
        ],
        [
         2269,
         "UNITED STATES",
         "Knoxville",
         "2024-01-07T10:51:20.318Z"
        ],
        [
         2270,
         "UNITED STATES",
         "Las Vegas",
         "2024-01-07T10:51:20.318Z"
        ],
        [
         2271,
         "UNITED STATES",
         "Columbus",
         "2024-01-07T10:51:20.318Z"
        ],
        [
         2272,
         "UNITED STATES",
         "Melbourne",
         "2024-01-07T10:51:20.318Z"
        ],
        [
         2273,
         "UNITED STATES",
         "Oklahoma City",
         "2024-01-07T10:51:20.318Z"
        ],
        [
         2274,
         "UNITED STATES",
         "Bloomington",
         "2024-01-07T10:51:20.318Z"
        ],
        [
         2275,
         "UNITED STATES",
         "Phoenix",
         "2024-01-07T10:51:20.318Z"
        ],
        [
         2276,
         "UNITED STATES",
         "San Diego",
         "2024-01-07T10:51:20.318Z"
        ],
        [
         2277,
         "UNITED STATES",
         "Bethlehem",
         "2024-01-07T10:51:20.318Z"
        ],
        [
         2278,
         "UNITED STATES",
         "Washington",
         "2024-01-07T10:51:20.318Z"
        ],
        [
         2279,
         "UNITED STATES",
         "Jacksonville",
         "2024-01-07T10:51:20.318Z"
        ],
        [
         2280,
         "UNITED STATES",
         "Midland",
         "2024-01-07T10:51:20.318Z"
        ],
        [
         2281,
         "",
         "",
         "2024-01-07T10:51:20.318Z"
        ],
        [
         2282,
         "UNITED STATES",
         "Orlando",
         "2024-01-07T10:51:20.318Z"
        ],
        [
         2283,
         "UNITED STATES",
         "Alexandria",
         "2024-01-07T10:51:20.318Z"
        ],
        [
         2284,
         "UNITED KINGDOM",
         "London",
         "2024-01-07T10:51:20.318Z"
        ],
        [
         2285,
         "UNITED STATES",
         "Spring",
         "2024-01-07T10:51:20.318Z"
        ],
        [
         2286,
         "UNITED STATES",
         "San Francisco",
         "2024-01-07T10:51:20.318Z"
        ],
        [
         2287,
         "UNITED STATES",
         "Fort Smith",
         "2024-01-07T10:51:20.318Z"
        ],
        [
         2288,
         "UNITED STATES",
         "Chicago",
         "2024-01-07T10:51:20.318Z"
        ],
        [
         2289,
         "UNITED STATES",
         "Tacoma",
         "2024-01-07T10:51:20.318Z"
        ],
        [
         2290,
         "UNITED STATES",
         "El Paso",
         "2024-01-07T10:51:20.318Z"
        ],
        [
         2291,
         "UNITED STATES",
         "Lafayette",
         "2024-01-07T10:51:20.318Z"
        ],
        [
         2292,
         "UNITED STATES",
         "Washington",
         "2024-01-07T10:51:20.318Z"
        ],
        [
         2293,
         "UNITED STATES",
         "San Jose",
         "2024-01-07T10:51:20.318Z"
        ],
        [
         2294,
         "UNITED STATES",
         "Houston",
         "2024-01-07T10:51:20.318Z"
        ],
        [
         2295,
         "UNITED KINGDOM",
         "Upton",
         "2024-01-07T10:51:20.318Z"
        ],
        [
         2296,
         "UNITED STATES",
         "Des Moines",
         "2024-01-07T10:51:20.318Z"
        ],
        [
         2297,
         "UNITED STATES",
         "Saginaw",
         "2024-01-07T10:51:20.318Z"
        ],
        [
         2298,
         "UNITED STATES",
         "Reno",
         "2024-01-07T10:51:20.318Z"
        ],
        [
         2299,
         "UNITED STATES",
         "Gainesville",
         "2024-01-07T10:51:20.318Z"
        ],
        [
         2300,
         "UNITED STATES",
         "Wichita",
         "2024-01-07T10:51:20.318Z"
        ],
        [
         2301,
         "UNITED STATES",
         "Springfield",
         "2024-01-07T10:51:20.318Z"
        ],
        [
         2302,
         "UNITED STATES",
         "Rochester",
         "2024-01-07T10:51:20.318Z"
        ],
        [
         2303,
         "UNITED STATES",
         "Jacksonville",
         "2024-01-07T10:51:20.318Z"
        ],
        [
         2304,
         "UNITED STATES",
         "Greensboro",
         "2024-01-07T10:51:20.318Z"
        ],
        [
         2305,
         "UNITED STATES",
         "Dallas",
         "2024-01-07T10:51:20.318Z"
        ],
        [
         2306,
         "UNITED STATES",
         "Huntington",
         "2024-01-07T10:51:20.318Z"
        ],
        [
         2307,
         "UNITED STATES",
         "San Francisco",
         "2024-01-07T10:51:20.318Z"
        ],
        [
         2308,
         "UNITED STATES",
         "Iowa City",
         "2024-01-07T10:51:20.318Z"
        ],
        [
         2309,
         "UNITED STATES",
         "Des Moines",
         "2024-01-07T10:51:20.318Z"
        ],
        [
         2310,
         "UNITED STATES",
         "Cincinnati",
         "2024-01-07T10:51:20.318Z"
        ],
        [
         2311,
         "UNITED STATES",
         "Pittsburgh",
         "2024-01-07T10:51:20.318Z"
        ],
        [
         2312,
         "UNITED STATES",
         "Knoxville",
         "2024-01-07T10:51:20.318Z"
        ],
        [
         2313,
         "UNITED KINGDOM",
         "Birmingham",
         "2024-01-07T10:51:20.318Z"
        ],
        [
         2314,
         "UNITED STATES",
         "Roanoke",
         "2024-01-07T10:51:20.318Z"
        ],
        [
         2315,
         "UNITED STATES",
         "Salt Lake City",
         "2024-01-07T10:51:20.318Z"
        ],
        [
         2316,
         "UNITED STATES",
         "Schaumburg",
         "2024-01-07T10:51:20.318Z"
        ],
        [
         2317,
         "UNITED STATES",
         "Reading",
         "2024-01-07T10:51:20.318Z"
        ],
        [
         2318,
         "UNITED STATES",
         "Wilkes Barre",
         "2024-01-07T10:51:20.318Z"
        ],
        [
         2319,
         "UNITED STATES",
         "Charlotte",
         "2024-01-07T10:51:20.318Z"
        ],
        [
         2320,
         "UNITED KINGDOM",
         "Craigavon",
         "2024-01-07T10:51:20.318Z"
        ],
        [
         2321,
         "UNITED STATES",
         "Fresno",
         "2024-01-07T10:51:20.318Z"
        ],
        [
         2322,
         "UNITED STATES",
         "Brooklyn",
         "2024-01-07T10:51:20.318Z"
        ],
        [
         2323,
         "UNITED STATES",
         "Amarillo",
         "2024-01-07T10:51:20.318Z"
        ],
        [
         2324,
         "UNITED STATES",
         "Saint Louis",
         "2024-01-07T10:51:20.318Z"
        ],
        [
         2325,
         "UNITED STATES",
         "Newark",
         "2024-01-07T10:51:20.318Z"
        ],
        [
         2326,
         "UNITED STATES",
         "Philadelphia",
         "2024-01-07T10:51:20.318Z"
        ],
        [
         2327,
         "UNITED STATES",
         "Cedar Rapids",
         "2024-01-07T10:51:20.318Z"
        ],
        [
         2328,
         "UNITED STATES",
         "Minneapolis",
         "2024-01-07T10:51:20.318Z"
        ],
        [
         2329,
         "UNITED STATES",
         "Virginia Beach",
         "2024-01-07T10:51:20.318Z"
        ],
        [
         2330,
         "UNITED STATES",
         "Odessa",
         "2024-01-07T10:51:20.318Z"
        ],
        [
         2331,
         "UNITED STATES",
         "Baton Rouge",
         "2024-01-07T10:51:20.318Z"
        ],
        [
         2332,
         "UNITED STATES",
         "Fort Wayne",
         "2024-01-07T10:51:20.318Z"
        ],
        [
         2333,
         "UNITED STATES",
         "Miami",
         "2024-01-07T10:51:20.318Z"
        ],
        [
         2334,
         "UNITED STATES",
         "San Diego",
         "2024-01-07T10:51:20.318Z"
        ],
        [
         2335,
         "UNITED STATES",
         "Raleigh",
         "2024-01-07T10:51:20.318Z"
        ],
        [
         2336,
         "UNITED STATES",
         "Hartford",
         "2024-01-07T10:51:20.318Z"
        ],
        [
         2337,
         "UNITED STATES",
         "Waco",
         "2024-01-07T10:51:20.318Z"
        ],
        [
         2338,
         "UNITED STATES",
         "Washington",
         "2024-01-07T10:51:20.318Z"
        ],
        [
         2339,
         "UNITED STATES",
         "Kansas City",
         "2024-01-07T10:51:20.318Z"
        ],
        [
         2340,
         "UNITED STATES",
         "Sacramento",
         "2024-01-07T10:51:20.318Z"
        ],
        [
         2341,
         "UNITED STATES",
         "Arlington",
         "2024-01-07T10:51:20.318Z"
        ],
        [
         2342,
         "UNITED STATES",
         "Madison",
         "2024-01-07T10:51:20.318Z"
        ],
        [
         2343,
         "UNITED STATES",
         "Murfreesboro",
         "2024-01-07T10:51:20.318Z"
        ],
        [
         2344,
         "UNITED STATES",
         "Philadelphia",
         "2024-01-07T10:51:20.318Z"
        ],
        [
         2345,
         "UNITED STATES",
         "Los Angeles",
         "2024-01-07T10:51:20.318Z"
        ],
        [
         2346,
         "UNITED STATES",
         "Baltimore",
         "2024-01-07T10:51:20.318Z"
        ],
        [
         2347,
         "UNITED STATES",
         "Farmington",
         "2024-01-07T10:51:20.318Z"
        ],
        [
         2348,
         "UNITED STATES",
         "Hartford",
         "2024-01-07T10:51:20.318Z"
        ],
        [
         2349,
         "UNITED STATES",
         "Dallas",
         "2024-01-07T10:51:20.318Z"
        ],
        [
         2350,
         "UNITED STATES",
         "Fort Lauderdale",
         "2024-01-07T10:51:20.318Z"
        ],
        [
         2351,
         "UNITED STATES",
         "Dallas",
         "2024-01-07T10:51:20.318Z"
        ],
        [
         2352,
         "UNITED STATES",
         "Omaha",
         "2024-01-07T10:51:20.318Z"
        ],
        [
         2353,
         "UNITED STATES",
         "Pasadena",
         "2024-01-07T10:51:20.318Z"
        ],
        [
         2354,
         "UNITED STATES",
         "Amarillo",
         "2024-01-07T10:51:20.318Z"
        ],
        [
         2355,
         "UNITED STATES",
         "Philadelphia",
         "2024-01-07T10:51:20.318Z"
        ],
        [
         2356,
         "UNITED STATES",
         "Huntsville",
         "2024-01-07T10:51:20.318Z"
        ],
        [
         2357,
         "UNITED STATES",
         "Portland",
         "2024-01-07T10:51:20.318Z"
        ],
        [
         2358,
         "UNITED KINGDOM",
         "Middleton",
         "2024-01-07T10:51:20.318Z"
        ],
        [
         2359,
         "UNITED STATES",
         "Jamaica",
         "2024-01-07T10:51:20.318Z"
        ],
        [
         2360,
         "UNITED STATES",
         "San Antonio",
         "2024-01-07T10:51:20.318Z"
        ],
        [
         2361,
         "UNITED STATES",
         "Hartford",
         "2024-01-07T10:51:20.318Z"
        ],
        [
         2362,
         "UNITED STATES",
         "Omaha",
         "2024-01-07T10:51:20.318Z"
        ],
        [
         2363,
         "UNITED STATES",
         "Torrance",
         "2024-01-07T10:51:20.318Z"
        ],
        [
         2364,
         "UNITED STATES",
         "Jacksonville",
         "2024-01-07T10:51:20.318Z"
        ],
        [
         2365,
         "UNITED STATES",
         "Tulsa",
         "2024-01-07T10:51:20.318Z"
        ],
        [
         2366,
         "UNITED STATES",
         "Vienna",
         "2024-01-07T10:51:20.318Z"
        ],
        [
         2367,
         "UNITED KINGDOM",
         "Brampton",
         "2024-01-07T10:51:20.318Z"
        ],
        [
         2368,
         "UNITED STATES",
         "Delray Beach",
         "2024-01-07T10:51:20.318Z"
        ],
        [
         2369,
         "UNITED STATES",
         "Grand Rapids",
         "2024-01-07T10:51:20.318Z"
        ],
        [
         2370,
         "UNITED STATES",
         "New York City",
         "2024-01-07T10:51:20.318Z"
        ],
        [
         2371,
         "UNITED STATES",
         "Toledo",
         "2024-01-07T10:51:20.318Z"
        ],
        [
         2372,
         "UNITED KINGDOM",
         "Milton",
         "2024-01-07T10:51:20.318Z"
        ],
        [
         2373,
         "UNITED STATES",
         "Montgomery",
         "2024-01-07T10:51:20.318Z"
        ],
        [
         2374,
         "UNITED STATES",
         "Jackson",
         "2024-01-07T10:51:20.318Z"
        ],
        [
         2375,
         "UNITED KINGDOM",
         "Middleton",
         "2024-01-07T10:51:20.318Z"
        ],
        [
         2376,
         "UNITED STATES",
         "Louisville",
         "2024-01-07T10:51:20.318Z"
        ],
        [
         2377,
         "",
         "",
         "2024-01-07T10:51:20.318Z"
        ],
        [
         2378,
         "UNITED STATES",
         "Oklahoma City",
         "2024-01-07T10:51:20.318Z"
        ],
        [
         2379,
         "UNITED STATES",
         "Boca Raton",
         "2024-01-07T10:51:20.318Z"
        ],
        [
         2380,
         "UNITED STATES",
         "Vienna",
         "2024-01-07T10:51:20.318Z"
        ],
        [
         2381,
         "UNITED STATES",
         "Nashville",
         "2024-01-07T10:51:20.318Z"
        ],
        [
         2382,
         "UNITED STATES",
         "Waco",
         "2024-01-07T10:51:20.318Z"
        ],
        [
         2383,
         "UNITED STATES",
         "Columbus",
         "2024-01-07T10:51:20.318Z"
        ],
        [
         2384,
         "UNITED STATES",
         "Hampton",
         "2024-01-07T10:51:20.318Z"
        ],
        [
         2385,
         "UNITED STATES",
         "Orlando",
         "2024-01-07T10:51:20.318Z"
        ],
        [
         2386,
         "UNITED STATES",
         "Asheville",
         "2024-01-07T10:51:20.318Z"
        ],
        [
         2387,
         "UNITED STATES",
         "Virginia Beach",
         "2024-01-07T10:51:20.318Z"
        ],
        [
         2388,
         "UNITED STATES",
         "Des Moines",
         "2024-01-07T10:51:20.318Z"
        ],
        [
         2389,
         "UNITED STATES",
         "Denver",
         "2024-01-07T10:51:20.318Z"
        ],
        [
         2390,
         "UNITED STATES",
         "Dulles",
         "2024-01-07T10:51:20.318Z"
        ],
        [
         2391,
         "UNITED STATES",
         "Mesa",
         "2024-01-07T10:51:20.318Z"
        ],
        [
         2392,
         "UNITED KINGDOM",
         "Aberdeen",
         "2024-01-07T10:51:20.318Z"
        ],
        [
         2393,
         "UNITED STATES",
         "Charleston",
         "2024-01-07T10:51:20.318Z"
        ],
        [
         2394,
         "UNITED KINGDOM",
         "Swindon",
         "2024-01-07T10:51:20.318Z"
        ],
        [
         2395,
         "UNITED KINGDOM",
         "London",
         "2024-01-07T10:51:20.318Z"
        ],
        [
         2396,
         "UNITED STATES",
         "San Diego",
         "2024-01-07T10:51:20.318Z"
        ],
        [
         2397,
         "UNITED STATES",
         "Lansing",
         "2024-01-07T10:51:20.318Z"
        ],
        [
         2398,
         "UNITED STATES",
         "Sioux City",
         "2024-01-07T10:51:20.318Z"
        ],
        [
         2399,
         "UNITED STATES",
         "Chico",
         "2024-01-07T10:51:20.318Z"
        ],
        [
         2400,
         "UNITED STATES",
         "Santa Fe",
         "2024-01-07T10:51:20.318Z"
        ],
        [
         2401,
         "UNITED STATES",
         "Washington",
         "2024-01-07T10:51:20.318Z"
        ],
        [
         2402,
         "UNITED STATES",
         "Bakersfield",
         "2024-01-07T10:51:20.318Z"
        ],
        [
         2403,
         "UNITED STATES",
         "Reston",
         "2024-01-07T10:51:20.318Z"
        ],
        [
         2404,
         "UNITED STATES",
         "Hartford",
         "2024-01-07T10:51:20.318Z"
        ],
        [
         2405,
         "UNITED STATES",
         "Maple Plain",
         "2024-01-07T10:51:20.318Z"
        ],
        [
         2406,
         "UNITED STATES",
         "Stockton",
         "2024-01-07T10:51:20.318Z"
        ],
        [
         2407,
         "UNITED STATES",
         "Anaheim",
         "2024-01-07T10:51:20.318Z"
        ],
        [
         2408,
         "UNITED STATES",
         "Roanoke",
         "2024-01-07T10:51:20.318Z"
        ],
        [
         2409,
         "UNITED STATES",
         "Lancaster",
         "2024-01-07T10:51:20.318Z"
        ],
        [
         2410,
         "UNITED STATES",
         "Saint Louis",
         "2024-01-07T10:51:20.318Z"
        ],
        [
         2411,
         "UNITED STATES",
         "Pasadena",
         "2024-01-07T10:51:20.318Z"
        ],
        [
         2412,
         "UNITED STATES",
         "Vienna",
         "2024-01-07T10:51:20.318Z"
        ],
        [
         2413,
         "UNITED STATES",
         "Mobile",
         "2024-01-07T10:51:20.318Z"
        ],
        [
         2414,
         "UNITED STATES",
         "Dallas",
         "2024-01-07T10:51:20.318Z"
        ],
        [
         2415,
         "UNITED STATES",
         "San Francisco",
         "2024-01-07T10:51:20.318Z"
        ],
        [
         2416,
         "UNITED STATES",
         "Lansing",
         "2024-01-07T10:51:20.318Z"
        ],
        [
         2417,
         "UNITED KINGDOM",
         "Stapleford",
         "2024-01-07T10:51:20.318Z"
        ],
        [
         2418,
         "UNITED STATES",
         "Rochester",
         "2024-01-07T10:51:20.318Z"
        ],
        [
         2419,
         "UNITED KINGDOM",
         "Middleton",
         "2024-01-07T10:51:20.318Z"
        ],
        [
         2420,
         "UNITED STATES",
         "Lincoln",
         "2024-01-07T10:51:20.318Z"
        ],
        [
         2421,
         "UNITED STATES",
         "Atlanta",
         "2024-01-07T10:51:20.318Z"
        ],
        [
         2422,
         "UNITED STATES",
         "Peoria",
         "2024-01-07T10:51:20.318Z"
        ],
        [
         2423,
         "UNITED STATES",
         "Sacramento",
         "2024-01-07T10:51:20.318Z"
        ],
        [
         2424,
         "UNITED STATES",
         "Newport News",
         "2024-01-07T10:51:20.318Z"
        ],
        [
         2425,
         "UNITED STATES",
         "Savannah",
         "2024-01-07T10:51:20.318Z"
        ],
        [
         2426,
         "UNITED STATES",
         "Charlotte",
         "2024-01-07T10:51:20.318Z"
        ],
        [
         2427,
         "UNITED STATES",
         "Whittier",
         "2024-01-07T10:51:20.318Z"
        ],
        [
         2428,
         "UNITED STATES",
         "Hamilton",
         "2024-01-07T10:51:20.318Z"
        ],
        [
         2429,
         "UNITED STATES",
         "Huntsville",
         "2024-01-07T10:51:20.318Z"
        ],
        [
         2430,
         "UNITED STATES",
         "Dallas",
         "2024-01-07T10:51:20.318Z"
        ],
        [
         2431,
         "",
         "",
         "2024-01-07T10:51:20.318Z"
        ],
        [
         2432,
         "UNITED STATES",
         "Colorado Springs",
         "2024-01-07T10:51:20.318Z"
        ],
        [
         2433,
         "UNITED STATES",
         "Tulsa",
         "2024-01-07T10:51:20.318Z"
        ],
        [
         2434,
         "UNITED STATES",
         "San Antonio",
         "2024-01-07T10:51:20.318Z"
        ],
        [
         2435,
         "UNITED KINGDOM",
         "Eaton",
         "2024-01-07T10:51:20.318Z"
        ],
        [
         2436,
         "UNITED STATES",
         "Greensboro",
         "2024-01-07T10:51:20.318Z"
        ],
        [
         2437,
         "UNITED STATES",
         "Harrisburg",
         "2024-01-07T10:51:20.318Z"
        ],
        [
         2438,
         "UNITED STATES",
         "Fresno",
         "2024-01-07T10:51:20.318Z"
        ],
        [
         2439,
         "UNITED STATES",
         "Hartford",
         "2024-01-07T10:51:20.318Z"
        ],
        [
         2440,
         "UNITED STATES",
         "Saint Paul",
         "2024-01-07T10:51:20.318Z"
        ],
        [
         2441,
         "UNITED STATES",
         "Cedar Rapids",
         "2024-01-07T10:51:20.318Z"
        ],
        [
         2442,
         "UNITED STATES",
         "Springfield",
         "2024-01-07T10:51:20.318Z"
        ],
        [
         2443,
         "UNITED STATES",
         "Springfield",
         "2024-01-07T10:51:20.318Z"
        ],
        [
         2444,
         "UNITED STATES",
         "Chicago",
         "2024-01-07T10:51:20.318Z"
        ],
        [
         2445,
         "UNITED STATES",
         "Akron",
         "2024-01-07T10:51:20.318Z"
        ],
        [
         2446,
         "UNITED KINGDOM",
         "Church End",
         "2024-01-07T10:51:20.318Z"
        ],
        [
         2447,
         "UNITED STATES",
         "Toledo",
         "2024-01-07T10:51:20.318Z"
        ],
        [
         2448,
         "UNITED KINGDOM",
         "Burnside",
         "2024-01-07T10:51:20.318Z"
        ],
        [
         2449,
         "UNITED STATES",
         "Fort Wayne",
         "2024-01-07T10:51:20.318Z"
        ],
        [
         2450,
         "UNITED STATES",
         "Cedar Rapids",
         "2024-01-07T10:51:20.318Z"
        ],
        [
         2451,
         "UNITED STATES",
         "Arlington",
         "2024-01-07T10:51:20.318Z"
        ],
        [
         2452,
         "UNITED STATES",
         "Washington",
         "2024-01-07T10:51:20.318Z"
        ],
        [
         2453,
         "UNITED STATES",
         "El Paso",
         "2024-01-07T10:51:20.318Z"
        ],
        [
         2454,
         "UNITED STATES",
         "Cincinnati",
         "2024-01-07T10:51:20.318Z"
        ],
        [
         2455,
         "UNITED STATES",
         "Fullerton",
         "2024-01-07T10:51:20.318Z"
        ],
        [
         2456,
         "UNITED STATES",
         "Los Angeles",
         "2024-01-07T10:51:20.318Z"
        ],
        [
         2457,
         "",
         "",
         "2024-01-07T10:51:20.318Z"
        ],
        [
         2458,
         "UNITED STATES",
         "Naples",
         "2024-01-07T10:51:20.318Z"
        ],
        [
         2459,
         "UNITED STATES",
         "Chicago",
         "2024-01-07T10:51:20.318Z"
        ],
        [
         2460,
         "",
         "",
         "2024-01-07T10:51:20.318Z"
        ],
        [
         2461,
         "UNITED STATES",
         "Glendale",
         "2024-01-07T10:51:20.318Z"
        ],
        [
         2462,
         "UNITED STATES",
         "Chicago",
         "2024-01-07T10:51:20.318Z"
        ],
        [
         2463,
         "UNITED STATES",
         "Pasadena",
         "2024-01-07T10:51:20.318Z"
        ],
        [
         2464,
         "UNITED STATES",
         "Santa Ana",
         "2024-01-07T10:51:20.318Z"
        ],
        [
         2465,
         "UNITED STATES",
         "Sioux Falls",
         "2024-01-07T10:51:20.318Z"
        ],
        [
         2466,
         "UNITED STATES",
         "Florence",
         "2024-01-07T10:51:20.318Z"
        ],
        [
         2467,
         "",
         "",
         "2024-01-07T10:51:20.318Z"
        ],
        [
         2468,
         "UNITED STATES",
         "Dallas",
         "2024-01-07T10:51:20.318Z"
        ],
        [
         2469,
         "UNITED STATES",
         "Lincoln",
         "2024-01-07T10:51:20.318Z"
        ],
        [
         2470,
         "UNITED STATES",
         "Evansville",
         "2024-01-07T10:51:20.318Z"
        ],
        [
         2471,
         "UNITED STATES",
         "Chicago",
         "2024-01-07T10:51:20.318Z"
        ],
        [
         2472,
         "UNITED STATES",
         "Boston",
         "2024-01-07T10:51:20.318Z"
        ],
        [
         2473,
         "",
         "",
         "2024-01-07T10:51:20.318Z"
        ],
        [
         2474,
         "UNITED STATES",
         "Oklahoma City",
         "2024-01-07T10:51:20.318Z"
        ],
        [
         2475,
         "UNITED STATES",
         "Norfolk",
         "2024-01-07T10:51:20.318Z"
        ],
        [
         2476,
         "UNITED STATES",
         "Springfield",
         "2024-01-07T10:51:20.318Z"
        ],
        [
         2477,
         "UNITED STATES",
         "Shreveport",
         "2024-01-07T10:51:20.318Z"
        ],
        [
         2478,
         "UNITED STATES",
         "Richmond",
         "2024-01-07T10:51:20.318Z"
        ],
        [
         2479,
         "UNITED STATES",
         "Miami",
         "2024-01-07T10:51:20.318Z"
        ],
        [
         2480,
         "UNITED STATES",
         "Fargo",
         "2024-01-07T10:51:20.318Z"
        ],
        [
         2481,
         "UNITED STATES",
         "Boston",
         "2024-01-07T10:51:20.318Z"
        ],
        [
         2482,
         "UNITED STATES",
         "Omaha",
         "2024-01-07T10:51:20.318Z"
        ],
        [
         2483,
         "",
         "",
         "2024-01-07T10:51:20.318Z"
        ],
        [
         2484,
         "UNITED STATES",
         "Las Vegas",
         "2024-01-07T10:51:20.318Z"
        ],
        [
         2485,
         "UNITED STATES",
         "Springfield",
         "2024-01-07T10:51:20.318Z"
        ],
        [
         2486,
         "UNITED STATES",
         "Anchorage",
         "2024-01-07T10:51:20.318Z"
        ],
        [
         2487,
         "UNITED STATES",
         "Washington",
         "2024-01-07T10:51:20.318Z"
        ],
        [
         2488,
         "UNITED STATES",
         "Great Neck",
         "2024-01-07T10:51:20.318Z"
        ],
        [
         2489,
         "UNITED STATES",
         "Lafayette",
         "2024-01-07T10:51:20.318Z"
        ],
        [
         2490,
         "UNITED STATES",
         "Young America",
         "2024-01-07T10:51:20.318Z"
        ],
        [
         2491,
         "UNITED STATES",
         "Santa Rosa",
         "2024-01-07T10:51:20.318Z"
        ],
        [
         2492,
         "UNITED STATES",
         "Pensacola",
         "2024-01-07T10:51:20.318Z"
        ],
        [
         2493,
         "UNITED STATES",
         "Beaumont",
         "2024-01-07T10:51:20.318Z"
        ],
        [
         2494,
         "UNITED STATES",
         "Olympia",
         "2024-01-07T10:51:20.318Z"
        ],
        [
         2495,
         "",
         "",
         "2024-01-07T10:51:20.318Z"
        ],
        [
         2496,
         "UNITED STATES",
         "Springfield",
         "2024-01-07T10:51:20.318Z"
        ],
        [
         2497,
         "UNITED STATES",
         "Des Moines",
         "2024-01-07T10:51:20.318Z"
        ],
        [
         2498,
         "UNITED STATES",
         "Atlanta",
         "2024-01-07T10:51:20.318Z"
        ],
        [
         2499,
         "UNITED STATES",
         "Saint Louis",
         "2024-01-07T10:51:20.318Z"
        ],
        [
         2500,
         "UNITED STATES",
         "Albuquerque",
         "2024-01-07T10:51:20.318Z"
        ],
        [
         2501,
         "UNITED STATES",
         "Sunnyvale",
         "2024-01-07T10:51:20.318Z"
        ],
        [
         2502,
         "",
         "",
         "2024-01-07T10:51:20.318Z"
        ],
        [
         2503,
         "UNITED STATES",
         "Albuquerque",
         "2024-01-07T10:51:20.318Z"
        ],
        [
         2504,
         "UNITED STATES",
         "Roanoke",
         "2024-01-07T10:51:20.318Z"
        ],
        [
         2505,
         "UNITED STATES",
         "Salt Lake City",
         "2024-01-07T10:51:20.318Z"
        ],
        [
         2506,
         "UNITED STATES",
         "Trenton",
         "2024-01-07T10:51:20.318Z"
        ],
        [
         2507,
         "UNITED STATES",
         "El Paso",
         "2024-01-07T10:51:20.318Z"
        ],
        [
         2508,
         "UNITED STATES",
         "San Antonio",
         "2024-01-07T10:51:20.318Z"
        ],
        [
         2509,
         "UNITED STATES",
         "North Little Rock",
         "2024-01-07T10:51:20.318Z"
        ],
        [
         2510,
         "UNITED STATES",
         "Sacramento",
         "2024-01-07T10:51:20.318Z"
        ],
        [
         2511,
         "UNITED STATES",
         "Phoenix",
         "2024-01-07T10:51:20.318Z"
        ],
        [
         2512,
         "UNITED STATES",
         "Rockford",
         "2024-01-07T10:51:20.318Z"
        ],
        [
         2513,
         "UNITED STATES",
         "Amarillo",
         "2024-01-07T10:51:20.318Z"
        ],
        [
         2514,
         "UNITED STATES",
         "Shreveport",
         "2024-01-07T10:51:20.318Z"
        ],
        [
         2515,
         "UNITED STATES",
         "Washington",
         "2024-01-07T10:51:20.318Z"
        ],
        [
         2516,
         "UNITED STATES",
         "Tucson",
         "2024-01-07T10:51:20.318Z"
        ],
        [
         2517,
         "UNITED STATES",
         "Los Angeles",
         "2024-01-07T10:51:20.318Z"
        ],
        [
         2518,
         "UNITED STATES",
         "Little Rock",
         "2024-01-07T10:51:20.318Z"
        ],
        [
         2519,
         "UNITED STATES",
         "Warren",
         "2024-01-07T10:51:20.318Z"
        ],
        [
         2520,
         "UNITED STATES",
         "Bronx",
         "2024-01-07T10:51:20.318Z"
        ],
        [
         2521,
         "UNITED STATES",
         "Los Angeles",
         "2024-01-07T10:51:20.318Z"
        ],
        [
         2522,
         "UNITED STATES",
         "Reno",
         "2024-01-07T10:51:20.318Z"
        ],
        [
         2523,
         "UNITED STATES",
         "Tempe",
         "2024-01-07T10:51:20.318Z"
        ],
        [
         2524,
         "UNITED STATES",
         "Shawnee Mission",
         "2024-01-07T10:51:20.318Z"
        ],
        [
         2525,
         "UNITED STATES",
         "Lafayette",
         "2024-01-07T10:51:20.318Z"
        ],
        [
         2526,
         "UNITED STATES",
         "Fort Worth",
         "2024-01-07T10:51:20.318Z"
        ],
        [
         2527,
         "UNITED STATES",
         "Reston",
         "2024-01-07T10:51:20.318Z"
        ],
        [
         2528,
         "UNITED STATES",
         "Denton",
         "2024-01-07T10:51:20.318Z"
        ],
        [
         2529,
         "UNITED STATES",
         "Roanoke",
         "2024-01-07T10:51:20.318Z"
        ],
        [
         2530,
         "UNITED STATES",
         "Asheville",
         "2024-01-07T10:51:20.318Z"
        ],
        [
         2531,
         "UNITED STATES",
         "Naples",
         "2024-01-07T10:51:20.318Z"
        ],
        [
         2532,
         "UNITED STATES",
         "Fresno",
         "2024-01-07T10:51:20.318Z"
        ],
        [
         2533,
         "UNITED STATES",
         "Washington",
         "2024-01-07T10:51:20.318Z"
        ],
        [
         2534,
         "UNITED STATES",
         "Beaverton",
         "2024-01-07T10:51:20.318Z"
        ],
        [
         2535,
         "UNITED STATES",
         "Erie",
         "2024-01-07T10:51:20.318Z"
        ],
        [
         2536,
         "UNITED STATES",
         "Reading",
         "2024-01-07T10:51:20.318Z"
        ],
        [
         2537,
         "UNITED STATES",
         "Sacramento",
         "2024-01-07T10:51:20.318Z"
        ],
        [
         2538,
         "UNITED STATES",
         "Louisville",
         "2024-01-07T10:51:20.318Z"
        ],
        [
         2539,
         "UNITED STATES",
         "Waco",
         "2024-01-07T10:51:20.318Z"
        ],
        [
         2540,
         "UNITED STATES",
         "Tacoma",
         "2024-01-07T10:51:20.318Z"
        ],
        [
         2541,
         "UNITED STATES",
         "Nashville",
         "2024-01-07T10:51:20.318Z"
        ],
        [
         2542,
         "UNITED STATES",
         "New Orleans",
         "2024-01-07T10:51:20.318Z"
        ],
        [
         2543,
         "UNITED STATES",
         "Jamaica",
         "2024-01-07T10:51:20.318Z"
        ],
        [
         2544,
         "UNITED STATES",
         "Greensboro",
         "2024-01-07T10:51:20.318Z"
        ],
        [
         2545,
         "UNITED STATES",
         "Raleigh",
         "2024-01-07T10:51:20.318Z"
        ],
        [
         2546,
         "UNITED STATES",
         "Richmond",
         "2024-01-07T10:51:20.318Z"
        ],
        [
         2547,
         "UNITED STATES",
         "Denver",
         "2024-01-07T10:51:20.318Z"
        ],
        [
         2548,
         "UNITED STATES",
         "Buffalo",
         "2024-01-07T10:51:20.318Z"
        ],
        [
         2549,
         "UNITED STATES",
         "Charlotte",
         "2024-01-07T10:51:20.318Z"
        ],
        [
         2550,
         "UNITED KINGDOM",
         "East End",
         "2024-01-07T10:51:20.318Z"
        ],
        [
         2551,
         "UNITED STATES",
         "Miami",
         "2024-01-07T10:51:20.318Z"
        ],
        [
         2552,
         "UNITED KINGDOM",
         "Ashley",
         "2024-01-07T10:51:20.318Z"
        ],
        [
         2553,
         "UNITED STATES",
         "Arlington",
         "2024-01-07T10:51:20.318Z"
        ],
        [
         2554,
         "UNITED STATES",
         "Des Moines",
         "2024-01-07T10:51:20.318Z"
        ],
        [
         2555,
         "UNITED STATES",
         "Oakland",
         "2024-01-07T10:51:20.318Z"
        ],
        [
         2556,
         "UNITED STATES",
         "Erie",
         "2024-01-07T10:51:20.318Z"
        ],
        [
         2557,
         "UNITED STATES",
         "El Paso",
         "2024-01-07T10:51:20.318Z"
        ],
        [
         2558,
         "UNITED STATES",
         "Colorado Springs",
         "2024-01-07T10:51:20.318Z"
        ],
        [
         2559,
         "UNITED STATES",
         "Las Vegas",
         "2024-01-07T10:51:20.318Z"
        ],
        [
         2560,
         "UNITED STATES",
         "Omaha",
         "2024-01-07T10:51:20.318Z"
        ],
        [
         2561,
         "UNITED STATES",
         "Houston",
         "2024-01-07T10:51:20.318Z"
        ],
        [
         2562,
         "UNITED STATES",
         "Fairbanks",
         "2024-01-07T10:51:20.318Z"
        ],
        [
         2563,
         "UNITED STATES",
         "Annapolis",
         "2024-01-07T10:51:20.318Z"
        ],
        [
         2564,
         "UNITED STATES",
         "Columbus",
         "2024-01-07T10:51:20.318Z"
        ],
        [
         2565,
         "UNITED STATES",
         "Washington",
         "2024-01-07T10:51:20.318Z"
        ],
        [
         2566,
         "UNITED STATES",
         "Syracuse",
         "2024-01-07T10:51:20.318Z"
        ],
        [
         2567,
         "",
         "",
         "2024-01-07T10:51:20.318Z"
        ],
        [
         2568,
         "UNITED STATES",
         "Charlotte",
         "2024-01-07T10:51:20.318Z"
        ],
        [
         2569,
         "UNITED KINGDOM",
         "Weston",
         "2024-01-07T10:51:20.318Z"
        ],
        [
         2570,
         "UNITED STATES",
         "Charlotte",
         "2024-01-07T10:51:20.318Z"
        ],
        [
         2571,
         "UNITED STATES",
         "Huntington",
         "2024-01-07T10:51:20.318Z"
        ],
        [
         2572,
         "UNITED STATES",
         "Albany",
         "2024-01-07T10:51:20.318Z"
        ],
        [
         2573,
         "UNITED STATES",
         "Atlanta",
         "2024-01-07T10:51:20.318Z"
        ],
        [
         2574,
         "UNITED STATES",
         "Cincinnati",
         "2024-01-07T10:51:20.318Z"
        ],
        [
         2575,
         "",
         "",
         "2024-01-07T10:51:20.318Z"
        ],
        [
         2576,
         "UNITED STATES",
         "Shreveport",
         "2024-01-07T10:51:20.318Z"
        ],
        [
         2577,
         "UNITED STATES",
         "Detroit",
         "2024-01-07T10:51:20.318Z"
        ],
        [
         2578,
         "UNITED STATES",
         "New York City",
         "2024-01-07T10:51:20.318Z"
        ],
        [
         2579,
         "UNITED STATES",
         "El Paso",
         "2024-01-07T10:51:20.318Z"
        ],
        [
         2580,
         "UNITED STATES",
         "Buffalo",
         "2024-01-07T10:51:20.318Z"
        ],
        [
         2581,
         "UNITED STATES",
         "Biloxi",
         "2024-01-07T10:51:20.318Z"
        ],
        [
         2582,
         "UNITED STATES",
         "Lancaster",
         "2024-01-07T10:51:20.318Z"
        ],
        [
         2583,
         "UNITED STATES",
         "Phoenix",
         "2024-01-07T10:51:20.318Z"
        ],
        [
         2584,
         "UNITED STATES",
         "Louisville",
         "2024-01-07T10:51:20.318Z"
        ],
        [
         2585,
         "UNITED STATES",
         "Port Washington",
         "2024-01-07T10:51:20.318Z"
        ],
        [
         2586,
         "UNITED STATES",
         "Washington",
         "2024-01-07T10:51:20.318Z"
        ],
        [
         2587,
         "UNITED STATES",
         "Vienna",
         "2024-01-07T10:51:20.318Z"
        ],
        [
         2588,
         "UNITED STATES",
         "Lubbock",
         "2024-01-07T10:51:20.318Z"
        ],
        [
         2589,
         "UNITED STATES",
         "Lansing",
         "2024-01-07T10:51:20.318Z"
        ],
        [
         2590,
         "UNITED STATES",
         "Montgomery",
         "2024-01-07T10:51:20.318Z"
        ],
        [
         2591,
         "UNITED STATES",
         "New York City",
         "2024-01-07T10:51:20.318Z"
        ],
        [
         2592,
         "UNITED STATES",
         "Harrisburg",
         "2024-01-07T10:51:20.318Z"
        ],
        [
         2593,
         "",
         "",
         "2024-01-07T10:51:20.318Z"
        ],
        [
         2594,
         "UNITED STATES",
         "Tallahassee",
         "2024-01-07T10:51:20.318Z"
        ],
        [
         2595,
         "UNITED KINGDOM",
         "Glasgow",
         "2024-01-07T10:51:20.318Z"
        ],
        [
         2596,
         "UNITED STATES",
         "Miami",
         "2024-01-07T10:51:20.318Z"
        ],
        [
         2597,
         "UNITED STATES",
         "Macon",
         "2024-01-07T10:51:20.318Z"
        ],
        [
         2598,
         "UNITED STATES",
         "Erie",
         "2024-01-07T10:51:20.318Z"
        ],
        [
         2599,
         "UNITED STATES",
         "El Paso",
         "2024-01-07T10:51:20.318Z"
        ],
        [
         2600,
         "UNITED STATES",
         "Harrisburg",
         "2024-01-07T10:51:20.318Z"
        ],
        [
         2601,
         "UNITED STATES",
         "Clearwater",
         "2024-01-07T10:51:20.318Z"
        ],
        [
         2602,
         "UNITED KINGDOM",
         "Aston",
         "2024-01-07T10:51:20.318Z"
        ],
        [
         2603,
         "UNITED STATES",
         "Baton Rouge",
         "2024-01-07T10:51:20.318Z"
        ],
        [
         2604,
         "UNITED STATES",
         "Zephyrhills",
         "2024-01-07T10:51:20.318Z"
        ],
        [
         2605,
         "UNITED STATES",
         "Lansing",
         "2024-01-07T10:51:20.318Z"
        ],
        [
         2606,
         "UNITED STATES",
         "Omaha",
         "2024-01-07T10:51:20.318Z"
        ],
        [
         2607,
         "UNITED STATES",
         "Washington",
         "2024-01-07T10:51:20.318Z"
        ],
        [
         2608,
         "UNITED STATES",
         "Knoxville",
         "2024-01-07T10:51:20.318Z"
        ],
        [
         2609,
         "UNITED STATES",
         "Dallas",
         "2024-01-07T10:51:20.318Z"
        ],
        [
         2610,
         "UNITED STATES",
         "Lees Summit",
         "2024-01-07T10:51:20.318Z"
        ],
        [
         2611,
         "UNITED STATES",
         "Odessa",
         "2024-01-07T10:51:20.318Z"
        ],
        [
         2612,
         "UNITED STATES",
         "Pasadena",
         "2024-01-07T10:51:20.318Z"
        ],
        [
         2613,
         "UNITED KINGDOM",
         "Preston",
         "2024-01-07T10:51:20.318Z"
        ],
        [
         2614,
         "UNITED KINGDOM",
         "Sheffield",
         "2024-01-07T10:51:20.318Z"
        ],
        [
         2615,
         "UNITED STATES",
         "Los Angeles",
         "2024-01-07T10:51:20.318Z"
        ],
        [
         2616,
         "UNITED STATES",
         "Little Rock",
         "2024-01-07T10:51:20.318Z"
        ],
        [
         2617,
         "UNITED STATES",
         "Harrisburg",
         "2024-01-07T10:51:20.318Z"
        ],
        [
         2618,
         "UNITED KINGDOM",
         "Horton",
         "2024-01-07T10:51:20.318Z"
        ],
        [
         2619,
         "UNITED STATES",
         "Shawnee Mission",
         "2024-01-07T10:51:20.318Z"
        ],
        [
         2620,
         "UNITED STATES",
         "Atlanta",
         "2024-01-07T10:51:20.318Z"
        ],
        [
         2621,
         "UNITED STATES",
         "Sacramento",
         "2024-01-07T10:51:20.318Z"
        ],
        [
         2622,
         "UNITED STATES",
         "Saint Louis",
         "2024-01-07T10:51:20.318Z"
        ],
        [
         2623,
         "UNITED STATES",
         "Cleveland",
         "2024-01-07T10:51:20.318Z"
        ],
        [
         2624,
         "UNITED STATES",
         "Newton",
         "2024-01-07T10:51:20.318Z"
        ],
        [
         2625,
         "",
         "",
         "2024-01-07T10:51:20.318Z"
        ],
        [
         2626,
         "UNITED STATES",
         "Austin",
         "2024-01-07T10:51:20.318Z"
        ],
        [
         2627,
         "UNITED STATES",
         "San Diego",
         "2024-01-07T10:51:20.318Z"
        ],
        [
         2628,
         "UNITED STATES",
         "El Paso",
         "2024-01-07T10:51:20.318Z"
        ],
        [
         2629,
         "UNITED STATES",
         "Denton",
         "2024-01-07T10:51:20.318Z"
        ],
        [
         2630,
         "",
         "",
         "2024-01-07T10:51:20.318Z"
        ],
        [
         2631,
         "UNITED STATES",
         "Yonkers",
         "2024-01-07T10:51:20.318Z"
        ],
        [
         2632,
         "UNITED STATES",
         "Chattanooga",
         "2024-01-07T10:51:20.318Z"
        ],
        [
         2633,
         "UNITED KINGDOM",
         "Aston",
         "2024-01-07T10:51:20.318Z"
        ],
        [
         2634,
         "UNITED STATES",
         "Dayton",
         "2024-01-07T10:51:20.318Z"
        ],
        [
         2635,
         "UNITED STATES",
         "Sacramento",
         "2024-01-07T10:51:20.318Z"
        ],
        [
         2636,
         "UNITED STATES",
         "Duluth",
         "2024-01-07T10:51:20.318Z"
        ],
        [
         2637,
         "UNITED STATES",
         "Allentown",
         "2024-01-07T10:51:20.318Z"
        ],
        [
         2638,
         "UNITED STATES",
         "Norfolk",
         "2024-01-07T10:51:20.318Z"
        ],
        [
         2639,
         "UNITED STATES",
         "Honolulu",
         "2024-01-07T10:51:20.318Z"
        ],
        [
         2640,
         "UNITED STATES",
         "Macon",
         "2024-01-07T10:51:20.318Z"
        ],
        [
         2641,
         "UNITED STATES",
         "Shawnee Mission",
         "2024-01-07T10:51:20.318Z"
        ],
        [
         2642,
         "UNITED STATES",
         "San Diego",
         "2024-01-07T10:51:20.318Z"
        ],
        [
         2643,
         "",
         "",
         "2024-01-07T10:51:20.318Z"
        ],
        [
         2644,
         "UNITED STATES",
         "Atlanta",
         "2024-01-07T10:51:20.318Z"
        ],
        [
         2645,
         "UNITED STATES",
         "Peoria",
         "2024-01-07T10:51:20.318Z"
        ],
        [
         2646,
         "UNITED STATES",
         "Chattanooga",
         "2024-01-07T10:51:20.318Z"
        ],
        [
         2647,
         "UNITED STATES",
         "Asheville",
         "2024-01-07T10:51:20.318Z"
        ],
        [
         2648,
         "UNITED STATES",
         "Oklahoma City",
         "2024-01-07T10:51:20.318Z"
        ],
        [
         2649,
         "UNITED STATES",
         "Detroit",
         "2024-01-07T10:51:20.318Z"
        ],
        [
         2650,
         "UNITED STATES",
         "Buffalo",
         "2024-01-07T10:51:20.318Z"
        ],
        [
         2651,
         "UNITED STATES",
         "Amarillo",
         "2024-01-07T10:51:20.318Z"
        ],
        [
         2652,
         "UNITED STATES",
         "Charleston",
         "2024-01-07T10:51:20.318Z"
        ],
        [
         2653,
         "UNITED STATES",
         "Evansville",
         "2024-01-07T10:51:20.318Z"
        ],
        [
         2654,
         "UNITED STATES",
         "Rochester",
         "2024-01-07T10:51:20.318Z"
        ],
        [
         2655,
         "UNITED STATES",
         "Philadelphia",
         "2024-01-07T10:51:20.318Z"
        ],
        [
         2656,
         "UNITED STATES",
         "Lawrenceville",
         "2024-01-07T10:51:20.318Z"
        ],
        [
         2657,
         "UNITED STATES",
         "Shawnee Mission",
         "2024-01-07T10:51:20.318Z"
        ],
        [
         2658,
         "UNITED STATES",
         "Johnson City",
         "2024-01-07T10:51:20.318Z"
        ],
        [
         2659,
         "UNITED STATES",
         "Philadelphia",
         "2024-01-07T10:51:20.318Z"
        ],
        [
         2660,
         "UNITED STATES",
         "San Diego",
         "2024-01-07T10:51:20.318Z"
        ],
        [
         2661,
         "UNITED STATES",
         "Vancouver",
         "2024-01-07T10:51:20.318Z"
        ],
        [
         2662,
         "UNITED STATES",
         "Toledo",
         "2024-01-07T10:51:20.318Z"
        ],
        [
         2663,
         "UNITED STATES",
         "Waterbury",
         "2024-01-07T10:51:20.318Z"
        ],
        [
         2664,
         "",
         "",
         "2024-01-07T10:51:20.318Z"
        ],
        [
         2665,
         "",
         "",
         "2024-01-07T10:51:20.318Z"
        ],
        [
         2666,
         "UNITED STATES",
         "Raleigh",
         "2024-01-07T10:51:20.318Z"
        ],
        [
         2667,
         "UNITED STATES",
         "Montgomery",
         "2024-01-07T10:51:20.318Z"
        ],
        [
         2668,
         "UNITED STATES",
         "Jacksonville",
         "2024-01-07T10:51:20.318Z"
        ],
        [
         2669,
         "UNITED STATES",
         "Columbus",
         "2024-01-07T10:51:20.318Z"
        ],
        [
         2670,
         "UNITED STATES",
         "Sacramento",
         "2024-01-07T10:51:20.318Z"
        ],
        [
         2671,
         "UNITED STATES",
         "Fort Wayne",
         "2024-01-07T10:51:20.318Z"
        ],
        [
         2672,
         "UNITED STATES",
         "Dallas",
         "2024-01-07T10:51:20.318Z"
        ],
        [
         2673,
         "UNITED STATES",
         "Chicago",
         "2024-01-07T10:51:20.318Z"
        ],
        [
         2674,
         "UNITED STATES",
         "Maple Plain",
         "2024-01-07T10:51:20.318Z"
        ],
        [
         2675,
         "UNITED STATES",
         "Rochester",
         "2024-01-07T10:51:20.318Z"
        ],
        [
         2676,
         "UNITED STATES",
         "Pasadena",
         "2024-01-07T10:51:20.318Z"
        ],
        [
         2677,
         "UNITED STATES",
         "Memphis",
         "2024-01-07T10:51:20.318Z"
        ],
        [
         2678,
         "UNITED STATES",
         "Chicago",
         "2024-01-07T10:51:20.318Z"
        ],
        [
         2679,
         "UNITED STATES",
         "Orlando",
         "2024-01-07T10:51:20.318Z"
        ],
        [
         2680,
         "UNITED STATES",
         "Lincoln",
         "2024-01-07T10:51:20.318Z"
        ],
        [
         2681,
         "UNITED STATES",
         "Shreveport",
         "2024-01-07T10:51:20.318Z"
        ],
        [
         2682,
         "UNITED STATES",
         "Durham",
         "2024-01-07T10:51:20.318Z"
        ],
        [
         2683,
         "UNITED STATES",
         "Peoria",
         "2024-01-07T10:51:20.318Z"
        ],
        [
         2684,
         "UNITED STATES",
         "Cincinnati",
         "2024-01-07T10:51:20.318Z"
        ],
        [
         2685,
         "UNITED STATES",
         "Muskegon",
         "2024-01-07T10:51:20.318Z"
        ],
        [
         2686,
         "UNITED STATES",
         "Los Angeles",
         "2024-01-07T10:51:20.318Z"
        ],
        [
         2687,
         "UNITED STATES",
         "San Jose",
         "2024-01-07T10:51:20.318Z"
        ],
        [
         2688,
         "UNITED STATES",
         "Dallas",
         "2024-01-07T10:51:20.318Z"
        ],
        [
         2689,
         "UNITED STATES",
         "Conroe",
         "2024-01-07T10:51:20.318Z"
        ],
        [
         2690,
         "UNITED STATES",
         "Columbus",
         "2024-01-07T10:51:20.318Z"
        ],
        [
         2691,
         "UNITED STATES",
         "Boston",
         "2024-01-07T10:51:20.318Z"
        ],
        [
         2692,
         "UNITED STATES",
         "Buffalo",
         "2024-01-07T10:51:20.318Z"
        ],
        [
         2693,
         "UNITED STATES",
         "Seattle",
         "2024-01-07T10:51:20.318Z"
        ],
        [
         2694,
         "UNITED STATES",
         "Brooklyn",
         "2024-01-07T10:51:20.318Z"
        ],
        [
         2695,
         "UNITED STATES",
         "Bronx",
         "2024-01-07T10:51:20.318Z"
        ],
        [
         2696,
         "UNITED KINGDOM",
         "Burnside",
         "2024-01-07T10:51:20.318Z"
        ],
        [
         2697,
         "UNITED STATES",
         "Charleston",
         "2024-01-07T10:51:20.318Z"
        ],
        [
         2698,
         "UNITED KINGDOM",
         "London",
         "2024-01-07T10:51:20.318Z"
        ],
        [
         2699,
         "",
         "",
         "2024-01-07T10:51:20.318Z"
        ],
        [
         2700,
         "",
         "",
         "2024-01-07T10:51:20.318Z"
        ],
        [
         2701,
         "UNITED STATES",
         "Staten Island",
         "2024-01-07T10:51:20.318Z"
        ],
        [
         2702,
         "UNITED STATES",
         "Garden Grove",
         "2024-01-07T10:51:20.318Z"
        ],
        [
         2703,
         "UNITED STATES",
         "Columbus",
         "2024-01-07T10:51:20.318Z"
        ],
        [
         2704,
         "UNITED STATES",
         "Phoenix",
         "2024-01-07T10:51:20.318Z"
        ],
        [
         2705,
         "",
         "",
         "2024-01-07T10:51:20.318Z"
        ],
        [
         2706,
         "UNITED STATES",
         "New Orleans",
         "2024-01-07T10:51:20.318Z"
        ],
        [
         2707,
         "UNITED STATES",
         "Richmond",
         "2024-01-07T10:51:20.318Z"
        ],
        [
         2708,
         "UNITED STATES",
         "Birmingham",
         "2024-01-07T10:51:20.318Z"
        ],
        [
         2709,
         "UNITED STATES",
         "Alexandria",
         "2024-01-07T10:51:20.318Z"
        ],
        [
         2710,
         "UNITED STATES",
         "Tallahassee",
         "2024-01-07T10:51:20.318Z"
        ],
        [
         2711,
         "",
         "",
         "2024-01-07T10:51:20.318Z"
        ],
        [
         2712,
         "UNITED STATES",
         "Monroe",
         "2024-01-07T10:51:20.318Z"
        ],
        [
         2713,
         "UNITED STATES",
         "Dallas",
         "2024-01-07T10:51:20.318Z"
        ],
        [
         2714,
         "UNITED STATES",
         "Erie",
         "2024-01-07T10:51:20.318Z"
        ],
        [
         2715,
         "UNITED STATES",
         "Huntsville",
         "2024-01-07T10:51:20.318Z"
        ],
        [
         2716,
         "UNITED KINGDOM",
         "London",
         "2024-01-07T10:51:20.318Z"
        ],
        [
         2717,
         "UNITED STATES",
         "Phoenix",
         "2024-01-07T10:51:20.318Z"
        ],
        [
         2718,
         "UNITED STATES",
         "El Paso",
         "2024-01-07T10:51:20.318Z"
        ],
        [
         2719,
         "UNITED STATES",
         "Huntsville",
         "2024-01-07T10:51:20.318Z"
        ],
        [
         2720,
         "UNITED STATES",
         "Racine",
         "2024-01-07T10:51:20.318Z"
        ],
        [
         2721,
         "UNITED STATES",
         "Baton Rouge",
         "2024-01-07T10:51:20.318Z"
        ],
        [
         2722,
         "UNITED STATES",
         "Duluth",
         "2024-01-07T10:51:20.318Z"
        ],
        [
         2723,
         "UNITED STATES",
         "Gainesville",
         "2024-01-07T10:51:20.318Z"
        ],
        [
         2724,
         "UNITED STATES",
         "Cincinnati",
         "2024-01-07T10:51:20.318Z"
        ],
        [
         2725,
         "UNITED STATES",
         "Las Vegas",
         "2024-01-07T10:51:20.318Z"
        ],
        [
         2726,
         "",
         "",
         "2024-01-07T10:51:20.318Z"
        ],
        [
         2727,
         "UNITED KINGDOM",
         "Aberdeen",
         "2024-01-07T10:51:20.318Z"
        ],
        [
         2728,
         "UNITED STATES",
         "Washington",
         "2024-01-07T10:51:20.318Z"
        ],
        [
         2729,
         "UNITED STATES",
         "Lancaster",
         "2024-01-07T10:51:20.318Z"
        ],
        [
         2730,
         "",
         "",
         "2024-01-07T10:51:20.318Z"
        ],
        [
         2731,
         "UNITED STATES",
         "Ogden",
         "2024-01-07T10:51:20.318Z"
        ],
        [
         2732,
         "UNITED STATES",
         "Washington",
         "2024-01-07T10:51:20.318Z"
        ],
        [
         2733,
         "UNITED STATES",
         "Las Vegas",
         "2024-01-07T10:51:20.318Z"
        ],
        [
         2734,
         "UNITED STATES",
         "Lexington",
         "2024-01-07T10:51:20.318Z"
        ],
        [
         2735,
         "",
         "",
         "2024-01-07T10:51:20.318Z"
        ],
        [
         2736,
         "UNITED KINGDOM",
         "Seaton",
         "2024-01-07T10:51:20.318Z"
        ],
        [
         2737,
         "UNITED STATES",
         "Seattle",
         "2024-01-07T10:51:20.318Z"
        ],
        [
         2738,
         "UNITED STATES",
         "Seattle",
         "2024-01-07T10:51:20.318Z"
        ],
        [
         2739,
         "UNITED STATES",
         "Wilmington",
         "2024-01-07T10:51:20.318Z"
        ],
        [
         2740,
         "UNITED KINGDOM",
         "Birmingham",
         "2024-01-07T10:51:20.318Z"
        ],
        [
         2741,
         "UNITED STATES",
         "Roanoke",
         "2024-01-07T10:51:20.318Z"
        ],
        [
         2742,
         "UNITED STATES",
         "Springfield",
         "2024-01-07T10:51:20.318Z"
        ],
        [
         2743,
         "UNITED STATES",
         "Seattle",
         "2024-01-07T10:51:20.318Z"
        ],
        [
         2744,
         "UNITED STATES",
         "Houston",
         "2024-01-07T10:51:20.318Z"
        ],
        [
         2745,
         "UNITED STATES",
         "Birmingham",
         "2024-01-07T10:51:20.318Z"
        ],
        [
         2746,
         "UNITED STATES",
         "Cedar Rapids",
         "2024-01-07T10:51:20.318Z"
        ],
        [
         2747,
         "UNITED STATES",
         "Young America",
         "2024-01-07T10:51:20.318Z"
        ],
        [
         2748,
         "UNITED STATES",
         "Springfield",
         "2024-01-07T10:51:20.318Z"
        ],
        [
         2749,
         "UNITED STATES",
         "Knoxville",
         "2024-01-07T10:51:20.318Z"
        ],
        [
         2750,
         "UNITED STATES",
         "Evansville",
         "2024-01-07T10:51:20.318Z"
        ],
        [
         2751,
         "UNITED STATES",
         "New York City",
         "2024-01-07T10:51:20.318Z"
        ],
        [
         2752,
         "UNITED STATES",
         "Vienna",
         "2024-01-07T10:51:20.318Z"
        ],
        [
         2753,
         "UNITED STATES",
         "Pittsburgh",
         "2024-01-07T10:51:20.318Z"
        ],
        [
         2754,
         "UNITED STATES",
         "San Antonio",
         "2024-01-07T10:51:20.318Z"
        ],
        [
         2755,
         "",
         "",
         "2024-01-07T10:51:20.318Z"
        ],
        [
         2756,
         "UNITED STATES",
         "San Antonio",
         "2024-01-07T10:51:20.318Z"
        ],
        [
         2757,
         "UNITED STATES",
         "Denver",
         "2024-01-07T10:51:20.318Z"
        ],
        [
         2758,
         "UNITED STATES",
         "Nashville",
         "2024-01-07T10:51:20.318Z"
        ],
        [
         2759,
         "UNITED STATES",
         "Pueblo",
         "2024-01-07T10:51:20.318Z"
        ],
        [
         2760,
         "UNITED STATES",
         "Newton",
         "2024-01-07T10:51:20.318Z"
        ],
        [
         2761,
         "UNITED STATES",
         "Duluth",
         "2024-01-07T10:51:20.318Z"
        ],
        [
         2762,
         "UNITED STATES",
         "Garden Grove",
         "2024-01-07T10:51:20.318Z"
        ],
        [
         2763,
         "UNITED STATES",
         "Jacksonville",
         "2024-01-07T10:51:20.318Z"
        ],
        [
         2764,
         "UNITED STATES",
         "Lexington",
         "2024-01-07T10:51:20.318Z"
        ],
        [
         2765,
         "UNITED STATES",
         "Annapolis",
         "2024-01-07T10:51:20.318Z"
        ],
        [
         2766,
         "UNITED STATES",
         "Grand Forks",
         "2024-01-07T10:51:20.318Z"
        ],
        [
         2767,
         "UNITED STATES",
         "Saint Petersburg",
         "2024-01-07T10:51:20.318Z"
        ],
        [
         2768,
         "",
         "",
         "2024-01-07T10:51:20.318Z"
        ],
        [
         2769,
         "UNITED STATES",
         "Pasadena",
         "2024-01-07T10:51:20.318Z"
        ],
        [
         2770,
         "UNITED STATES",
         "Shreveport",
         "2024-01-07T10:51:20.318Z"
        ],
        [
         2771,
         "UNITED STATES",
         "Atlanta",
         "2024-01-07T10:51:20.318Z"
        ],
        [
         2772,
         "UNITED STATES",
         "Houston",
         "2024-01-07T10:51:20.318Z"
        ],
        [
         2773,
         "UNITED KINGDOM",
         "Newton",
         "2024-01-07T10:51:20.318Z"
        ],
        [
         2774,
         "UNITED STATES",
         "Vancouver",
         "2024-01-07T10:51:20.318Z"
        ],
        [
         2775,
         "UNITED STATES",
         "Washington",
         "2024-01-07T10:51:20.318Z"
        ],
        [
         2776,
         "UNITED STATES",
         "Chicago",
         "2024-01-07T10:51:20.318Z"
        ],
        [
         2777,
         "UNITED STATES",
         "Memphis",
         "2024-01-07T10:51:20.318Z"
        ],
        [
         2778,
         "UNITED STATES",
         "New York City",
         "2024-01-07T10:51:20.318Z"
        ],
        [
         2779,
         "UNITED STATES",
         "Houston",
         "2024-01-07T10:51:20.318Z"
        ],
        [
         2780,
         "UNITED STATES",
         "Newport Beach",
         "2024-01-07T10:51:20.318Z"
        ],
        [
         2781,
         "",
         "",
         "2024-01-07T10:51:20.318Z"
        ],
        [
         2782,
         "",
         "",
         "2024-01-07T10:51:20.318Z"
        ],
        [
         2783,
         "UNITED STATES",
         "Honolulu",
         "2024-01-07T10:51:20.318Z"
        ],
        [
         2784,
         "",
         "",
         "2024-01-07T10:51:20.318Z"
        ],
        [
         2785,
         "UNITED STATES",
         "Amarillo",
         "2024-01-07T10:51:20.318Z"
        ],
        [
         2786,
         "",
         "",
         "2024-01-07T10:51:20.318Z"
        ],
        [
         2787,
         "",
         "",
         "2024-01-07T10:51:20.318Z"
        ],
        [
         2788,
         "UNITED STATES",
         "New York City",
         "2024-01-07T10:51:20.318Z"
        ],
        [
         2789,
         "UNITED STATES",
         "New York City",
         "2024-01-07T10:51:20.318Z"
        ],
        [
         2790,
         "UNITED KINGDOM",
         "Sheffield",
         "2024-01-07T10:51:20.318Z"
        ],
        [
         2791,
         "UNITED STATES",
         "Daytona Beach",
         "2024-01-07T10:51:20.318Z"
        ],
        [
         2792,
         "UNITED STATES",
         "Washington",
         "2024-01-07T10:51:20.318Z"
        ],
        [
         2793,
         "UNITED STATES",
         "San Jose",
         "2024-01-07T10:51:20.318Z"
        ],
        [
         2794,
         "UNITED STATES",
         "Harrisburg",
         "2024-01-07T10:51:20.318Z"
        ],
        [
         2795,
         "UNITED KINGDOM",
         "Kirkton",
         "2024-01-07T10:51:20.318Z"
        ],
        [
         2796,
         "UNITED KINGDOM",
         "Kingston",
         "2024-01-07T10:51:20.318Z"
        ],
        [
         2797,
         "UNITED STATES",
         "San Diego",
         "2024-01-07T10:51:20.318Z"
        ],
        [
         2798,
         "UNITED STATES",
         "Saint Petersburg",
         "2024-01-07T10:51:20.318Z"
        ],
        [
         2799,
         "UNITED STATES",
         "Dallas",
         "2024-01-07T10:51:20.318Z"
        ],
        [
         2800,
         "UNITED STATES",
         "Atlanta",
         "2024-01-07T10:51:20.318Z"
        ],
        [
         2801,
         "UNITED STATES",
         "Atlanta",
         "2024-01-07T10:51:20.318Z"
        ],
        [
         2802,
         "UNITED STATES",
         "San Antonio",
         "2024-01-07T10:51:20.318Z"
        ],
        [
         2803,
         "UNITED STATES",
         "Austin",
         "2024-01-07T10:51:20.318Z"
        ],
        [
         2804,
         "UNITED KINGDOM",
         "Manchester",
         "2024-01-07T10:51:20.318Z"
        ],
        [
         2805,
         "UNITED STATES",
         "Nashville",
         "2024-01-07T10:51:20.318Z"
        ],
        [
         2806,
         "UNITED STATES",
         "Los Angeles",
         "2024-01-07T10:51:20.318Z"
        ],
        [
         2807,
         "",
         "",
         "2024-01-07T10:51:20.318Z"
        ],
        [
         2808,
         "UNITED STATES",
         "Louisville",
         "2024-01-07T10:51:20.318Z"
        ],
        [
         2809,
         "UNITED STATES",
         "Beaufort",
         "2024-01-07T10:51:20.318Z"
        ],
        [
         2810,
         "UNITED STATES",
         "Columbus",
         "2024-01-07T10:51:20.318Z"
        ],
        [
         2811,
         "UNITED STATES",
         "Columbus",
         "2024-01-07T10:51:20.318Z"
        ],
        [
         2812,
         "UNITED STATES",
         "Charleston",
         "2024-01-07T10:51:20.318Z"
        ],
        [
         2813,
         "UNITED STATES",
         "Beaverton",
         "2024-01-07T10:51:20.318Z"
        ],
        [
         2814,
         "UNITED STATES",
         "Portland",
         "2024-01-07T10:51:20.318Z"
        ],
        [
         2815,
         "UNITED STATES",
         "Saint Louis",
         "2024-01-07T10:51:20.318Z"
        ],
        [
         2816,
         "",
         "",
         "2024-01-07T10:51:20.318Z"
        ],
        [
         2817,
         "UNITED STATES",
         "Cincinnati",
         "2024-01-07T10:51:20.318Z"
        ],
        [
         2818,
         "UNITED KINGDOM",
         "Marston",
         "2024-01-07T10:51:20.318Z"
        ],
        [
         2819,
         "UNITED STATES",
         "Whittier",
         "2024-01-07T10:51:20.318Z"
        ],
        [
         2820,
         "UNITED STATES",
         "Brooklyn",
         "2024-01-07T10:51:20.318Z"
        ],
        [
         2821,
         "UNITED STATES",
         "Saint Louis",
         "2024-01-07T10:51:20.318Z"
        ],
        [
         2822,
         "UNITED STATES",
         "Nashville",
         "2024-01-07T10:51:20.318Z"
        ],
        [
         2823,
         "UNITED STATES",
         "Youngstown",
         "2024-01-07T10:51:20.318Z"
        ],
        [
         2824,
         "UNITED STATES",
         "Philadelphia",
         "2024-01-07T10:51:20.318Z"
        ],
        [
         2825,
         "UNITED STATES",
         "Charlotte",
         "2024-01-07T10:51:20.318Z"
        ],
        [
         2826,
         "UNITED STATES",
         "Columbia",
         "2024-01-07T10:51:20.318Z"
        ],
        [
         2827,
         "UNITED STATES",
         "Birmingham",
         "2024-01-07T10:51:20.318Z"
        ],
        [
         2828,
         "UNITED STATES",
         "Charleston",
         "2024-01-07T10:51:20.318Z"
        ],
        [
         2829,
         "UNITED STATES",
         "Tacoma",
         "2024-01-07T10:51:20.318Z"
        ],
        [
         2830,
         "",
         "",
         "2024-01-07T10:51:20.318Z"
        ],
        [
         2831,
         "UNITED STATES",
         "Montgomery",
         "2024-01-07T10:51:20.318Z"
        ],
        [
         2832,
         "UNITED KINGDOM",
         "Craigavon",
         "2024-01-07T10:51:20.318Z"
        ],
        [
         2833,
         "UNITED STATES",
         "Fresno",
         "2024-01-07T10:51:20.318Z"
        ],
        [
         2834,
         "UNITED STATES",
         "Honolulu",
         "2024-01-07T10:51:20.318Z"
        ],
        [
         2835,
         "UNITED STATES",
         "Arlington",
         "2024-01-07T10:51:20.318Z"
        ],
        [
         2836,
         "UNITED STATES",
         "Monroe",
         "2024-01-07T10:51:20.318Z"
        ],
        [
         2837,
         "UNITED STATES",
         "Fort Worth",
         "2024-01-07T10:51:20.318Z"
        ],
        [
         2838,
         "UNITED STATES",
         "Colorado Springs",
         "2024-01-07T10:51:20.318Z"
        ],
        [
         2839,
         "UNITED STATES",
         "Pittsburgh",
         "2024-01-07T10:51:20.318Z"
        ],
        [
         2840,
         "",
         "",
         "2024-01-07T10:51:20.318Z"
        ],
        [
         2841,
         "UNITED STATES",
         "Jackson",
         "2024-01-07T10:51:20.318Z"
        ],
        [
         2842,
         "UNITED STATES",
         "Raleigh",
         "2024-01-07T10:51:20.318Z"
        ],
        [
         2843,
         "UNITED STATES",
         "Milwaukee",
         "2024-01-07T10:51:20.318Z"
        ],
        [
         2844,
         "UNITED STATES",
         "El Paso",
         "2024-01-07T10:51:20.318Z"
        ],
        [
         2845,
         "UNITED STATES",
         "Anchorage",
         "2024-01-07T10:51:20.318Z"
        ],
        [
         2846,
         "UNITED STATES",
         "El Paso",
         "2024-01-07T10:51:20.318Z"
        ],
        [
         2847,
         "UNITED STATES",
         "Asheville",
         "2024-01-07T10:51:20.318Z"
        ],
        [
         2848,
         "UNITED STATES",
         "Sacramento",
         "2024-01-07T10:51:20.318Z"
        ],
        [
         2849,
         "UNITED STATES",
         "Montgomery",
         "2024-01-07T10:51:20.318Z"
        ],
        [
         2850,
         "UNITED STATES",
         "Palmdale",
         "2024-01-07T10:51:20.318Z"
        ],
        [
         2851,
         "UNITED STATES",
         "Shreveport",
         "2024-01-07T10:51:20.318Z"
        ],
        [
         2852,
         "UNITED STATES",
         "Fort Myers",
         "2024-01-07T10:51:20.318Z"
        ],
        [
         2853,
         "UNITED STATES",
         "Houston",
         "2024-01-07T10:51:20.318Z"
        ],
        [
         2854,
         "UNITED STATES",
         "Macon",
         "2024-01-07T10:51:20.318Z"
        ],
        [
         2855,
         "UNITED KINGDOM",
         "Carlton",
         "2024-01-07T10:51:20.318Z"
        ],
        [
         2856,
         "UNITED STATES",
         "Waco",
         "2024-01-07T10:51:20.318Z"
        ],
        [
         2857,
         "UNITED STATES",
         "Pittsburgh",
         "2024-01-07T10:51:20.318Z"
        ],
        [
         2858,
         "UNITED STATES",
         "Fresno",
         "2024-01-07T10:51:20.318Z"
        ],
        [
         2859,
         "UNITED KINGDOM",
         "Merton",
         "2024-01-07T10:51:20.318Z"
        ],
        [
         2860,
         "UNITED STATES",
         "Louisville",
         "2024-01-07T10:51:20.318Z"
        ],
        [
         2861,
         "UNITED STATES",
         "Rockford",
         "2024-01-07T10:51:20.318Z"
        ],
        [
         2862,
         "UNITED STATES",
         "Saint Louis",
         "2024-01-07T10:51:20.318Z"
        ],
        [
         2863,
         "UNITED STATES",
         "Stamford",
         "2024-01-07T10:51:20.318Z"
        ],
        [
         2864,
         "UNITED STATES",
         "Washington",
         "2024-01-07T10:51:20.318Z"
        ],
        [
         2865,
         "",
         "",
         "2024-01-07T10:51:20.318Z"
        ],
        [
         2866,
         "UNITED STATES",
         "Memphis",
         "2024-01-07T10:51:20.318Z"
        ],
        [
         2867,
         "UNITED STATES",
         "Charleston",
         "2024-01-07T10:51:20.318Z"
        ],
        [
         2868,
         "UNITED STATES",
         "Santa Rosa",
         "2024-01-07T10:51:20.318Z"
        ],
        [
         2869,
         "UNITED STATES",
         "Lansing",
         "2024-01-07T10:51:20.318Z"
        ],
        [
         2870,
         "UNITED STATES",
         "Honolulu",
         "2024-01-07T10:51:20.318Z"
        ],
        [
         2871,
         "UNITED STATES",
         "Cedar Rapids",
         "2024-01-07T10:51:20.318Z"
        ],
        [
         2872,
         "UNITED STATES",
         "Peoria",
         "2024-01-07T10:51:20.318Z"
        ],
        [
         2873,
         "UNITED STATES",
         "New York City",
         "2024-01-07T10:51:20.318Z"
        ],
        [
         2874,
         "UNITED STATES",
         "Denver",
         "2024-01-07T10:51:20.318Z"
        ],
        [
         2875,
         "UNITED STATES",
         "Tacoma",
         "2024-01-07T10:51:20.318Z"
        ],
        [
         2876,
         "UNITED STATES",
         "Wichita",
         "2024-01-07T10:51:20.318Z"
        ],
        [
         2877,
         "UNITED STATES",
         "Colorado Springs",
         "2024-01-07T10:51:20.318Z"
        ],
        [
         2878,
         "UNITED STATES",
         "Aurora",
         "2024-01-07T10:51:20.318Z"
        ],
        [
         2879,
         "UNITED STATES",
         "Muskegon",
         "2024-01-07T10:51:20.318Z"
        ],
        [
         2880,
         "UNITED STATES",
         "El Paso",
         "2024-01-07T10:51:20.318Z"
        ],
        [
         2881,
         "UNITED STATES",
         "Grand Rapids",
         "2024-01-07T10:51:20.318Z"
        ],
        [
         2882,
         "UNITED STATES",
         "Chicago",
         "2024-01-07T10:51:20.318Z"
        ],
        [
         2883,
         "UNITED STATES",
         "Albany",
         "2024-01-07T10:51:20.318Z"
        ],
        [
         2884,
         "UNITED STATES",
         "Garden Grove",
         "2024-01-07T10:51:20.318Z"
        ],
        [
         2885,
         "UNITED KINGDOM",
         "Craigavon",
         "2024-01-07T10:51:20.318Z"
        ],
        [
         2886,
         "UNITED STATES",
         "Tulsa",
         "2024-01-07T10:51:20.318Z"
        ],
        [
         2887,
         "UNITED STATES",
         "Grand Rapids",
         "2024-01-07T10:51:20.318Z"
        ],
        [
         2888,
         "UNITED STATES",
         "Mobile",
         "2024-01-07T10:51:20.318Z"
        ],
        [
         2889,
         "UNITED STATES",
         "Mobile",
         "2024-01-07T10:51:20.318Z"
        ],
        [
         2890,
         "UNITED STATES",
         "Washington",
         "2024-01-07T10:51:20.318Z"
        ],
        [
         2891,
         "UNITED STATES",
         "Philadelphia",
         "2024-01-07T10:51:20.318Z"
        ],
        [
         2892,
         "UNITED STATES",
         "Round Rock",
         "2024-01-07T10:51:20.318Z"
        ],
        [
         2893,
         "UNITED STATES",
         "Baltimore",
         "2024-01-07T10:51:20.318Z"
        ],
        [
         2894,
         "UNITED KINGDOM",
         "London",
         "2024-01-07T10:51:20.318Z"
        ],
        [
         2895,
         "UNITED STATES",
         "Las Vegas",
         "2024-01-07T10:51:20.318Z"
        ],
        [
         2896,
         "UNITED STATES",
         "Vancouver",
         "2024-01-07T10:51:20.318Z"
        ],
        [
         2897,
         "UNITED STATES",
         "Omaha",
         "2024-01-07T10:51:20.318Z"
        ],
        [
         2898,
         "UNITED STATES",
         "Great Neck",
         "2024-01-07T10:51:20.318Z"
        ],
        [
         2899,
         "UNITED STATES",
         "Stamford",
         "2024-01-07T10:51:20.318Z"
        ],
        [
         2900,
         "UNITED STATES",
         "Milwaukee",
         "2024-01-07T10:51:20.318Z"
        ],
        [
         2901,
         "UNITED STATES",
         "Paterson",
         "2024-01-07T10:51:20.318Z"
        ],
        [
         2902,
         "UNITED STATES",
         "Honolulu",
         "2024-01-07T10:51:20.318Z"
        ],
        [
         2903,
         "",
         "",
         "2024-01-07T10:51:20.318Z"
        ],
        [
         2904,
         "UNITED STATES",
         "Memphis",
         "2024-01-07T10:51:20.318Z"
        ],
        [
         2905,
         "UNITED STATES",
         "Dallas",
         "2024-01-07T10:51:20.318Z"
        ],
        [
         2906,
         "INDIA",
         "Sadar Bazar",
         "2024-01-07T10:51:20.318Z"
        ],
        [
         2907,
         "UNITED STATES",
         "San Jose",
         "2024-01-07T10:51:20.318Z"
        ],
        [
         2908,
         "UNITED STATES",
         "New York City",
         "2024-01-07T10:51:20.318Z"
        ],
        [
         2909,
         "",
         "",
         "2024-01-07T10:51:20.318Z"
        ],
        [
         2910,
         "UNITED STATES",
         "Evansville",
         "2024-01-07T10:51:20.318Z"
        ],
        [
         2911,
         "UNITED STATES",
         "Tempe",
         "2024-01-07T10:51:20.318Z"
        ],
        [
         2912,
         "",
         "",
         "2024-01-07T10:51:20.318Z"
        ],
        [
         2913,
         "UNITED STATES",
         "Boulder",
         "2024-01-07T10:51:20.318Z"
        ],
        [
         2914,
         "UNITED STATES",
         "Lincoln",
         "2024-01-07T10:51:20.318Z"
        ],
        [
         2915,
         "UNITED STATES",
         "Melbourne",
         "2024-01-07T10:51:20.318Z"
        ],
        [
         2916,
         "UNITED STATES",
         "Kansas City",
         "2024-01-07T10:51:20.318Z"
        ],
        [
         2917,
         "UNITED STATES",
         "Boca Raton",
         "2024-01-07T10:51:20.318Z"
        ],
        [
         2918,
         "UNITED KINGDOM",
         "Sheffield",
         "2024-01-07T10:51:20.318Z"
        ],
        [
         2919,
         "UNITED STATES",
         "Washington",
         "2024-01-07T10:51:20.318Z"
        ],
        [
         2920,
         "UNITED STATES",
         "Lincoln",
         "2024-01-07T10:51:20.318Z"
        ],
        [
         2921,
         "UNITED STATES",
         "Toledo",
         "2024-01-07T10:51:20.318Z"
        ],
        [
         2922,
         "UNITED STATES",
         "Dulles",
         "2024-01-07T10:51:20.318Z"
        ],
        [
         2923,
         "UNITED STATES",
         "Bellevue",
         "2024-01-07T10:51:20.318Z"
        ],
        [
         2924,
         "UNITED STATES",
         "Boston",
         "2024-01-07T10:51:20.318Z"
        ],
        [
         2925,
         "UNITED STATES",
         "Great Neck",
         "2024-01-07T10:51:20.318Z"
        ],
        [
         2926,
         "UNITED STATES",
         "Columbus",
         "2024-01-07T10:51:20.318Z"
        ],
        [
         2927,
         "UNITED STATES",
         "Dallas",
         "2024-01-07T10:51:20.318Z"
        ],
        [
         2928,
         "UNITED KINGDOM",
         "Sheffield",
         "2024-01-07T10:51:20.318Z"
        ],
        [
         2929,
         "UNITED KINGDOM",
         "Wootton",
         "2024-01-07T10:51:20.318Z"
        ],
        [
         2930,
         "UNITED STATES",
         "Joliet",
         "2024-01-07T10:51:20.318Z"
        ],
        [
         2931,
         "UNITED STATES",
         "New Haven",
         "2024-01-07T10:51:20.318Z"
        ],
        [
         2932,
         "UNITED KINGDOM",
         "Birmingham",
         "2024-01-07T10:51:20.318Z"
        ],
        [
         2933,
         "UNITED STATES",
         "Boise",
         "2024-01-07T10:51:20.318Z"
        ],
        [
         2934,
         "UNITED STATES",
         "Mesquite",
         "2024-01-07T10:51:20.318Z"
        ],
        [
         2935,
         "UNITED STATES",
         "Columbus",
         "2024-01-07T10:51:20.318Z"
        ],
        [
         2936,
         "UNITED STATES",
         "Oceanside",
         "2024-01-07T10:51:20.318Z"
        ],
        [
         2937,
         "UNITED STATES",
         "Jackson",
         "2024-01-07T10:51:20.318Z"
        ],
        [
         2938,
         "UNITED KINGDOM",
         "Thorpe",
         "2024-01-07T10:51:20.318Z"
        ],
        [
         2939,
         "UNITED STATES",
         "Indianapolis",
         "2024-01-07T10:51:20.318Z"
        ],
        [
         2940,
         "UNITED STATES",
         "Tulsa",
         "2024-01-07T10:51:20.318Z"
        ],
        [
         2941,
         "UNITED STATES",
         "Saginaw",
         "2024-01-07T10:51:20.318Z"
        ],
        [
         2942,
         "UNITED KINGDOM",
         "Norton",
         "2024-01-07T10:51:20.318Z"
        ],
        [
         2943,
         "UNITED STATES",
         "Buffalo",
         "2024-01-07T10:51:20.318Z"
        ],
        [
         2944,
         "UNITED STATES",
         "Murfreesboro",
         "2024-01-07T10:51:20.318Z"
        ],
        [
         2945,
         "UNITED STATES",
         "Shawnee Mission",
         "2024-01-07T10:51:20.318Z"
        ],
        [
         2946,
         "UNITED STATES",
         "Salinas",
         "2024-01-07T10:51:20.318Z"
        ],
        [
         2947,
         "UNITED STATES",
         "Salt Lake City",
         "2024-01-07T10:51:20.318Z"
        ],
        [
         2948,
         "UNITED STATES",
         "Portland",
         "2024-01-07T10:51:20.318Z"
        ],
        [
         2949,
         "UNITED STATES",
         "Washington",
         "2024-01-07T10:51:20.318Z"
        ],
        [
         2950,
         "UNITED STATES",
         "Brooklyn",
         "2024-01-07T10:51:20.318Z"
        ],
        [
         2951,
         "UNITED STATES",
         "Newark",
         "2024-01-07T10:51:20.318Z"
        ],
        [
         2952,
         "UNITED STATES",
         "Oklahoma City",
         "2024-01-07T10:51:20.318Z"
        ],
        [
         2953,
         "UNITED KINGDOM",
         "Middleton",
         "2024-01-07T10:51:20.318Z"
        ],
        [
         2954,
         "UNITED STATES",
         "Fort Smith",
         "2024-01-07T10:51:20.318Z"
        ],
        [
         2955,
         "UNITED STATES",
         "Aurora",
         "2024-01-07T10:51:20.318Z"
        ],
        [
         2956,
         "UNITED STATES",
         "Fort Worth",
         "2024-01-07T10:51:20.318Z"
        ],
        [
         2957,
         "UNITED STATES",
         "Tulsa",
         "2024-01-07T10:51:20.318Z"
        ],
        [
         2958,
         "",
         "",
         "2024-01-07T10:51:20.318Z"
        ],
        [
         2959,
         "UNITED STATES",
         "Portland",
         "2024-01-07T10:51:20.318Z"
        ],
        [
         2960,
         "UNITED STATES",
         "Columbia",
         "2024-01-07T10:51:20.318Z"
        ],
        [
         2961,
         "UNITED STATES",
         "Saint Paul",
         "2024-01-07T10:51:20.318Z"
        ],
        [
         2962,
         "UNITED STATES",
         "Huntington",
         "2024-01-07T10:51:20.318Z"
        ],
        [
         2963,
         "UNITED STATES",
         "Sterling",
         "2024-01-07T10:51:20.318Z"
        ],
        [
         2964,
         "UNITED STATES",
         "Chesapeake",
         "2024-01-07T10:51:20.318Z"
        ],
        [
         2965,
         "UNITED STATES",
         "Birmingham",
         "2024-01-07T10:51:20.318Z"
        ],
        [
         2966,
         "",
         "",
         "2024-01-07T10:51:20.318Z"
        ],
        [
         2967,
         "UNITED STATES",
         "Springfield",
         "2024-01-07T10:51:20.318Z"
        ],
        [
         2968,
         "UNITED STATES",
         "Savannah",
         "2024-01-07T10:51:20.318Z"
        ],
        [
         2969,
         "",
         "",
         "2024-01-07T10:51:20.318Z"
        ],
        [
         2970,
         "UNITED STATES",
         "Tampa",
         "2024-01-07T10:51:20.318Z"
        ],
        [
         2971,
         "UNITED STATES",
         "San Bernardino",
         "2024-01-07T10:51:20.318Z"
        ],
        [
         2972,
         "UNITED STATES",
         "Staten Island",
         "2024-01-07T10:51:20.318Z"
        ],
        [
         2973,
         "UNITED STATES",
         "Philadelphia",
         "2024-01-07T10:51:20.318Z"
        ],
        [
         2974,
         "UNITED STATES",
         "Mountain View",
         "2024-01-07T10:51:20.318Z"
        ],
        [
         2975,
         "UNITED STATES",
         "Ocala",
         "2024-01-07T10:51:20.318Z"
        ],
        [
         2976,
         "UNITED STATES",
         "Houston",
         "2024-01-07T10:51:20.318Z"
        ],
        [
         2977,
         "UNITED STATES",
         "San Diego",
         "2024-01-07T10:51:20.318Z"
        ],
        [
         2978,
         "UNITED STATES",
         "Topeka",
         "2024-01-07T10:51:20.318Z"
        ],
        [
         2979,
         "UNITED STATES",
         "Los Angeles",
         "2024-01-07T10:51:20.318Z"
        ],
        [
         2980,
         "UNITED STATES",
         "Wilkes Barre",
         "2024-01-07T10:51:20.318Z"
        ],
        [
         2981,
         "UNITED STATES",
         "Punta Gorda",
         "2024-01-07T10:51:20.318Z"
        ],
        [
         2982,
         "UNITED STATES",
         "Colorado Springs",
         "2024-01-07T10:51:20.318Z"
        ],
        [
         2983,
         "UNITED STATES",
         "Rochester",
         "2024-01-07T10:51:20.318Z"
        ],
        [
         2984,
         "UNITED STATES",
         "Washington",
         "2024-01-07T10:51:20.318Z"
        ],
        [
         2985,
         "UNITED STATES",
         "Savannah",
         "2024-01-07T10:51:20.318Z"
        ],
        [
         2986,
         "UNITED STATES",
         "Aurora",
         "2024-01-07T10:51:20.318Z"
        ],
        [
         2987,
         "UNITED STATES",
         "Paterson",
         "2024-01-07T10:51:20.318Z"
        ],
        [
         2988,
         "UNITED STATES",
         "Lakeland",
         "2024-01-07T10:51:20.318Z"
        ],
        [
         2989,
         "UNITED STATES",
         "Milwaukee",
         "2024-01-07T10:51:20.318Z"
        ],
        [
         2990,
         "UNITED STATES",
         "Huntington",
         "2024-01-07T10:51:20.318Z"
        ],
        [
         2991,
         "UNITED STATES",
         "Charlotte",
         "2024-01-07T10:51:20.318Z"
        ],
        [
         2992,
         "UNITED STATES",
         "Denton",
         "2024-01-07T10:51:20.318Z"
        ],
        [
         2993,
         "UNITED STATES",
         "Orlando",
         "2024-01-07T10:51:20.318Z"
        ],
        [
         2994,
         "UNITED STATES",
         "San Antonio",
         "2024-01-07T10:51:20.318Z"
        ],
        [
         2995,
         "UNITED STATES",
         "Newton",
         "2024-01-07T10:51:20.318Z"
        ],
        [
         2996,
         "UNITED STATES",
         "Nashville",
         "2024-01-07T10:51:20.318Z"
        ],
        [
         2997,
         "UNITED STATES",
         "Daytona Beach",
         "2024-01-07T10:51:20.318Z"
        ],
        [
         2998,
         "UNITED STATES",
         "Virginia Beach",
         "2024-01-07T10:51:20.318Z"
        ],
        [
         2999,
         "UNITED KINGDOM",
         "Brampton",
         "2024-01-07T10:51:20.318Z"
        ],
        [
         3000,
         "UNITED STATES",
         "Rochester",
         "2024-01-07T10:51:20.318Z"
        ]
       ],
       "datasetInfos": [],
       "dbfsResultPath": null,
       "isJsonSchema": true,
       "metadata": {
        "dataframeName": "_sqldf",
        "executionCount": 18
       },
       "overflow": false,
       "plotOptions": {
        "customPlotOptions": {},
        "displayType": "table",
        "pivotAggregation": null,
        "pivotColumns": null,
        "xColumns": null,
        "yColumns": null
       },
       "removedWidgets": [],
       "schema": [
        {
         "metadata": "{}",
         "name": "branch_id",
         "type": "\"integer\""
        },
        {
         "metadata": "{}",
         "name": "branch_country",
         "type": "\"string\""
        },
        {
         "metadata": "{}",
         "name": "branch_city",
         "type": "\"string\""
        },
        {
         "metadata": "{}",
         "name": "merged_timestamp",
         "type": "\"timestamp\""
        }
       ],
       "type": "table"
      }
     },
     "output_type": "display_data"
    }
   ],
   "source": [
    "spark.sql(\"UPDATE bronzelayer.branch set merge_flag = true where merge_flag = false\")\n",
    "\n",
    "%sql select * from silverlayer.branch;"
   ]
  }
 ],
 "metadata": {
  "application/vnd.databricks.v1+notebook": {
   "dashboards": [],
   "language": "python",
   "notebookMetadata": {
    "mostRecentlyExecutedCommandWithImplicitDF": {
     "commandId": 4380199217384774,
     "dataframes": [
      "_sqldf"
     ]
    },
    "pythonIndentUnit": 4
   },
   "notebookName": "BranchData-Ingestion",
   "widgets": {}
  }
 },
 "nbformat": 4,
 "nbformat_minor": 0
}
